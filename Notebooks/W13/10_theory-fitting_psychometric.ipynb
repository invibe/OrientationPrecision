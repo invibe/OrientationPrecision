{
 "cells": [
  {
   "cell_type": "markdown",
   "metadata": {},
   "source": [
    "The goal here is to compare methods which fit data with psychometric curves using logistic regression. Indeed, after (long) experiments where for instance you collected sequences of keypresses, it is important to infer at best the parameters of the underlying processes: was the observer biased, was she more precise? While I was *forevever* using [sklearn](https://scikit-learn.org/stable/index.html) and praised it's beautifully crafted methods, I lacked some flexibility in the definition of the model. This notebook was done in collaboration with [Jenna Fradin](https://github.com/jennafradin), master student in the lab.\n",
    "\n",
    "Here, I define a similar fitting method using [pytorch](https://pytorch.org/) which fits in a few lines of code :"
   ]
  },
  {
   "cell_type": "code",
   "execution_count": 48,
   "metadata": {},
   "outputs": [],
   "source": [
    "import torch\n",
    "from torch.utils.data import TensorDataset, DataLoader\n",
    "torch.set_default_tensor_type('torch.DoubleTensor')\n",
    "criterion = torch.nn.BCELoss(reduction='sum')\n",
    "\n",
    "class LogisticRegressionModel(torch.nn.Module):\n",
    "    def __init__(self, bias=True, logit0=-2): \n",
    "        super(LogisticRegressionModel, self).__init__()\n",
    "        self.linear = torch.nn.Linear(1, 1, bias=bias)    \n",
    "        self.logit0 = torch.nn.Parameter(logit0*torch.ones(1))\n",
    "        \n",
    "    def forward(self, theta):\n",
    "        p0 = self.logit0.sigmoid()\n",
    "        out = p0/2 + (1-p0)*(self.linear(theta).sigmoid())\n",
    "        return out\n",
    "\n",
    "learning_rate = 0.04\n",
    "beta1, beta2 = 0.9, 0.999\n",
    "betas = (beta1, beta2)\n",
    "num_epochs = 512\n",
    "num_epochs = 200 # DEBUG\n",
    "batch_size = 8\n",
    "\n",
    "def fit_data(theta, y, \n",
    "                learning_rate=learning_rate,\n",
    "                num_epochs=num_epochs,\n",
    "                batch_size=batch_size, betas=betas,\n",
    "                verbose=False):\n",
    "\n",
    "    logistic_model = LogisticRegressionModel()\n",
    "\n",
    "    Theta, labels = torch.Tensor(theta[:, None]), torch.Tensor(y[:, None])\n",
    "\n",
    "    loader = DataLoader(TensorDataset(Theta, labels), batch_size=batch_size, shuffle=True)\n",
    "    optimizer = torch.optim.Adam(logistic_model.parameters(), lr=learning_rate/len(loader), betas=betas)\n",
    "    \n",
    "    for epoch in range(int(num_epochs)):\n",
    "        losses = []\n",
    "        for Theta_, labels_ in loader:\n",
    "            optimizer.zero_grad()\n",
    "            outputs = logistic_model(Theta_)\n",
    "            loss = criterion(outputs, labels_)\n",
    "            loss.backward()\n",
    "            optimizer.step()\n",
    "            losses.append(loss.item())\n",
    "        \n",
    "        if verbose and (epoch % (num_epochs//32) == 0) : \n",
    "            print(f\"Iteration: {epoch} - Loss: {np.sum(losses)/len(theta):.5f}\")\n",
    "\n",
    "    logistic_model.eval()\n",
    "    Theta, labels = torch.Tensor(theta[:, None]), torch.Tensor(y[:, None])\n",
    "    outputs = logistic_model(Theta)\n",
    "    loss = criterion(outputs, labels).item()/len(theta)\n",
    "    return logistic_model, loss"
   ]
  },
  {
   "cell_type": "markdown",
   "metadata": {},
   "source": [
    "and run a series of tests to compare both methods.\n",
    "\n",
    "<!-- TEASER_END -->\n",
    "\n",
    "Let's first initialize the notebook:"
   ]
  },
  {
   "cell_type": "code",
   "execution_count": 49,
   "metadata": {},
   "outputs": [],
   "source": [
    "from pylab import rcParams\n",
    "#print(rcParams)"
   ]
  },
  {
   "cell_type": "code",
   "execution_count": 50,
   "metadata": {},
   "outputs": [],
   "source": [
    "fontsize = 20\n",
    "rcParams['font.size'] = fontsize\n",
    "rcParams['legend.fontsize'] = fontsize\n",
    "rcParams['axes.labelsize'] = fontsize\n",
    "    \n",
    "import numpy as np\n",
    "import matplotlib.pyplot as plt"
   ]
  },
  {
   "cell_type": "markdown",
   "metadata": {},
   "source": [
    "Some hyper parameters which we will tune later:"
   ]
  },
  {
   "cell_type": "code",
   "execution_count": 51,
   "metadata": {},
   "outputs": [],
   "source": [
    "N = 200            \n",
    "batch_size = N//4\n",
    "#batch_size = N//2\n",
    "\n",
    "N_cv = 40\n",
    "seed = 42\n",
    "N_scan = 9\n",
    "N_test = 500 # number of points for validation\n",
    "\n",
    "bias = True\n",
    "\n",
    "#if False: \n",
    "if True:\n",
    "    N_cv = 2\n",
    "    N_scan = 9\n",
    "\n",
    "p0 = 0.02         \n",
    "theta0 = 0\n",
    "wt = np.pi/20      \n",
    "theta_std = np.pi/6"
   ]
  },
  {
   "cell_type": "markdown",
   "metadata": {},
   "source": [
    "## Let's create some synthetic data\n",
    "\n",
    "We will generate a typical setup where we have to guess for the otientation of a visual display compared to the vertical and ask observer to either press on the `left` or `right` arrows. The visual display will be controlled by a $theta$ parameter which we draw randomly according to a Gaussian probability density function. This may be synthesized in the following function:\n"
   ]
  },
  {
   "cell_type": "code",
   "execution_count": 52,
   "metadata": {},
   "outputs": [],
   "source": [
    "def get_data(\n",
    "            N = N,\n",
    "            p0 = p0,\n",
    "            theta0 = theta0,\n",
    "            wt = wt,\n",
    "            theta_std = theta_std,\n",
    "            seed=seed):    \n",
    "    np.random.seed(seed)\n",
    "    theta = np.random.randn(N)*theta_std\n",
    "    \n",
    "    p = p0/2 + (1-p0) / (1+np.exp(-(theta-theta0)/wt))\n",
    "\n",
    "    y = np.random.rand(N) < p #generate data\n",
    "    return theta, p, y"
   ]
  },
  {
   "cell_type": "code",
   "execution_count": 53,
   "metadata": {},
   "outputs": [
    {
     "name": "stdout",
     "output_type": "stream",
     "text": [
      "29.7 µs ± 3.51 µs per loop (mean ± std. dev. of 7 runs, 10000 loops each)\n"
     ]
    }
   ],
   "source": [
    "%%timeit\n",
    "theta, p, y = get_data()"
   ]
  },
  {
   "cell_type": "code",
   "execution_count": 54,
   "metadata": {},
   "outputs": [
    {
     "name": "stdout",
     "output_type": "stream",
     "text": [
      "Iteration: 0 - Loss: 0.74458\n",
      "Iteration: 6 - Loss: 0.70854\n",
      "Iteration: 12 - Loss: 0.67699\n",
      "Iteration: 18 - Loss: 0.64724\n",
      "Iteration: 24 - Loss: 0.61819\n",
      "Iteration: 30 - Loss: 0.59103\n",
      "Iteration: 36 - Loss: 0.56639\n",
      "Iteration: 42 - Loss: 0.54424\n",
      "Iteration: 48 - Loss: 0.52447\n",
      "Iteration: 54 - Loss: 0.50698\n",
      "Iteration: 60 - Loss: 0.49135\n",
      "Iteration: 66 - Loss: 0.47728\n",
      "Iteration: 72 - Loss: 0.46482\n",
      "Iteration: 78 - Loss: 0.45350\n",
      "Iteration: 84 - Loss: 0.44332\n",
      "Iteration: 90 - Loss: 0.43410\n",
      "Iteration: 96 - Loss: 0.42575\n",
      "Iteration: 102 - Loss: 0.41821\n",
      "Iteration: 108 - Loss: 0.41138\n",
      "Iteration: 114 - Loss: 0.40510\n",
      "Iteration: 120 - Loss: 0.39937\n",
      "Iteration: 126 - Loss: 0.39417\n",
      "Iteration: 132 - Loss: 0.38937\n",
      "Iteration: 138 - Loss: 0.38493\n",
      "Iteration: 144 - Loss: 0.38098\n",
      "Iteration: 150 - Loss: 0.37719\n",
      "Iteration: 156 - Loss: 0.37385\n",
      "Iteration: 162 - Loss: 0.37074\n",
      "Iteration: 168 - Loss: 0.36798\n",
      "Iteration: 174 - Loss: 0.36529\n",
      "Iteration: 180 - Loss: 0.36292\n",
      "Iteration: 186 - Loss: 0.36072\n",
      "Iteration: 192 - Loss: 0.35878\n",
      "Iteration: 198 - Loss: 0.35698\n",
      "Final loss = 0.35645149319366953\n"
     ]
    }
   ],
   "source": [
    "theta, p, y = get_data()\n",
    "logistic_model, loss = fit_data(theta, y,verbose=True)\n",
    "print(\"Final loss =\", loss)"
   ]
  },
  {
   "cell_type": "code",
   "execution_count": 55,
   "metadata": {},
   "outputs": [
    {
     "name": "stdout",
     "output_type": "stream",
     "text": [
      "bias = 0.007; theta0 = 0.000\n",
      "slope = 0.218 ; slope true = 0.157\n",
      "p0 = 0.003 p0 true = 0.003\n"
     ]
    }
   ],
   "source": [
    "def get_params(logistic_model, verbose=False):\n",
    "    bias = -logistic_model.linear.bias.item()/logistic_model.linear.weight.item()\n",
    "    slope = 1/logistic_model.linear.weight.item()\n",
    "    p0 = torch.sigmoid(logistic_model.logit0).item()\n",
    "    if verbose:\n",
    "        if bias: print(f'bias = {bias:.3f}; theta0 = {theta0:.3f}' )\n",
    "        print(f'slope = {slope:.3f} ; slope true = {wt:.3f}')    \n",
    "        print(f'p0 = {p0:.3f} p0 true = {p0:.3f}')        \n",
    "    return bias, slope, p0\n",
    "\n",
    "bias, slope, p0 = get_params(logistic_model, verbose=True)"
   ]
  },
  {
   "cell_type": "markdown",
   "metadata": {},
   "source": [
    "That method is fairly quick, in under 2 seconds:"
   ]
  },
  {
   "cell_type": "code",
   "execution_count": 56,
   "metadata": {},
   "outputs": [
    {
     "name": "stdout",
     "output_type": "stream",
     "text": [
      "4.44 s ± 441 ms per loop (mean ± std. dev. of 7 runs, 1 loop each)\n"
     ]
    }
   ],
   "source": [
    "%%timeit\n",
    "logistic_model, loss = fit_data(theta, y, verbose=False)"
   ]
  },
  {
   "cell_type": "markdown",
   "metadata": {},
   "source": [
    "let's do the same thing with `sklearn`: "
   ]
  },
  {
   "cell_type": "code",
   "execution_count": 57,
   "metadata": {},
   "outputs": [],
   "source": [
    "from sklearn.linear_model import LogisticRegression\n",
    "tol = 1.e-4\n",
    "C = 1.0\n",
    "def fit_data_sklearn(theta, y, \n",
    "                num_epochs=num_epochs,\n",
    "                tol=tol, C=C, \n",
    "                verbose=False):\n",
    "    logistic_model = LogisticRegression(solver='liblinear', max_iter=num_epochs, C=C, tol=tol)\n",
    "    logistic_model.fit(theta[:, None], y)\n",
    "    \n",
    "    outputs = logistic_model.predict_proba(theta[:, None])[:, 1]\n",
    "    outputs_, labels = torch.Tensor(outputs[:, None]), torch.Tensor(y[:, None])\n",
    "    loss = criterion(outputs_, labels).item()/len(theta)\n",
    "    if verbose: print(\"Loss =\", loss)\n",
    "    return logistic_model, loss"
   ]
  },
  {
   "cell_type": "code",
   "execution_count": 58,
   "metadata": {},
   "outputs": [
    {
     "name": "stdout",
     "output_type": "stream",
     "text": [
      "Loss = 0.3620184654037969\n"
     ]
    }
   ],
   "source": [
    "logistic_model, loss = fit_data_sklearn(theta, y, verbose=True) "
   ]
  },
  {
   "cell_type": "markdown",
   "metadata": {},
   "source": [
    "That method is *much* quicker:"
   ]
  },
  {
   "cell_type": "code",
   "execution_count": 59,
   "metadata": {},
   "outputs": [
    {
     "name": "stdout",
     "output_type": "stream",
     "text": [
      "772 µs ± 112 µs per loop (mean ± std. dev. of 7 runs, 100 loops each)\n"
     ]
    }
   ],
   "source": [
    "%%timeit\n",
    "logistic_model, loss = fit_data_sklearn(theta, y, verbose=False)"
   ]
  },
  {
   "cell_type": "markdown",
   "metadata": {},
   "source": [
    "... but what is the value of few seconds after hours of having observers sitting in front of a screen looking at (often boring) visual displays? More seriously, most important is the reliability of the values which are inferred by each respective method, such that they are correctly reflecting the information contained in the data.\n",
    "\n",
    "## qualitative comparison of methods\n",
    "\n",
    "We can synthesize this comparison by drawing a new dataset and plotting the psychometric curves which are obtained by each method"
   ]
  },
  {
   "cell_type": "code",
   "execution_count": 60,
   "metadata": {},
   "outputs": [
    {
     "name": "stdout",
     "output_type": "stream",
     "text": [
      "Training loss = 0.350\n",
      "Training sklearn loss = 0.362\n"
     ]
    }
   ],
   "source": [
    "theta, p, y = get_data() # nouvelles données \n",
    "logistic_model, loss = fit_data(theta, y, verbose=False)\n",
    "print(f'Training loss = {loss:.3f}')\n",
    "logistic_model_sk, loss_sk = fit_data_sklearn(theta, y, verbose=False)\n",
    "print(f'Training sklearn loss = {loss_sk:.3f}')"
   ]
  },
  {
   "cell_type": "code",
   "execution_count": 61,
   "metadata": {},
   "outputs": [
    {
     "data": {
      "image/png": "[encoded data removed]",
      "text/plain": [
       "<Figure size 1080x576 with 1 Axes>"
      ]
     },
     "metadata": {
      "needs_background": "light"
     },
     "output_type": "display_data"
    }
   ],
   "source": [
    "fig, ax = plt.subplots(figsize = (15, 8)) \n",
    "ax.scatter(theta, y, s=6, alpha=.4, color = 'k', label='data points')\n",
    "ax.scatter(theta, p, s=6, alpha=.4, color = 'b', label='hidden proba')\n",
    "x_values = np.linspace(-1.5, 1.50, 100)[:, None]\n",
    "y_values = logistic_model(torch.Tensor(x_values)).detach().numpy()\n",
    "ax.plot(x_values, y_values, 'g', alpha=.7, lw=3, label='torch')\n",
    "y_values_sk = logistic_model_sk.predict_proba(x_values)[:, 1]\n",
    "ax.plot(x_values, y_values_sk, 'r', alpha=.7, lw=3, label='sklearn')\n",
    "ax.set_xlabel(r'orientation $\\theta$', fontsize=20)\n",
    "ax.set_yticks([0.,1.])\n",
    "ax.set_yticklabels(['Left', 'Right'], fontsize=20)\n",
    "plt.legend(fontsize=20, frameon=False, scatterpoints=6);"
   ]
  },
  {
   "cell_type": "markdown",
   "metadata": {},
   "source": [
    "The losses which were computed above are those obtained during training. While it hard to do with real data, here we synthsized the data and we can thus compute a testing loss by drawing again a set of new data and computing the loss on that data:"
   ]
  },
  {
   "cell_type": "code",
   "execution_count": 62,
   "metadata": {},
   "outputs": [],
   "source": [
    "theta, p, y = get_data() # nouvelles données "
   ]
  },
  {
   "cell_type": "code",
   "execution_count": 63,
   "metadata": {},
   "outputs": [
    {
     "name": "stdout",
     "output_type": "stream",
     "text": [
      "Training loss = 0.359\n"
     ]
    }
   ],
   "source": [
    "logistic_model, loss = fit_data(theta, y, verbose=False)\n",
    "print(f'Training loss = {loss:.3f}')"
   ]
  },
  {
   "cell_type": "code",
   "execution_count": 70,
   "metadata": {},
   "outputs": [
    {
     "name": "stdout",
     "output_type": "stream",
     "text": [
      "Testing loss = 0.389\n"
     ]
    }
   ],
   "source": [
    "def loss_torch(logistic_model, N_test=N_test, seed=seed):\n",
    "    theta, p, y = get_data(N=N_test, seed=seed)\n",
    "    labels = torch.Tensor(y[:, None])\n",
    "    Theta = torch.Tensor(theta[:, None])\n",
    "    P = torch.Tensor(p[:, None])\n",
    "\n",
    "    outputs = logistic_model(Theta)\n",
    "    return criterion(outputs, labels).item()/len(theta)\n",
    "print(f'Testing loss = {loss_torch(logistic_model, N_test=N_test):.3f}')"
   ]
  },
  {
   "cell_type": "code",
   "execution_count": 71,
   "metadata": {},
   "outputs": [
    {
     "name": "stdout",
     "output_type": "stream",
     "text": [
      "Training sklearn loss = 0.362\n"
     ]
    }
   ],
   "source": [
    "logistic_model_sk, loss_sk = fit_data_sklearn(theta, y, verbose=False)\n",
    "print(f'Training sklearn loss = {loss_sk:.3f}')"
   ]
  },
  {
   "cell_type": "code",
   "execution_count": 72,
   "metadata": {},
   "outputs": [
    {
     "name": "stdout",
     "output_type": "stream",
     "text": [
      "Testing sklearn loss = 0.391\n"
     ]
    }
   ],
   "source": [
    "def loss_sklearn(logistic_model, N_test=N_test, seed=seed):\n",
    "    theta, p, y = get_data(N=N_test, seed=seed)\n",
    "    \n",
    "    outputs = logistic_model.predict_proba(theta[:, None])[:, 1]\n",
    "    outputs_, labels = torch.Tensor(outputs[:, None]), torch.Tensor(y[:, None])\n",
    "    return criterion(outputs_, labels).item()/len(theta)\n",
    "\n",
    "print(f'Testing sklearn loss = {loss_sklearn(logistic_model_sk, N_test=N_test):.3f}')"
   ]
  },
  {
   "cell_type": "code",
   "execution_count": 77,
   "metadata": {},
   "outputs": [
    {
     "name": "stdout",
     "output_type": "stream",
     "text": [
      "Testing true loss = 0.386\n"
     ]
    }
   ],
   "source": [
    "def loss_true(N_test=N_test, seed=seed):\n",
    "    # p0=p0, theta0=theta0, wt=wt, \n",
    "    # p = p0/2 + (1-p0) / (1+np.exp(-(theta-theta0)/wt))\n",
    "\n",
    "    theta, p, y = get_data(N=N_test, seed=seed)\n",
    "    labels = torch.Tensor(y[:, None])        \n",
    "    P = torch.Tensor(p[:, None])\n",
    "    return criterion(P, labels).item()/len(theta)\n",
    "print(f'Testing true loss = {loss_true(N_test=N_test):.3f}')"
   ]
  },
  {
   "cell_type": "markdown",
   "metadata": {},
   "source": [
    "\n",
    "## quantitative comparison of methods : varrying methods' parameters\n",
    "\n",
    "Let's study the influence of each method's meta-parameter, such as the number of iterations:"
   ]
  },
  {
   "cell_type": "markdown",
   "metadata": {},
   "source": [
    "### influence of learning rate\n"
   ]
  },
  {
   "cell_type": "code",
   "execution_count": 78,
   "metadata": {},
   "outputs": [
    {
     "name": "stdout",
     "output_type": "stream",
     "text": [
      "learning_rate: 0.00400, Loss: 0.68654, loss_P: 0.35651\n",
      "learning_rate: 0.00711, Loss: 0.46821, loss_P: 0.35651\n",
      "learning_rate: 0.01265, Loss: 0.53909, loss_P: 0.35651\n",
      "learning_rate: 0.02249, Loss: 0.42389, loss_P: 0.35651\n",
      "learning_rate: 0.04000, Loss: 0.37402, loss_P: 0.35651\n",
      "learning_rate: 0.07113, Loss: 0.35698, loss_P: 0.35651\n",
      "learning_rate: 0.12649, Loss: 0.35719, loss_P: 0.35651\n",
      "learning_rate: 0.22494, Loss: 0.36023, loss_P: 0.35651\n",
      "learning_rate: 0.40000, Loss: 0.36349, loss_P: 0.35651\n"
     ]
    }
   ],
   "source": [
    "learning_rates = learning_rate * np.logspace(-1, 1, N_scan, base=10)\n",
    "learning_rates_, losses, loss_Ps = [], [], []\n",
    "for learning_rate_ in learning_rates:\n",
    "    for i_CV in range(N_cv):\n",
    "        theta, p, y = get_data(seed=seed+i_CV)\n",
    "\n",
    "        logistic_model, loss = fit_data(theta, y, learning_rate=learning_rate_, verbose=False)        \n",
    "\n",
    "        loss_P = loss_true(N_test=N_test, seed=seed+i_CV+N_test)\n",
    "        if N_test>0:\n",
    "            loss = loss_torch(logistic_model, N_test=N_test, seed=seed+i_CV+N_test)            \n",
    "        \n",
    "        if i_CV==0: \n",
    "            print(f\"learning_rate: {learning_rate_:.5f}, Loss: {loss:.5f}, loss_P: {loss_P:.5f}\")\n",
    "        learning_rates_.append(learning_rate_)\n",
    "        loss_Ps.append(loss_P/loss_P)\n",
    "        losses.append(loss/loss_P)"
   ]
  },
  {
   "cell_type": "code",
   "execution_count": 79,
   "metadata": {},
   "outputs": [],
   "source": [
    "opts = dict(marker='.', lw=0, alpha=3/N_cv, ms=20)"
   ]
  },
  {
   "cell_type": "code",
   "execution_count": 80,
   "metadata": {},
   "outputs": [
    {
     "data": {
      "image/png": "[encoded data removed]",
      "text/plain": [
       "<Figure size 1080x576 with 1 Axes>"
      ]
     },
     "metadata": {
      "needs_background": "light"
     },
     "output_type": "display_data"
    }
   ],
   "source": [
    "#influence du learning rate sur loss\n",
    "\n",
    "fig, ax = plt.subplots(figsize = (15, 8))\n",
    "ax.plot(learning_rates_, losses, **opts, color='green', label='loss')\n",
    "ax.plot(learning_rates_, loss_Ps, **opts, color='blue', label='loss_P')\n",
    "\n",
    "ax.set_xlim(np.min(learning_rates_), np.max(learning_rates_))\n",
    "\n",
    "ax.set_xlabel('learning_rate')\n",
    "ax.set_ylabel('Loss')\n",
    "ax.set_xscale('log')\n",
    "ax.legend(loc='best');"
   ]
  },
  {
   "cell_type": "markdown",
   "metadata": {},
   "source": [
    "### influence du nombre d'epochs"
   ]
  },
  {
   "cell_type": "code",
   "execution_count": 20,
   "metadata": {},
   "outputs": [
    {
     "name": "stdout",
     "output_type": "stream",
     "text": [
      "num_epochs: 20, Loss: 0.50792, loss_P: 0.33827, loss_SKL: 0.36202\n",
      "num_epochs: 35, Loss: 0.66639, loss_P: 0.33827, loss_SKL: 0.36202\n",
      "num_epochs: 63, Loss: 0.45808, loss_P: 0.33827, loss_SKL: 0.36202\n",
      "num_epochs: 112, Loss: 0.40446, loss_P: 0.33827, loss_SKL: 0.36202\n",
      "num_epochs: 200, Loss: 0.34581, loss_P: 0.33827, loss_SKL: 0.36202\n",
      "num_epochs: 355, Loss: 0.33897, loss_P: 0.33827, loss_SKL: 0.36202\n",
      "num_epochs: 632, Loss: 0.33523, loss_P: 0.33827, loss_SKL: 0.36202\n",
      "num_epochs: 1124, Loss: 0.33081, loss_P: 0.33827, loss_SKL: 0.36202\n",
      "num_epochs: 2000, Loss: 0.33052, loss_P: 0.33827, loss_SKL: 0.36202\n"
     ]
    }
   ],
   "source": [
    "num_epochss = num_epochs * np.logspace(-1, 1, N_scan, base=10)\n",
    "num_epochss_, losses, loss_Ps, loss_SKLs = [], [], [], []\n",
    "for num_epochs_ in num_epochss:\n",
    "    for i_CV in range(N_cv):\n",
    "        \n",
    "        theta, p, y = get_data(seed=seed+i_CV)\n",
    "        logistic_model, loss = fit_data(theta, y, num_epochs=int(num_epochs_), verbose=False)\n",
    "        logistic_model_sk, loss_SKL = fit_data_sklearn(theta, y, num_epochs=int(num_epochs_), verbose=False)\n",
    "        \n",
    "        loss_P = loss_true(N_test=N_test, seed=seed+i_CV+N_test)\n",
    "        if N_test>0:\n",
    "            loss = loss_torch(logistic_model, N_test=N_test, seed=seed+i_CV+N_test)\n",
    "            loss_SKL = loss_sklearn(logistic_model_sk, N_test=N_test, seed=seed+i_CV+N_test)\n",
    "                \n",
    "        if i_CV==0: \n",
    "            print(f\"num_epochs: {int(num_epochs_)}, Loss: {loss:.5f}, loss_P: {loss_P:.5f}, loss_SKL: {loss_SKL:.5f}\")\n",
    "        num_epochss_.append(num_epochs_)\n",
    "        loss_SKLs.append(loss_SKL/loss_P)\n",
    "        loss_Ps.append(loss_P/loss_P)\n",
    "        losses.append(loss/loss_P)"
   ]
  },
  {
   "cell_type": "code",
   "execution_count": 21,
   "metadata": {},
   "outputs": [
    {
     "data": {
      "image/png": "[encoded data removed]",
      "text/plain": [
       "<Figure size 1080x576 with 1 Axes>"
      ]
     },
     "metadata": {
      "needs_background": "light"
     },
     "output_type": "display_data"
    }
   ],
   "source": [
    "# influence du nbr d'epochs sur loss \n",
    "fig, ax = plt.subplots(figsize = (15, 8)) \n",
    "ax.plot(num_epochss_, losses, **opts, color='green', label='loss')\n",
    "ax.plot(num_epochss_, loss_Ps, **opts, color='blue', label='loss_P')\n",
    "ax.plot(num_epochss_, loss_SKLs, **opts, color='red', label='loss_SKL')\n",
    "\n",
    "ax.set_xlabel('# epochs')\n",
    "ax.set_ylabel('Loss')\n",
    "ax.set_xscale('log')\n",
    "ax.legend(loc='best');"
   ]
  },
  {
   "cell_type": "markdown",
   "metadata": {},
   "source": [
    "### influence of minibatch size"
   ]
  },
  {
   "cell_type": "code",
   "execution_count": 81,
   "metadata": {},
   "outputs": [
    {
     "name": "stdout",
     "output_type": "stream",
     "text": [
      "batch_size: 25, Loss: 0.36566, loss_P: 0.35651, loss_SKL: 0.34453\n",
      "batch_size: 32, Loss: 0.36543, loss_P: 0.35651, loss_SKL: 0.34453\n",
      "batch_size: 42, Loss: 0.37377, loss_P: 0.35651, loss_SKL: 0.34453\n",
      "batch_size: 54, Loss: 0.36362, loss_P: 0.35651, loss_SKL: 0.34453\n",
      "batch_size: 70, Loss: 0.36217, loss_P: 0.35651, loss_SKL: 0.34453\n",
      "batch_size: 91, Loss: 0.38095, loss_P: 0.35651, loss_SKL: 0.34453\n",
      "batch_size: 118, Loss: 0.37357, loss_P: 0.35651, loss_SKL: 0.34453\n",
      "batch_size: 154, Loss: 0.36256, loss_P: 0.35651, loss_SKL: 0.34453\n",
      "batch_size: 200, Loss: 0.36449, loss_P: 0.35651, loss_SKL: 0.34453\n"
     ]
    }
   ],
   "source": [
    "batch_sizes = N * np.logspace(-3, 0, N_scan, base=2)\n",
    "batch_sizes_, losses, loss_Ps = [], [], []\n",
    "for batch_size_ in batch_sizes:\n",
    "    for i_CV in range(N_cv):\n",
    "        theta, p, y = get_data(seed=seed+i_CV)\n",
    "\n",
    "        logistic_model, loss = fit_data(theta, y, batch_size=int(batch_size_), verbose=False)\n",
    "\n",
    "        loss_P = loss_true(N_test=N_test, seed=seed+i_CV+N_test)\n",
    "        if N_test>0:\n",
    "            loss = loss_torch(logistic_model, N_test=N_test, seed=seed+i_CV+N_test)\n",
    "        \n",
    "        if i_CV==0: \n",
    "            print(f\"batch_size: {int(batch_size_)}, Loss: {loss:.5f}, loss_P: {loss_P:.5f}, loss_SKL: {loss_SKL:.5f}\")\n",
    "        batch_sizes_.append(batch_size_)\n",
    "        loss_Ps.append(loss_P/loss_P)\n",
    "        losses.append(loss/loss_P)"
   ]
  },
  {
   "cell_type": "code",
   "execution_count": 82,
   "metadata": {},
   "outputs": [
    {
     "data": {
      "image/png": "[encoded data removed]",
      "text/plain": [
       "<Figure size 1080x576 with 1 Axes>"
      ]
     },
     "metadata": {
      "needs_background": "light"
     },
     "output_type": "display_data"
    }
   ],
   "source": [
    "# influence de la taille du minibatch sur loss \n",
    "\n",
    "fig, ax = plt.subplots(figsize = (15, 8)) \n",
    "ax.plot(batch_sizes_, losses, **opts, color='green', label='loss')\n",
    "ax.plot(batch_sizes_, loss_Ps, **opts, color='blue', label='loss_P')\n",
    "\n",
    "ax.set_xlabel('batch_size')\n",
    "ax.set_ylabel('Loss ')\n",
    "ax.set_xscale('log')\n",
    "ax.legend(loc='best');"
   ]
  },
  {
   "cell_type": "markdown",
   "metadata": {},
   "source": [
    "### influence of `beta1`"
   ]
  },
  {
   "cell_type": "code",
   "execution_count": 83,
   "metadata": {},
   "outputs": [
    {
     "ename": "TypeError",
     "evalue": "fit_data() got an unexpected keyword argument 'betas'",
     "output_type": "error",
     "traceback": [
      "\u001b[0;31m---------------------------------------------------------------------------\u001b[0m",
      "\u001b[0;31mTypeError\u001b[0m                                 Traceback (most recent call last)",
      "\u001b[0;32m<ipython-input-83-ceede1719f97>\u001b[0m in \u001b[0;36m<module>\u001b[0;34m\u001b[0m\n\u001b[1;32m      5\u001b[0m         \u001b[0mtheta\u001b[0m\u001b[0;34m,\u001b[0m \u001b[0mp\u001b[0m\u001b[0;34m,\u001b[0m \u001b[0my\u001b[0m \u001b[0;34m=\u001b[0m \u001b[0mget_data\u001b[0m\u001b[0;34m(\u001b[0m\u001b[0mseed\u001b[0m\u001b[0;34m=\u001b[0m\u001b[0mseed\u001b[0m\u001b[0;34m+\u001b[0m\u001b[0mi_CV\u001b[0m\u001b[0;34m)\u001b[0m\u001b[0;34m\u001b[0m\u001b[0;34m\u001b[0m\u001b[0m\n\u001b[1;32m      6\u001b[0m \u001b[0;34m\u001b[0m\u001b[0m\n\u001b[0;32m----> 7\u001b[0;31m         \u001b[0mlogistic_model\u001b[0m\u001b[0;34m,\u001b[0m \u001b[0mloss\u001b[0m \u001b[0;34m=\u001b[0m \u001b[0mfit_data\u001b[0m\u001b[0;34m(\u001b[0m\u001b[0mtheta\u001b[0m\u001b[0;34m,\u001b[0m \u001b[0my\u001b[0m\u001b[0;34m,\u001b[0m \u001b[0mbetas\u001b[0m\u001b[0;34m=\u001b[0m\u001b[0;34m(\u001b[0m\u001b[0mbeta1_\u001b[0m\u001b[0;34m,\u001b[0m \u001b[0mbeta2\u001b[0m\u001b[0;34m)\u001b[0m\u001b[0;34m,\u001b[0m \u001b[0mverbose\u001b[0m\u001b[0;34m=\u001b[0m\u001b[0;32mFalse\u001b[0m\u001b[0;34m)\u001b[0m\u001b[0;34m\u001b[0m\u001b[0;34m\u001b[0m\u001b[0m\n\u001b[0m\u001b[1;32m      8\u001b[0m \u001b[0;34m\u001b[0m\u001b[0m\n\u001b[1;32m      9\u001b[0m         \u001b[0mloss_P\u001b[0m \u001b[0;34m=\u001b[0m \u001b[0mloss_true\u001b[0m\u001b[0;34m(\u001b[0m\u001b[0mN_test\u001b[0m\u001b[0;34m=\u001b[0m\u001b[0mN_test\u001b[0m\u001b[0;34m,\u001b[0m \u001b[0mseed\u001b[0m\u001b[0;34m=\u001b[0m\u001b[0mseed\u001b[0m\u001b[0;34m+\u001b[0m\u001b[0mi_CV\u001b[0m\u001b[0;34m+\u001b[0m\u001b[0mN_test\u001b[0m\u001b[0;34m)\u001b[0m\u001b[0;34m\u001b[0m\u001b[0;34m\u001b[0m\u001b[0m\n",
      "\u001b[0;31mTypeError\u001b[0m: fit_data() got an unexpected keyword argument 'betas'"
     ]
    }
   ],
   "source": [
    "beta1s = N * np.logspace(-3, 0, N_scan, base=2)\n",
    "beta1s_, losses, loss_Ps = [], [], []\n",
    "for beta1_ in beta1s:\n",
    "    for i_CV in range(N_cv):\n",
    "        theta, p, y = get_data(seed=seed+i_CV)\n",
    "        \n",
    "        logistic_model, loss = fit_data(theta, y, betas=(beta1_, beta2), verbose=False)\n",
    "\n",
    "        loss_P = loss_true(N_test=N_test, seed=seed+i_CV+N_test)\n",
    "        if N_test>0:\n",
    "            loss = loss_torch(logistic_model, N_test=N_test, seed=seed+i_CV+N_test)\n",
    "        \n",
    "        if i_CV==0: \n",
    "            print(f\"beta1: {beta1_}, Loss: {loss:.5f}, loss_P: {loss_P:.5f}\")\n",
    "        beta1s_.append(beta1_)\n",
    "        loss_Ps.append(loss_P/loss_P)\n",
    "        losses.append(loss/loss_P)"
   ]
  },
  {
   "cell_type": "code",
   "execution_count": null,
   "metadata": {},
   "outputs": [],
   "source": [
    "fig, ax = plt.subplots(figsize = (15, 8)) \n",
    "ax.plot(beta1s_, losses, **opts, color='green', label='loss')\n",
    "ax.plot(beta1s_, loss_Ps, **opts, color='blue', label='loss_P')\n",
    "\n",
    "ax.set_xlabel('beta1')\n",
    "ax.set_ylabel('Loss ')\n",
    "ax.set_xscale('log')\n",
    "ax.legend(loc='best');"
   ]
  },
  {
   "cell_type": "markdown",
   "metadata": {},
   "source": [
    "### influence of `beta2`"
   ]
  },
  {
   "cell_type": "code",
   "execution_count": null,
   "metadata": {},
   "outputs": [],
   "source": [
    "beta2s = N * np.logspace(-3, 0, N_scan, base=2)\n",
    "beta2s_, losses, loss_Ps = [], [], []\n",
    "for beta2_ in beta2s:\n",
    "    for i_CV in range(N_cv):\n",
    "        theta, p, y = get_data(seed=seed+i_CV)\n",
    "\n",
    "        logistic_model, loss = fit_data(theta, y, betas=(beta1, beta2_), verbose=False)\n",
    "\n",
    "        loss_P = loss_true(N_test=N_test, seed=seed+i_CV+N_test)\n",
    "        if N_test>0:\n",
    "            loss = loss_torch(logistic_model, N_test=N_test, seed=seed+i_CV+N_test)\n",
    "        \n",
    "        if i_CV==0: \n",
    "            print(f\"beta2: {beta2_}, Loss: {loss:.5f}, loss_P: {loss_P:.5f}\")\n",
    "        beta2s_.append(beta2_)\n",
    "        loss_Ps.append(loss_P/loss_P)\n",
    "        losses.append(loss/loss_P)"
   ]
  },
  {
   "cell_type": "code",
   "execution_count": null,
   "metadata": {},
   "outputs": [],
   "source": [
    "fig, ax = plt.subplots(figsize = (15, 8)) \n",
    "ax.plot(beta2s_, losses, **opts, color='green', label='loss')\n",
    "ax.plot(beta2s_, loss_Ps, **opts, color='blue', label='loss_P')\n",
    "\n",
    "ax.set_xlabel('beta1')\n",
    "ax.set_ylabel('Loss ')\n",
    "ax.set_xscale('log')\n",
    "ax.legend(loc='best');"
   ]
  },
  {
   "cell_type": "markdown",
   "metadata": {},
   "source": [
    "### influence of `C`"
   ]
  },
  {
   "cell_type": "code",
   "execution_count": null,
   "metadata": {},
   "outputs": [],
   "source": [
    "Cs = C * np.logspace(-2, 2, N_scan, base=10)\n",
    "Cs_, loss_Ps, loss_SKLs = [], [], []\n",
    "for C_ in Cs:\n",
    "    for i_CV in range(N_cv):\n",
    "        theta, p, y = get_data(seed=seed+i_CV)\n",
    "\n",
    "        logistic_model_sk, loss_SKL = fit_data_sklearn(theta, y, C=C_, verbose=False)\n",
    "\n",
    "        loss_P = loss_true(N_test=N_test, seed=seed+i_CV+N_test)\n",
    "        if N_test>0:\n",
    "            loss_SKL = loss_sklearn(logistic_model_sk, N_test=N_test, seed=seed+i_CV+N_test)\n",
    "        \n",
    "        Cs_.append(C_)\n",
    "        loss_SKLs.append(loss_SKL/loss_P)\n",
    "        loss_Ps.append(loss_P/loss_P)"
   ]
  },
  {
   "cell_type": "code",
   "execution_count": null,
   "metadata": {},
   "outputs": [],
   "source": [
    "fig, ax = plt.subplots(figsize = (15, 8)) \n",
    "ax.plot(Cs_, loss_Ps, **opts, color='blue', label='loss_P')\n",
    "ax.plot(Cs_, loss_SKLs, **opts, color='red', label='loss_SKL')\n",
    "\n",
    "ax.set_xlabel('C')\n",
    "ax.set_ylabel('Loss ')\n",
    "ax.set_xscale('log')\n",
    "ax.legend(loc='best');"
   ]
  },
  {
   "cell_type": "markdown",
   "metadata": {},
   "source": [
    "### influence of `tol`"
   ]
  },
  {
   "cell_type": "code",
   "execution_count": null,
   "metadata": {},
   "outputs": [],
   "source": [
    "tols = tol * np.logspace(-2, 2, N_scan, base=10)\n",
    "tols_, loss_Ps, loss_SKLs = [], [], []\n",
    "for tol_ in tols:\n",
    "    for i_CV in range(N_cv):\n",
    "        theta, p, y = get_data(seed=seed+i_CV)\n",
    "\n",
    "        logistic_model_sk, loss_SKL = fit_data_sklearn(theta, y, tol=tol_, verbose=False)\n",
    "        \n",
    "        loss_P = loss_true(N_test=N_test, seed=seed+i_CV+N_test)\n",
    "        if N_test>0:\n",
    "            loss_SKL = loss_sklearn(logistic_model_sk, N_test=N_test, seed=seed+i_CV+N_test)\n",
    "\n",
    "        tols_.append(tol_)\n",
    "        loss_SKLs.append(loss_SKL/loss_P)\n",
    "        loss_Ps.append(loss_P/loss_P)"
   ]
  },
  {
   "cell_type": "code",
   "execution_count": null,
   "metadata": {},
   "outputs": [],
   "source": [
    "fig, ax = plt.subplots(figsize = (15, 8)) \n",
    "ax.plot(tols_, loss_Ps, **opts, color='blue', label='loss_P')\n",
    "ax.plot(tols_, loss_SKLs, **opts, color='red', label='loss_SKL')\n",
    "\n",
    "ax.set_xlabel(' tol')\n",
    "ax.set_ylabel('Loss')\n",
    "ax.set_xscale('log')\n",
    "ax.legend(loc='best');"
   ]
  },
  {
   "cell_type": "markdown",
   "metadata": {},
   "source": [
    "\n",
    "## quantitative comparison of methods : varrying experimental parameters\n"
   ]
  },
  {
   "cell_type": "markdown",
   "metadata": {},
   "source": [
    "### influence of number of trials"
   ]
  },
  {
   "cell_type": "code",
   "execution_count": null,
   "metadata": {},
   "outputs": [],
   "source": [
    "Ns = np.logspace(1, 3, N_scan, base=10, endpoint=True)\n",
    "\n",
    "Ns_, losses, loss_Ps, loss_SKLs = [], [], [], []\n",
    "\n",
    "for N_ in Ns:\n",
    "    for i_CV in range(N_cv):\n",
    "        theta, p, y = get_data(N=int(N_), seed=seed+i_CV)\n",
    "        \n",
    "        logistic_model, loss = fit_data(theta, y, verbose=False)\n",
    "        logistic_model_sk, loss_SKL = fit_data_sklearn(theta, y, verbose=False)\n",
    "\n",
    "        loss_P = loss_true(N_test=N_test, seed=seed+i_CV+N_test)\n",
    "        if N_test>0:\n",
    "            loss = loss_torch(logistic_model, N_test=N_test, seed=seed+i_CV+N_test)\n",
    "            loss_SKL = loss_sklearn(logistic_model_sk, N_test=N_test, seed=seed+i_CV+N_test)\n",
    "        \n",
    "        if i_CV==0: print(f\"N: {int(N_)}, Loss: {loss:.5f}, loss_P: {loss_P:.5f}, loss_SKL: {loss_SKL:.5f}\")\n",
    "        loss_SKLs.append(loss_SKL/loss_P)\n",
    "        Ns_.append(N_)\n",
    "        loss_Ps.append(loss_P/loss_P)\n",
    "        losses.append(loss/loss_P)\n",
    "    "
   ]
  },
  {
   "cell_type": "code",
   "execution_count": null,
   "metadata": {},
   "outputs": [],
   "source": [
    "fig, ax = plt.subplots(figsize = (15, 8)) \n",
    "ax.plot(Ns_, losses, **opts, color='green', label='loss')\n",
    "ax.plot(Ns_, loss_Ps, **opts, color='blue', label='loss_P')\n",
    "ax.plot(Ns_, loss_SKLs, **opts, color='red', label='loss_SKL')\n",
    "\n",
    "ax.set_xlabel(' # trials')\n",
    "ax.set_ylabel('Loss')\n",
    "ax.set_xscale('log')\n",
    "plt.legend(fontsize=20, frameon=False, scatterpoints=6);"
   ]
  },
  {
   "cell_type": "markdown",
   "metadata": {},
   "source": [
    "## Comparaison données générées/données prédites"
   ]
  },
  {
   "cell_type": "markdown",
   "metadata": {},
   "source": [
    "## Torch"
   ]
  },
  {
   "cell_type": "code",
   "execution_count": null,
   "metadata": {},
   "outputs": [],
   "source": [
    "theta0s = theta_std*np.random.randn(N_cv)\n",
    "p0s = np.linspace(0, 1, N_cv)\n",
    "wts = np.logspace(-1, 1, N_cv, base=10)\n",
    "\n",
    "p0_preds, theta0_preds, wt_preds = [],[],[]\n",
    "\n",
    "for i_, p0_ in enumerate(p0s): \n",
    "    theta, p, y = get_data(p0=p0_,seed=seed + i_)\n",
    "    logistic_model, loss = fit_data(theta, y, verbose=False)\n",
    "    p0_pred =  torch.sigmoid(logistic_model.logit0).item()            \n",
    "    p0_preds.append(p0_pred)\n",
    "    \n",
    "for i_, theta0_ in enumerate(theta0s):\n",
    "    theta, p, y = get_data(theta0=theta0_,seed=seed + i_) \n",
    "    logistic_model, loss = fit_data(theta, y, verbose=False)\n",
    "    theta0_pred = -logistic_model.linear.bias.item()/logistic_model.linear.weight.item() \n",
    "    theta0_preds.append(theta0_pred)\n",
    "                   \n",
    "for i_, wt_ in enumerate(wts):\n",
    "    theta, p, y = get_data(wt=wt_, seed=seed + i_)\n",
    "    logistic_model, loss = fit_data(theta, y, verbose=False)\n",
    "    wt_pred = 1/logistic_model.linear.weight.item() \n",
    "    wt_preds.append(wt_pred)\n",
    "    \n",
    "        \n",
    "      "
   ]
  },
  {
   "cell_type": "markdown",
   "metadata": {},
   "source": [
    "## Sklearn"
   ]
  },
  {
   "cell_type": "code",
   "execution_count": null,
   "metadata": {},
   "outputs": [],
   "source": [
    "def fit_lr(\n",
    "            N = N,\n",
    "            p0 = p0,\n",
    "            theta0 = theta0,\n",
    "            wt = 1/wt,\n",
    "            theta_std = theta_std,\n",
    "            seed = seed):\n",
    "    #np.random.seed(seed)\n",
    "    theta = np.random.randn(N)*theta_std\n",
    "    a = (theta-theta0)*wt\n",
    "    p = p0/2 + ((1-p0)/(1+np.exp(-a)))\n",
    "    y = np.random.rand(N) < p \n",
    "\n",
    "    from sklearn.linear_model import LogisticRegression\n",
    "    model = LogisticRegression(solver='liblinear', max_iter=num_epochs) #, C = 3, penalty='l2', class_weight = {1 : 1 , 0 : 1})\n",
    "    model.fit(theta[:, None], y)\n",
    "    \n",
    "    return theta, p, y, model\n",
    "\n"
   ]
  },
  {
   "cell_type": "code",
   "execution_count": null,
   "metadata": {},
   "outputs": [],
   "source": [
    "theta0_pre, wt_pre  = [],[]\n",
    "    \n",
    "for i_, theta0_ in enumerate(theta0s):\n",
    "    theta, p, y, model = fit_lr(theta0=theta0_, seed=seed + i_)\n",
    "    theta0_pre.append(-model.intercept_[0]/model.coef_[0][0])\n",
    "    \n",
    "for i_, wt_ in enumerate(wts):\n",
    "    theta, p, y, model = fit_lr(wt=wt_, seed=seed + i_)\n",
    "    wt_pre.append(model.coef_[0][0])\n"
   ]
  },
  {
   "cell_type": "code",
   "execution_count": null,
   "metadata": {},
   "outputs": [],
   "source": [
    "print(min(wt_preds))"
   ]
  },
  {
   "cell_type": "code",
   "execution_count": null,
   "metadata": {},
   "outputs": [],
   "source": [
    "# TODO : show three panels\n",
    "\n",
    "fig, axs= plt.subplots(1, 3, figsize = (15, 8)) \n",
    "\n",
    "axs[0].scatter(p0s, p0_preds, label='torch')\n",
    "axs[0].plot([min(p0s),max(p0s)],[min(p0_preds),max(p0_preds)],'--')\n",
    "axs[0].set(xlabel='p0 réel',ylabel='p0 prédit')\n",
    "axs[0].legend(loc=\"upper left\")\n",
    "\n",
    "axs[1].scatter(theta0s, theta0_preds,label='torch')\n",
    "axs[1].scatter(theta0s, theta0_pre,label='sklearn')\n",
    "#axs[1].plot([min(theta0s),max(theta0s)],[min(theta0_preds),max(theta0_preds)],'--')\n",
    "axs[1].plot([min(theta0s),max(theta0s)],[min(theta0_pre),max(theta0_pre)],'--')\n",
    "axs[1].set(xlabel='theta0 réel',ylabel='theta0 prédit')\n",
    "axs[1].legend(loc=\"upper left\")\n",
    "\n",
    "axs[2].scatter(wts, wt_preds,label='torch')\n",
    "axs[2].scatter(wts, wt_pre,label='sklearn')\n",
    "#axs[2].plot([min(wts),max(wts)],[min(wt_preds),max(wt_preds)],'--')\n",
    "axs[2].plot([min(wts),max(wts)],[min(wt_pre),max(wt_pre)],'--')\n",
    "axs[2].set(xlabel='pente réelle',ylabel='pente prédite')\n",
    "axs[2].legend(loc=\"upper left\");"
   ]
  },
  {
   "cell_type": "code",
   "execution_count": null,
   "metadata": {},
   "outputs": [],
   "source": [
    "theta0s = theta_std*np.random.randn(N_cv)\n",
    "theta0ss,losses = [], []\n",
    "for i_, theta0_ in enumerate(theta0s):\n",
    "    for i_CV in range(N_cv):\n",
    "        theta, p, y = get_data(theta0=theta0_,seed=seed+i_CV)\n",
    "        logistic_model, loss = fit_data(theta, y, verbose=False)\n",
    "        \n",
    "        if N_test>0: theta, p, y = get_data(N=N_test) # nouvelles données \n",
    "        labels = torch.Tensor(y[:, None])\n",
    "        Theta = torch.Tensor(theta[:, None])\n",
    "        outputs = logistic_model(Theta)\n",
    "        loss = criterion(outputs, labels).item()\n",
    "        theta0_ = -logistic_model.linear.bias.item()/logistic_model.linear.weight.item() \n",
    "        \n",
    "        if i_CV==0: \n",
    "            print(f\"theta0: {theta0_:.5f}, Loss: {loss:.5f}\")\n",
    "        theta0ss.append(theta0_)\n",
    "        losses.append(loss)\n",
    "           "
   ]
  },
  {
   "cell_type": "code",
   "execution_count": null,
   "metadata": {},
   "outputs": [],
   "source": [
    "wts = np.logspace(-1, 1, N_cv, base=10)\n",
    "wtss,losses = [], []\n",
    "\n",
    "for i_, wts_ in enumerate(wts):\n",
    "    for i_CV in range(N_cv):\n",
    "        theta, p, y = get_data(wt=wts_,seed=seed+i_CV)\n",
    "        logistic_model, loss = fit_data(theta, y, verbose=False)\n",
    "\n",
    "        if N_test>0: theta, p, y = get_data(wt=wts_,seed=seed+i_CV,N=N_test) # nouvelles données \n",
    "        labels = torch.Tensor(y[:, None])\n",
    "        Theta = torch.Tensor(theta[:, None])\n",
    "        outputs = logistic_model(Theta)\n",
    "        loss = criterion(outputs, labels).item()\n",
    "        wt_= 1/logistic_model.linear.weight.item() \n",
    "\n",
    "        if i_CV==0: \n",
    "            print(f\"wt: {wt_:.5f}, Loss: {loss:.5f}\")\n",
    "        wtss.append(wts_)\n",
    "        losses.append(loss)\n"
   ]
  },
  {
   "cell_type": "code",
   "execution_count": null,
   "metadata": {},
   "outputs": [],
   "source": [
    "p0s = np.linspace(0, 1, N_cv)\n",
    "p0ss,losses = [], []\n",
    "\n",
    "for i_, p0s_ in enumerate(p0s):\n",
    "    for i_CV in range(N_cv):\n",
    "        theta, p, y = get_data(p0=p0s_,seed=seed+i_CV)\n",
    "        logistic_model, loss = fit_data(theta, y, verbose=False)\n",
    "\n",
    "        if N_test>0: theta, p, y = get_data(p0=p0s_,seed=seed+i_CV,N=N_test) # nouvelles données \n",
    "        labels = torch.Tensor(y[:, None])\n",
    "        Theta = torch.Tensor(theta[:, None])\n",
    "        outputs = logistic_model(Theta)\n",
    "        loss = criterion(outputs, labels).item()\n",
    "        p0_ =  torch.sigmoid(logistic_model.logit0).item()            \n",
    "\n",
    "        if i_CV==0: \n",
    "            print(f\"p0: {p0_:.5f}, Loss: {loss:.5f}\")\n",
    "        p0ss.append(p0_)\n",
    "        losses.append(loss)\n"
   ]
  },
  {
   "cell_type": "markdown",
   "metadata": {},
   "source": [
    "## synthesizing results"
   ]
  },
  {
   "cell_type": "code",
   "execution_count": null,
   "metadata": {},
   "outputs": [],
   "source": [
    "fig, axs= plt.subplots(1, 3, figsize = (15, 8))\n",
    "\n",
    "axs[0].scatter(p0ss, losses,label='p0',marker=\".\")\n",
    "axs[0].set_xlabel('p0')\n",
    "axs[0].set_ylabel('Loss')\n",
    "\n",
    "\n",
    "axs[1].scatter(theta0ss, losses,label='theta0',marker=\".\")\n",
    "axs[1].set_xlabel('theta0')\n",
    "axs[1].set_ylabel('Loss')\n",
    "axs[1].set(xlim=(-0.5, 1.5))\n",
    "  \n",
    "\n",
    "axs[2].scatter(wtss, losses,label='wt',marker=\".\")\n",
    "axs[2].set_xlabel('wt')\n",
    "axs[2].set_ylabel('Loss')\n",
    "axs[2].set(xlim=(0, 1))"
   ]
  }
 ],
 "metadata": {
  "kernelspec": {
   "display_name": "Python 3",
   "language": "python",
   "name": "python3"
  },
  "language_info": {
   "codemirror_mode": {
    "name": "ipython",
    "version": 3
   },
   "file_extension": ".py",
   "mimetype": "text/x-python",
   "name": "python",
   "nbconvert_exporter": "python",
   "pygments_lexer": "ipython3",
   "version": "3.7.7"
  },
  "nteract": {
   "version": "0.22.0"
  }
 },
 "nbformat": 4,
 "nbformat_minor": 4
}
