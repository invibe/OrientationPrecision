{
 "cells": [
  {
   "cell_type": "markdown",
   "metadata": {},
   "source": [
    "The goal here is to fit data with psychometric curves using logistic regression. \n",
    "\n",
    "\n"
   ]
  },
  {
   "cell_type": "code",
   "execution_count": 49,
   "metadata": {},
   "outputs": [],
   "source": [
    "import torch\n",
    "from torch.utils.data import TensorDataset, DataLoader\n",
    "torch.set_default_tensor_type('torch.DoubleTensor')\n",
    "criterion = torch.nn.BCELoss()\n",
    "\n",
    "class LogisticRegressionModel(torch.nn.Module):\n",
    "    def __init__(self, bias=True, logit0=-2): \n",
    "        super(LogisticRegressionModel, self).__init__()\n",
    "        self.linear = torch.nn.Linear(1, 1, bias=bias)    \n",
    "        self.logit0 = torch.nn.Parameter(logit0*torch.ones(1))\n",
    "        \n",
    "    def forward(self, theta):\n",
    "        p0 = self.logit0.sigmoid()\n",
    "        out = p0/2 + (1-p0)*self.linear(theta).sigmoid()\n",
    "        return out\n",
    "\n",
    "learning_rate = 0.04\n",
    "betas = (0.9, 0.999)\n",
    "num_epochs = 400\n",
    "batch_size = 8\n",
    "def fit_data(theta, y, \n",
    "                learning_rate =learning_rate,\n",
    "                num_epochs = num_epochs,\n",
    "                batch_size = batch_size,\n",
    "                verbose=False):\n",
    "\n",
    "    logistic_model = LogisticRegressionModel()\n",
    "\n",
    "    Theta, labels = torch.Tensor(theta[:, None]), torch.Tensor(y[:, None])\n",
    "\n",
    "    loader = DataLoader(TensorDataset(Theta, labels), batch_size=batch_size, shuffle=True)\n",
    "    optimizer = torch.optim.Adam(logistic_model.parameters(), lr=learning_rate/len(loader), betas=betas)\n",
    "    \n",
    "    for epoch in range(int(num_epochs)):\n",
    "        losses = []\n",
    "        for Theta_, labels_ in loader:\n",
    "            optimizer.zero_grad()\n",
    "            outputs = logistic_model(Theta_)\n",
    "            loss = criterion(outputs, labels_)\n",
    "            loss.backward()\n",
    "            optimizer.step()\n",
    "            losses.append(loss.item())\n",
    "        \n",
    "        if verbose and (epoch % (num_epochs//32) == 0) : \n",
    "            print(f\"Iteration: {epoch} - Loss: {np.mean(losses):.5f}\")\n",
    "\n",
    "    logistic_model.eval()\n",
    "    return logistic_model, np.mean(losses)"
   ]
  },
  {
   "cell_type": "code",
   "execution_count": 73,
   "metadata": {},
   "outputs": [],
   "source": [
    "from sklearn.linear_model import LogisticRegression\n",
    "def fit_data_sklearn(theta, y, \n",
    "                num_epochs = num_epochs,\n",
    "                verbose=False):\n",
    "    logistic_model = LogisticRegression(solver='liblinear', max_iter=num_epochs) #, C = 3, penalty='l2', class_weight = {1 : 1 , 0 : 1})\n",
    "    logistic_model.fit(theta[:, None], y)\n",
    "    \n",
    "    outputs = model.predict_proba(theta[:, None])[:, 0]\n",
    "    outputs_, labels = torch.Tensor(outputs[:, None]), torch.Tensor(y[:, None])\n",
    "    loss = criterion(outputs_, labels).item()\n",
    "    if verbose: print(\"Loss =\", loss)\n",
    "    return logistic_model, loss   "
   ]
  },
  {
   "cell_type": "code",
   "execution_count": 57,
   "metadata": {},
   "outputs": [
    {
     "data": {
      "text/plain": [
       "LogisticRegression(C=1.0, class_weight=None, dual=False, fit_intercept=True,\n",
       "                   intercept_scaling=1, l1_ratio=None, max_iter=400,\n",
       "                   multi_class='auto', n_jobs=None, penalty='l2',\n",
       "                   random_state=None, solver='liblinear', tol=0.0001, verbose=0,\n",
       "                   warm_start=False)"
      ]
     },
     "execution_count": 57,
     "metadata": {},
     "output_type": "execute_result"
    }
   ],
   "source": [
    "from sklearn.linear_model import LogisticRegression\n",
    "    \n",
    "model = LogisticRegression(solver='liblinear', max_iter=num_epochs) #, C = 3, penalty='l2', class_weight = {1 : 1 , 0 : 1})\n",
    "model.fit(theta[:, None], y)\n",
    "    "
   ]
  },
  {
   "cell_type": "code",
   "execution_count": 62,
   "metadata": {},
   "outputs": [
    {
     "data": {
      "text/plain": [
       "array([0.25283638, 0.58425838, 0.19433671, 0.03277188, 0.63536268,\n",
       "       0.63535415, 0.02900527, 0.15569929, 0.74705304, 0.23391371,\n",
       "       0.7444781 , 0.74546308, 0.37465264, 0.98688015, 0.98012183,\n",
       "       0.78432867, 0.90898735, 0.3375137 , 0.88758655, 0.96072408,\n",
       "       0.03710484, 0.63099989, 0.469744  , 0.96176358, 0.77745983,\n",
       "       0.44559726, 0.93157486, 0.30742498, 0.79851968, 0.66470138,\n",
       "       0.79890466, 0.01593551, 0.51512349, 0.9169772 , 0.14013653,\n",
       "       0.94090868, 0.3921961 , 0.98816096, 0.95295475, 0.39862986,\n",
       "       0.16443037, 0.41240936, 0.57189016, 0.66938756, 0.96595907,\n",
       "       0.83812788, 0.74329093, 0.0878517 , 0.32294889, 0.98172069,\n",
       "       0.33259965, 0.70965782, 0.82464189, 0.2072926 , 0.09266027,\n",
       "       0.11324903, 0.87124777, 0.67339896, 0.3290358 , 0.10365744,\n",
       "       0.75114091, 0.60981939, 0.92490921, 0.93776128, 0.14286558,\n",
       "       0.04693728, 0.54778291, 0.09796983, 0.31417893, 0.81409002,\n",
       "       0.3142951 , 0.03172186, 0.52761702, 0.02993964, 0.99728038,\n",
       "       0.14031019, 0.45885837, 0.66834644, 0.45623502, 0.9888709 ,\n",
       "       0.62780711, 0.31636856, 0.0361362 , 0.76716501, 0.8633201 ,\n",
       "       0.7604857 , 0.116874  , 0.3302807 , 0.77173537, 0.24588901,\n",
       "       0.45327896, 0.10510385, 0.83264232, 0.68243154, 0.71289312,\n",
       "       0.96483505, 0.34666135, 0.36467724, 0.50469522, 0.63558798,\n",
       "       0.96098276, 0.72580986, 0.68970081, 0.86166698, 0.59674014,\n",
       "       0.29405688, 0.01478607, 0.41066648, 0.36650001, 0.54913553,\n",
       "       0.98703862, 0.52240993, 0.47382205, 0.00409814, 0.61338918,\n",
       "       0.34391036, 0.52699425, 0.93405969, 0.07362325, 0.16032357,\n",
       "       0.14886961, 0.88789121, 0.04248226, 0.95983007, 0.21658654,\n",
       "       0.00752895, 0.90476612, 0.78584587, 0.45184912, 0.76118693,\n",
       "       0.97089537, 0.4691661 , 0.91775786, 0.26275553, 0.89011195,\n",
       "       0.03091257, 0.85650342, 0.67970369, 0.14259358, 0.94214567,\n",
       "       0.38230191, 0.05211517, 0.97428751, 0.40522043, 0.36528658,\n",
       "       0.15150509, 0.94288509, 0.9521716 , 0.24230027, 0.3462225 ,\n",
       "       0.37018198, 0.32156298, 0.8256457 , 0.37976677, 0.34821082,\n",
       "       0.83644993, 0.01546782, 0.26265108, 0.9371165 , 0.19124327,\n",
       "       0.90165849, 0.14999461, 0.07124717, 0.8665132 , 0.10622028,\n",
       "       0.29000968, 0.14026755, 0.01444356, 0.6411789 , 0.84817526,\n",
       "       0.88337828, 0.8652445 , 0.5506095 , 0.32415928, 0.3565935 ,\n",
       "       0.13888795, 0.50027327, 0.03808769, 0.65105756, 0.00230763,\n",
       "       0.20218475, 0.87569327, 0.91919983, 0.25891659, 0.62979119,\n",
       "       0.17210724, 0.26290967, 0.54823767, 0.87314143, 0.9685381 ,\n",
       "       0.73720158, 0.13123677, 0.38940404, 0.94393707, 0.41142476,\n",
       "       0.30285166, 0.88206511, 0.4220283 , 0.47495228, 0.93041914])"
      ]
     },
     "execution_count": 62,
     "metadata": {},
     "output_type": "execute_result"
    }
   ],
   "source": [
    "model.predict_proba(theta[:, None])[:, 0]"
   ]
  },
  {
   "cell_type": "code",
   "execution_count": 67,
   "metadata": {},
   "outputs": [
    {
     "name": "stderr",
     "output_type": "stream",
     "text": [
      "/usr/local/lib/python3.7/site-packages/torch/nn/modules/loss.py:498: UserWarning: Using a target size (torch.Size([200, 1])) that is different to the input size (torch.Size([200, 1, 1])) is deprecated. Please ensure they have the same size.\n",
      "  return F.binary_cross_entropy(input, target, weight=self.weight, reduction=self.reduction)\n"
     ]
    }
   ],
   "source": [
    "outputs_, labels = torch.Tensor(outputs[:, None]), torch.Tensor(y[:, None])\n",
    "loss = criterion(outputs_, labels)"
   ]
  },
  {
   "cell_type": "code",
   "execution_count": 69,
   "metadata": {},
   "outputs": [
    {
     "data": {
      "text/plain": [
       "0.33806764629827435"
      ]
     },
     "execution_count": 69,
     "metadata": {},
     "output_type": "execute_result"
    }
   ],
   "source": [
    "loss.item()"
   ]
  },
  {
   "cell_type": "markdown",
   "metadata": {},
   "source": [
    "Some hyper parameters which we will tune later:"
   ]
  },
  {
   "cell_type": "code",
   "execution_count": 51,
   "metadata": {},
   "outputs": [],
   "source": [
    "import numpy as np\n",
    "import matplotlib.pyplot as plt"
   ]
  },
  {
   "cell_type": "code",
   "execution_count": 52,
   "metadata": {},
   "outputs": [],
   "source": [
    "N = 200            \n",
    "batch_size = N//4\n",
    "#batch_size = N//2\n",
    "\n",
    "N_cv = 40\n",
    "seed = 42\n",
    "N_test = 2000      \n",
    "N_scan = 9\n",
    "N_test = 5\n",
    "\n",
    "bias = True\n",
    "\n",
    "if False: \n",
    "#if True:\n",
    "    num_epochs = 100\n",
    "\n",
    "    N_test = 0\n",
    "    N_cv = 10\n",
    "    N_scan = 9\n",
    "\n",
    "\n",
    "p0 = 0.02         \n",
    "theta0 = 0\n",
    "wt = np.pi/20      \n",
    "theta_std = np.pi/6"
   ]
  },
  {
   "cell_type": "markdown",
   "metadata": {},
   "source": [
    "## Let's create some synthetic data"
   ]
  },
  {
   "cell_type": "code",
   "execution_count": 53,
   "metadata": {},
   "outputs": [],
   "source": [
    "def get_data(\n",
    "            N = N,\n",
    "            p0 = p0,\n",
    "            theta0 = theta0,\n",
    "            wt = wt,\n",
    "            theta_std = theta_std,\n",
    "            seed=seed):\n",
    "    np.random.seed(seed)\n",
    "    theta = np.random.randn(N)*theta_std\n",
    "    a = (theta-theta0)/wt\n",
    "    p = 1/(1+np.exp(-a))\n",
    "    \n",
    "    p = p0/2 + (1-p0) * p #add lapse rate\n",
    "    y = np.random.rand(N) < p #generate data\n",
    "    return theta, p, y"
   ]
  },
  {
   "cell_type": "code",
   "execution_count": 54,
   "metadata": {},
   "outputs": [
    {
     "name": "stdout",
     "output_type": "stream",
     "text": [
      "46.3 µs ± 20.5 µs per loop (mean ± std. dev. of 7 runs, 10000 loops each)\n"
     ]
    }
   ],
   "source": [
    "%%timeit\n",
    "theta, p, y = get_data()"
   ]
  },
  {
   "cell_type": "code",
   "execution_count": 55,
   "metadata": {},
   "outputs": [
    {
     "name": "stdout",
     "output_type": "stream",
     "text": [
      "Iteration: 0 - Loss: 0.62486\n",
      "Iteration: 12 - Loss: 0.54282\n",
      "Iteration: 24 - Loss: 0.49061\n",
      "Iteration: 36 - Loss: 0.45690\n",
      "Iteration: 48 - Loss: 0.43313\n",
      "Iteration: 60 - Loss: 0.41509\n",
      "Iteration: 72 - Loss: 0.40092\n",
      "Iteration: 84 - Loss: 0.38962\n",
      "Iteration: 96 - Loss: 0.38035\n",
      "Iteration: 108 - Loss: 0.37283\n",
      "Iteration: 120 - Loss: 0.36670\n",
      "Iteration: 132 - Loss: 0.36160\n",
      "Iteration: 144 - Loss: 0.35739\n",
      "Iteration: 156 - Loss: 0.35391\n",
      "Iteration: 168 - Loss: 0.35110\n",
      "Iteration: 180 - Loss: 0.34865\n",
      "Iteration: 192 - Loss: 0.34675\n",
      "Iteration: 204 - Loss: 0.34516\n",
      "Iteration: 216 - Loss: 0.34386\n",
      "Iteration: 228 - Loss: 0.34279\n",
      "Iteration: 240 - Loss: 0.34190\n",
      "Iteration: 252 - Loss: 0.34112\n",
      "Iteration: 264 - Loss: 0.34063\n",
      "Iteration: 276 - Loss: 0.33998\n",
      "Iteration: 288 - Loss: 0.33953\n",
      "Iteration: 300 - Loss: 0.33917\n",
      "Iteration: 312 - Loss: 0.33881\n",
      "Iteration: 324 - Loss: 0.33846\n",
      "Iteration: 336 - Loss: 0.33819\n",
      "Iteration: 348 - Loss: 0.33796\n",
      "Iteration: 360 - Loss: 0.33773\n",
      "Iteration: 372 - Loss: 0.33746\n",
      "Iteration: 384 - Loss: 0.33731\n",
      "Iteration: 396 - Loss: 0.33700\n"
     ]
    }
   ],
   "source": [
    "theta, p, y = get_data()\n",
    "logistic_model, loss = fit_data(theta, y,verbose=True) "
   ]
  },
  {
   "cell_type": "code",
   "execution_count": 48,
   "metadata": {},
   "outputs": [
    {
     "name": "stdout",
     "output_type": "stream",
     "text": [
      "bias 0.005; theta0 0.000\n",
      "slope 0.148 ; slope true 0.15707963267948966\n",
      "p0 0.008 p0 true = 0.02\n"
     ]
    }
   ],
   "source": [
    "with torch.no_grad():\n",
    "    if bias: print(f'bias {-logistic_model.linear.bias.item()/logistic_model.linear.weight.item():.3f}; theta0 {theta0:.3f}' )\n",
    "    print(f'slope {1/logistic_model.linear.weight.item():.3f} ; slope true {wt}')    \n",
    "    print(f'p0 {torch.sigmoid(logistic_model.logit0).item():.3f} p0 true = {p0}')\n"
   ]
  },
  {
   "cell_type": "code",
   "execution_count": 38,
   "metadata": {},
   "outputs": [
    {
     "name": "stdout",
     "output_type": "stream",
     "text": [
      "loss= 0.33713330501347627\n"
     ]
    },
    {
     "data": {
      "image/png": "[encoded data removed]",
      "text/plain": [
       "<Figure size 1080x576 with 1 Axes>"
      ]
     },
     "metadata": {
      "needs_background": "light"
     },
     "output_type": "display_data"
    }
   ],
   "source": [
    "print('loss=', loss)\n",
    "fig, ax = plt.subplots(figsize = (15, 8)) \n",
    "ax.scatter(theta, p, s=4, color = 'r', label='hidden proba')\n",
    "ax.scatter(theta, y, s=1, alpha=.1, color = 'b', label='data points')\n",
    "x_values = np.linspace(-1.5, 1.50, 100)[:, None]\n",
    "y_values = logistic_model(torch.Tensor(x_values)).detach().numpy()\n",
    "ax.plot(x_values, y_values, 'g', alpha=.7, lw=3, label='pred proba')\n",
    "ax.set_xlabel(r'orientation $\\theta$')\n",
    "ax.set_yticks([0.,1.])\n",
    "ax.set_yticklabels(['Left', 'Right'])\n",
    "plt.legend();"
   ]
  },
  {
   "cell_type": "markdown",
   "metadata": {},
   "source": [
    "That method is fairly quick, in under 2 seconds:"
   ]
  },
  {
   "cell_type": "code",
   "execution_count": 39,
   "metadata": {},
   "outputs": [
    {
     "name": "stdout",
     "output_type": "stream",
     "text": [
      "8.2 s ± 1.66 s per loop (mean ± std. dev. of 7 runs, 1 loop each)\n"
     ]
    }
   ],
   "source": [
    "%%timeit\n",
    "logistic_model, loss = fit_data(theta, y, verbose=False)"
   ]
  },
  {
   "cell_type": "markdown",
   "metadata": {},
   "source": [
    "let's do the same thing with `sklearn`: "
   ]
  },
  {
   "cell_type": "code",
   "execution_count": 76,
   "metadata": {},
   "outputs": [
    {
     "name": "stdout",
     "output_type": "stream",
     "text": [
      "Loss = 1.82448751087715\n"
     ]
    }
   ],
   "source": [
    "logistic_model, loss = fit_data_sklearn(theta, y, verbose=True) "
   ]
  },
  {
   "cell_type": "markdown",
   "metadata": {},
   "source": [
    "That method is much quicker:"
   ]
  },
  {
   "cell_type": "code",
   "execution_count": 77,
   "metadata": {},
   "outputs": [
    {
     "name": "stdout",
     "output_type": "stream",
     "text": [
      "The slowest run took 4.65 times longer than the fastest. This could mean that an intermediate result is being cached.\n",
      "1.38 ms ± 711 µs per loop (mean ± std. dev. of 7 runs, 1000 loops each)\n"
     ]
    }
   ],
   "source": [
    "%%timeit\n",
    "logistic_model, loss = fit_data_sklearn(theta, y, verbose=False)"
   ]
  },
  {
   "cell_type": "markdown",
   "metadata": {},
   "source": [
    "## validationfit_data_sklearn"
   ]
  },
  {
   "cell_type": "code",
   "execution_count": 25,
   "metadata": {},
   "outputs": [
    {
     "name": "stdout",
     "output_type": "stream",
     "text": [
      "loss= 0.33806764629827435\n"
     ]
    },
    {
     "data": {
      "image/png": "[encoded data removed]",
      "text/plain": [
       "<Figure size 1080x576 with 1 Axes>"
      ]
     },
     "metadata": {
      "needs_background": "light"
     },
     "output_type": "display_data"
    }
   ],
   "source": [
    "theta, p, y = get_data() # nouvelles données \n",
    "\n",
    "labels = torch.Tensor(y[:, None])\n",
    "Theta = torch.Tensor(theta[:, None])\n",
    "outputs = logistic_model(Theta)\n",
    "loss = criterion(outputs, labels)\n",
    "print('loss=', loss.item())\n",
    "fig, ax = plt.subplots(figsize = (15, 8)) \n",
    "ax.scatter(theta, p, s=4, color = 'r', label='hidden proba')\n",
    "ax.scatter(theta, y, s=1, alpha=.1, color = 'b', label='data points')\n",
    "x_values = np.linspace(-1.5, 1.50, 100)[:, None]\n",
    "y_values = logistic_model(torch.Tensor(x_values)).detach().numpy()\n",
    "ax.plot(x_values, y_values, 'g', alpha=.7, lw=3, label='pred proba')\n",
    "ax.set_xlabel(r'orientation $\\theta$')\n",
    "ax.set_yticks([0.,1.])\n",
    "ax.set_yticklabels(['Left', 'Right'])\n",
    "plt.legend();"
   ]
  },
  {
   "cell_type": "markdown",
   "metadata": {},
   "source": [
    "## influence of number of trials"
   ]
  },
  {
   "cell_type": "code",
   "execution_count": 11,
   "metadata": {},
   "outputs": [
    {
     "name": "stdout",
     "output_type": "stream",
     "text": [
      "N: 10, Loss: 0.33979, loss_P: 0.53212, loss_P0: 0.43535\n",
      "N: 17, Loss: 0.35053, loss_P: 0.48595, loss_P0: 0.43535\n",
      "N: 31, Loss: 0.41385, loss_P: 0.44543, loss_P0: 0.43535\n",
      "N: 56, Loss: 0.39974, loss_P: 0.43626, loss_P0: 0.43535\n",
      "N: 100, Loss: 0.40670, loss_P: 0.43942, loss_P0: 0.43535\n",
      "N: 177, Loss: 0.37668, loss_P: 0.43837, loss_P0: 0.43535\n",
      "N: 316, Loss: 0.37890, loss_P: 0.43705, loss_P0: 0.43535\n",
      "N: 562, Loss: 0.39490, loss_P: 0.43550, loss_P0: 0.43535\n",
      "N: 1000, Loss: 0.40963, loss_P: 0.43753, loss_P0: 0.43535\n"
     ]
    }
   ],
   "source": [
    "Ns = np.logspace(1, 3, N_scan, base=10)\n",
    "\n",
    "Ns_, losses, loss_Ps, loss_P0s = [], [], [], []\n",
    "\n",
    "for N_ in Ns:\n",
    "    for i_CV in range(N_cv):\n",
    "        theta, p, y = get_data(N=int(N_), seed=seed+i_CV)\n",
    "        logistic_model, loss = fit_data(theta, y, verbose=False)\n",
    "        \n",
    "        if N_test>0: theta, p, y = get_data(N=N_test) # nouvelles données \n",
    "        labels = torch.Tensor(y[:, None])\n",
    "        Theta = torch.Tensor(theta[:, None])\n",
    "        P = torch.Tensor(p[:, None])\n",
    "        \n",
    "        outputs = logistic_model(Theta)\n",
    "        loss = criterion(outputs, labels).item()\n",
    "    \n",
    "        loss_P = criterion(outputs, P).item() \n",
    "        loss_P0 = criterion(P, P).item()\n",
    "        \n",
    "        if i_CV==0: print(f\"N: {int(N_)}, Loss: {loss:.5f}, loss_P: {loss_P:.5f}, loss_P0: {loss_P0:.5f}\")\n",
    "        loss_P0s.append(loss_P0)\n",
    "        Ns_.append(N_)\n",
    "        loss_Ps.append(loss_P)\n",
    "        losses.append(loss)\n",
    "    "
   ]
  },
  {
   "cell_type": "code",
   "execution_count": 12,
   "metadata": {},
   "outputs": [
    {
     "data": {
      "image/png": "[encoded data removed]",
      "text/plain": [
       "<Figure size 1080x576 with 1 Axes>"
      ]
     },
     "metadata": {
      "needs_background": "light"
     },
     "output_type": "display_data"
    }
   ],
   "source": [
    "#plot\n",
    "\n",
    "fig, ax = plt.subplots(figsize = (15, 8)) \n",
    "ax.scatter(Ns_, losses, alpha=3/N_cv, label='loss')\n",
    "ax.scatter(Ns_, loss_Ps, alpha=3/N_cv, label='loss_P')\n",
    "ax.plot(Ns_, loss_P0s, label='loss_P0')\n",
    "\n",
    "ax.set_xlabel(' # trials')\n",
    "ax.set_ylabel(' Loss ')\n",
    "ax.set_xscale('log')"
   ]
  },
  {
   "cell_type": "markdown",
   "metadata": {},
   "source": [
    "## influence of learning rate\n"
   ]
  },
  {
   "cell_type": "code",
   "execution_count": 13,
   "metadata": {},
   "outputs": [
    {
     "name": "stdout",
     "output_type": "stream",
     "text": [
      "learning_rate: 0.00400, Loss: 0.49990, loss_P: 0.51187, loss_P0: 0.43535\n",
      "learning_rate: 0.00711, Loss: 0.48874, loss_P: 0.50183, loss_P0: 0.43535\n",
      "learning_rate: 0.01265, Loss: 0.45566, loss_P: 0.47488, loss_P0: 0.43535\n",
      "learning_rate: 0.02249, Loss: 0.41225, loss_P: 0.44368, loss_P0: 0.43535\n",
      "learning_rate: 0.04000, Loss: 0.39245, loss_P: 0.43605, loss_P0: 0.43535\n",
      "learning_rate: 0.07113, Loss: 0.39355, loss_P: 0.43647, loss_P0: 0.43535\n",
      "learning_rate: 0.12649, Loss: 0.40410, loss_P: 0.44424, loss_P0: 0.43535\n",
      "learning_rate: 0.22494, Loss: 0.40612, loss_P: 0.44629, loss_P0: 0.43535\n",
      "learning_rate: 0.40000, Loss: 0.40787, loss_P: 0.44715, loss_P0: 0.43535\n"
     ]
    }
   ],
   "source": [
    "learning_rates = learning_rate * np.logspace(-1, 1, N_scan, base=10)\n",
    "learning_rates_, losses, loss_Ps, loss_P0s = [], [], [], []\n",
    "for learning_rate_ in learning_rates:\n",
    "    for i_CV in range(N_cv):\n",
    "        theta, p, y = get_data(seed=seed+i_CV)\n",
    "        logistic_model, loss = fit_data(theta, y, learning_rate=learning_rate_, verbose=False)\n",
    "\n",
    "        if N_test>0: theta, p, y = get_data(N=N_test) # nouvelles données \n",
    "        labels = torch.Tensor(y[:, None])\n",
    "        Theta = torch.Tensor(theta[:, None])\n",
    "        outputs = logistic_model(Theta)\n",
    "\n",
    "        loss = criterion(outputs, labels).item()\n",
    "        loss_P = criterion(outputs, torch.Tensor(p[:, None])).item()\n",
    "        loss_P0 = criterion(torch.Tensor(p[:, None]), torch.Tensor(p[:, None])).item()\n",
    "        if i_CV==0: \n",
    "            print(f\"learning_rate: {learning_rate_:.5f}, Loss: {loss:.5f}, loss_P: {loss_P:.5f}, loss_P0: {loss_P0:.5f}\")\n",
    "        learning_rates_.append(learning_rate_)\n",
    "        loss_P0s.append(loss_P0)\n",
    "        loss_Ps.append(loss_P)\n",
    "        losses.append(loss)"
   ]
  },
  {
   "cell_type": "code",
   "execution_count": 14,
   "metadata": {},
   "outputs": [
    {
     "data": {
      "image/png": "[encoded data removed]",
      "text/plain": [
       "<Figure size 1080x576 with 1 Axes>"
      ]
     },
     "metadata": {
      "needs_background": "light"
     },
     "output_type": "display_data"
    }
   ],
   "source": [
    "#influence du learning rate sur loss\n",
    "\n",
    "fig, ax = plt.subplots(figsize = (15, 8)) \n",
    "ax.scatter(learning_rates_, losses, alpha=3/N_cv, label='loss')\n",
    "ax.scatter(learning_rates_, loss_Ps, alpha=3/N_cv, label='loss_P')\n",
    "ax.plot(learning_rates_, loss_P0s, label='loss_P0')\n",
    "ax.set_xlim(np.min(learning_rates_), np.max(learning_rates_))\n",
    "\n",
    "ax.set_xlabel('learning_rate')\n",
    "ax.set_ylabel(' Loss ')\n",
    "ax.set_xscale('log')\n",
    "ax.legend(loc='best');"
   ]
  },
  {
   "cell_type": "markdown",
   "metadata": {},
   "source": [
    "## influence du nombre d'epochs"
   ]
  },
  {
   "cell_type": "code",
   "execution_count": 15,
   "metadata": {},
   "outputs": [
    {
     "name": "stdout",
     "output_type": "stream",
     "text": [
      "num_epochs: 40, Loss: 0.52751, loss_P: 0.53504, loss_P0: 0.43535\n",
      "num_epochs: 71, Loss: 0.48951, loss_P: 0.50226, loss_P0: 0.43535\n",
      "num_epochs: 126, Loss: 0.43071, loss_P: 0.45589, loss_P0: 0.43535\n",
      "num_epochs: 224, Loss: 0.41135, loss_P: 0.44320, loss_P0: 0.43535\n",
      "num_epochs: 400, Loss: 0.39232, loss_P: 0.43608, loss_P0: 0.43535\n",
      "num_epochs: 711, Loss: 0.39876, loss_P: 0.44070, loss_P0: 0.43535\n",
      "num_epochs: 1264, Loss: 0.40677, loss_P: 0.44584, loss_P0: 0.43535\n",
      "num_epochs: 2249, Loss: 0.40812, loss_P: 0.44694, loss_P0: 0.43535\n",
      "num_epochs: 4000, Loss: 0.40797, loss_P: 0.44697, loss_P0: 0.43535\n"
     ]
    }
   ],
   "source": [
    "num_epochss = num_epochs * np.logspace(-1, 1, N_scan, base=10)\n",
    "num_epochss_, losses, loss_Ps, loss_P0s = [], [], [], []\n",
    "for num_epochs_ in num_epochss:\n",
    "    for i_CV in range(N_cv):\n",
    "        theta, p, y = get_data(seed=seed+i_CV)\n",
    "        logistic_model, loss = fit_data(theta, y, num_epochs=int(num_epochs_), verbose=False)\n",
    "        \n",
    "        if N_test>0: theta, p, y = get_data(N=N_test) # nouvelles données \n",
    "        labels = torch.Tensor(y[:, None])\n",
    "        Theta = torch.Tensor(theta[:, None])\n",
    "        outputs = logistic_model(Theta)\n",
    "\n",
    "        loss = criterion(outputs, labels).item()\n",
    "        loss_P = criterion(outputs, torch.Tensor(p[:, None])).item()\n",
    "        loss_P0 = criterion(torch.Tensor(p[:, None]), torch.Tensor(p[:, None])).item()\n",
    "        if i_CV==0: \n",
    "            print(f\"num_epochs: {int(num_epochs_)}, Loss: {loss:.5f}, loss_P: {loss_P:.5f}, loss_P0: {loss_P0:.5f}\")\n",
    "        num_epochss_.append(num_epochs_)\n",
    "        loss_P0s.append(loss_P0)\n",
    "        loss_Ps.append(loss_P)\n",
    "        losses.append(loss)"
   ]
  },
  {
   "cell_type": "code",
   "execution_count": 16,
   "metadata": {},
   "outputs": [
    {
     "data": {
      "image/png": "[encoded data removed]",
      "text/plain": [
       "<Figure size 1080x576 with 1 Axes>"
      ]
     },
     "metadata": {
      "needs_background": "light"
     },
     "output_type": "display_data"
    }
   ],
   "source": [
    "# influence du nbr d'epochs sur loss \n",
    "fig, ax = plt.subplots(figsize = (15, 8)) \n",
    "ax.scatter(num_epochss_, losses, alpha=3/N_cv, label='loss')\n",
    "ax.scatter(num_epochss_, loss_Ps, alpha=3/N_cv, label='loss_P')\n",
    "ax.plot(num_epochss_, loss_P0s, label='loss_P0')\n",
    "\n",
    "ax.set_xlabel(' # epochs')\n",
    "ax.set_ylabel(' Loss ')\n",
    "ax.set_xscale('log')\n",
    "ax.legend(loc='best');"
   ]
  },
  {
   "cell_type": "markdown",
   "metadata": {},
   "source": [
    "## influence de la taille du minibatch"
   ]
  },
  {
   "cell_type": "code",
   "execution_count": null,
   "metadata": {},
   "outputs": [
    {
     "name": "stdout",
     "output_type": "stream",
     "text": [
      "batch_size: 25, Loss: 0.39291, loss_P: 0.43589, loss_P0: 0.43535\n",
      "batch_size: 32, Loss: 0.39434, loss_P: 0.43580, loss_P0: 0.43535\n",
      "batch_size: 42, Loss: 0.39369, loss_P: 0.43594, loss_P0: 0.43535\n",
      "batch_size: 54, Loss: 0.39187, loss_P: 0.43603, loss_P0: 0.43535\n",
      "batch_size: 70, Loss: 0.39214, loss_P: 0.43606, loss_P0: 0.43535\n",
      "batch_size: 91, Loss: 0.39114, loss_P: 0.43575, loss_P0: 0.43535\n",
      "batch_size: 118, Loss: 0.39597, loss_P: 0.43595, loss_P0: 0.43535\n"
     ]
    }
   ],
   "source": [
    "batch_sizes = N * np.logspace(-3, 0, N_scan, base=2)\n",
    "batch_sizes_, losses, loss_Ps, loss_P0s = [], [], [], []\n",
    "for batch_size_ in batch_sizes:\n",
    "    for i_CV in range(N_cv):\n",
    "        theta, p, y = get_data(seed=seed+i_CV)\n",
    "        logistic_model, loss = fit_data(theta, y, batch_size=int(batch_size_), verbose=False)\n",
    "        \n",
    "        if N_test>0: theta, p, y = get_data(N=N_test) # nouvelles données \n",
    "        labels = torch.Tensor(y[:, None])\n",
    "        Theta = torch.Tensor(theta[:, None])\n",
    "        outputs = logistic_model(Theta)\n",
    "\n",
    "        loss = criterion(outputs, labels).item()\n",
    "        loss_P = criterion(outputs, torch.Tensor(p[:, None])).item()\n",
    "        loss_P0 = criterion(torch.Tensor(p[:, None]), torch.Tensor(p[:, None])).item()\n",
    "        if i_CV==0: \n",
    "            print(f\"batch_size: {int(batch_size_)}, Loss: {loss:.5f}, loss_P: {loss_P:.5f}, loss_P0: {loss_P0:.5f}\")\n",
    "        batch_sizes_.append(batch_size_)\n",
    "        loss_P0s.append(loss_P0)\n",
    "        loss_Ps.append(loss_P)\n",
    "        losses.append(loss)"
   ]
  },
  {
   "cell_type": "code",
   "execution_count": null,
   "metadata": {},
   "outputs": [],
   "source": [
    "# influence de la taille du minibatch sur loss \n",
    "\n",
    "fig, ax = plt.subplots(figsize = (15, 8)) \n",
    "ax.scatter(batch_sizes_, losses, alpha=3/N_cv, label='loss')\n",
    "ax.scatter(batch_sizes_, loss_Ps, alpha=3/N_cv, label='loss_P')\n",
    "ax.plot(batch_sizes_, loss_P0s, label='loss_P0')\n",
    "\n",
    "ax.set_xlabel(' batch_size')\n",
    "ax.set_ylabel(' Loss ')\n",
    "ax.set_xscale('log')\n",
    "ax.legend(loc='best');"
   ]
  },
  {
   "cell_type": "markdown",
   "metadata": {},
   "source": [
    "## Comparaison données générées/données prédites"
   ]
  },
  {
   "cell_type": "markdown",
   "metadata": {},
   "source": [
    "## Torch"
   ]
  },
  {
   "cell_type": "code",
   "execution_count": null,
   "metadata": {},
   "outputs": [],
   "source": [
    "theta0s = theta_std*np.random.randn(N_cv)\n",
    "p0s = np.linspace(0, 1, N_cv)\n",
    "wts = np.logspace(-1, 1, N_cv, base=10)\n",
    "\n",
    "p0_preds, theta0_preds, wt_preds = [],[],[]\n",
    "\n",
    "for i_, p0_ in enumerate(p0s): \n",
    "    theta, p, y = get_data(p0=p0_,seed=seed + i_)\n",
    "    logistic_model, loss = fit_data(theta, y, verbose=False)\n",
    "    p0_pred =  torch.sigmoid(logistic_model.logit0).item()            \n",
    "    p0_preds.append(p0_pred)\n",
    "    \n",
    "for i_, theta0_ in enumerate(theta0s):\n",
    "    theta, p, y = get_data(theta0=theta0_,seed=seed + i_) \n",
    "    logistic_model, loss = fit_data(theta, y, verbose=False)\n",
    "    theta0_pred = -logistic_model.linear.bias.item()/logistic_model.linear.weight.item() \n",
    "    theta0_preds.append(theta0_pred)\n",
    "                   \n",
    "for i_, wt_ in enumerate(wts):\n",
    "    theta, p, y = get_data(wt=wt_, seed=seed + i_)\n",
    "    logistic_model, loss = fit_data(theta, y, verbose=False)\n",
    "    wt_pred = 1/logistic_model.linear.weight.item() \n",
    "    wt_preds.append(wt_pred)\n",
    "    \n",
    "        \n",
    "      "
   ]
  },
  {
   "cell_type": "markdown",
   "metadata": {},
   "source": [
    "## Sklearn"
   ]
  },
  {
   "cell_type": "code",
   "execution_count": null,
   "metadata": {},
   "outputs": [],
   "source": [
    "def fit_lr(\n",
    "            N = N,\n",
    "            p0 = p0,\n",
    "            theta0 = theta0,\n",
    "            wt = 1/wt,\n",
    "            theta_std = theta_std,\n",
    "            seed = seed):\n",
    "    #np.random.seed(seed)\n",
    "    theta = np.random.randn(N)*theta_std\n",
    "    a = (theta-theta0)*wt\n",
    "    p = p0/2 + ((1-p0)/(1+np.exp(-a)))\n",
    "    y = np.random.rand(N) < p \n",
    "\n",
    "    from sklearn.linear_model import LogisticRegression\n",
    "    model = LogisticRegression(solver='liblinear', max_iter=num_epochs) #, C = 3, penalty='l2', class_weight = {1 : 1 , 0 : 1})\n",
    "    model.fit(theta[:, None], y)\n",
    "    return theta, p, y, model\n",
    "\n"
   ]
  },
  {
   "cell_type": "code",
   "execution_count": null,
   "metadata": {},
   "outputs": [],
   "source": [
    "theta0_pre, wt_pre  = [],[]\n",
    "    \n",
    "for i_, theta0_ in enumerate(theta0s):\n",
    "    theta, p, y, model = fit_lr(theta0=theta0_, seed=seed + i_)\n",
    "    theta0_pre.append(-model.intercept_[0]/model.coef_[0][0])\n",
    "    \n",
    "for i_, wt_ in enumerate(wts):\n",
    "    theta, p, y, model = fit_lr(wt=wt_, seed=seed + i_)\n",
    "    wt_pre.append(model.coef_[0][0])\n"
   ]
  },
  {
   "cell_type": "code",
   "execution_count": null,
   "metadata": {},
   "outputs": [],
   "source": [
    "print(min(wt_preds))"
   ]
  },
  {
   "cell_type": "code",
   "execution_count": null,
   "metadata": {},
   "outputs": [],
   "source": [
    "# TODO : show three panels\n",
    "\n",
    "fig, axs= plt.subplots(1, 3, figsize = (15, 8)) \n",
    "\n",
    "axs[0].scatter(p0s, p0_preds, label='torch')\n",
    "axs[0].plot([min(p0s),max(p0s)],[min(p0_preds),max(p0_preds)],'--')\n",
    "axs[0].set(xlabel='p0 réel',ylabel='p0 prédit')\n",
    "axs[0].legend(loc=\"upper left\")\n",
    "\n",
    "axs[1].scatter(theta0s, theta0_preds,label='torch')\n",
    "axs[1].scatter(theta0s, theta0_pre,label='sklearn')\n",
    "#axs[1].plot([min(theta0s),max(theta0s)],[min(theta0_preds),max(theta0_preds)],'--')\n",
    "axs[1].plot([min(theta0s),max(theta0s)],[min(theta0_pre),max(theta0_pre)],'--')\n",
    "axs[1].set(xlabel='theta0 réel',ylabel='theta0 prédit')\n",
    "axs[1].legend(loc=\"upper left\")\n",
    "\n",
    "axs[2].scatter(wts, wt_preds,label='torch')\n",
    "axs[2].scatter(wts, wt_pre,label='sklearn')\n",
    "#axs[2].plot([min(wts),max(wts)],[min(wt_preds),max(wt_preds)],'--')\n",
    "axs[2].plot([min(wts),max(wts)],[min(wt_pre),max(wt_pre)],'--')\n",
    "axs[2].set(xlabel='pente réelle',ylabel='pente prédite')\n",
    "axs[2].legend(loc=\"upper left\");"
   ]
  },
  {
   "cell_type": "code",
   "execution_count": null,
   "metadata": {},
   "outputs": [],
   "source": [
    "theta0s = theta_std*np.random.randn(N_cv)\n",
    "theta0ss,losses = [], []\n",
    "for i_, theta0_ in enumerate(theta0s):\n",
    "    for i_CV in range(N_cv):\n",
    "        theta, p, y = get_data(theta0=theta0_,seed=seed+i_CV)\n",
    "        logistic_model, loss = fit_data(theta, y, verbose=False)\n",
    "        \n",
    "        if N_test>0: theta, p, y = get_data(N=N_test) # nouvelles données \n",
    "        labels = torch.Tensor(y[:, None])\n",
    "        Theta = torch.Tensor(theta[:, None])\n",
    "        outputs = logistic_model(Theta)\n",
    "        loss = criterion(outputs, labels).item()\n",
    "        theta0_ = -logistic_model.linear.bias.item()/logistic_model.linear.weight.item() \n",
    "        \n",
    "        if i_CV==0: \n",
    "            print(f\"theta0: {theta0_:.5f}, Loss: {loss:.5f}\")\n",
    "        theta0ss.append(theta0_)\n",
    "        losses.append(loss)\n",
    "           "
   ]
  },
  {
   "cell_type": "code",
   "execution_count": null,
   "metadata": {},
   "outputs": [],
   "source": [
    "wts = np.logspace(-1, 1, N_cv, base=10)\n",
    "wtss,losses = [], []\n",
    "\n",
    "for i_, wts_ in enumerate(wts):\n",
    "    for i_CV in range(N_cv):\n",
    "        theta, p, y = get_data(wt=wts_,seed=seed+i_CV)\n",
    "        logistic_model, loss = fit_data(theta, y, verbose=False)\n",
    "\n",
    "        if N_test>0: theta, p, y = get_data(wt=wts_,seed=seed+i_CV,N=N_test) # nouvelles données \n",
    "        labels = torch.Tensor(y[:, None])\n",
    "        Theta = torch.Tensor(theta[:, None])\n",
    "        outputs = logistic_model(Theta)\n",
    "        loss = criterion(outputs, labels).item()\n",
    "        wt_= 1/logistic_model.linear.weight.item() \n",
    "\n",
    "        if i_CV==0: \n",
    "            print(f\"wt: {wt_:.5f}, Loss: {loss:.5f}\")\n",
    "        wtss.append(wts_)\n",
    "        losses.append(loss)\n"
   ]
  },
  {
   "cell_type": "code",
   "execution_count": null,
   "metadata": {},
   "outputs": [],
   "source": [
    "p0s = np.linspace(0, 1, N_cv)\n",
    "p0ss,losses = [], []\n",
    "\n",
    "for i_, p0s_ in enumerate(p0s):\n",
    "    for i_CV in range(N_cv):\n",
    "        theta, p, y = get_data(p0=p0s_,seed=seed+i_CV)\n",
    "        logistic_model, loss = fit_data(theta, y, verbose=False)\n",
    "\n",
    "        if N_test>0: theta, p, y = get_data(p0=p0s_,seed=seed+i_CV,N=N_test) # nouvelles données \n",
    "        labels = torch.Tensor(y[:, None])\n",
    "        Theta = torch.Tensor(theta[:, None])\n",
    "        outputs = logistic_model(Theta)\n",
    "        loss = criterion(outputs, labels).item()\n",
    "        p0_ =  torch.sigmoid(logistic_model.logit0).item()            \n",
    "\n",
    "        if i_CV==0: \n",
    "            print(f\"p0: {p0_:.5f}, Loss: {loss:.5f}\")\n",
    "        p0ss.append(p0_)\n",
    "        losses.append(loss)\n"
   ]
  },
  {
   "cell_type": "markdown",
   "metadata": {},
   "source": [
    "## synthesizing results"
   ]
  },
  {
   "cell_type": "code",
   "execution_count": null,
   "metadata": {},
   "outputs": [],
   "source": [
    "fig, axs= plt.subplots(1, 3, figsize = (15, 8))\n",
    "\n",
    "axs[0].scatter(p0ss, losses,label='p0',marker=\".\")\n",
    "axs[0].set_xlabel('p0')\n",
    "axs[0].set_ylabel('Loss')\n",
    "\n",
    "\n",
    "axs[1].scatter(theta0ss, losses,label='theta0',marker=\".\")\n",
    "axs[1].set_xlabel('theta0')\n",
    "axs[1].set_ylabel('Loss')\n",
    "axs[1].set(xlim=(-0.5, 1.5))\n",
    "  \n",
    "\n",
    "axs[2].scatter(wtss, losses,label='wt',marker=\".\")\n",
    "axs[2].set_xlabel('wt')\n",
    "axs[2].set_ylabel('Loss')\n",
    "axs[2].set(xlim=(0, 1))"
   ]
  }
 ],
 "metadata": {
  "kernelspec": {
   "display_name": "Python 3",
   "language": "python",
   "name": "python3"
  },
  "language_info": {
   "codemirror_mode": {
    "name": "ipython",
    "version": 3
   },
   "file_extension": ".py",
   "mimetype": "text/x-python",
   "name": "python",
   "nbconvert_exporter": "python",
   "pygments_lexer": "ipython3",
   "version": "3.7.7"
  },
  "nteract": {
   "version": "0.22.0"
  }
 },
 "nbformat": 4,
 "nbformat_minor": 4
}
