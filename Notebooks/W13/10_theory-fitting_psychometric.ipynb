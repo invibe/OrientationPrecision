{
 "cells": [
  {
   "cell_type": "markdown",
   "metadata": {},
   "source": [
    "The goal here is to compare methods which fit data with psychometric curves using logistic regression. Indeed, after (long) experiments where for instance you collected sequences of keypresses, it is important to infer at best the parameters of the underlying processes: was the observer biased, or more precise? \n",
    "\n",
    "While I was *forevever* using [sklearn](https://scikit-learn.org/stable/index.html) or [lmfit](https://lmfit.github.io/lmfit-py/) (that is, scipy's [minimize](https://docs.scipy.org/doc/scipy/reference/generated/scipy.optimize.minimize.html)) and praised these beautifully crafted methods, I sometimes lacked some flexibility in the definition of the model. This notebook was done in collaboration with [Jenna Fradin](https://github.com/jennafradin), master student in the lab.\n",
    "\n",
    "> tl; dr = Do not trust the coefficients extracted by a fit without validating for *methodological* biases.\n",
    "\n",
    "One part of flexibility I missed is taking care of the *lapse rate*, that is the frequency with which you just *miss the key*. In a psychology experiment, you often see a fast sequence of trials for which you have to make a perceptual deccision, for instance press the Left or Right arrows. Sometimes you know the answer you should have done, but press the wrong eror. This error of distraction is always low (in the order of 5% to 10%) but could potentially change the results of the experiments. This is one of the aspects we will evaluate here.\n",
    "\n",
    "In this notebook, I define a fitting method using [pytorch](https://pytorch.org/) which fits in a few lines of code :"
   ]
  },
  {
   "cell_type": "code",
   "execution_count": 1,
   "metadata": {},
   "outputs": [],
   "source": [
    "import torch\n",
    "from torch.utils.data import TensorDataset, DataLoader\n",
    "\n",
    "torch.set_default_tensor_type(\"torch.DoubleTensor\")\n",
    "criterion = torch.nn.BCELoss(reduction=\"sum\")\n",
    "\n",
    "class LogisticRegressionModel(torch.nn.Module):\n",
    "    def __init__(self, bias=True, logit0=-2, theta0=0, log_wt=torch.log(0.1*torch.ones(1))):\n",
    "        super(LogisticRegressionModel, self).__init__()\n",
    "        #self.linear = torch.nn.Linear(1, 1, bias=bias)\n",
    "        self.theta0 = torch.nn.Parameter(theta0 * torch.ones(1))\n",
    "        self.logit0 = torch.nn.Parameter(logit0 * torch.ones(1))\n",
    "        self.log_wt = torch.nn.Parameter(log_wt * torch.ones(1))\n",
    "\n",
    "    def forward(self, theta):\n",
    "        p0 = torch.sigmoid(self.logit0)\n",
    "        #out = p0 / 2 + (1 - p0) * torch.sigmoid(self.linear(theta))\n",
    "        out = p0 / 2 + (1 - p0) * torch.sigmoid((theta-self.theta0 )/torch.exp(self.log_wt))\n",
    "        return out\n",
    "\n",
    "learning_rate = 0.005\n",
    "beta1, beta2 = 0.9, 0.999\n",
    "betas = (beta1, beta2)\n",
    "num_epochs = 2 ** 9 + 1\n",
    "batch_size = 256\n",
    "\n",
    "def fit_data(\n",
    "    theta,\n",
    "    y,\n",
    "    learning_rate=learning_rate,\n",
    "    batch_size=batch_size,  # gamma=gamma,\n",
    "    num_epochs=num_epochs,\n",
    "    betas=betas,\n",
    "    verbose=False, **kwargs\n",
    "):\n",
    "\n",
    "    Theta, labels = torch.Tensor(theta[:, None]), torch.Tensor(y[:, None])\n",
    "    loader = DataLoader(\n",
    "        TensorDataset(Theta, labels), batch_size=batch_size, shuffle=True\n",
    "    )\n",
    "\n",
    "    device = torch.device(\"cuda\" if torch.cuda.is_available() else \"cpu\")\n",
    "\n",
    "    logistic_model = LogisticRegressionModel()\n",
    "    logistic_model = logistic_model.to(device)\n",
    "    logistic_model.train()\n",
    "    optimizer = torch.optim.Adam(\n",
    "        logistic_model.parameters(), lr=learning_rate, betas=betas, amsgrad=False\n",
    "    )\n",
    "    for epoch in range(int(num_epochs)):\n",
    "        logistic_model.train()\n",
    "        losses = []\n",
    "        for Theta_, labels_ in loader:\n",
    "            Theta_, labels_ = Theta_.to(device), labels_.to(device)\n",
    "            outputs = logistic_model(Theta_)\n",
    "            loss = criterion(outputs, labels_)\n",
    "\n",
    "            optimizer.zero_grad()\n",
    "            loss.backward()\n",
    "            optimizer.step()\n",
    "            losses.append(loss.item())\n",
    "\n",
    "        if verbose and (epoch % (num_epochs // 32) == 0):\n",
    "            print(f\"Iteration: {epoch} - Loss: {np.sum(losses)/len(theta):.5f}\")\n",
    "\n",
    "    logistic_model.eval()\n",
    "    Theta, labels = torch.Tensor(theta[:, None]), torch.Tensor(y[:, None])\n",
    "    outputs = logistic_model(Theta)\n",
    "    loss = criterion(outputs, labels).item() / len(theta)\n",
    "    return logistic_model, loss"
   ]
  },
  {
   "cell_type": "markdown",
   "metadata": {},
   "source": [
    "and run a series of tests to compare both methods.\n",
    "\n",
    "<!-- TEASER_END -->\n",
    "\n",
    "Let's first initialize the notebook:"
   ]
  },
  {
   "cell_type": "code",
   "execution_count": 2,
   "metadata": {},
   "outputs": [],
   "source": [
    "from pylab import rcParams\n",
    "# print(rcParams)"
   ]
  },
  {
   "cell_type": "code",
   "execution_count": 3,
   "metadata": {},
   "outputs": [],
   "source": [
    "fontsize = 20\n",
    "rcParams[\"font.size\"] = fontsize\n",
    "rcParams[\"legend.fontsize\"] = fontsize\n",
    "rcParams[\"axes.labelsize\"] = fontsize\n",
    "\n",
    "import numpy as np\n",
    "import matplotlib.pyplot as plt"
   ]
  },
  {
   "cell_type": "markdown",
   "metadata": {},
   "source": [
    "Some hyper parameters which we will tune later:"
   ]
  },
  {
   "cell_type": "code",
   "execution_count": 4,
   "metadata": {},
   "outputs": [],
   "source": [
    "N = 256\n",
    "# batch_size = N//4\n",
    "# batch_size = N//2\n",
    "\n",
    "N_cv = 8\n",
    "\n",
    "seed = 1973\n",
    "N_scan = 9\n",
    "N_test = N * 8 # number of points for validation\n",
    "\n",
    "bias = True\n",
    "\n",
    "p0 = 0.1\n",
    "theta0 = 0.0\n",
    "wt = np.pi / 24\n",
    "theta_std = np.pi / 2"
   ]
  },
  {
   "cell_type": "markdown",
   "metadata": {},
   "source": [
    "## problem statement: a 2aFC task on synthetic data\n",
    "\n",
    "We will generate a typical setup where we have to guess for the otientation of a visual display compared to the vertical and ask observer to either press on the `left` or `right` arrows. The visual display will be controlled by a $theta$ parameter which we draw randomly according to a Gaussian probability density function. This may be synthesized in the following *psychometric* function:\n"
   ]
  },
  {
   "cell_type": "code",
   "execution_count": 5,
   "metadata": {},
   "outputs": [],
   "source": [
    "def psychometric_function(theta, p0=p0, theta0=theta0, wt=wt):\n",
    "    return p0 / 2 + (1 - p0) / (1 + np.exp(-(theta - theta0) / wt))"
   ]
  },
  {
   "cell_type": "markdown",
   "metadata": {},
   "source": [
    "such that we can draw the data according to:"
   ]
  },
  {
   "cell_type": "code",
   "execution_count": 6,
   "metadata": {},
   "outputs": [],
   "source": [
    "def get_data(N=N, p0=p0, theta0=theta0, wt=wt, theta_std=theta_std, seed=seed, **kwargs):\n",
    "    np.random.seed(seed)\n",
    "    # theta = np.random.randn(N)*theta_std\n",
    "    theta = (2 * np.random.rand(N) - 1) * theta_std\n",
    "\n",
    "    p = psychometric_function(theta, p0, theta0, wt)\n",
    "\n",
    "    y = np.random.rand(N) < p  # generate data\n",
    "    return theta, p, y"
   ]
  },
  {
   "cell_type": "code",
   "execution_count": 7,
   "metadata": {},
   "outputs": [
    {
     "name": "stdout",
     "output_type": "stream",
     "text": [
      "35.7 µs ± 4.26 µs per loop (mean ± std. dev. of 7 runs, 10000 loops each)\n"
     ]
    }
   ],
   "source": [
    "%%timeit\n",
    "theta, p, y = get_data()"
   ]
  },
  {
   "cell_type": "code",
   "execution_count": 8,
   "metadata": {},
   "outputs": [
    {
     "name": "stdout",
     "output_type": "stream",
     "text": [
      "Iteration: 0 - Loss: 0.37768\n",
      "Iteration: 16 - Loss: 0.37494\n",
      "Iteration: 32 - Loss: 0.37302\n",
      "Iteration: 48 - Loss: 0.37187\n",
      "Iteration: 64 - Loss: 0.37130\n",
      "Iteration: 80 - Loss: 0.37107\n",
      "Iteration: 96 - Loss: 0.37099\n",
      "Iteration: 112 - Loss: 0.37097\n",
      "Iteration: 128 - Loss: 0.37095\n",
      "Iteration: 144 - Loss: 0.37095\n",
      "Iteration: 160 - Loss: 0.37094\n",
      "Iteration: 176 - Loss: 0.37094\n",
      "Iteration: 192 - Loss: 0.37093\n",
      "Iteration: 208 - Loss: 0.37093\n",
      "Iteration: 224 - Loss: 0.37093\n",
      "Iteration: 240 - Loss: 0.37093\n",
      "Iteration: 256 - Loss: 0.37092\n",
      "Iteration: 272 - Loss: 0.37092\n",
      "Iteration: 288 - Loss: 0.37092\n",
      "Iteration: 304 - Loss: 0.37092\n",
      "Iteration: 320 - Loss: 0.37092\n",
      "Iteration: 336 - Loss: 0.37092\n",
      "Iteration: 352 - Loss: 0.37092\n",
      "Iteration: 368 - Loss: 0.37092\n",
      "Iteration: 384 - Loss: 0.37092\n",
      "Iteration: 400 - Loss: 0.37092\n",
      "Iteration: 416 - Loss: 0.37092\n",
      "Iteration: 432 - Loss: 0.37092\n",
      "Iteration: 448 - Loss: 0.37092\n",
      "Iteration: 464 - Loss: 0.37092\n",
      "Iteration: 480 - Loss: 0.37092\n",
      "Iteration: 496 - Loss: 0.37092\n",
      "Iteration: 512 - Loss: 0.37092\n",
      "Final loss = 0.37092229797854126\n"
     ]
    }
   ],
   "source": [
    "theta, p, y = get_data()\n",
    "logistic_model, loss = fit_data(theta, y, verbose=True)\n",
    "print(\"Final loss =\", loss)"
   ]
  },
  {
   "cell_type": "markdown",
   "metadata": {},
   "source": [
    "That method is fairly quick, in approx 2 seconds on my MacBook Pro (Early 2015) :"
   ]
  },
  {
   "cell_type": "code",
   "execution_count": 9,
   "metadata": {},
   "outputs": [
    {
     "name": "stdout",
     "output_type": "stream",
     "text": [
      "2.03 s ± 281 ms per loop (mean ± std. dev. of 7 runs, 1 loop each)\n"
     ]
    }
   ],
   "source": [
    "%%timeit\n",
    "logistic_model, loss = fit_data(theta, y, verbose=False)"
   ]
  },
  {
   "cell_type": "markdown",
   "metadata": {},
   "source": [
    "Let's compare now the retrieved values. Remember the true values used to generate the data are:"
   ]
  },
  {
   "cell_type": "code",
   "execution_count": 10,
   "metadata": {},
   "outputs": [
    {
     "name": "stdout",
     "output_type": "stream",
     "text": [
      "p0 = 0.100, theta0 = 0.000, wt = 0.131, theta_std = 1.571\n"
     ]
    }
   ],
   "source": [
    "print(\n",
    "    f\"p0 = {p0:.3f}, theta0 = {theta0:.3f}, wt = {wt:.3f}, theta_std = {theta_std:.3f}\"\n",
    ")"
   ]
  },
  {
   "cell_type": "markdown",
   "metadata": {},
   "source": [
    "This is what we get out of our method:"
   ]
  },
  {
   "cell_type": "code",
   "execution_count": 11,
   "metadata": {},
   "outputs": [
    {
     "name": "stdout",
     "output_type": "stream",
     "text": [
      "theta0 = 0.001\n",
      "slope = 0.129\n",
      "p0 = 0.168\n"
     ]
    }
   ],
   "source": [
    "def get_params(logistic_model, verbose=False):\n",
    "    theta0_ = logistic_model.theta0.item() # -logistic_model.linear.bias.item() / logistic_model.linear.weight.item()\n",
    "    wt_ = torch.exp(logistic_model.log_wt).item() # 1 / logistic_model.linear.weight.item()\n",
    "    p0_ = torch.sigmoid(logistic_model.logit0).item()\n",
    "\n",
    "    if verbose:\n",
    "        if bias:\n",
    "            print(f\"theta0 = {theta0_:.3f}\")\n",
    "        print(f\"slope = {wt_:.3f}\")\n",
    "        print(f\"p0 = {p0_:.3f}\")\n",
    "    return theta0_, wt_, p0_\n",
    "\n",
    "\n",
    "theta0_, wt_, p0_ = get_params(logistic_model, verbose=True)"
   ]
  },
  {
   "cell_type": "markdown",
   "metadata": {},
   "source": [
    "let's do the same thing with `sklearn`: "
   ]
  },
  {
   "cell_type": "code",
   "execution_count": 12,
   "metadata": {},
   "outputs": [],
   "source": [
    "from sklearn.linear_model import LogisticRegression\n",
    "\n",
    "tol = 1.0e-5\n",
    "C = 3.0\n",
    "\n",
    "def fit_data_sklearn(theta, y, num_epochs=num_epochs, tol=tol, C=C, verbose=False, **kwargs):\n",
    "    logistic_model = LogisticRegression(\n",
    "        solver=\"liblinear\", max_iter=num_epochs, C=C, tol=tol, fit_intercept=True\n",
    "    )\n",
    "    logistic_model.fit(theta[:, None], y)\n",
    "\n",
    "    outputs = logistic_model.predict_proba(theta[:, None])[:, 1]\n",
    "    outputs_, labels = torch.Tensor(outputs[:, None]), torch.Tensor(y[:, None])\n",
    "    loss = criterion(outputs_, labels).item() / len(theta)\n",
    "    if verbose:\n",
    "        print(\"Loss =\", loss)\n",
    "    return logistic_model, loss"
   ]
  },
  {
   "cell_type": "code",
   "execution_count": 13,
   "metadata": {},
   "outputs": [
    {
     "name": "stdout",
     "output_type": "stream",
     "text": [
      "Loss = 0.39479121529142247\n"
     ]
    }
   ],
   "source": [
    "logistic_model_sk, loss = fit_data_sklearn(theta, y, verbose=True)"
   ]
  },
  {
   "cell_type": "markdown",
   "metadata": {},
   "source": [
    "This is what we get out of this classic method:"
   ]
  },
  {
   "cell_type": "code",
   "execution_count": 14,
   "metadata": {},
   "outputs": [
    {
     "name": "stdout",
     "output_type": "stream",
     "text": [
      "theta0 = 0.018\n",
      "slope = 0.392\n"
     ]
    }
   ],
   "source": [
    "def get_params_sk(logistic_model, verbose=False):\n",
    "\n",
    "    theta0_ = -logistic_model.intercept_[0] / logistic_model.coef_[0][0]\n",
    "    wt_ = 1 / logistic_model.coef_[0][0]\n",
    "\n",
    "    if verbose:\n",
    "        if bias:\n",
    "            print(f\"theta0 = {theta0_:.3f}\")\n",
    "        print(f\"slope = {wt_:.3f}\")\n",
    "    return theta0_, wt_\n",
    "\n",
    "theta0_, wt_ = get_params_sk(logistic_model_sk, verbose=True)"
   ]
  },
  {
   "cell_type": "markdown",
   "metadata": {},
   "source": [
    "That method is *much* quicker:"
   ]
  },
  {
   "cell_type": "code",
   "execution_count": 15,
   "metadata": {},
   "outputs": [
    {
     "name": "stdout",
     "output_type": "stream",
     "text": [
      "674 µs ± 25.9 µs per loop (mean ± std. dev. of 7 runs, 1000 loops each)\n"
     ]
    }
   ],
   "source": [
    "%%timeit\n",
    "logistic_model_sk, loss = fit_data_sklearn(theta, y, verbose=False)"
   ]
  },
  {
   "cell_type": "markdown",
   "metadata": {},
   "source": [
    "... but what is the value of few seconds after hours of having observers sitting in front of a screen looking at (often boring) visual displays? More seriously, most important is the reliability of the values which are inferred by each respective method, such that they are correctly reflecting the information contained in the data."
   ]
  },
  {
   "cell_type": "markdown",
   "metadata": {},
   "source": [
    "## qualitative comparison of methods\n",
    "\n",
    "We can synthesize this comparison by drawing a new dataset and plotting the psychometric curves which are obtained by each method"
   ]
  },
  {
   "cell_type": "code",
   "execution_count": 16,
   "metadata": {},
   "outputs": [
    {
     "name": "stdout",
     "output_type": "stream",
     "text": [
      "Training loss = 0.371\n",
      "Training sklearn loss = 0.395\n"
     ]
    }
   ],
   "source": [
    "theta, p, y = get_data()  # nouvelles données\n",
    "logistic_model, loss = fit_data(theta, y, verbose=False)\n",
    "print(f\"Training loss = {loss:.3f}\")\n",
    "logistic_model_sk, loss_sk = fit_data_sklearn(theta, y, verbose=False)\n",
    "print(f\"Training sklearn loss = {loss_sk:.3f}\")"
   ]
  },
  {
   "cell_type": "code",
   "execution_count": 17,
   "metadata": {},
   "outputs": [
    {
     "data": {
      "image/png": "[encoded data removed]",
      "text/plain": [
       "<Figure size 1080x576 with 1 Axes>"
      ]
     },
     "metadata": {
      "needs_background": "light"
     },
     "output_type": "display_data"
    }
   ],
   "source": [
    "fig, ax = plt.subplots(figsize=(15, 8))\n",
    "ax.scatter(theta, y, s=6, alpha=0.4, color=\"k\", label=\"data points\")\n",
    "# ax.scatter(theta, p, s=6, alpha=.4, color = 'b', label='hidden proba')\n",
    "x_values = np.linspace(-theta_std, theta_std, 100)[:, None]\n",
    "y_values_p = psychometric_function(x_values, p0, theta0, wt)\n",
    "ax.plot(x_values, y_values_p, alpha=0.4, color=\"b\", label=\"hidden proba\")\n",
    "y_values = logistic_model(torch.Tensor(x_values)).detach().numpy()\n",
    "ax.plot(x_values, y_values, \"g\", alpha=0.7, lw=3, label=\"torch\")\n",
    "y_values_sk = logistic_model_sk.predict_proba(x_values)[:, 1]\n",
    "ax.plot(x_values, y_values_sk, \"r\", alpha=0.7, lw=3, label=\"sklearn\")\n",
    "ax.set_xlabel(r\"orientation $\\theta$\", fontsize=20)\n",
    "ax.set_yticks([0.0, 1.0])\n",
    "ax.set_yticklabels([\"Left\", \"Right\"], fontsize=20)\n",
    "plt.legend(fontsize=20, frameon=False, scatterpoints=6);"
   ]
  },
  {
   "cell_type": "markdown",
   "metadata": {},
   "source": [
    "There is a clear discrepency between the classical logistic function obtained by logistic regression (here, the implementation by `sklearn`) and that obtained by our more detailed model. In particular, the slope is more sharp, a feature which may be important for cognitive processes. But what is the origin of this discrepancy? Is it  the numerical optimization method? Is it the generative model?\n",
    "\n",
    "This are the question we try to resolve here. First, let's retrieve a measure for how well the extracted psychometric curve represent the data: the *losses*."
   ]
  },
  {
   "cell_type": "code",
   "execution_count": 18,
   "metadata": {},
   "outputs": [],
   "source": [
    "theta, p, y = get_data(N=N_test, seed=seed + N_test)"
   ]
  },
  {
   "cell_type": "code",
   "execution_count": 19,
   "metadata": {},
   "outputs": [
    {
     "name": "stdout",
     "output_type": "stream",
     "text": [
      "Training loss = 0.297\n"
     ]
    }
   ],
   "source": [
    "logistic_model, loss = fit_data(theta, y, verbose=False)\n",
    "print(f\"Training loss = {loss:.3f}\")"
   ]
  },
  {
   "cell_type": "code",
   "execution_count": 20,
   "metadata": {},
   "outputs": [
    {
     "name": "stdout",
     "output_type": "stream",
     "text": [
      "Training sklearn loss = 0.330\n"
     ]
    }
   ],
   "source": [
    "logistic_model_sk, loss_sk = fit_data_sklearn(theta, y, verbose=False)\n",
    "print(f\"Training sklearn loss = {loss_sk:.3f}\")"
   ]
  },
  {
   "cell_type": "markdown",
   "metadata": {},
   "source": [
    "The units for these losses are *bits*. Indeed, they represent some value of information about the binary data \"$d$\" and the continuous psychometric curve \"$p$\". This information is equal to $\\log_2(p)$ if $d=1$ and $\\log_2(1-p)$ if $d=0$. Putting things together, we obtain the [Binary Cross Entropy](https://pytorch.org/docs/stable/nn.html#bceloss) and if we index datapoints by $k$:\n",
    "\n",
    "$$\n",
    "\\mathcal{L} = \\sum_k d_k \\cdot \\log_2(p_k) + (1-d_k) \\cdot \\log_2(1-p_k)\n",
    "$$\n",
    "\n",
    "You can see that this measure is a form of [Cross_entropy](https://en.wikipedia.org/wiki/Cross_entropy), adapted to binary datapoints."
   ]
  },
  {
   "cell_type": "markdown",
   "metadata": {},
   "source": [
    "The losses which were computed above are those obtained during training. Relying on this value may be a dangerous strategy as the model may be overfitting the data. We should therefore measure how the model would generalize with novel data."
   ]
  },
  {
   "cell_type": "markdown",
   "metadata": {},
   "source": [
    "While it hard to do with real (experimental) data which are often scarse, here we synthesized the data and we can thus compute a testing loss by drawing again a set of new data and computing the loss on that data:"
   ]
  },
  {
   "cell_type": "code",
   "execution_count": 21,
   "metadata": {},
   "outputs": [
    {
     "name": "stdout",
     "output_type": "stream",
     "text": [
      "Testing loss = 0.297\n"
     ]
    }
   ],
   "source": [
    "def loss_torch(logistic_model, theta, p, y):\n",
    "    labels = torch.Tensor(y[:, None])\n",
    "    Theta = torch.Tensor(theta[:, None])\n",
    "    P = torch.Tensor(p[:, None])\n",
    "\n",
    "    outputs = logistic_model(Theta)\n",
    "    return criterion(outputs, labels).item() / len(theta)\n",
    "\n",
    "\n",
    "print(f\"Testing loss = {loss_torch(logistic_model, theta, p, y):.3f}\")"
   ]
  },
  {
   "cell_type": "code",
   "execution_count": 22,
   "metadata": {},
   "outputs": [
    {
     "name": "stdout",
     "output_type": "stream",
     "text": [
      "Testing sklearn loss = 0.330\n"
     ]
    }
   ],
   "source": [
    "def loss_sklearn(logistic_model, theta, p, y):\n",
    "    outputs = logistic_model.predict_proba(theta[:, None])[:, 1]\n",
    "    outputs_, labels = torch.Tensor(outputs[:, None]), torch.Tensor(y[:, None])\n",
    "    return criterion(outputs_, labels).item() / len(theta)\n",
    "\n",
    "\n",
    "print(f\"Testing sklearn loss = {loss_sklearn(logistic_model_sk, theta, p, y):.3f}\")"
   ]
  },
  {
   "cell_type": "markdown",
   "metadata": {},
   "source": [
    "Finally, as we synthesized the data, we can compute the loss on that data with the \"true\" psychometric curve, giving to us the baseline number one can achieve:"
   ]
  },
  {
   "cell_type": "code",
   "execution_count": 23,
   "metadata": {},
   "outputs": [
    {
     "name": "stdout",
     "output_type": "stream",
     "text": [
      "Testing true loss = 0.298\n"
     ]
    }
   ],
   "source": [
    "def loss_true(theta, p, y):\n",
    "    labels = torch.Tensor(y[:, None])\n",
    "    P = torch.Tensor(p[:, None])\n",
    "    return criterion(P, labels).item() / len(theta)\n",
    "\n",
    "\n",
    "print(f\"Testing true loss = {loss_true(theta, p, y):.3f}\")"
   ]
  },
  {
   "cell_type": "markdown",
   "metadata": {},
   "source": [
    "\n",
    "We are now equipped to make quantitative comparisons. Let's first explore the parameters of the methods.\n",
    "\n",
    "## quantitative comparison of methods : varrying methods' parameters\n",
    "\n",
    "Let's study the influence of each method's meta-parameter, such as the number of iterations. As I learn to use [python decorators](https://realpython.com/primer-on-python-decorators/#a-few-real-world-examples), I will use plenty of them:"
   ]
  },
  {
   "cell_type": "code",
   "execution_count": 24,
   "metadata": {},
   "outputs": [],
   "source": [
    "import functools\n",
    "import time\n",
    "\n",
    "def timer(func):\n",
    "    \"\"\"Print the runtime of the decorated function\"\"\"\n",
    "    @functools.wraps(func)\n",
    "    def wrapper_timer(*args, **kwargs):\n",
    "        start_time = time.perf_counter()    # 1\n",
    "        results = func(*args, **kwargs)\n",
    "        end_time = time.perf_counter()      # 2\n",
    "        run_time = end_time - start_time    # 3\n",
    "        print(f\"Finished {func.__name__!r} in {run_time:.4f} secs\")\n",
    "        return results\n",
    "    return wrapper_timer"
   ]
  },
  {
   "cell_type": "markdown",
   "metadata": {},
   "source": [
    "### influence of learning rate\n"
   ]
  },
  {
   "cell_type": "code",
   "execution_count": 25,
   "metadata": {},
   "outputs": [],
   "source": [
    "default_dict = dict(learning_rate=learning_rate,\n",
    "                    batch_size=batch_size,  # gamma=gamma,\n",
    "                    num_epochs=num_epochs,\n",
    "                    betas=betas,\n",
    "                   N=N, p0=p0, theta0=theta0, wt=wt, theta_std=theta_std, seed=seed)"
   ]
  },
  {
   "cell_type": "code",
   "execution_count": 26,
   "metadata": {},
   "outputs": [],
   "source": [
    "@timer\n",
    "def explore_param(default_dict, variable, var_range, do_fit=True, do_SKL=True):\n",
    "    results = np.zeros((4, len(var_range), N_cv))\n",
    "    timings = []\n",
    "\n",
    "    for i_var, var_ in enumerate(var_range):\n",
    "        kwarg = default_dict.copy()\n",
    "        kwarg[variable] = var_\n",
    "        kwarg['verbose'] = False\n",
    "\n",
    "        for i_CV in range(N_cv):\n",
    "            \n",
    "            kwarg.update(seed=seed + i_CV)\n",
    "            theta, p, y = get_data(**kwarg)\n",
    "\n",
    "            tic = time.time()\n",
    "            if do_fit: logistic_model, loss = fit_data(theta, y, **kwarg)\n",
    "            if do_SKL: logistic_model_sk, loss_SKL = fit_data_sklearn(theta, y, **kwarg)\n",
    "            toc = time.time()\n",
    "\n",
    "            if N_test > 0:\n",
    "                kwarg.update(N=N_test, seed=seed + i_CV + N_test)\n",
    "                theta, p, y = get_data(**kwarg)\n",
    "                if do_fit: loss = loss_torch(logistic_model, theta, p, y)\n",
    "                if do_SKL: loss_SKL = loss_sklearn(logistic_model_sk, theta, p, y)\n",
    "\n",
    "            results[0, i_var, i_CV] = loss_true(theta, p, y)\n",
    "            if do_fit: results[1, i_var, i_CV] = loss\n",
    "            if do_SKL: results[2, i_var, i_CV] = loss_SKL\n",
    "            results[3, i_var, i_CV] = toc-tic\n",
    "            \n",
    "        print(f\"{variable}: {var_:.5f}, Loss: {np.mean(results[1, i_var, :]):.5f}, loss_P: {np.mean(results[0, i_var, :]):.5f}\")\n",
    "\n",
    "    return results\n",
    "            "
   ]
  },
  {
   "cell_type": "code",
   "execution_count": null,
   "metadata": {},
   "outputs": [
    {
     "name": "stdout",
     "output_type": "stream",
     "text": [
      "learning_rate: 0.00005, Loss: 0.29199, loss_P: 0.29061\n"
     ]
    }
   ],
   "source": [
    "learning_rates = learning_rate * np.logspace(-2, 1, N_scan, base=10)\n",
    "results = explore_param(default_dict, variable='learning_rate', var_range=learning_rates, do_SKL=False)"
   ]
  },
  {
   "cell_type": "code",
   "execution_count": null,
   "metadata": {},
   "outputs": [],
   "source": [
    "def plot_explore_param(variable, var_range, results):\n",
    "    opts_scat = dict(marker=\".\", lw=0, alpha=3 / N_cv, ms=20)\n",
    "    opts_line = dict(lw=1, alpha=1)\n",
    "    \n",
    "    fig, ax = plt.subplots(figsize=(15, 8))\n",
    "    if results[1, ...].sum()>0: ax.plot(var_range, results[1, :, :]/results[0, :, :], **opts_scat, color=\"green\")\n",
    "    ax.plot(var_range, results[0, :, :]/results[0, :, :], **opts_scat, color=\"blue\")\n",
    "    if results[2, ...].sum()>0: ax.plot(ar_range, results[2, :, :]/results[0, :, :], **opts_scat, color=\"red\")\n",
    "\n",
    "    if results[1, ...].sum()>0: ax.plot(var_range, np.mean(results[1, :, :]/results[0, :, :], axis=-1), **opts_line, color=\"green\", label=\"loss\")\n",
    "    ax.plot(var_range, np.mean(results[0, :, :]/results[0, :, :], axis=-1), **opts_line, color=\"blue\", label=\"true\")\n",
    "    if results[2, ...].sum()>0: ax.plot(var_range, np.mean(results[1, :, :]/results[0, :, :], axis=-1), **opts_line, color=\"red\", label=\"loss_SKL\")\n",
    "\n",
    "    # ax.set_xlim(np.min(learning_rates_), np.max(learning_rates_))\n",
    "\n",
    "    ax.set_xlabel(variable)\n",
    "    ax.set_ylabel(\"Loss\")\n",
    "    ax.set_xscale(\"log\")\n",
    "    ax.legend(loc=\"best\")\n",
    "    return fig, ax\n",
    "\n",
    "fig, ax = plot_explore_param(variable='learning_rate', var_range=learning_rates, results=results)"
   ]
  },
  {
   "cell_type": "markdown",
   "metadata": {},
   "source": [
    "We are at a sweet spot with our learning rate, still it is valid on a wide range. "
   ]
  },
  {
   "cell_type": "markdown",
   "metadata": {},
   "source": [
    "### influence du nombre d'epochs"
   ]
  },
  {
   "cell_type": "code",
   "execution_count": null,
   "metadata": {},
   "outputs": [],
   "source": [
    "num_epochss = num_epochs * np.logspace(-2, 1, N_scan, base=10)\n",
    "num_epochss = [int(num_epochs_) for num_epochs_ in num_epochss]\n",
    "\n",
    "results = explore_param(default_dict, variable='num_epochs', var_range=num_epochss, do_SKL=False)"
   ]
  },
  {
   "cell_type": "code",
   "execution_count": null,
   "metadata": {},
   "outputs": [],
   "source": [
    "fig, ax = plot_explore_param(variable='num_epochs', var_range=num_epochss, results=results)"
   ]
  },
  {
   "cell_type": "markdown",
   "metadata": {},
   "source": [
    "Similarly, we are at a sweet spot with our number of epochs, and this is true for both methods. "
   ]
  },
  {
   "cell_type": "markdown",
   "metadata": {},
   "source": [
    "### influence of minibatch size"
   ]
  },
  {
   "cell_type": "code",
   "execution_count": null,
   "metadata": {},
   "outputs": [],
   "source": [
    "import time"
   ]
  },
  {
   "cell_type": "code",
   "execution_count": null,
   "metadata": {},
   "outputs": [],
   "source": [
    "batch_sizes = N * np.logspace(-3, 0, N_scan, base=2)\n",
    "batch_sizes = [int(batch_size_) for batch_size_ in batch_sizes]\n",
    "\n",
    "results = explore_param(default_dict, variable='batch_size', var_range=batch_sizes, do_SKL=False)"
   ]
  },
  {
   "cell_type": "code",
   "execution_count": null,
   "metadata": {},
   "outputs": [],
   "source": [
    "fig, ax = plot_explore_param(variable='batch_size', var_range=batch_sizes, results=results)"
   ]
  },
  {
   "cell_type": "markdown",
   "metadata": {},
   "source": [
    "As expected, `batch_size` as minor effects on the cost, but it can on the CPU time:"
   ]
  },
  {
   "cell_type": "code",
   "execution_count": null,
   "metadata": {},
   "outputs": [],
   "source": [
    "fig, ax = plt.subplots(figsize=(15, 8))\n",
    "ax.plot(batch_sizes, np.mean(results[3, :, :], axis=-1), **opts_scat)\n",
    "ax.set_xlabel(\"batch_size\")\n",
    "ax.set_ylabel(\"CPU time (s)\")\n",
    "ax.set_ylim(0)\n",
    "ax.set_xscale(\"log\");"
   ]
  },
  {
   "cell_type": "markdown",
   "metadata": {},
   "source": [
    "### influence of `beta1`"
   ]
  },
  {
   "cell_type": "code",
   "execution_count": null,
   "metadata": {},
   "outputs": [],
   "source": [
    "beta1s = 1.0 - np.logspace(-3, -2, N_scan, base=10, endpoint=True)\n",
    "results = explore_param(default_dict, variable='beta1', var_range=beta1s, do_SKL=False)"
   ]
  },
  {
   "cell_type": "code",
   "execution_count": null,
   "metadata": {},
   "outputs": [],
   "source": [
    "fig, ax = plot_explore_param(variable='beta1', var_range=beta1s, results=results)"
   ]
  },
  {
   "cell_type": "markdown",
   "metadata": {},
   "source": [
    "The influence of this parameter is limited, such that using `Adam` is perhaps overkill. A simple `SGD` should be tested. Similarly, for `beta2`:"
   ]
  },
  {
   "cell_type": "markdown",
   "metadata": {},
   "source": [
    "### influence of `beta2`"
   ]
  },
  {
   "cell_type": "code",
   "execution_count": null,
   "metadata": {},
   "outputs": [],
   "source": [
    "beta2s = 1.0 - np.logspace(-7, -2, N_scan, base=10, endpoint=True)\n",
    "results = explore_param(default_dict, variable='beta2', var_range=beta2s, do_SKL=False)"
   ]
  },
  {
   "cell_type": "code",
   "execution_count": null,
   "metadata": {},
   "outputs": [],
   "source": [
    "fig, ax = plot_explore_param(variable='beta2', var_range=beta2s, results=results)"
   ]
  },
  {
   "cell_type": "markdown",
   "metadata": {},
   "source": [
    "### influence of `C`"
   ]
  },
  {
   "cell_type": "code",
   "execution_count": null,
   "metadata": {},
   "outputs": [],
   "source": [
    "Cs = C * np.logspace(-2, 2, N_scan, base=4)\n",
    "results = explore_param(default_dict, variable='C', var_range=Cs, do_fit=False)"
   ]
  },
  {
   "cell_type": "code",
   "execution_count": null,
   "metadata": {},
   "outputs": [],
   "source": [
    "fig, ax = plot_explore_param(variable='C', var_range=Cs, results=results)"
   ]
  },
  {
   "cell_type": "markdown",
   "metadata": {},
   "source": [
    "### influence of `tol`"
   ]
  },
  {
   "cell_type": "code",
   "execution_count": null,
   "metadata": {},
   "outputs": [],
   "source": [
    "tols = tol * np.logspace(-2, 2, N_scan, base=10)\n",
    "results = explore_param(default_dict, variable='tol', var_range=tols, do_fit=False)"
   ]
  },
  {
   "cell_type": "code",
   "execution_count": null,
   "metadata": {},
   "outputs": [],
   "source": [
    "fig, ax = plot_explore_param(variable='tol', var_range=tols, results=results)"
   ]
  },
  {
   "cell_type": "markdown",
   "metadata": {},
   "source": [
    "\n",
    "## quantitative comparison of methods : varrying experimental parameters\n",
    "\n",
    "Now that we now more about methodological parameters, let's study more crucial parameters like that of the experiment.\n"
   ]
  },
  {
   "cell_type": "markdown",
   "metadata": {},
   "source": [
    "### influence of number of trials\n",
    "\n",
    "The number of trials is crucial as if defines the number of our datapoints, and also the length of the experiment. This is important as we want to make this number as low as possible. Indeed, observers doing the experiment, for example a master student in front of the computer screen, may experience fatigue which would prevent accurate recordings."
   ]
  },
  {
   "cell_type": "code",
   "execution_count": null,
   "metadata": {},
   "outputs": [],
   "source": [
    "Ns = np.logspace(1.5, 3, N_scan, base=10, endpoint=True)\n",
    "Ns = [int(Ns_) for Ns_ in Ns]\n",
    "\n",
    "results = explore_param(default_dict, variable='N', var_range=Ns)"
   ]
  },
  {
   "cell_type": "code",
   "execution_count": null,
   "metadata": {},
   "outputs": [],
   "source": [
    "fig, ax = plot_explore_param(variable='N', var_range=Ns, results=results)"
   ]
  },
  {
   "cell_type": "markdown",
   "metadata": {},
   "source": [
    "As a consequence, $20$ trials is not enough and $100$ is OK. This depends on our expectations on the the retrieved data."
   ]
  },
  {
   "cell_type": "markdown",
   "metadata": {},
   "source": [
    "### influence of theta_std\n",
    "\n",
    "The convergence of the fitting procedure may also depend on the parametrers of the data which were set to:"
   ]
  },
  {
   "cell_type": "code",
   "execution_count": null,
   "metadata": {},
   "outputs": [],
   "source": [
    "print(\n",
    "    f\"p0 = {p0:.3f}, theta0 = {theta0:.3f}, wt = {wt:.3f}, theta_std = {theta_std:.3f}\"\n",
    ")"
   ]
  },
  {
   "cell_type": "markdown",
   "metadata": {},
   "source": [
    "One of this is `theta_std` and is describing the \"width\" of tested orientation values:"
   ]
  },
  {
   "cell_type": "code",
   "execution_count": null,
   "metadata": {},
   "outputs": [],
   "source": [
    "theta_stds = theta_std * np.logspace(-1, 1, N_scan, base=2, endpoint=True)\n",
    "\n",
    "results = explore_param(default_dict, variable='theta_std', var_range=theta_stds)"
   ]
  },
  {
   "cell_type": "code",
   "execution_count": null,
   "metadata": {},
   "outputs": [],
   "source": [
    "fig, ax = plot_explore_param(variable='theta_std', var_range=theta_stds, results=results)"
   ]
  },
  {
   "cell_type": "markdown",
   "metadata": {},
   "source": [
    "The value of  `theta_std` as a clear influence on the loss in particular for classical logistic regression (`sklearn`) which will have a problem with datapoints caused by the lapse rate `p0`."
   ]
  },
  {
   "cell_type": "markdown",
   "metadata": {},
   "source": [
    "### influence of `p0`\n",
    "\n"
   ]
  },
  {
   "cell_type": "code",
   "execution_count": null,
   "metadata": {},
   "outputs": [],
   "source": [
    "p0s = np.logspace(-3, -0.7, N_scan, base=10, endpoint=True)\n",
    "\n",
    "results = explore_param(default_dict, variable='p0', var_range=p0s)\n"
   ]
  },
  {
   "cell_type": "code",
   "execution_count": null,
   "metadata": {},
   "outputs": [],
   "source": [
    "fig, ax = plot_explore_param(variable='p0', var_range=p0s, results=results)"
   ]
  },
  {
   "cell_type": "markdown",
   "metadata": {},
   "source": [
    "As expected, the lapse rate `p0`as an influence on the cost: when low ($p0<0.01$), cost are similar. When higher, the two methods diverge and our method is obviously better."
   ]
  },
  {
   "cell_type": "markdown",
   "metadata": {},
   "source": [
    "After this quantitative comparison of the methods, let's now study how the methods compare when retrieving the parameters.\n",
    "\n",
    "## comparing the predicted values\n",
    "\n",
    "In this section, we will change one parameter after antoher, while keeping the others fixed and check the retrieved value obtained by both methods.\n"
   ]
  },
  {
   "cell_type": "code",
   "execution_count": null,
   "metadata": {},
   "outputs": [],
   "source": [
    "print(\n",
    "    f\"p0 = {p0:.3f}, theta0 = {theta0:.3f}, wt = {wt:.3f}, theta_std = {theta_std:.3f}\"\n",
    ")"
   ]
  },
  {
   "cell_type": "markdown",
   "metadata": {},
   "source": [
    "\n",
    "\n",
    "### changing `p0`\n",
    "\n",
    "Let's start by changing the lapse rate `p0`:"
   ]
  },
  {
   "cell_type": "code",
   "execution_count": null,
   "metadata": {},
   "outputs": [],
   "source": [
    "N_scan = 20\n",
    "p0s = np.logspace(-3, -0.7, N_scan, base=10, endpoint=True)\n",
    "\n",
    "p0s_, wts_, theta0s_, p0_tos, theta0_tos, theta0_sks, wt_tos, wt_sks = (\n",
    "    [],\n",
    "    [],\n",
    "    [],\n",
    "    [],\n",
    "    [],\n",
    "    [],\n",
    "    [],\n",
    "    [],\n",
    ")\n",
    "\n",
    "for p0_ in p0s:\n",
    "    for i_CV in range(N_cv):\n",
    "        theta, p, y = get_data(p0=p0_, seed=seed + i_CV)\n",
    "\n",
    "        logistic_model, loss = fit_data(theta, y, verbose=False)\n",
    "        logistic_model_sk, loss_SKL = fit_data_sklearn(theta, y, verbose=False)\n",
    "\n",
    "        theta0_to, wt_to, p0_to = get_params(logistic_model, verbose=False)\n",
    "        theta0_sk, wt_sk = get_params_sk(logistic_model_sk, verbose=False)\n",
    "\n",
    "        p0s_.append(p0_)\n",
    "        theta0s_.append(theta0)\n",
    "        wts_.append(wt)\n",
    "        p0_tos.append(p0_to)\n",
    "        theta0_tos.append(theta0_to)\n",
    "        theta0_sks.append(theta0_sk)\n",
    "        wt_tos.append(wt_to)\n",
    "        wt_sks.append(wt_sk)"
   ]
  },
  {
   "cell_type": "code",
   "execution_count": null,
   "metadata": {},
   "outputs": [],
   "source": [
    "fig, axs = plt.subplots(1, 3, figsize=(15, 8))\n",
    "\n",
    "axs[0].scatter(p0s_, p0_tos, label=\"torch\")\n",
    "axs[0].plot([min(p0s_), max(p0s_)], [min(p0_tos), max(p0_tos)], \"--\")\n",
    "axs[0].set(xlabel=\"p0 (true)\", ylabel=\"p0 (predicted)\")\n",
    "axs[0].legend(loc=\"upper left\")\n",
    "\n",
    "axs[1].scatter(p0s_, theta0_tos, label=\"torch\")\n",
    "axs[1].scatter(p0s_, theta0_sks, label=\"sklearn\")\n",
    "axs[1].plot([min(p0s_), max(p0s_)], [theta0, theta0], \"--\")\n",
    "axs[1].set(xlabel=\"p0\", ylabel=\"theta0 (predicted)\")\n",
    "axs[1].legend(loc=\"upper left\")\n",
    "\n",
    "axs[2].scatter(p0s_, wt_tos, label=\"torch\")\n",
    "axs[2].scatter(p0s_, wt_sks, label=\"sklearn\")\n",
    "axs[2].plot([min(p0s_), max(p0s_)], [wt, wt], \"--\")\n",
    "axs[2].set(xlabel=\"p0\", ylabel=\"slope (predicted)\")\n",
    "axs[2].legend(loc=\"upper left\")\n",
    "plt.tight_layout();"
   ]
  },
  {
   "cell_type": "markdown",
   "metadata": {},
   "source": [
    "Our method is able to fairly accurately retrieve the value of the lapse rate. The errors obtained in the fitting of the other parameters are comparable forr `theta0`but are high on the slope. The slope is clearly overestimated depending on the lapse rate. "
   ]
  },
  {
   "cell_type": "markdown",
   "metadata": {},
   "source": [
    "\n",
    "\n",
    "### changing `theta0`\n"
   ]
  },
  {
   "cell_type": "code",
   "execution_count": null,
   "metadata": {},
   "outputs": [],
   "source": [
    "N_scan = 20\n",
    "theta0s = .61803 * theta_std * np.linspace(-1, 1, N_scan, endpoint=True)\n",
    "\n",
    "p0s_, wts_, theta0s_, p0_tos, theta0_tos, theta0_sks, wt_tos, wt_sks = (\n",
    "    [],\n",
    "    [],\n",
    "    [],\n",
    "    [],\n",
    "    [],\n",
    "    [],\n",
    "    [],\n",
    "    [],\n",
    ")\n",
    "\n",
    "for theta0_ in theta0s:\n",
    "    for i_CV in range(N_cv):\n",
    "        theta, p, y = get_data(theta0=theta0_, seed=seed + i_CV)\n",
    "\n",
    "        logistic_model, loss = fit_data(theta, y, verbose=False)\n",
    "        logistic_model_sk, loss_SKL = fit_data_sklearn(theta, y, verbose=False)\n",
    "\n",
    "        theta0_to, wt_to, p0_to = get_params(logistic_model, verbose=False)\n",
    "        theta0_sk, wt_sk = get_params_sk(logistic_model_sk, verbose=False)\n",
    "\n",
    "        p0s_.append(p0)\n",
    "        theta0s_.append(theta0_)\n",
    "        wts_.append(wt)\n",
    "        p0_tos.append(p0_to)\n",
    "        theta0_tos.append(theta0_to)\n",
    "        theta0_sks.append(theta0_sk)\n",
    "        wt_tos.append(wt_to)\n",
    "        wt_sks.append(wt_sk)"
   ]
  },
  {
   "cell_type": "code",
   "execution_count": null,
   "metadata": {},
   "outputs": [],
   "source": [
    "fig, axs = plt.subplots(1, 3, figsize=(15, 8))\n",
    "\n",
    "axs[0].scatter(theta0s_, p0_tos, label=\"torch\")\n",
    "axs[0].plot([min(theta0s_), max(theta0s_)], [p0, p0], \"--\")\n",
    "axs[0].set(xlabel=\"theta0 (true)\", ylabel=\"p0 (predicted)\")\n",
    "axs[0].legend(loc=\"upper left\")\n",
    "\n",
    "axs[1].scatter(theta0s_, theta0_tos, label=\"torch\")\n",
    "axs[1].scatter(theta0s_, theta0_sks, label=\"sklearn\")\n",
    "axs[1].plot([min(theta0s_), max(theta0s_)], [min(theta0s_), max(theta0s_)], \"--\")\n",
    "axs[1].set(xlabel=\"theta0 (true)\", ylabel=\"theta0 (predicted)\")\n",
    "axs[1].legend(loc=\"upper left\")\n",
    "\n",
    "axs[2].scatter(theta0s_, wt_tos, label=\"torch\")\n",
    "axs[2].scatter(theta0s_, wt_sks, label=\"sklearn\")\n",
    "axs[2].plot([min(theta0s_), max(theta0s_)], [wt, wt], \"--\")\n",
    "axs[2].set(xlabel=\"theta0 (true)\", ylabel=\"slope (predicted)\")\n",
    "axs[2].legend(loc=\"upper left\")\n",
    "plt.tight_layout();"
   ]
  },
  {
   "cell_type": "markdown",
   "metadata": {},
   "source": [
    "\n",
    "\n",
    "### changing `wt`\n"
   ]
  },
  {
   "cell_type": "code",
   "execution_count": null,
   "metadata": {},
   "outputs": [],
   "source": [
    "N_scan = 20\n",
    "wts = wt * np.logspace(-1, 1, N_scan, base=4, endpoint=True)\n",
    "\n",
    "p0s_, wts_, theta0s_, p0_tos, theta0_tos, theta0_sks, wt_tos, wt_sks = (\n",
    "    [],\n",
    "    [],\n",
    "    [],\n",
    "    [],\n",
    "    [],\n",
    "    [],\n",
    "    [],\n",
    "    [],\n",
    ")\n",
    "\n",
    "for wt_ in wts:\n",
    "    for i_CV in range(N_cv):\n",
    "        theta, p, y = get_data(wt=wt_, seed=seed + i_CV)\n",
    "\n",
    "        logistic_model, loss = fit_data(theta, y, verbose=False)\n",
    "        logistic_model_sk, loss_SKL = fit_data_sklearn(theta, y, verbose=False)\n",
    "\n",
    "        theta0_to, wt_to, p0_to = get_params(logistic_model, verbose=False)\n",
    "        theta0_sk, wt_sk = get_params_sk(logistic_model_sk, verbose=False)\n",
    "\n",
    "        p0s_.append(p0)\n",
    "        theta0s_.append(theta0)\n",
    "        wts_.append(wt_)\n",
    "        p0_tos.append(p0_to)\n",
    "        theta0_tos.append(theta0_to)\n",
    "        theta0_sks.append(theta0_sk)\n",
    "        wt_tos.append(wt_to)\n",
    "        wt_sks.append(wt_sk)"
   ]
  },
  {
   "cell_type": "code",
   "execution_count": null,
   "metadata": {},
   "outputs": [],
   "source": [
    "fig, axs = plt.subplots(1, 3, figsize=(15, 8))\n",
    "\n",
    "axs[0].scatter(wts_, p0_tos, label=\"torch\")\n",
    "axs[0].plot([min(wts_), max(wts_)], [p0, p0], \"--\")\n",
    "\n",
    "axs[0].set(xlabel=\"slope (true)\", ylabel=\"p0 (predicted)\")\n",
    "axs[0].legend(loc=\"upper left\")\n",
    "\n",
    "axs[1].scatter(wts_, theta0_tos, label=\"torch\")\n",
    "axs[1].scatter(wts_, theta0_sks, label=\"sklearn\")\n",
    "axs[1].plot([min(wts_), max(wts_)], [theta0, theta0], \"--\")\n",
    "axs[1].set(xlabel=\"slope (true)\", ylabel=\"theta0 (predicted)\")\n",
    "axs[1].legend(loc=\"upper left\")\n",
    "\n",
    "axs[2].scatter(wts_, wt_tos, label=\"torch\")\n",
    "axs[2].scatter(wts_, wt_sks, label=\"sklearn\")\n",
    "axs[2].plot([min(wts_), max(wts_)], [min(wts_), max(wts_)], \"--\")\n",
    "axs[2].set(xlabel=\"slope (true)\", ylabel=\"slope (predicted)\")\n",
    "axs[2].legend(loc=\"upper left\")\n",
    "plt.tight_layout();"
   ]
  },
  {
   "cell_type": "markdown",
   "metadata": {},
   "source": [
    "Our method is able to fairly accurately retrieve the value of the lapse rate, but the precision decreases with the lapse rate. The errors obtained in the fitting of the other parameters are comparable forr `theta0` but are high on the slope. The slope is clearly overestimated in the case of the classical logistic regression. "
   ]
  },
  {
   "cell_type": "markdown",
   "metadata": {},
   "source": [
    "\n",
    "### changing `wt` with a null lapse rate (`p0=0`)\n",
    "\n",
    "Let's decompose the effect of using `torch` to using `sklearn`\n"
   ]
  },
  {
   "cell_type": "code",
   "execution_count": null,
   "metadata": {},
   "outputs": [],
   "source": [
    "N_scan = 20\n",
    "wts = wt * np.logspace(-1, 1, N_scan, base=4, endpoint=True)\n",
    "\n",
    "p0s_, wts_, theta0s_, p0_tos, theta0_tos, theta0_sks, wt_tos, wt_sks = (\n",
    "    [],\n",
    "    [],\n",
    "    [],\n",
    "    [],\n",
    "    [],\n",
    "    [],\n",
    "    [],\n",
    "    [],\n",
    ")\n",
    "\n",
    "for wt_ in wts:\n",
    "    for i_CV in range(N_cv):\n",
    "        theta, p, y = get_data(wt=wt_, p0=0, seed=seed + i_CV)\n",
    "\n",
    "        logistic_model, loss = fit_data(theta, y, verbose=False)\n",
    "        logistic_model_sk, loss_SKL = fit_data_sklearn(theta, y, verbose=False)\n",
    "\n",
    "        theta0_to, wt_to, p0_to = get_params(logistic_model, verbose=False)\n",
    "        theta0_sk, wt_sk = get_params_sk(logistic_model_sk, verbose=False)\n",
    "\n",
    "        p0s_.append(p0)\n",
    "        theta0s_.append(theta0)\n",
    "        wts_.append(wt_)\n",
    "        p0_tos.append(p0_to)\n",
    "        theta0_tos.append(theta0_to)\n",
    "        theta0_sks.append(theta0_sk)\n",
    "        wt_tos.append(wt_to)\n",
    "        wt_sks.append(wt_sk)"
   ]
  },
  {
   "cell_type": "code",
   "execution_count": null,
   "metadata": {},
   "outputs": [],
   "source": [
    "fig, axs = plt.subplots(1, 3, figsize=(15, 8))\n",
    "\n",
    "axs[0].scatter(wts_, p0_tos, label=\"torch\")\n",
    "axs[0].plot([min(wts_), max(wts_)], [0, 0], \"--\")\n",
    "\n",
    "axs[0].set(xlabel=\"slope (true)\", ylabel=\"p0 (predicted)\")\n",
    "axs[0].legend(loc=\"upper left\")\n",
    "\n",
    "axs[1].scatter(wts_, theta0_tos, label=\"torch\")\n",
    "axs[1].scatter(wts_, theta0_sks, label=\"sklearn\")\n",
    "axs[1].plot([min(wts_), max(wts_)], [theta0, theta0], \"--\")\n",
    "axs[1].set(xlabel=\"slope (true)\", ylabel=\"theta0 (predicted)\")\n",
    "axs[1].legend(loc=\"upper left\")\n",
    "\n",
    "axs[2].scatter(wts_, wt_tos, label=\"torch\")\n",
    "axs[2].scatter(wts_, wt_sks, label=\"sklearn\")\n",
    "axs[2].plot([min(wts_), max(wts_)], [min(wts_), max(wts_)], \"--\")\n",
    "axs[2].set(xlabel=\"slope (true)\", ylabel=\"slope (predicted)\")\n",
    "axs[2].legend(loc=\"upper left\")\n",
    "plt.tight_layout();"
   ]
  },
  {
   "cell_type": "markdown",
   "metadata": {},
   "source": [
    "This again shows that the slope is better matched with the method presented in this notebook. "
   ]
  },
  {
   "cell_type": "code",
   "execution_count": null,
   "metadata": {},
   "outputs": [],
   "source": [
    "%load_ext watermark\n",
    "%watermark -i -h -m -v -p numpy,torch,sklearn,matplotlib  -r -g -b"
   ]
  }
 ],
 "metadata": {
  "kernelspec": {
   "display_name": "Python 3",
   "language": "python",
   "name": "python3"
  },
  "language_info": {
   "codemirror_mode": {
    "name": "ipython",
    "version": 3
   },
   "file_extension": ".py",
   "mimetype": "text/x-python",
   "name": "python",
   "nbconvert_exporter": "python",
   "pygments_lexer": "ipython3",
   "version": "3.7.7"
  },
  "nteract": {
   "version": "0.22.0"
  }
 },
 "nbformat": 4,
 "nbformat_minor": 4
}
