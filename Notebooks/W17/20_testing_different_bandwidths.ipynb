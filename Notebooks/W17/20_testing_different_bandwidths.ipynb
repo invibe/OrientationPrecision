{
 "cells": [
  {
   "cell_type": "markdown",
   "metadata": {},
   "source": [
    "### differents $B_\\theta$, petits $\\theta$, differents $B_{sf}$"
   ]
  },
  {
   "cell_type": "code",
   "execution_count": 1,
   "metadata": {},
   "outputs": [],
   "source": [
    "import os"
   ]
  },
  {
   "cell_type": "code",
   "execution_count": 2,
   "metadata": {},
   "outputs": [],
   "source": [
    "%mkdir -p tmp"
   ]
  },
  {
   "cell_type": "code",
   "execution_count": 3,
   "metadata": {},
   "outputs": [
    {
     "name": "stdout",
     "output_type": "stream",
     "text": [
      "data_folder = ../Psychopy_data/pilot/B_theta_B_sf\n"
     ]
    }
   ],
   "source": [
    "data_folder = os.path.join('..', 'Psychopy_data', 'pilot', 'B_theta_B_sf')#,'json')\n",
    "print('data_folder =', data_folder)"
   ]
  },
  {
   "cell_type": "code",
   "execution_count": 4,
   "metadata": {},
   "outputs": [],
   "source": [
    "%mkdir -p {data_folder}"
   ]
  },
  {
   "cell_type": "code",
   "execution_count": 5,
   "metadata": {},
   "outputs": [
    {
     "name": "stdout",
     "output_type": "stream",
     "text": [
      "Overwriting tmp/exp.py\n"
     ]
    }
   ],
   "source": [
    "%%writefile tmp/exp.py\n",
    "import sys\n",
    "import numpy as np\n",
    "import os\n",
    "import imageio\n",
    "import sys\n",
    "\n",
    "data_folder = sys.argv[1]\n",
    "print('\\n Initializing')\n",
    "N_B_theta = 3\n",
    "N_B_sf = 2\n",
    "B_thetas = np.pi*np.logspace(-5, -1.5, N_B_theta, base=2)\n",
    "print('B_thetas = ', B_thetas)\n",
    "B_sfs = np.logspace(-4, 0., N_B_sf, base=2)\n",
    "print('B_sfs = ', B_sfs)\n",
    "theta_max = np.pi/8\n",
    "\n",
    "N_trial = 4\n",
    "N_total_trials = N_trial * N_B_theta * N_B_sf      # number of trials\n",
    "fixation_length = 0.25  # length of fixation, in second\n",
    "stim_length = 0.25   # length of stim, in second\n",
    "\n",
    "seed = 2020\n",
    "np.random.seed(seed)\n",
    "#thetas = (2*np.random.rand(N_total_trials)-1)*theta_max\n",
    "#thetas = (2*np.random.rand(N_trial)-1)*theta_max\n",
    "thetas = np.linspace(-theta_max, theta_max, N_trial)\n",
    "thetas = np.ravel(thetas[None, :] * np.ones((N_B_theta * N_B_sf, 1)))\n",
    "conditions = np.ravel(np.arange(N_B_theta * N_B_sf)[:, None] * np.ones(N_trial)).astype(np.int)\n",
    "ind = np.random.permutation(np.arange(N_total_trials))\n",
    "thetas = thetas[ind]\n",
    "conditions = conditions[ind]\n",
    "#np.random.shuffle(conditions)\n",
    "i_B_thetas, i_B_sfs = conditions // N_B_theta, conditions % N_B_theta\n",
    "\n",
    "# generate all clouds\n",
    "#help(mc.envelope_gabor)\n",
    "def generate_random_cloud(theta, B_theta, B_sf, seed, downscale = 1):\n",
    "    fname = 'tmp/%s_%s_%s.png' % (theta, B_theta, B_sf)\n",
    "    if not os.path.isfile(fname):\n",
    "        import MotionClouds as mc\n",
    "        fx, fy, ft = mc.get_grids(mc.N_X/downscale, mc.N_Y/downscale, 1)\n",
    "        mc_i = mc.envelope_gabor(fx, fy, ft, V_X=0., V_Y=0.,\n",
    "                                 B_V=0, theta=np.pi/2-theta, B_theta=B_theta)\n",
    "        im = mc.random_cloud(mc_i, seed=seed)\n",
    "        im = (mc.rectif(im) * 255).astype('uint8')\n",
    "        imageio.imwrite(fname, im[:, :, 0])\n",
    "    return fname\n",
    "\n",
    "for i_trial in range(N_total_trials):\n",
    "    MC = generate_random_cloud(thetas[i_trial], \n",
    "                               B_theta=B_thetas[i_B_thetas[i_trial]], \n",
    "                               B_sf=B_sfs[i_B_sfs[i_trial]], \n",
    "                               seed=seed+i_trial) \n",
    "\n",
    "if len(sys.argv)>2:\n",
    "    exp_observer = sys.argv[2]\n",
    "\n",
    "    exp_name = \"Perception de l'orientation\"\n",
    "    \n",
    "    fullscr = False\n",
    "    fullscr = True\n",
    "\n",
    "\n",
    "    from psychopy import visual #, core, event, gui, data\n",
    "    win = visual.Window([1400, 800], fullscr=fullscr, color=[0, 0, 0])\n",
    "\n",
    "\n",
    "    mouse = event.Mouse(newPos=(0, 0), visible=False)\n",
    "    x0, y0 = mouse.getPos()\n",
    "    event.clearEvents()\n",
    "    instructions = \"\"\"\n",
    "    At each trial you see one textured image, report the \n",
    "    orientation you perceive.\n",
    "\n",
    "    Move the mouse to the right if it is clock-wise of the vertical,\n",
    "    move the mouse to the left if it is counter clock-wise of the vertical.\n",
    "\n",
    "    Move the mouse to begin the experiment.\n",
    "    \"\"\"\n",
    "    msg = visual.TextStim(win, text=instructions, alignHoriz='center', alignVert='center', color='black')\n",
    "    msg.draw()\n",
    "    win.flip()\n",
    "    while not mouse.mouseMoved(distance=.05): \n",
    "        event.clearEvents()\n",
    "    fixation = visual.ShapeStim(vertices='cross', win=win, size=0.05, pos=[0, 0], fillColor='black', units='height')\n",
    "    fixation.autolog = False\n",
    "\n",
    "    bitmap = visual.ImageStim(win, MC, mask='gauss', size=0.8, units='height', interpolate=True)\n",
    "    bitmap.autolog = False \n",
    "\n",
    "    msg = visual.TextStim(win, text='.', color='black')\n",
    "\n",
    "    import time\n",
    "    start_time = time.time()\n",
    "    print(\"Test started\")\n",
    "\n",
    "    ans_list = []\n",
    "\n",
    "    # run experiment\n",
    "    for i_trial in range(N_total_trials):\n",
    "        clock = core.Clock()\n",
    "        fixation.draw()\n",
    "        win.flip()\n",
    "\n",
    "        MC = generate_random_cloud(thetas[i_trial], \n",
    "                           B_theta=B_thetas[i_B_thetas[i_trial]], \n",
    "                           B_sf=B_sfs[i_B_sfs[i_trial]], \n",
    "                           seed=seed+i_trial)\n",
    "        bitmap.setImage(MC)\n",
    "\n",
    "         # Times the trial\n",
    "        while clock.getTime() < fixation_length + stim_length:\n",
    "            if clock.getTime() < fixation_length:  # fixation\n",
    "                fixation.draw()\n",
    "            elif clock.getTime() < fixation_length + stim_length: \n",
    "                bitmap.draw()\n",
    "            win.flip()\n",
    "\n",
    "        msg.draw()\n",
    "        win.flip()\n",
    "\n",
    "        mouse.setPos(newPos=(0, 0))\n",
    "        x0, y0 = mouse.getPos()\n",
    "        event.clearEvents()\n",
    "\n",
    "        while not mouse.mouseMoved(distance=.025): \n",
    "            # this creates a never-ending loop\n",
    "            # until we move the mouse\n",
    "            event.clearEvents()\n",
    "\n",
    "        RT = clock.getTime()\n",
    "\n",
    "        x, y = mouse.getPos()\n",
    "        if x < 0:\n",
    "            answer = 'left'\n",
    "        else: #elif x > 0:\n",
    "            answer = 'right'\n",
    "            if x == 0: print('this should not happen 😤')\n",
    "        event.clearEvents() \n",
    "\n",
    "        ans = event.getKeys()       \n",
    "\n",
    "        if ans == ['escape', 'q']:\n",
    "            win.close()\n",
    "            core.quit()\n",
    "\n",
    "        correct = ((thetas[i_trial] > 0) and answer == 'right') or ((thetas[i_trial] < 0) and answer == 'left')\n",
    "        print('At trial ', i_trial, 'Angle=', '%3.3f' % (thetas[i_trial]*180/np.pi), 'answer is ',  answer, '(correct=', correct, ');')   \n",
    "\n",
    "        ans_list.append([i_trial, thetas[i_trial], answer, \n",
    "                         B_thetas[i_B_thetas[i_trial]], B_sfs[i_B_sfs[i_trial]], \n",
    "                         i_B_thetas[i_trial], i_B_sfs[i_trial], RT])\n",
    "\n",
    "    print('saving')\n",
    "    import json\n",
    "    print(ans_list)\n",
    "    json.dump(ans_list, open(os.path.join(data_folder, f'Psychophys_discrim_{exp_observer}.json'), 'w', encoding=\"utf8\"))\n",
    "\n",
    "    print('exiting')\n",
    "    event.clearEvents() \n",
    "    win.close()\n",
    "    core.quit()\n"
   ]
  },
  {
   "cell_type": "code",
   "execution_count": 6,
   "metadata": {},
   "outputs": [
    {
     "data": {
      "text/plain": [
       "array([-20.        ,  -6.66666667,   6.66666667,  20.        ,\n",
       "       -20.        ,  -6.66666667,   6.66666667,  20.        ,\n",
       "       -20.        ,  -6.66666667,   6.66666667,  20.        ,\n",
       "       -20.        ,  -6.66666667,   6.66666667,  20.        ,\n",
       "       -20.        ,  -6.66666667,   6.66666667,  20.        ,\n",
       "       -20.        ,  -6.66666667,   6.66666667,  20.        ,\n",
       "       -20.        ,  -6.66666667,   6.66666667,  20.        ,\n",
       "       -20.        ,  -6.66666667,   6.66666667,  20.        ,\n",
       "       -20.        ,  -6.66666667,   6.66666667,  20.        ,\n",
       "       -20.        ,  -6.66666667,   6.66666667,  20.        ,\n",
       "       -20.        ,  -6.66666667,   6.66666667,  20.        ,\n",
       "       -20.        ,  -6.66666667,   6.66666667,  20.        ,\n",
       "       -20.        ,  -6.66666667,   6.66666667,  20.        ,\n",
       "       -20.        ,  -6.66666667,   6.66666667,  20.        ,\n",
       "       -20.        ,  -6.66666667,   6.66666667,  20.        ])"
      ]
     },
     "execution_count": 6,
     "metadata": {},
     "output_type": "execute_result"
    }
   ],
   "source": [
    "import numpy as np\n",
    "N_B_theta = 3\n",
    "N_B_sf = 5\n",
    "\n",
    "seed = 42\n",
    "np.random.seed(seed)\n",
    "N_trial = 4\n",
    "N_total_trials = N_trial * N_B_theta * N_B_sf      # number of trials\n",
    "\n",
    "theta_max = 20\n",
    "thetas = np.linspace(-theta_max, theta_max, N_trial)\n",
    "# thetas = np.ravel((2*np.random.rand(N_trial, 1)-1)*20 * np.ones(N_B_theta * N_B_sf))\n",
    "thetas = np.ravel(thetas[None, :] * np.ones((N_B_theta * N_B_sf, 1)))\n",
    "thetas"
   ]
  },
  {
   "cell_type": "code",
   "execution_count": 7,
   "metadata": {},
   "outputs": [
    {
     "data": {
      "text/plain": [
       "array([ 0,  0,  0,  0,  1,  1,  1,  1,  2,  2,  2,  2,  3,  3,  3,  3,  4,\n",
       "        4,  4,  4,  5,  5,  5,  5,  6,  6,  6,  6,  7,  7,  7,  7,  8,  8,\n",
       "        8,  8,  9,  9,  9,  9, 10, 10, 10, 10, 11, 11, 11, 11, 12, 12, 12,\n",
       "       12, 13, 13, 13, 13, 14, 14, 14, 14])"
      ]
     },
     "execution_count": 7,
     "metadata": {},
     "output_type": "execute_result"
    }
   ],
   "source": [
    "conditions = np.ravel(np.arange(N_B_theta * N_B_sf)[:, None] * np.ones(N_trial)).astype(np.int)\n",
    "conditions"
   ]
  },
  {
   "cell_type": "code",
   "execution_count": 8,
   "metadata": {},
   "outputs": [
    {
     "data": {
      "text/plain": [
       "(array([0, 0, 0, 0, 0, 0, 0, 0, 0, 0, 0, 0, 1, 1, 1, 1, 1, 1, 1, 1, 1, 1,\n",
       "        1, 1, 2, 2, 2, 2, 2, 2, 2, 2, 2, 2, 2, 2, 3, 3, 3, 3, 3, 3, 3, 3,\n",
       "        3, 3, 3, 3, 4, 4, 4, 4, 4, 4, 4, 4, 4, 4, 4, 4]),\n",
       " array([0, 0, 0, 0, 1, 1, 1, 1, 2, 2, 2, 2, 0, 0, 0, 0, 1, 1, 1, 1, 2, 2,\n",
       "        2, 2, 0, 0, 0, 0, 1, 1, 1, 1, 2, 2, 2, 2, 0, 0, 0, 0, 1, 1, 1, 1,\n",
       "        2, 2, 2, 2, 0, 0, 0, 0, 1, 1, 1, 1, 2, 2, 2, 2]),\n",
       " array([ 0,  0,  0,  0,  1,  1,  1,  1,  2,  2,  2,  2,  3,  3,  3,  3,  4,\n",
       "         4,  4,  4,  5,  5,  5,  5,  6,  6,  6,  6,  7,  7,  7,  7,  8,  8,\n",
       "         8,  8,  9,  9,  9,  9, 10, 10, 10, 10, 11, 11, 11, 11, 12, 12, 12,\n",
       "        12, 13, 13, 13, 13, 14, 14, 14, 14]))"
      ]
     },
     "execution_count": 8,
     "metadata": {},
     "output_type": "execute_result"
    }
   ],
   "source": [
    "conditions // N_B_theta, conditions % N_B_theta, (conditions // N_B_theta)*N_B_theta + conditions % N_B_theta"
   ]
  },
  {
   "cell_type": "code",
   "execution_count": 9,
   "metadata": {},
   "outputs": [
    {
     "data": {
      "text/plain": [
       "array([ 0,  0,  0,  0,  1,  1,  1,  1,  2,  2,  2,  2,  3,  3,  3,  3,  4,\n",
       "        4,  4,  4,  5,  5,  5,  5,  6,  6,  6,  6,  7,  7,  7,  7,  8,  8,\n",
       "        8,  8,  9,  9,  9,  9, 10, 10, 10, 10, 11, 11, 11, 11, 12, 12, 12,\n",
       "       12, 13, 13, 13, 13, 14, 14, 14, 14])"
      ]
     },
     "execution_count": 9,
     "metadata": {},
     "output_type": "execute_result"
    }
   ],
   "source": [
    "#np.random.shuffle(conditions)\n",
    "conditions"
   ]
  },
  {
   "cell_type": "code",
   "execution_count": 10,
   "metadata": {},
   "outputs": [
    {
     "data": {
      "text/plain": [
       "(array([ 0,  5, 36, 45, 13, 54, 33, 48, 12, 57, 46, 50, 31,  3, 52, 17,  8,\n",
       "         6, 40,  4, 43, 19, 34, 58, 25, 56, 15, 27,  9, 30, 26, 16, 24, 55,\n",
       "        11, 32, 53, 41, 37, 29, 44,  1, 21,  2, 47, 39, 35, 23, 49, 10, 22,\n",
       "        18, 59, 20,  7, 42, 14, 28, 51, 38]),\n",
       " array([ 0,  1,  9, 11,  3, 13,  8, 12,  3, 14, 11, 12,  7,  0, 13,  4,  2,\n",
       "         1, 10,  1, 10,  4,  8, 14,  6, 14,  3,  6,  2,  7,  6,  4,  6, 13,\n",
       "         2,  8, 13, 10,  9,  7, 11,  0,  5,  0, 11,  9,  8,  5, 12,  2,  5,\n",
       "         4, 14,  5,  1, 10,  3,  7, 12,  9]),\n",
       " array([-20.        ,  -6.66666667, -20.        ,  -6.66666667,\n",
       "         -6.66666667,   6.66666667,  -6.66666667, -20.        ,\n",
       "        -20.        ,  -6.66666667,   6.66666667,   6.66666667,\n",
       "         20.        ,  20.        , -20.        ,  -6.66666667,\n",
       "        -20.        ,   6.66666667, -20.        , -20.        ,\n",
       "         20.        ,  20.        ,   6.66666667,   6.66666667,\n",
       "         -6.66666667, -20.        ,  20.        ,  20.        ,\n",
       "         -6.66666667,   6.66666667,   6.66666667, -20.        ,\n",
       "        -20.        ,  20.        ,  20.        , -20.        ,\n",
       "         -6.66666667,  -6.66666667,  -6.66666667,  -6.66666667,\n",
       "        -20.        ,  -6.66666667,  -6.66666667,   6.66666667,\n",
       "         20.        ,  20.        ,  20.        ,  20.        ,\n",
       "         -6.66666667,   6.66666667,   6.66666667,   6.66666667,\n",
       "         20.        , -20.        ,  20.        ,   6.66666667,\n",
       "          6.66666667, -20.        ,  20.        ,   6.66666667]))"
      ]
     },
     "execution_count": 10,
     "metadata": {},
     "output_type": "execute_result"
    }
   ],
   "source": [
    "ind = np.random.permutation(np.arange(N_B_theta * N_B_sf*N_trial))\n",
    "conditions = conditions[ind]\n",
    "ind, conditions, thetas[ind]"
   ]
  },
  {
   "cell_type": "code",
   "execution_count": 11,
   "metadata": {},
   "outputs": [
    {
     "data": {
      "text/plain": [
       "(array([0, 0, 3, 3, 1, 4, 2, 4, 1, 4, 3, 4, 2, 0, 4, 1, 0, 0, 3, 0, 3, 1,\n",
       "        2, 4, 2, 4, 1, 2, 0, 2, 2, 1, 2, 4, 0, 2, 4, 3, 3, 2, 3, 0, 1, 0,\n",
       "        3, 3, 2, 1, 4, 0, 1, 1, 4, 1, 0, 3, 1, 2, 4, 3]),\n",
       " array([0, 1, 0, 2, 0, 1, 2, 0, 0, 2, 2, 0, 1, 0, 1, 1, 2, 1, 1, 1, 1, 1,\n",
       "        2, 2, 0, 2, 0, 0, 2, 1, 0, 1, 0, 1, 2, 2, 1, 1, 0, 1, 2, 0, 2, 0,\n",
       "        2, 0, 2, 2, 0, 2, 2, 1, 2, 2, 1, 1, 0, 1, 0, 0]))"
      ]
     },
     "execution_count": 11,
     "metadata": {},
     "output_type": "execute_result"
    }
   ],
   "source": [
    "conditions // N_B_theta, conditions % N_B_theta"
   ]
  },
  {
   "cell_type": "code",
   "execution_count": 12,
   "metadata": {},
   "outputs": [
    {
     "data": {
      "text/plain": [
       "array([ 0,  1,  9, 11,  3, 13,  8, 12,  3, 14, 11, 12,  7,  0, 13,  4,  2,\n",
       "        1, 10,  1, 10,  4,  8, 14,  6, 14,  3,  6,  2,  7,  6,  4,  6, 13,\n",
       "        2,  8, 13, 10,  9,  7, 11,  0,  5,  0, 11,  9,  8,  5, 12,  2,  5,\n",
       "        4, 14,  5,  1, 10,  3,  7, 12,  9])"
      ]
     },
     "execution_count": 12,
     "metadata": {},
     "output_type": "execute_result"
    }
   ],
   "source": [
    "(conditions // N_B_theta)*N_B_theta + conditions % N_B_theta"
   ]
  },
  {
   "cell_type": "code",
   "execution_count": 13,
   "metadata": {},
   "outputs": [
    {
     "name": "stdout",
     "output_type": "stream",
     "text": [
      "\u001b[22;0t\u001b]0;IPython: Notebooks/W17\u0007\n",
      " Initializing\n",
      "B_thetas =  [0.09817477 0.18005332 0.33021925 0.60562477 1.11072073]\n",
      "B_sfs =  [0.0625 0.125  0.25   0.5    1.    ]\n"
     ]
    }
   ],
   "source": [
    "!ipython tmp/exp.py {data_folder} "
   ]
  },
  {
   "cell_type": "code",
   "execution_count": 18,
   "metadata": {},
   "outputs": [
    {
     "name": "stdout",
     "output_type": "stream",
     "text": [
      "Overwriting tmp/test.py\n"
     ]
    }
   ],
   "source": [
    "%%writefile tmp/test.py\n",
    "\n",
    "from psychopy import visual, core\n",
    "import time\n",
    "fullscr = False\n",
    "#win = visual.Window([1400,800],fullscr=fullscr, color=[0,0,0], winType='pygame', monitor='testMonitor', units='height')\n",
    "win = visual.Window([1400, 800], fullscr=fullscr, color=[0, 0, 0])\n",
    "msg = visual.TextStim(win, text='.', color='black')\n",
    "msg.draw()\n",
    "win.flip()\n",
    "time.sleep(2)\n",
    "msg.setText('toto')\n",
    "msg.draw()\n",
    "win.flip()\n",
    "time.sleep(2)\n",
    "print('exiting')\n",
    "win.close()\n",
    "core.quit()\n"
   ]
  },
  {
   "cell_type": "code",
   "execution_count": 19,
   "metadata": {},
   "outputs": [
    {
     "name": "stdout",
     "output_type": "stream",
     "text": [
      "\u001b[22;0t\u001b]0;IPython: Notebooks/W17\u0007pygame 1.9.6\n",
      "Hello from the pygame community. https://www.pygame.org/contribute.html\n",
      "2020-05-05 15:14:17.780 Python[8692:1870061] ApplePersistenceIgnoreState: Existing state will not be touched. New state will be written to (null)\n",
      "exiting\n",
      "2.2523 \tWARNING \tMonitor specification not found. Creating a temporary one...\n",
      "5.1723 \tWARNING \tCouldn't measure a consistent frame rate.\n",
      "  - Is your graphics card set to sync to vertical blank?\n",
      "  - Are you running other processes on your computer?\n",
      "\n",
      "5.2354 \tWARNING \tt of last frame was 63.36ms (=1/15)\n",
      "7.2451 \tWARNING \tt of last frame was 2009.72ms (=1/0)\n"
     ]
    }
   ],
   "source": [
    "!ipython tmp/test.py "
   ]
  },
  {
   "cell_type": "code",
   "execution_count": null,
   "metadata": {},
   "outputs": [],
   "source": []
  }
 ],
 "metadata": {
  "kernelspec": {
   "display_name": "Python 3",
   "language": "python",
   "name": "python3"
  },
  "language_info": {
   "codemirror_mode": {
    "name": "ipython",
    "version": 3
   },
   "file_extension": ".py",
   "mimetype": "text/x-python",
   "name": "python",
   "nbconvert_exporter": "python",
   "pygments_lexer": "ipython3",
   "version": "3.7.7"
  }
 },
 "nbformat": 4,
 "nbformat_minor": 4
}
