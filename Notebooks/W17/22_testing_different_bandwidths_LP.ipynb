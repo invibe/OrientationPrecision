{
 "cells": [
  {
   "cell_type": "markdown",
   "metadata": {},
   "source": [
    "### differents $B_\\theta$, petits $\\theta$, differents $Bsf$"
   ]
  },
  {
   "cell_type": "code",
   "execution_count": 1,
   "metadata": {},
   "outputs": [
    {
     "name": "stdout",
     "output_type": "stream",
     "text": [
      "data_folder = ../Psychopy_data/pilot/B_theta_B_sf\n",
      "Overwriting tmp/exp.py\n",
      "\u001b[22;0t\u001b]0;IPython: Notebooks/W17\u0007\n",
      " Initializing\n",
      "B_thetas =  [0.09817477 0.33021925 1.11072073]\n",
      "B_sfs =  [0.0625 0.125  0.25   0.5    1.    ]\n",
      "Overwriting tmp/test.py\n"
     ]
    }
   ],
   "source": [
    "%run 20_testing_different_bandwidths.ipynb"
   ]
  },
  {
   "cell_type": "code",
   "execution_count": 2,
   "metadata": {},
   "outputs": [
    {
     "name": "stdout",
     "output_type": "stream",
     "text": [
      "\u001b[22;0t\u001b]0;IPython: Notebooks/W17\u0007\n",
      " Initializing\n",
      "B_thetas =  [0.09817477 0.33021925 1.11072073]\n",
      "B_sfs =  [0.0625 0.125  0.25   0.5    1.    ]\n",
      "pygame 1.9.6\n",
      "Hello from the pygame community. https://www.pygame.org/contribute.html\n",
      "2020-05-05 15:36:38.530 Python[10842:1892195] ApplePersistenceIgnoreState: Existing state will not be touched. New state will be written to (null)\n",
      "Test started\n",
      "At trial  0 Angle= 22.500 answer is  right (correct= True );\n",
      "[[0, 0.39269908169872414, 'right', 0.09817477042468103, 0.5, 0, 3, 0.5195656379801221]]\n",
      "At trial  1 Angle= -7.500 answer is  left (correct= True );\n",
      "[[0, 0.39269908169872414, 'right', 0.09817477042468103, 0.5, 0, 3, 0.5195656379801221], [1, -0.13089969389957473, 'left', 0.09817477042468103, 0.5, 0, 3, 0.5209049879922532]]\n"
     ]
    }
   ],
   "source": [
    "!ipython tmp/exp.py {data_folder} LP"
   ]
  }
 ],
 "metadata": {
  "kernelspec": {
   "display_name": "Python 3",
   "language": "python",
   "name": "python3"
  },
  "language_info": {
   "codemirror_mode": {
    "name": "ipython",
    "version": 3
   },
   "file_extension": ".py",
   "mimetype": "text/x-python",
   "name": "python",
   "nbconvert_exporter": "python",
   "pygments_lexer": "ipython3",
   "version": "3.7.7"
  }
 },
 "nbformat": 4,
 "nbformat_minor": 4
}
