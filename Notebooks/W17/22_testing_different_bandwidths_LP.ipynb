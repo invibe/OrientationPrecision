{
 "cells": [
  {
   "cell_type": "markdown",
   "metadata": {},
   "source": [
    "### differents $B_\\theta$, petits $\\theta$, differents $Bsf$"
   ]
  },
  {
   "cell_type": "code",
   "execution_count": 1,
   "metadata": {},
   "outputs": [
    {
     "name": "stdout",
     "output_type": "stream",
     "text": [
      "data_folder = ../Psychopy_data/pilot/B_theta_B_sf\n",
      "Overwriting tmp/exp.py\n",
      "\u001b[22;0t\u001b]0;IPython: Notebooks/W17\u0007\n",
      " Initializing\n",
      "B_thetas =  [0.09817477 0.33021925 1.11072073]\n",
      "B_sfs =  [0.0625 1.    ]\n",
      "\u001b[0;31m---------------------------------------------------------------------------\u001b[0m\n",
      "\u001b[0;31mIndexError\u001b[0m                                Traceback (most recent call last)\n",
      "\u001b[0;32m~/quantic/science/OBV1/jennafradin_MSc-Internship/Notebooks/W17/tmp/exp.py\u001b[0m in \u001b[0;36m<module>\u001b[0;34m\u001b[0m\n",
      "\u001b[1;32m     50\u001b[0m     MC = generate_random_cloud(thetas[i_trial], \n",
      "\u001b[1;32m     51\u001b[0m                                \u001b[0mB_theta\u001b[0m\u001b[0;34m=\u001b[0m\u001b[0mB_thetas\u001b[0m\u001b[0;34m[\u001b[0m\u001b[0mi_B_thetas\u001b[0m\u001b[0;34m[\u001b[0m\u001b[0mi_trial\u001b[0m\u001b[0;34m]\u001b[0m\u001b[0;34m]\u001b[0m\u001b[0;34m,\u001b[0m\u001b[0;34m\u001b[0m\u001b[0;34m\u001b[0m\u001b[0m\n",
      "\u001b[0;32m---> 52\u001b[0;31m                                \u001b[0mB_sf\u001b[0m\u001b[0;34m=\u001b[0m\u001b[0mB_sfs\u001b[0m\u001b[0;34m[\u001b[0m\u001b[0mi_B_sfs\u001b[0m\u001b[0;34m[\u001b[0m\u001b[0mi_trial\u001b[0m\u001b[0;34m]\u001b[0m\u001b[0;34m]\u001b[0m\u001b[0;34m,\u001b[0m\u001b[0;34m\u001b[0m\u001b[0;34m\u001b[0m\u001b[0m\n",
      "\u001b[0m\u001b[1;32m     53\u001b[0m                                seed=seed+i_trial) \n",
      "\u001b[1;32m     54\u001b[0m \u001b[0;34m\u001b[0m\u001b[0m\n",
      "\n",
      "\u001b[0;31mIndexError\u001b[0m: index 2 is out of bounds for axis 0 with size 2\n"
     ]
    }
   ],
   "source": [
    "%run 20_testing_different_bandwidths.ipynb"
   ]
  },
  {
   "cell_type": "code",
   "execution_count": 2,
   "metadata": {},
   "outputs": [
    {
     "name": "stdout",
     "output_type": "stream",
     "text": [
      "\u001b[22;0t\u001b]0;IPython: Notebooks/W17\u0007\n",
      " Initializing\n",
      "B_thetas =  [0.09817477 0.33021925 1.11072073]\n",
      "B_sfs =  [0.0625 1.    ]\n",
      "\u001b[0;31m---------------------------------------------------------------------------\u001b[0m\n",
      "\u001b[0;31mIndexError\u001b[0m                                Traceback (most recent call last)\n",
      "\u001b[0;32m~/quantic/science/OBV1/jennafradin_MSc-Internship/Notebooks/W17/tmp/exp.py\u001b[0m in \u001b[0;36m<module>\u001b[0;34m\u001b[0m\n",
      "\u001b[1;32m     50\u001b[0m     MC = generate_random_cloud(thetas[i_trial], \n",
      "\u001b[1;32m     51\u001b[0m                                \u001b[0mB_theta\u001b[0m\u001b[0;34m=\u001b[0m\u001b[0mB_thetas\u001b[0m\u001b[0;34m[\u001b[0m\u001b[0mi_B_thetas\u001b[0m\u001b[0;34m[\u001b[0m\u001b[0mi_trial\u001b[0m\u001b[0;34m]\u001b[0m\u001b[0;34m]\u001b[0m\u001b[0;34m,\u001b[0m\u001b[0;34m\u001b[0m\u001b[0;34m\u001b[0m\u001b[0m\n",
      "\u001b[0;32m---> 52\u001b[0;31m                                \u001b[0mB_sf\u001b[0m\u001b[0;34m=\u001b[0m\u001b[0mB_sfs\u001b[0m\u001b[0;34m[\u001b[0m\u001b[0mi_B_sfs\u001b[0m\u001b[0;34m[\u001b[0m\u001b[0mi_trial\u001b[0m\u001b[0;34m]\u001b[0m\u001b[0;34m]\u001b[0m\u001b[0;34m,\u001b[0m\u001b[0;34m\u001b[0m\u001b[0;34m\u001b[0m\u001b[0m\n",
      "\u001b[0m\u001b[1;32m     53\u001b[0m                                seed=seed+i_trial) \n",
      "\u001b[1;32m     54\u001b[0m \u001b[0;34m\u001b[0m\u001b[0m\n",
      "\n",
      "\u001b[0;31mIndexError\u001b[0m: index 2 is out of bounds for axis 0 with size 2\n"
     ]
    }
   ],
   "source": [
    "!ipython tmp/exp.py {data_folder} LP"
   ]
  }
 ],
 "metadata": {
  "kernelspec": {
   "display_name": "Python 3",
   "language": "python",
   "name": "python3"
  },
  "language_info": {
   "codemirror_mode": {
    "name": "ipython",
    "version": 3
   },
   "file_extension": ".py",
   "mimetype": "text/x-python",
   "name": "python",
   "nbconvert_exporter": "python",
   "pygments_lexer": "ipython3",
   "version": "3.7.7"
  }
 },
 "nbformat": 4,
 "nbformat_minor": 4
}
