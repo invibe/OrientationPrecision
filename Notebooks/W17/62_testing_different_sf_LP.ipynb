{
 "cells": [
  {
   "cell_type": "markdown",
   "metadata": {},
   "source": [
    "### differents $B_\\theta$, petits $\\theta$, differents $sf_0$"
   ]
  },
  {
   "cell_type": "code",
   "execution_count": 1,
   "metadata": {},
   "outputs": [
    {
     "name": "stdout",
     "output_type": "stream",
     "text": [
      "data_folder = ../Psychopy_data/pilot/sf_0\n",
      "Overwriting tmp/60_testing_different_sf.py\n",
      "\u001b[22;0t\u001b]0;IPython: Notebooks/W17\u0007\n",
      " Initializing\n",
      "B_thetas =  [0.20943951 0.41887902 0.62831853 0.83775804 1.04719755]\n",
      "sfs =  [0.5        0.35355339 0.25       0.1767767  0.125     ]\n"
     ]
    }
   ],
   "source": [
    "%run 60_testing_different_sf.ipynb"
   ]
  },
  {
   "cell_type": "code",
   "execution_count": 2,
   "metadata": {},
   "outputs": [
    {
     "name": "stdout",
     "output_type": "stream",
     "text": [
      "\u001b[22;0t\u001b]0;IPython: Notebooks/W17\u0007\n",
      " Initializing\n",
      "B_thetas =  [0.20943951 0.41887902 0.62831853 0.83775804 1.04719755]\n",
      "sfs =  [0.5        0.35355339 0.25       0.1767767  0.125     ]\n",
      "pygame 1.9.6\n",
      "Hello from the pygame community. https://www.pygame.org/contribute.html\n",
      "2020-05-12 15:02:02.997 Python[16426:5035397] ApplePersistenceIgnoreState: Existing state will not be touched. New state will be written to (null)\n",
      "Test started\n",
      "At trial  0 Angle= -19.853 answer is  left (correct= True );\n",
      "At trial  1 Angle= -11.912 answer is  left (correct= True );\n",
      "At trial  2 Angle= -22.500 answer is  left (correct= True );\n"
     ]
    }
   ],
   "source": [
    "!ipython tmp/60_testing_different_sf.py {data_folder} 5 5 18 JF"
   ]
  }
 ],
 "metadata": {
  "kernelspec": {
   "display_name": "Python 3",
   "language": "python",
   "name": "python3"
  },
  "language_info": {
   "codemirror_mode": {
    "name": "ipython",
    "version": 3
   },
   "file_extension": ".py",
   "mimetype": "text/x-python",
   "name": "python",
   "nbconvert_exporter": "python",
   "pygments_lexer": "ipython3",
   "version": "3.7.7"
  }
 },
 "nbformat": 4,
 "nbformat_minor": 4
}
