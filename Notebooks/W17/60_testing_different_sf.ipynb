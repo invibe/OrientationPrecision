{
 "cells": [
  {
   "cell_type": "markdown",
   "metadata": {},
   "source": [
    "### differents $B_\\theta$, petits $\\theta$, differents $sf_0$"
   ]
  },
  {
   "cell_type": "code",
   "execution_count": null,
   "metadata": {},
   "outputs": [],
   "source": [
    "import os"
   ]
  },
  {
   "cell_type": "code",
   "execution_count": 2,
   "metadata": {},
   "outputs": [],
   "source": [
    "%mkdir -p tmp"
   ]
  },
  {
   "cell_type": "code",
   "execution_count": 3,
   "metadata": {},
   "outputs": [
    {
     "name": "stdout",
     "output_type": "stream",
     "text": [
      "data_folder = ../Psychopy_data/pilot/sf_0\n"
     ]
    }
   ],
   "source": [
    "data_folder = os.path.join('..', 'Psychopy_data', 'pilot', 'sf_0')\n",
    "print('data_folder =', data_folder)"
   ]
  },
  {
   "cell_type": "code",
   "execution_count": 4,
   "metadata": {},
   "outputs": [],
   "source": [
    "%mkdir -p {data_folder}"
   ]
  },
  {
   "cell_type": "code",
   "execution_count": 5,
   "metadata": {},
   "outputs": [
    {
     "data": {
      "text/plain": [
       "array([0.25      , 0.1767767 , 0.125     , 0.08838835, 0.0625    ])"
      ]
     },
     "execution_count": 5,
     "metadata": {},
     "output_type": "execute_result"
    }
   ],
   "source": [
    "import numpy as np\n",
    "\n",
    "N_sf = 5\n",
    "np.logspace(-2, -4, N_sf, base=2)"
   ]
  },
  {
   "cell_type": "code",
   "execution_count": 6,
   "metadata": {},
   "outputs": [
    {
     "name": "stdout",
     "output_type": "stream",
     "text": [
      "Writing tmp/60_testing_different_sf.py\n"
     ]
    }
   ],
   "source": [
    "%%writefile tmp/60_testing_different_sf.py\n",
    "import sys\n",
    "import numpy as np\n",
    "import os\n",
    "import imageio\n",
    "import sys\n",
    "\n",
    "data_folder = sys.argv[1]\n",
    "print('\\n Initializing')\n",
    "\n",
    "N_B_theta = int(sys.argv[2])\n",
    "N_sf = int(sys.argv[3])\n",
    "N_trial = int(sys.argv[4])\n",
    "\n",
    "B_thetas = np.pi/3*np.linspace(0, 1, N_B_theta+1)[1:]\n",
    "print('B_thetas = ', B_thetas)\n",
    "sfs = np.logspace(-2, -4, N_sf, base=2)\n",
    "print('sfs = ', sfs)\n",
    "theta_max = np.pi/8\n",
    "\n",
    "N_total_trials = N_trial * N_B_theta * N_sf      # number of trials\n",
    "fixation_length = 0.25  # length of fixation, in second\n",
    "stim_length = 0.25   # length of stim, in second\n",
    "\n",
    "seed = 2020\n",
    "np.random.seed(seed)\n",
    "\n",
    "thetas = np.linspace(-theta_max, theta_max, N_trial)\n",
    "thetas = np.ravel(thetas[None, :] * np.ones((N_B_theta * N_sf, 1)))\n",
    "conditions = np.ravel(np.arange(N_B_theta * N_sf)[:, None] * np.ones((1, N_trial))).astype(np.int)\n",
    "ind = np.random.permutation(np.arange(N_total_trials))\n",
    "\n",
    "thetas = thetas[ind]\n",
    "conditions = conditions[ind]\n",
    "i_sfs, i_B_thetas = conditions // N_B_theta, conditions % N_B_theta\n",
    "i_sfs, i_B_thetas = i_sfs.astype(np.int), i_B_thetas.astype(np.int)\n",
    "\n",
    "# generate all clouds\n",
    "\n",
    "def generate_random_cloud(theta, B_theta, sf_0, seed, downscale = 1):\n",
    "    fname = 'tmp/%s_%s_%s_%s.png' % (theta, B_theta, sf_0, seed)\n",
    "    if not os.path.isfile(fname):\n",
    "        import MotionClouds as mc\n",
    "        fx, fy, ft = mc.get_grids(mc.N_X/downscale, mc.N_Y/downscale, 1)\n",
    "        mc_i = mc.envelope_gabor(fx, fy, ft, V_X=0., V_Y=0., sf_0=sf_0,\n",
    "                                 B_V=0, theta=np.pi/2-theta, B_theta=B_theta)\n",
    "        im = mc.random_cloud(mc_i, seed=seed)\n",
    "        im = (mc.rectif(im) * 255).astype('uint8')\n",
    "        imageio.imwrite(fname, im[:, :, 0])\n",
    "    return fname\n",
    "\n",
    "for i_trial in range(N_total_trials):\n",
    "    #print(i_B_thetas.shape)\n",
    "    #print(B_thetas.shape)\n",
    "    #print(thetas[i_trial])\n",
    "    #print(i_B_thetas[i_trial])\n",
    "    #print(B_thetas[i_B_thetas[i_trial]])\n",
    "    MC = generate_random_cloud(thetas[i_trial], \n",
    "                               B_theta=B_thetas[i_B_thetas[i_trial]], \n",
    "                               sf_0=sfs[i_sfs[i_trial]], \n",
    "                               seed=seed+i_trial) \n",
    "\n",
    "if len(sys.argv)>5:\n",
    "    exp_observer = sys.argv[5]\n",
    "\n",
    "    exp_name = \"Perception de l'orientation\"\n",
    "    \n",
    "    fullscr = False\n",
    "    fullscr = True\n",
    "\n",
    "\n",
    "    from psychopy import visual, core, event\n",
    "    win = visual.Window([1400, 800], fullscr=fullscr, color=[0, 0, 0])\n",
    "\n",
    "\n",
    "    mouse = event.Mouse(newPos=(0, 0), visible=False)\n",
    "    x0, y0 = mouse.getPos()\n",
    "    event.clearEvents()\n",
    "    instructions = \"\"\"\n",
    "    At each trial you see one textured image, report the \n",
    "    orientation you perceive.\n",
    "\n",
    "    Move the mouse to the right if it is clock-wise of the vertical,\n",
    "    move the mouse to the left if it is counter clock-wise of the vertical.\n",
    "\n",
    "    Move the mouse to begin the experiment.\n",
    "    \"\"\"\n",
    "    msg = visual.TextStim(win, text=instructions, alignHoriz='center', alignVert='center', color='black')\n",
    "    msg.draw()\n",
    "    win.flip()\n",
    "    while not mouse.mouseMoved(distance=.05): \n",
    "        event.clearEvents()\n",
    "    fixation = visual.TextStim(win, text='Ready?', alignHoriz='center', alignVert='center', color='black')\n",
    "    #fixation = visual.ShapeStim(vertices='cross', win=win, size=0.05, pos=[0, 0], fillColor='black', units='height')\n",
    "    #fixation.autolog = False\n",
    "\n",
    "    bitmap = visual.ImageStim(win, MC, mask='gauss', size=0.8, units='height', interpolate=True)\n",
    "    bitmap.autolog = False \n",
    "\n",
    "    import time\n",
    "    start_time = time.time()\n",
    "    print(\"Test started\")\n",
    "    msg.setText('+')\n",
    "    ans_list = []\n",
    "    # run experiment\n",
    "    for i_trial in range(N_total_trials):\n",
    "        clock = core.Clock()\n",
    "        if i_trial % N_trial:\n",
    "            fixation.setText(f'{i_trial:03d}/{N_total_trials:03d}')\n",
    "        else:\n",
    "            fixation.setText(f'.')\n",
    "        fixation.draw()\n",
    "        win.flip()\n",
    "\n",
    "        MC = generate_random_cloud(thetas[i_trial], \n",
    "                           B_theta=B_thetas[i_B_thetas[i_trial]], \n",
    "                           sf_0=sfs[i_sfs[i_trial]], \n",
    "                           seed=seed+i_trial)\n",
    "        bitmap.setImage(MC)\n",
    "\n",
    "         # Times the trial\n",
    "        while clock.getTime() < fixation_length + stim_length:\n",
    "            if clock.getTime() < fixation_length:  # fixation\n",
    "                fixation.draw()\n",
    "            elif clock.getTime() < fixation_length + stim_length: \n",
    "                bitmap.draw()\n",
    "            win.flip()\n",
    "\n",
    "        mouse.setPos(newPos=(0, 0))\n",
    "        mouse.setVisible(True)\n",
    "        x0, y0 = mouse.getPos()\n",
    "        event.clearEvents()\n",
    "        \n",
    "        msg.draw()\n",
    "        win.flip()\n",
    "\n",
    "        while not mouse.mouseMoved(distance=.015): \n",
    "            # this creates a never-ending loop\n",
    "            # until we move the mouse\n",
    "            event.clearEvents()\n",
    "        mouse.setVisible(False)\n",
    "\n",
    "        RT = clock.getTime()\n",
    "\n",
    "        x, y = mouse.getPos()\n",
    "        if x < 0:\n",
    "            answer = 'left'\n",
    "        else: #elif x > 0:\n",
    "            answer = 'right'\n",
    "            if x == 0: print('this should not happen 😤')\n",
    "        event.clearEvents() \n",
    "\n",
    "        ans = event.getKeys()       \n",
    "\n",
    "        if ans == ['escape', 'q']:\n",
    "            win.close()\n",
    "            core.quit()\n",
    "\n",
    "        correct = ((thetas[i_trial] > 0) and answer == 'right') or ((thetas[i_trial] < 0) and answer == 'left')\n",
    "        print('At trial ', i_trial, 'Angle=', '%3.3f' % (thetas[i_trial]*180/np.pi), 'answer is ',  answer, '(correct=', correct, ');')   \n",
    "\n",
    "        ans_list.append([i_trial, thetas[i_trial], answer, \n",
    "                         B_thetas[i_B_thetas[i_trial]], sfs[i_sfs[i_trial]], \n",
    "                         int(i_B_thetas[i_trial]), int(i_sfs[i_trial]), RT])\n",
    "    \n",
    "    print('saving')\n",
    "    import json\n",
    "    with open(os.path.join(data_folder, f'Psychophys_discrim_{exp_observer}.json'), 'w') as fp:\n",
    "        json.dump(ans_list, fp)\n",
    "\n",
    "    print('exiting')\n",
    "    event.clearEvents() \n",
    "    win.close()\n",
    "    core.quit()\n"
   ]
  },
  {
   "cell_type": "code",
   "execution_count": 7,
   "metadata": {},
   "outputs": [
    {
     "name": "stdout",
     "output_type": "stream",
     "text": [
      "\u001b[22;0t\u001b]0;IPython: Notebooks/W17\u0007\n",
      " Initializing\n",
      "B_thetas =  [0.20943951 0.41887902 0.62831853 0.83775804 1.04719755]\n",
      "sfs =  [0.5        0.35355339 0.25       0.1767767  0.125     ]\n"
     ]
    }
   ],
   "source": [
    "!ipython tmp/60_testing_different_sf.py {data_folder} 5 5 18"
   ]
  }
 ],
 "metadata": {
  "kernelspec": {
   "display_name": "Python 3",
   "language": "python",
   "name": "python3"
  },
  "language_info": {
   "codemirror_mode": {
    "name": "ipython",
    "version": 3
   },
   "file_extension": ".py",
   "mimetype": "text/x-python",
   "name": "python",
   "nbconvert_exporter": "python",
   "pygments_lexer": "ipython3",
   "version": "3.7.7"
  }
 },
 "nbformat": 4,
 "nbformat_minor": 4
}
