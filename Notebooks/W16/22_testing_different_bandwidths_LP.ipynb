{
 "cells": [
  {
   "cell_type": "markdown",
   "metadata": {},
   "source": [
    "### differents $B_\\theta$, petits $\\theta$, differents $Bsf$"
   ]
  },
  {
   "cell_type": "code",
   "execution_count": 1,
   "metadata": {},
   "outputs": [
    {
     "name": "stdout",
     "output_type": "stream",
     "text": [
      "Overwriting exp.py\n"
     ]
    }
   ],
   "source": [
    "%run 20_testing_different_bandwidths.ipynb"
   ]
  },
  {
   "cell_type": "code",
   "execution_count": 2,
   "metadata": {},
   "outputs": [],
   "source": [
    "exp_name = \"Perception de l'orientation\"\n",
    "exp_info = {'participant':'LP'}\n",
    "exp_info['exp_name'] = exp_name"
   ]
  },
  {
   "cell_type": "code",
   "execution_count": 3,
   "metadata": {},
   "outputs": [
    {
     "name": "stdout",
     "output_type": "stream",
     "text": [
      "\u001b[22;0t\u001b]0;IPython: Notebooks/W16\u0007['/Users/laurentperrinet/quantic/science/OBV1/jennafradin_MSc-Internship/Notebooks/W16/exp.py', '../Psychopy_data/pilot/B_theta_sf', 'LP']\n",
      "pygame 1.9.6\n",
      "Hello from the pygame community. https://www.pygame.org/contribute.html\n",
      "2020-05-05 09:05:05.416 Python[87678:1641268] ApplePersistenceIgnoreState: Existing state will not be touched. New state will be written to (null)\n",
      "Test started\n",
      "\u001b[0;31m---------------------------------------------------------------------------\u001b[0m\n",
      "\u001b[0;31mNameError\u001b[0m                                 Traceback (most recent call last)\n",
      "\u001b[0;32m~/quantic/science/OBV1/jennafradin_MSc-Internship/Notebooks/W16/exp.py\u001b[0m in \u001b[0;36m<module>\u001b[0;34m\u001b[0m\n",
      "\u001b[1;32m     86\u001b[0m \u001b[0;34m\u001b[0m\u001b[0m\n",
      "\u001b[1;32m     87\u001b[0m     \u001b[0;31m# MC generation\u001b[0m\u001b[0;34m\u001b[0m\u001b[0;34m\u001b[0m\u001b[0;34m\u001b[0m\u001b[0m\n",
      "\u001b[0;32m---> 88\u001b[0;31m     \u001b[0mi_B_theta\u001b[0m \u001b[0;34m=\u001b[0m \u001b[0mrandom\u001b[0m\u001b[0;34m.\u001b[0m\u001b[0mrandint\u001b[0m\u001b[0;34m(\u001b[0m\u001b[0;36m0\u001b[0m\u001b[0;34m,\u001b[0m \u001b[0mN_B_thetas\u001b[0m\u001b[0;34m-\u001b[0m\u001b[0;36m1\u001b[0m\u001b[0;34m)\u001b[0m\u001b[0;34m\u001b[0m\u001b[0;34m\u001b[0m\u001b[0m\n",
      "\u001b[0m\u001b[1;32m     89\u001b[0m     \u001b[0mB_theta\u001b[0m \u001b[0;34m=\u001b[0m \u001b[0mB_thetas\u001b[0m\u001b[0;34m[\u001b[0m\u001b[0mi_B_theta\u001b[0m\u001b[0;34m]\u001b[0m\u001b[0;34m\u001b[0m\u001b[0;34m\u001b[0m\u001b[0m\n",
      "\u001b[1;32m     90\u001b[0m     \u001b[0mi_B_sf\u001b[0m \u001b[0;34m=\u001b[0m \u001b[0mrandom\u001b[0m\u001b[0;34m.\u001b[0m\u001b[0mrandint\u001b[0m\u001b[0;34m(\u001b[0m\u001b[0;36m0\u001b[0m\u001b[0;34m,\u001b[0m \u001b[0mN_B_Bsf\u001b[0m\u001b[0;34m-\u001b[0m\u001b[0;36m1\u001b[0m\u001b[0;34m)\u001b[0m\u001b[0;34m\u001b[0m\u001b[0;34m\u001b[0m\u001b[0m\n",
      "\n",
      "\u001b[0;31mNameError\u001b[0m: name 'random' is not defined\n",
      "2.4336 \tWARNING \tMonitor specification not found. Creating a temporary one...\n",
      "2.4372 \tWARNING \tUser requested fullscreen with size [1400  800], but screen is actually [1680, 1050]. Using actual size\n",
      "3.3573 \tWARNING \tTextStim.alignVert is deprecated. Use the anchorVert attribute instead\n",
      "3.3573 \tWARNING \tTextStim.alignHoriz is deprecated. Use alignText and anchorHoriz attributes instead\n"
     ]
    }
   ],
   "source": [
    "!ipython exp.py {data_folder} LP"
   ]
  }
 ],
 "metadata": {
  "kernelspec": {
   "display_name": "Python 3",
   "language": "python",
   "name": "python3"
  },
  "language_info": {
   "codemirror_mode": {
    "name": "ipython",
    "version": 3
   },
   "file_extension": ".py",
   "mimetype": "text/x-python",
   "name": "python",
   "nbconvert_exporter": "python",
   "pygments_lexer": "ipython3",
   "version": "3.7.7"
  }
 },
 "nbformat": 4,
 "nbformat_minor": 4
}
