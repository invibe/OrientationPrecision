{
 "cells": [
  {
   "cell_type": "markdown",
   "metadata": {},
   "source": [
    "### differents $B_\\theta$, petits $\\theta$, differents $Bsf$"
   ]
  },
  {
   "cell_type": "code",
   "execution_count": 1,
   "metadata": {},
   "outputs": [],
   "source": [
    "import os"
   ]
  },
  {
   "cell_type": "code",
   "execution_count": 2,
   "metadata": {},
   "outputs": [],
   "source": [
    "%mkdir -p tmp"
   ]
  },
  {
   "cell_type": "code",
   "execution_count": 3,
   "metadata": {},
   "outputs": [
    {
     "name": "stdout",
     "output_type": "stream",
     "text": [
      "data_folder = ../Psychopy_data/pilot/B_theta_sf\n"
     ]
    }
   ],
   "source": [
    "data_folder = os.path.join('..', 'Psychopy_data', 'pilot', 'B_theta_sf')#,'json')\n",
    "print('data_folder =', data_folder)"
   ]
  },
  {
   "cell_type": "code",
   "execution_count": 4,
   "metadata": {},
   "outputs": [],
   "source": [
    "%mkdir -p {data_folder}"
   ]
  },
  {
   "cell_type": "code",
   "execution_count": 5,
   "metadata": {},
   "outputs": [
    {
     "name": "stdout",
     "output_type": "stream",
     "text": [
      "Overwriting tmp/exp.py\n"
     ]
    }
   ],
   "source": [
    "%%writefile tmp/exp.py\n",
    "import sys\n",
    "import numpy as np\n",
    "import os\n",
    "import imageio\n",
    "import sys\n",
    "\n",
    "print(sys.argv)\n",
    "data_folder = sys.argv[1]\n",
    "exp_observer = sys.argv[2]\n",
    "\n",
    "exp_name = \"Perception de l'orientation\"\n",
    "exp_info = {'participant': exp_observer,\n",
    "            'exp_name': exp_name\n",
    "           }\n",
    "\n",
    "N_B_thetas = 5\n",
    "N_B_Bsf = 5\n",
    "B_thetas = np.pi*np.logspace(-5, -1.5, N_B_thetas, base=2)\n",
    "B_sfs = np.logspace(-4, 0., N_B_Bsf, base=2)\n",
    "theta_max = np.pi/6\n",
    "\n",
    "seed = 42\n",
    "np.random.seed(seed)\n",
    "test_length = 500     # number of trials\n",
    "fixation_length = 0.25  # length of fixation, in second\n",
    "stim_length = 0.25   # length of stim, in second\n",
    "\n",
    "fig_width = 21\n",
    "\n",
    "fullscr = False\n",
    "fullscr = True\n",
    "\n",
    "#help(mc.envelope_gabor)\n",
    "\n",
    "def generate_random_cloud(theta, B_theta, B_sf, downscale = 1):\n",
    "    fname = 'tmp/%s_%s_%s.png' % (theta, B_theta, B_sf)\n",
    "    if not os.path.isfile(fname):\n",
    "        import MotionClouds as mc\n",
    "        fx, fy, ft = mc.get_grids(mc.N_X/downscale, mc.N_Y/downscale, 1)\n",
    "        mc_i = mc.envelope_gabor(fx, fy, ft, V_X=0., V_Y=0.,\n",
    "                                 B_V=0, theta=np.pi/2-theta, B_theta=B_theta)\n",
    "        im = mc.random_cloud(mc_i)\n",
    "        im = (mc.rectif(im) * 255).astype('uint8')\n",
    "        imageio.imwrite(fname, im[:, :, 0])\n",
    "    return fname\n",
    "\n",
    "from psychopy import visual, core, event, gui, data\n",
    "\n",
    "#win = visual.Window([1400,800],fullscr=fullscr, color=[0,0,0], winType='pygame', monitor='testMonitor', units='height')\n",
    "win = visual.Window([1400, 800], fullscr=fullscr, color=[0, 0, 0])\n",
    "\n",
    "\n",
    "mouse = event.Mouse(newPos=(0, 0), visible=False)\n",
    "x0, y0 = mouse.getPos()\n",
    "event.clearEvents()\n",
    "instructions = \"\"\"\n",
    "At each trial you see one textured image, report the \n",
    "orientation you perceive.\n",
    "\n",
    "Move the mouse to the right if it is clock-wise of the vertical,\n",
    "move the mouse to the left if it is counter clock-wise of the vertical.\n",
    "\n",
    "Move the mouse to begin the experiment.\n",
    "\"\"\"\n",
    "msg = visual.TextStim(win, text=instructions, alignHoriz='center', alignVert='center', color='black')\n",
    "msg.draw()\n",
    "win.flip()\n",
    "while not mouse.mouseMoved(distance=.05): \n",
    "    event.clearEvents()\n",
    "fixation = visual.ShapeStim(vertices='cross', win=win, size=0.05, pos=[0, 0], fillColor='black', units='height')\n",
    "fixation.autolog = False\n",
    "\n",
    "MC = generate_random_cloud(np.pi/2, B_theta=np.pi/2, B_sf=0.1)\n",
    "bitmap = visual.ImageStim(win, MC, mask='gauss', size=0.8, units='height', interpolate=True)\n",
    "bitmap.autolog = False \n",
    "\n",
    "msg = visual.TextStim(win, text='?', color='black')\n",
    "\n",
    "import time\n",
    "start_time = time.time()\n",
    "print(\"Test started\")\n",
    "\n",
    "ans_list = []\n",
    "# generate all clouds\n",
    "np.random.seed(seed)\n",
    "for trial in range(test_length):\n",
    "    theta = (2*np.random.rand()-1)*theta_max\n",
    "\n",
    "    # MC generation\n",
    "    i_B_theta = np.random.randint(0, N_B_thetas)\n",
    "    B_theta = B_thetas[i_B_theta]\n",
    "    i_B_sf = np.random.randint(0, N_B_Bsf)\n",
    "    B_sf = B_sfs[i_B_sf]\n",
    "    MC1 = generate_random_cloud(theta, B_theta=B_theta, B_sf=B_sf) \n",
    "\n",
    "# run experiment\n",
    "np.random.seed(seed)\n",
    "for trial in range(test_length):\n",
    "    clock = core.Clock()\n",
    "    fixation.draw()\n",
    "    win.flip()\n",
    "\n",
    "    theta = (2*np.random.rand()-1)*theta_max\n",
    "\n",
    "    # MC generation\n",
    "    i_B_theta = np.random.randint(0, N_B_thetas)\n",
    "    B_theta = B_thetas[i_B_theta]\n",
    "    i_B_sf = np.random.randint(0, N_B_Bsf)\n",
    "    B_sf = B_sfs[i_B_sf]\n",
    "    MC = generate_random_cloud(theta, B_theta=B_theta, B_sf=B_sf) \n",
    "    bitmap.setImage(MC)\n",
    "\n",
    "     # Times the trial\n",
    "    while clock.getTime() < fixation_length + stim_length:\n",
    "        if clock.getTime() < fixation_length:  # fixation\n",
    "            fixation.draw()\n",
    "        elif clock.getTime() < fixation_length + stim_length: \n",
    "            bitmap.draw()\n",
    "        win.flip()\n",
    "        \n",
    "    msg.draw()\n",
    "    win.flip()\n",
    "\n",
    "    mouse.setPos(newPos=(0, 0))\n",
    "    x0, y0 = mouse.getPos()\n",
    "    event.clearEvents()\n",
    "\n",
    "    while not mouse.mouseMoved(distance=.025): \n",
    "        # this creates a never-ending loop\n",
    "        # until we move the mouse\n",
    "        event.clearEvents()\n",
    "\n",
    "    x, y = mouse.getPos()\n",
    "    if x < 0:\n",
    "        answer = 'left'\n",
    "    else: #elif x > 0:\n",
    "        answer = 'right'\n",
    "        if x == 0: print('this should not happen 😤')\n",
    "    event.clearEvents() \n",
    "\n",
    "    ans = event.getKeys()       \n",
    "\n",
    "    if ans == ['escape', 'q']:\n",
    "        win.close()\n",
    "        core.quit()\n",
    "\n",
    "    correct = ((theta > 0) and answer == 'right') or ((theta < 0) and answer == 'left')\n",
    "    print('At trial ', trial, 'Angle=', '%3.3f' % (theta*180/np.pi), 'answer is ',  answer, '(correct=', correct, '); bandwidth=', '%.3f' % (B_theta*180/np.pi),'B_sf=', B_sf)   \n",
    "\n",
    "    # Output shape per trial is : trial number, shift direction, answered shift and b_theta\n",
    "    ans_list.append([trial, theta, answer, B_theta, B_sf, i_B_theta, i_B_sf])\n",
    "\n",
    "print('saving')\n",
    "import json\n",
    "json.dump(ans_list, open( os.path.join(data_folder, 'Psychophys_discrim_%s.json' % exp_info['participant']),'w',encoding=\"utf8\"))\n",
    "event.clearEvents() \n",
    "\n",
    "print('exiting')\n",
    "event.clearEvents() \n",
    "win.close()\n",
    "core.quit()\n"
   ]
  },
  {
   "cell_type": "code",
   "execution_count": 6,
   "metadata": {},
   "outputs": [
    {
     "name": "stdout",
     "output_type": "stream",
     "text": [
      "Overwriting tmp/test.py\n"
     ]
    }
   ],
   "source": [
    "%%writefile tmp/test.py\n",
    "import sys\n",
    "import numpy as np\n",
    "import MotionClouds as mc\n",
    "import os\n",
    "import imageio\n",
    "import sys\n",
    "\n",
    "print(sys.argv)\n",
    "\n",
    "from psychopy import visual, core, event, gui, data\n",
    "fullscr = False\n",
    "#win = visual.Window([1400,800],fullscr=fullscr, color=[0,0,0], winType='pygame', monitor='testMonitor', units='height')\n",
    "win = visual.Window([1400, 800], fullscr=fullscr, color=[0, 0, 0])\n",
    "\n",
    "print('exiting')\n",
    "event.clearEvents() \n",
    "win.close()\n",
    "core.quit()\n"
   ]
  },
  {
   "cell_type": "code",
   "execution_count": 7,
   "metadata": {},
   "outputs": [],
   "source": [
    "#!ipython tmp/test.py {data_folder} LP"
   ]
  },
  {
   "cell_type": "code",
   "execution_count": null,
   "metadata": {},
   "outputs": [],
   "source": []
  }
 ],
 "metadata": {
  "kernelspec": {
   "display_name": "Python 3",
   "language": "python",
   "name": "python3"
  },
  "language_info": {
   "codemirror_mode": {
    "name": "ipython",
    "version": 3
   },
   "file_extension": ".py",
   "mimetype": "text/x-python",
   "name": "python",
   "nbconvert_exporter": "python",
   "pygments_lexer": "ipython3",
   "version": "3.7.7"
  }
 },
 "nbformat": 4,
 "nbformat_minor": 4
}
