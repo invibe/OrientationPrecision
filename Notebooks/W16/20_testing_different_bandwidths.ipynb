{
 "cells": [
  {
   "cell_type": "markdown",
   "metadata": {},
   "source": [
    " #### différent $B_\\theta$, petits $\\theta$, differents $B_{sf}$"
   ]
  },
  {
   "cell_type": "code",
   "execution_count": 1,
   "metadata": {},
   "outputs": [
    {
     "name": "stdout",
     "output_type": "stream",
     "text": [
      "pygame 1.9.6\n",
      "Hello from the pygame community. https://www.pygame.org/contribute.html\n"
     ]
    }
   ],
   "source": [
    "import numpy as np\n",
    "import MotionClouds as mc\n",
    "import matplotlib.pyplot as plt\n",
    "import os\n",
    "import imageio\n",
    "import random\n",
    "from psychopy import visual, core, event, gui, data\n",
    "import MotionClouds as MC\n",
    "import pygame"
   ]
  },
  {
   "cell_type": "code",
   "execution_count": 2,
   "metadata": {},
   "outputs": [
    {
     "data": {
      "text/plain": [
       "'../Psychopy_data/pilot/B_sf'"
      ]
     },
     "execution_count": 2,
     "metadata": {},
     "output_type": "execute_result"
    }
   ],
   "source": [
    "exp_name = \"Perception de l'orientation\"\n",
    "exp_info = {'participant':''}\n",
    "subj_info = gui.DlgFromDict(dictionary=exp_info, title=exp_name)\n",
    "exp_info['exp_name'] = exp_name\n",
    "data_folder = os.path.join('..', 'Psychopy_data', 'pilot', 'B_theta_sf')#,'json')\n",
    "data_folder"
   ]
  },
  {
   "cell_type": "code",
   "execution_count": 3,
   "metadata": {},
   "outputs": [],
   "source": [
    "%mkdir -p {data_folder}"
   ]
  },
  {
   "cell_type": "code",
   "execution_count": 4,
   "metadata": {},
   "outputs": [],
   "source": [
    "N_B_thetas = 5\n",
    "N_B_Bsf = 5\n",
    "B_thetas = np.pi*np.logspace(-5, -1.5, N_B_thetas, base=2)\n",
    "B_sfs = np.logspace(-4, 0., N_B_Bsf, base=2)\n",
    "theta_max = np.pi/6\n",
    "\n",
    "seed = 42\n",
    "np.random.seed(seed)\n",
    "test_length = 500     # number of trials\n",
    "fixation_length = .5  # length of fixation, in second\n",
    "stim1_length = 0.25   # length of first stim, in second\n",
    "stim2_length = 0.25   # length of the second stim, in second "
   ]
  },
  {
   "cell_type": "code",
   "execution_count": 13,
   "metadata": {},
   "outputs": [
    {
     "data": {
      "text/plain": [
       "0.05808361216819946"
      ]
     },
     "execution_count": 13,
     "metadata": {},
     "output_type": "execute_result"
    }
   ],
   "source": [
    "np.random.seed(seed)\n",
    "np.random.rand()"
   ]
  },
  {
   "cell_type": "code",
   "execution_count": 3,
   "metadata": {},
   "outputs": [],
   "source": [
    "downscale = 1\n",
    "fig_width = 21\n",
    "fx, fy, ft = mc.get_grids(mc.N_X/downscale, mc.N_Y/downscale, 1)"
   ]
  },
  {
   "cell_type": "code",
   "execution_count": 4,
   "metadata": {},
   "outputs": [],
   "source": [
    "fullscr = False\n",
    "fullscr = True"
   ]
  },
  {
   "cell_type": "code",
   "execution_count": 5,
   "metadata": {},
   "outputs": [
    {
     "name": "stdout",
     "output_type": "stream",
     "text": [
      "Help on function envelope_gabor in module MotionClouds:\n",
      "\n",
      "envelope_gabor(fx, fy, ft, V_X=1.0, V_Y=0.0, B_V=0.5, sf_0=0.125, B_sf=0.1, loggabor=True, theta=0.0, B_theta=0.19634954084936207, alpha=0.0, **kwargs)\n",
      "    Returns the Motion Cloud kernel, that is the product of:\n",
      "        * a speed envelope\n",
      "        * an orientation envelope\n",
      "        * an orientation envelope\n",
      "\n"
     ]
    }
   ],
   "source": [
    "help(mc.envelope_gabor)"
   ]
  },
  {
   "cell_type": "code",
   "execution_count": 6,
   "metadata": {},
   "outputs": [],
   "source": [
    "def generate_random_cloud(theta, B_theta, B_sf, downscale = 1):\n",
    "    fx, fy, ft = mc.get_grids(mc.N_X/downscale, mc.N_Y/downscale, 1)\n",
    "    mc_i = mc.envelope_gabor(fx, fy, ft, V_X=0., V_Y=0.,\n",
    "                             B_V=0, theta=theta, B_theta=B_theta)\n",
    "    im = mc.random_cloud(mc_i)\n",
    "    im = (mc.rectif(im) * 255).astype('uint8')\n",
    "    fname = 'tmp/%s_%s.png' % (theta, B_theta)\n",
    "    imageio.imwrite(fname, im[:, :, 0])\n",
    "    return fname"
   ]
  },
  {
   "cell_type": "code",
   "execution_count": 7,
   "metadata": {},
   "outputs": [
    {
     "name": "stderr",
     "output_type": "stream",
     "text": [
      "Un sous-r‚pertoire ou un fichier -p existe d‚j….\n",
      "Une erreur s'est produite lors du traitement deÿ: -p.\n"
     ]
    }
   ],
   "source": [
    "%mkdir -p tmp"
   ]
  },
  {
   "cell_type": "code",
   "execution_count": 8,
   "metadata": {},
   "outputs": [],
   "source": [
    "#win = visual.Window([1400,800],fullscr=fullscr, color=[0,0,0], winType='pygame', monitor='testMonitor', units='height')\n",
    "win = visual.Window([1400, 800], fullscr=fullscr, color=[0, 0, 0])\n",
    "\n",
    "\n",
    "mouse = event.Mouse(newPos=(0, 0), visible=False)\n",
    "x0, y0 = mouse.getPos()\n",
    "event.clearEvents()\n",
    "instructions = \"\"\"\n",
    "At each trial you see one textured image, report the \n",
    "orientation you perceive.\n",
    "\n",
    "Move the mouse to the right if it is clock-wise of the vertical,\n",
    "move the mouse to the left if it is counter clock-wise of the vertical.\n",
    "\n",
    "Move the mouse to begin the experiment.\n",
    "\"\"\"\n",
    "msg = visual.TextStim(win, text=instructions, alignHoriz='center', alignVert='center', color='black')\n",
    "msg.draw()\n",
    "win.flip()\n",
    "while not mouse.mouseMoved(distance=.05): \n",
    "    event.clearEvents()\n",
    "    \n",
    "fixation = visual.ShapeStim(vertices='cross', win=win, size=0.05, pos=[0, 0], fillColor='black', units='height')\n",
    "fixation.autolog = False\n",
    "\n",
    "MC1 = generate_random_cloud(np.pi/2, B_theta=np.pi/2, B_sf=0.1)\n",
    "bitmap1 = visual.ImageStim(win, MC1, mask='gauss', size=0.8, units='height', interpolate= True)\n",
    "bitmap1.autolog = False \n",
    "\n",
    "msg = visual.TextStim(win, text='?', color='black')\n",
    "\n",
    "import time\n",
    "start_time = time.time()\n",
    "print(\"Test started\")\n",
    "\n",
    "ans_list = []\n",
    "\n",
    "for trial in range(test_length):\n",
    "    clock = core.Clock()\n",
    "    fixation.draw()\n",
    "    win.flip()\n",
    "    \n",
    "    theta = (2*np.random.rand()-1)*theta_max\n",
    "    \n",
    "    # MC generation\n",
    "    i_B_theta = random.randint(0, N_B_thetas)\n",
    "    B_theta = B_thetas[]\n",
    "    i_B_sf = random.randint(0, N_B_Bsf)\n",
    "    B_sf = B_sfs[i_B_sf]\n",
    "    MC1 = generate_random_cloud(np.pi/2-theta, B_theta=B_theta, B_sf=B_sf) \n",
    "    bitmap1.setImage(MC1)\n",
    "\n",
    "    # Times the trial\n",
    "    while clock.getTime() < fixation_length + stim1_length + stim2_length:\n",
    "        if 0.0 <= clock.getTime() < fixation_length:  # fixation\n",
    "            fixation.draw()\n",
    "        if fixation_length + 0.01 <= clock.getTime() < fixation_length + stim1_length: \n",
    "            bitmap1.draw()\n",
    "            win.flip()\n",
    "        if fixation_length + stim1_length <= clock.getTime() < fixation_length + stim1_length + stim2_length:\n",
    "            msg.draw()\n",
    "            \n",
    "    win.flip()\n",
    "\n",
    "    mouse.setPos(newPos=(0, 0))\n",
    "    x0, y0 = mouse.getPos()\n",
    "    event.clearEvents()\n",
    "\n",
    "    while not mouse.mouseMoved(distance=.05): \n",
    "        # this creates a never-ending loop\n",
    "        # until we move the mouse\n",
    "        event.clearEvents()\n",
    "\n",
    "    x, y = mouse.getPos()\n",
    "    if x < 0:\n",
    "        answer = 'left'\n",
    "    else: #elif x > 0:\n",
    "        answer = 'right'\n",
    "        if x == 0: print('this should not happen 😤')\n",
    "    event.clearEvents() \n",
    "\n",
    "    ans = event.getKeys()   \n",
    "\n",
    "    if ans == ['escape', 'q']:\n",
    "        win.close()\n",
    "        core.quit()\n",
    "\n",
    "    correct = ((theta > 0) and answer == 'right') or ((theta < 0) and answer == 'left')\n",
    "    print('At trial ', trial, 'Angle=', '%3.3f' % (theta*180/np.pi), 'answer is ',  answer, '(correct=', correct, '); bandwidth=', '%.3f' % (B_theta*180/np.pi),'B_sf=', B_sf)   \n",
    "       \n",
    "    # Output shape per trial is : trial number, shift direction, answered shift and b_theta\n",
    "    ans_list.append([trial, theta, answer, B_theta, B_sf, i_B_theta, i_B_sf])\n",
    "\n",
    "win.close()\n",
    "\n",
    "import json\n",
    "json.dump(ans_list, open( os.path.join(data_folder, 'Psychophys_discrim_%s.json' % exp_info['participant']),'w',encoding=\"utf8\"))\n"
   ]
  }
 ],
 "metadata": {
  "kernelspec": {
   "display_name": "Python 3",
   "language": "python",
   "name": "python3"
  },
  "language_info": {
   "codemirror_mode": {
    "name": "ipython",
    "version": 3
   },
   "file_extension": ".py",
   "mimetype": "text/x-python",
   "name": "python",
   "nbconvert_exporter": "python",
   "pygments_lexer": "ipython3",
   "version": "3.7.7"
  },
  "nteract": {
   "version": "0.21.0"
  }
 },
 "nbformat": 4,
 "nbformat_minor": 4
}
