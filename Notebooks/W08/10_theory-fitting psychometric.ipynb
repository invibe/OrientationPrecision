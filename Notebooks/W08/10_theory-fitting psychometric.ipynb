{
 "cells": [
  {
   "cell_type": "markdown",
   "metadata": {},
   "source": [
    "# \"Cross-validation\" des modèles"
   ]
  },
  {
   "cell_type": "code",
   "execution_count": 1,
   "metadata": {},
   "outputs": [],
   "source": [
    "import numpy as np\n",
    "import matplotlib.pyplot as plt"
   ]
  },
  {
   "cell_type": "code",
   "execution_count": 2,
   "metadata": {},
   "outputs": [],
   "source": [
    "#Hyper-parametres\n",
    "learning_rate = 0.04\n",
    "num_epochs = 400\n",
    "N = 200            #N = 150 a la base\n",
    "N_cv = 40\n",
    "seed = 42\n",
    "batch_size = N//4\n",
    "#batch_size = N//2\n",
    "N_test = 0\n",
    "N_test = 2000      #N_test = 1000 à la base\n",
    "N_scan = 9\n",
    "bias = True\n",
    "\n",
    "\n",
    "p0 = 0.02          #p0 = 0.05 à la base\n",
    "theta0 = 0\n",
    "wt = np.pi/20      \n",
    "theta_std = np.pi/6\n",
    "\n"
   ]
  },
  {
   "cell_type": "markdown",
   "metadata": {},
   "source": [
    "## Creer des données synthetiques "
   ]
  },
  {
   "cell_type": "code",
   "execution_count": 3,
   "metadata": {},
   "outputs": [],
   "source": [
    "def get_data(\n",
    "            N = N,\n",
    "            p0 = p0,\n",
    "            theta0 = theta0,\n",
    "            wt = wt,\n",
    "            theta_std = theta_std,\n",
    "            seed=seed):\n",
    "    np.random.seed(42)\n",
    "    theta = np.random.randn(N)*theta_std\n",
    "    a = (theta-theta0)/wt\n",
    "    p = 1/(1+np.exp(-a))\n",
    "    \n",
    "    p = p0/2 + (1-p0) * p #add lapse rate\n",
    "    y = np.random.rand(N) < p #generate data\n",
    "    return theta, p, y"
   ]
  },
  {
   "cell_type": "code",
   "execution_count": 4,
   "metadata": {},
   "outputs": [],
   "source": [
    "import torch\n",
    "from torch.utils.data import TensorDataset, DataLoader\n",
    "torch.set_default_tensor_type('torch.DoubleTensor')\n",
    "criterion = torch.nn.BCELoss()\n",
    "\n",
    "class LogisticRegressionModel(torch.nn.Module):\n",
    "    def __init__(self, bias=True, logit0=-2): #-2 ?\n",
    "        super(LogisticRegressionModel, self).__init__()\n",
    "        self.linear = torch.nn.Linear(1, 1, bias=bias)    \n",
    "        self.logit0 = torch.nn.Parameter(logit0*torch.ones(1))\n",
    "\n",
    "    def forward(self, theta):\n",
    "        out = self.logit0.sigmoid()/2 + (1-self.logit0.sigmoid())*self.linear(theta).sigmoid()\n",
    "        return out\n",
    "        \n",
    "\n",
    "def fit_data(theta, y, \n",
    "                learning_rate =learning_rate,\n",
    "                num_epochs = num_epochs,\n",
    "                batch_size = batch_size,\n",
    "                verbose=False):\n",
    "\n",
    "    logistic_model = LogisticRegressionModel()\n",
    "\n",
    "    labels = torch.Tensor(y[:, None])\n",
    "    Theta = torch.Tensor(theta[:, None])\n",
    "\n",
    "    loader = DataLoader(TensorDataset(Theta, labels), batch_size=batch_size, shuffle=True)\n",
    "    optimizer = torch.optim.Adam(logistic_model.parameters(), lr=learning_rate/len(loader))\n",
    "    \n",
    "    for epoch in range(int(num_epochs)):\n",
    "        losses = []\n",
    "        for Theta_, labels_ in loader:\n",
    "            optimizer.zero_grad()\n",
    "            outputs = logistic_model(Theta_)\n",
    "            loss = criterion(outputs, labels_)\n",
    "            loss.backward()\n",
    "            optimizer.step()\n",
    "            losses.append(loss.item())\n",
    "        \n",
    "        if verbose and (epoch % (num_epochs//32) == 0) : \n",
    "            print(f\"Iteration: {epoch} - Loss: {np.mean(losses):.5f}\")\n",
    "\n",
    "    logistic_model.eval()\n",
    "    return logistic_model, np.mean(losses)"
   ]
  },
  {
   "cell_type": "code",
   "execution_count": 5,
   "metadata": {},
   "outputs": [
    {
     "data": {
      "text/plain": [
       "tensor([0.0474])"
      ]
     },
     "execution_count": 5,
     "metadata": {},
     "output_type": "execute_result"
    }
   ],
   "source": [
    "torch.sigmoid(torch.tensor([-3.]))"
   ]
  },
  {
   "cell_type": "code",
   "execution_count": 6,
   "metadata": {},
   "outputs": [
    {
     "name": "stdout",
     "output_type": "stream",
     "text": [
      "23 µs ± 376 ns per loop (mean ± std. dev. of 7 runs, 10000 loops each)\n"
     ]
    }
   ],
   "source": [
    "%%timeit\n",
    "theta, p, y = get_data()"
   ]
  },
  {
   "cell_type": "code",
   "execution_count": 7,
   "metadata": {},
   "outputs": [
    {
     "name": "stdout",
     "output_type": "stream",
     "text": [
      "Iteration: 0 - Loss: 0.85408\n",
      "Iteration: 12 - Loss: 0.73923\n",
      "Iteration: 24 - Loss: 0.67157\n",
      "Iteration: 36 - Loss: 0.61782\n",
      "Iteration: 48 - Loss: 0.56868\n",
      "Iteration: 60 - Loss: 0.52693\n",
      "Iteration: 72 - Loss: 0.49364\n",
      "Iteration: 84 - Loss: 0.46757\n",
      "Iteration: 96 - Loss: 0.44680\n",
      "Iteration: 108 - Loss: 0.43005\n",
      "Iteration: 120 - Loss: 0.41654\n",
      "Iteration: 132 - Loss: 0.40534\n",
      "Iteration: 144 - Loss: 0.39609\n",
      "Iteration: 156 - Loss: 0.38821\n",
      "Iteration: 168 - Loss: 0.38161\n",
      "Iteration: 180 - Loss: 0.37598\n",
      "Iteration: 192 - Loss: 0.37117\n",
      "Iteration: 204 - Loss: 0.36704\n",
      "Iteration: 216 - Loss: 0.36338\n",
      "Iteration: 228 - Loss: 0.36027\n",
      "Iteration: 240 - Loss: 0.35759\n",
      "Iteration: 252 - Loss: 0.35521\n",
      "Iteration: 264 - Loss: 0.35311\n",
      "Iteration: 276 - Loss: 0.35127\n",
      "Iteration: 288 - Loss: 0.34969\n",
      "Iteration: 300 - Loss: 0.34827\n",
      "Iteration: 312 - Loss: 0.34713\n",
      "Iteration: 324 - Loss: 0.34591\n",
      "Iteration: 336 - Loss: 0.34496\n",
      "Iteration: 348 - Loss: 0.34413\n",
      "Iteration: 360 - Loss: 0.34332\n",
      "Iteration: 372 - Loss: 0.34268\n",
      "Iteration: 384 - Loss: 0.34207\n",
      "Iteration: 396 - Loss: 0.34157\n"
     ]
    }
   ],
   "source": [
    "theta, p, y = get_data()\n",
    "logistic_model, loss = fit_data(theta, y,verbose=True) "
   ]
  },
  {
   "cell_type": "code",
   "execution_count": 8,
   "metadata": {},
   "outputs": [
    {
     "name": "stdout",
     "output_type": "stream",
     "text": [
      "bias -0.03393300316824204\n",
      "slope 5.876450306469913\n",
      "p0 0.003802915553292732\n"
     ]
    }
   ],
   "source": [
    "with torch.no_grad():\n",
    "    if bias: print('bias', logistic_model.linear.bias.item())\n",
    "    print('slope', logistic_model.linear.weight.item())    \n",
    "    print('p0', torch.sigmoid(logistic_model.logit0).item())\n"
   ]
  },
  {
   "cell_type": "code",
   "execution_count": 9,
   "metadata": {},
   "outputs": [
    {
     "name": "stdout",
     "output_type": "stream",
     "text": [
      "loss= 0.3414181179875635\n"
     ]
    },
    {
     "data": {
      "image/png": "[encoded data removed]",
      "text/plain": [
       "<Figure size 648x432 with 1 Axes>"
      ]
     },
     "metadata": {
      "needs_background": "light"
     },
     "output_type": "display_data"
    }
   ],
   "source": [
    "print('loss=', loss)\n",
    "plt.figure(figsize = (9,6)) \n",
    "plt.scatter(theta, p, s=4, color = 'r', label='proba cachées')\n",
    "plt.scatter(theta, y, s=1, alpha=.1, color = 'b', label='données')\n",
    "x_values = np.linspace(-1.5, 1.50, 100)[:, None]\n",
    "y_values = logistic_model(torch.Tensor(x_values)).detach().numpy()\n",
    "plt.plot(x_values, y_values, 'g', alpha=.7, lw=3, label='proba prédites')\n",
    "plt.xlabel(r'$\\theta$')\n",
    "plt.yticks([0.,1.],['Left', 'Right']);\n",
    "plt.legend();\n"
   ]
  },
  {
   "cell_type": "code",
   "execution_count": 10,
   "metadata": {},
   "outputs": [
    {
     "name": "stdout",
     "output_type": "stream",
     "text": [
      "1.27 s ± 11.5 ms per loop (mean ± std. dev. of 7 runs, 1 loop each)\n"
     ]
    }
   ],
   "source": [
    "%%timeit\n",
    "logistic_model, loss = fit_data(theta, y, verbose=False)"
   ]
  },
  {
   "cell_type": "markdown",
   "metadata": {},
   "source": [
    "## validation"
   ]
  },
  {
   "cell_type": "code",
   "execution_count": 11,
   "metadata": {},
   "outputs": [
    {
     "name": "stdout",
     "output_type": "stream",
     "text": [
      "loss= tensor(0.3414, grad_fn=<BinaryCrossEntropyBackward>)\n"
     ]
    },
    {
     "data": {
      "image/png": "[encoded data removed]",
      "text/plain": [
       "<Figure size 576x432 with 1 Axes>"
      ]
     },
     "metadata": {
      "needs_background": "light"
     },
     "output_type": "display_data"
    }
   ],
   "source": [
    "theta, p, y = get_data() # nouvelles données \n",
    "\n",
    "labels = torch.Tensor(y[:, None])\n",
    "Theta = torch.Tensor(theta[:, None])\n",
    "outputs = logistic_model(Theta)\n",
    "loss = criterion(outputs, labels)\n",
    "print('loss=', loss)\n",
    "plt.figure(figsize = (8,6)) \n",
    "plt.scatter(theta, p, s=4, color = 'r', label='proba cachées')\n",
    "plt.scatter(theta, y, s=1, alpha=.1, color = 'b', label='données')\n",
    "x_values = np.linspace(-1.5, 1.50, 100)[:, None]\n",
    "y_values = logistic_model(torch.Tensor(x_values)).detach().numpy()\n",
    "plt.plot(x_values, y_values, 'g', alpha=.7, lw=3, label='proba prédites')\n",
    "plt.xlabel(r'$\\theta$')\n",
    "plt.yticks([0.,1.],['Left', 'Right']);\n",
    "plt.legend();"
   ]
  },
  {
   "cell_type": "markdown",
   "metadata": {},
   "source": [
    "## influence du nombre de trials"
   ]
  },
  {
   "cell_type": "code",
   "execution_count": null,
   "metadata": {},
   "outputs": [
    {
     "name": "stdout",
     "output_type": "stream",
     "text": [
      "N: 10, Loss: 0.46273, loss_P: 0.46665, loss_P0: 0.36047\n",
      "N: 17, Loss: 0.40873, loss_P: 0.41153, loss_P0: 0.36047\n",
      "N: 31, Loss: 0.37391, loss_P: 0.37102, loss_P0: 0.36047\n",
      "N: 56, Loss: 0.36774, loss_P: 0.36292, loss_P0: 0.36047\n",
      "N: 100, Loss: 0.36814, loss_P: 0.36466, loss_P0: 0.36047\n",
      "N: 177, Loss: 0.36549, loss_P: 0.36327, loss_P0: 0.36047\n",
      "N: 316, Loss: 0.36463, loss_P: 0.36200, loss_P0: 0.36047\n",
      "N: 562, Loss: 0.36480, loss_P: 0.36107, loss_P0: 0.36047\n"
     ]
    }
   ],
   "source": [
    "Ns = np.logspace(1, 3, N_scan, base=10)\n",
    "\n",
    "Ns_, losses, loss_Ps, loss_P0s = [], [], [], []\n",
    "\n",
    "for N_ in Ns:\n",
    "    for i_CV in range(N_cv):\n",
    "        theta, p, y = get_data(N=int(N_), seed=seed+i_CV)\n",
    "        logistic_model, loss = fit_data(theta, y, verbose=False)\n",
    "        \n",
    "        if N_test>0: theta, p, y = get_data(N=N_test) # nouvelles données \n",
    "        labels = torch.Tensor(y[:, None])\n",
    "        Theta = torch.Tensor(theta[:, None])\n",
    "        P = torch.Tensor(p[:, None])\n",
    "        \n",
    "        outputs = logistic_model(Theta)\n",
    "        loss = criterion(outputs, labels).item()\n",
    "    \n",
    "        loss_P = criterion(outputs, P).item() \n",
    "        loss_P0 = criterion(P, P).item()\n",
    "        \n",
    "        if i_CV==0: print(f\"N: {int(N_)}, Loss: {loss:.5f}, loss_P: {loss_P:.5f}, loss_P0: {loss_P0:.5f}\")\n",
    "        loss_P0s.append(loss_P0)\n",
    "        Ns_.append(N_)\n",
    "        loss_Ps.append(loss_P)\n",
    "        losses.append(loss)\n",
    "    "
   ]
  },
  {
   "cell_type": "code",
   "execution_count": null,
   "metadata": {},
   "outputs": [],
   "source": [
    "#plot\n",
    "\n",
    "fig, ax = plt.subplots(figsize = (15, 8)) \n",
    "ax.scatter(Ns_, losses, alpha=3/N_cv, label='loss')\n",
    "ax.scatter(Ns_, loss_Ps, alpha=3/N_cv, label='loss_P')\n",
    "ax.plot(Ns_, loss_P0s, label='loss_P0')\n",
    "\n",
    "ax.set_xlabel(' # trials')\n",
    "ax.set_ylabel(' Loss ')\n",
    "ax.set_xscale('log')"
   ]
  },
  {
   "cell_type": "markdown",
   "metadata": {},
   "source": [
    "## influence du nombre du learning rate\n"
   ]
  },
  {
   "cell_type": "code",
   "execution_count": null,
   "metadata": {},
   "outputs": [],
   "source": [
    "learning_rates = learning_rate * np.logspace(-1, 1, N_scan, base=10)\n",
    "learning_rates_, losses, loss_Ps, loss_P0s = [], [], [], []\n",
    "for learning_rate_ in learning_rates:\n",
    "    for i_CV in range(N_cv):\n",
    "        theta, p, y = get_data(seed=seed+i_CV)\n",
    "        logistic_model, loss = fit_data(theta, y, learning_rate=learning_rate_, verbose=False)\n",
    "\n",
    "        if N_test>0: theta, p, y = get_data(N=N_test) # nouvelles données \n",
    "        labels = torch.Tensor(y[:, None])\n",
    "        Theta = torch.Tensor(theta[:, None])\n",
    "        outputs = logistic_model(Theta)\n",
    "\n",
    "        loss = criterion(outputs, labels).item()\n",
    "        loss_P = criterion(outputs, torch.Tensor(p[:, None])).item()\n",
    "        loss_P0 = criterion(torch.Tensor(p[:, None]), torch.Tensor(p[:, None])).item()\n",
    "        if i_CV==0: \n",
    "            print(f\"learning_rate: {learning_rate_:.5f}, Loss: {loss:.5f}, loss_P: {loss_P:.5f}, loss_P0: {loss_P0:.5f}\")\n",
    "        learning_rates_.append(learning_rate_)\n",
    "        loss_P0s.append(loss_P0)\n",
    "        loss_Ps.append(loss_P)\n",
    "        losses.append(loss)"
   ]
  },
  {
   "cell_type": "code",
   "execution_count": null,
   "metadata": {},
   "outputs": [],
   "source": [
    "#influence du learning rate sur loss\n",
    "\n",
    "fig, ax = plt.subplots(figsize = (15, 8)) \n",
    "ax.scatter(learning_rates_, losses, alpha=3/N_cv, label='loss')\n",
    "ax.scatter(learning_rates_, loss_Ps, alpha=3/N_cv, label='loss_P')\n",
    "ax.plot(learning_rates_, loss_P0s, label='loss_P0')\n",
    "ax.set_xlim(np.min(learning_rates_), np.max(learning_rates_))\n",
    "\n",
    "ax.set_xlabel('learning_rate')\n",
    "ax.set_ylabel(' Loss ')\n",
    "ax.set_xscale('log')\n",
    "ax.legend(loc='best');"
   ]
  },
  {
   "cell_type": "markdown",
   "metadata": {},
   "source": [
    "## influence du nombre d'epochs"
   ]
  },
  {
   "cell_type": "code",
   "execution_count": null,
   "metadata": {},
   "outputs": [],
   "source": [
    "num_epochss = num_epochs * np.logspace(-1, 1, N_scan, base=10)\n",
    "num_epochss_, losses, loss_Ps, loss_P0s = [], [], [], []\n",
    "for num_epochs_ in num_epochss:\n",
    "    for i_CV in range(N_cv):\n",
    "        theta, p, y = get_data(seed=seed+i_CV)\n",
    "        logistic_model, loss = fit_data(theta, y, num_epochs=int(num_epochs_), verbose=False)\n",
    "        \n",
    "        if N_test>0: theta, p, y = get_data(N=N_test) # nouvelles données \n",
    "        labels = torch.Tensor(y[:, None])\n",
    "        Theta = torch.Tensor(theta[:, None])\n",
    "        outputs = logistic_model(Theta)\n",
    "\n",
    "        loss = criterion(outputs, labels).item()\n",
    "        loss_P = criterion(outputs, torch.Tensor(p[:, None])).item()\n",
    "        loss_P0 = criterion(torch.Tensor(p[:, None]), torch.Tensor(p[:, None])).item()\n",
    "        if i_CV==0: \n",
    "            print(f\"num_epochs: {int(num_epochs_)}, Loss: {loss:.5f}, loss_P: {loss_P:.5f}, loss_P0: {loss_P0:.5f}\")\n",
    "        num_epochss_.append(num_epochs_)\n",
    "        loss_P0s.append(loss_P0)\n",
    "        loss_Ps.append(loss_P)\n",
    "        losses.append(loss)"
   ]
  },
  {
   "cell_type": "code",
   "execution_count": null,
   "metadata": {},
   "outputs": [],
   "source": [
    "# influence du nbr d'epochs sur loss \n",
    "fig, ax = plt.subplots(figsize = (15, 8)) \n",
    "ax.scatter(num_epochss_, losses, alpha=3/N_cv, label='loss')\n",
    "ax.scatter(num_epochss_, loss_Ps, alpha=3/N_cv, label='loss_P')\n",
    "ax.plot(num_epochss_, loss_P0s, label='loss_P0')\n",
    "\n",
    "ax.set_xlabel(' # epochs')\n",
    "ax.set_ylabel(' Loss ')\n",
    "ax.set_xscale('log')\n",
    "ax.legend(loc='best');"
   ]
  },
  {
   "cell_type": "markdown",
   "metadata": {},
   "source": [
    "## influence de la taille du minibatch"
   ]
  },
  {
   "cell_type": "code",
   "execution_count": null,
   "metadata": {},
   "outputs": [],
   "source": [
    "batch_sizes = N * np.logspace(-3, 0, N_scan, base=2)\n",
    "batch_sizes_, losses, loss_Ps, loss_P0s = [], [], [], []\n",
    "for batch_size_ in batch_sizes:\n",
    "    for i_CV in range(N_cv):\n",
    "        theta, p, y = get_data(seed=seed+i_CV)\n",
    "        logistic_model, loss = fit_data(theta, y, batch_size=int(batch_size_), verbose=False)\n",
    "        \n",
    "        if N_test>0: theta, p, y = get_data(N=N_test) # nouvelles données \n",
    "        labels = torch.Tensor(y[:, None])\n",
    "        Theta = torch.Tensor(theta[:, None])\n",
    "        outputs = logistic_model(Theta)\n",
    "\n",
    "        loss = criterion(outputs, labels).item()\n",
    "        loss_P = criterion(outputs, torch.Tensor(p[:, None])).item()\n",
    "        loss_P0 = criterion(torch.Tensor(p[:, None]), torch.Tensor(p[:, None])).item()\n",
    "        if i_CV==0: \n",
    "            print(f\"batch_size: {int(batch_size_)}, Loss: {loss:.5f}, loss_P: {loss_P:.5f}, loss_P0: {loss_P0:.5f}\")\n",
    "        batch_sizes_.append(batch_size_)\n",
    "        loss_P0s.append(loss_P0)\n",
    "        loss_Ps.append(loss_P)\n",
    "        losses.append(loss)"
   ]
  },
  {
   "cell_type": "code",
   "execution_count": null,
   "metadata": {},
   "outputs": [],
   "source": [
    "# influence de la taille du minibatch sur loss \n",
    "\n",
    "fig, ax = plt.subplots(figsize = (15, 8)) \n",
    "ax.scatter(batch_sizes_, losses, alpha=3/N_cv, label='loss')\n",
    "ax.scatter(batch_sizes_, loss_Ps, alpha=3/N_cv, label='loss_P')\n",
    "ax.plot(batch_sizes_, loss_P0s, label='loss_P0')\n",
    "\n",
    "ax.set_xlabel(' batch_size')\n",
    "ax.set_ylabel(' Loss ')\n",
    "ax.set_xscale('log')\n",
    "ax.legend(loc='best');"
   ]
  },
  {
   "cell_type": "markdown",
   "metadata": {},
   "source": [
    "## Comparaison données générées/données prédites"
   ]
  },
  {
   "cell_type": "code",
   "execution_count": null,
   "metadata": {},
   "outputs": [],
   "source": [
    "## p0 prediction/generate I\n"
   ]
  },
  {
   "cell_type": "code",
   "execution_count": null,
   "metadata": {},
   "outputs": [],
   "source": [
    "\n",
    "p0s = np.linspace(0, 1, 50)\n",
    "p0_preds = []\n",
    "\n",
    "\n",
    "for p0_ in p0s:\n",
    "    seed_ += 1\n",
    "    theta, p, y = get_data(p0=p0_, seed=seed_)\n",
    "    logistic_model, loss = fit_data(theta, y, verbose=False)\n",
    "\n",
    "    p0_pred =  torch.sigmoid(logistic_model.logit0).item()     \n",
    "        \n",
    "    p0_preds.append(p0_pred)\n",
    "    # print(f\"p0 : {p0_pred: .5f}\")\n",
    "\n"
   ]
  },
  {
   "cell_type": "code",
   "execution_count": null,
   "metadata": {},
   "outputs": [],
   "source": [
    "plt.figure(figsize = (8,8)) \n",
    "plt.scatter(p0s, p0_s)\n",
    "plt.xlabel('p0 réel')\n",
    "plt.ylabel('p0 prédit')\n"
   ]
  },
  {
   "cell_type": "markdown",
   "metadata": {},
   "source": [
    "## theta0 prediction/generate "
   ]
  },
  {
   "cell_type": "code",
   "execution_count": 22,
   "metadata": {},
   "outputs": [
    {
     "name": "stdout",
     "output_type": "stream",
     "text": [
      " theta0: -0.16152\n",
      " theta0: -0.16485\n",
      " theta0: -0.16223\n",
      " theta0: -0.16233\n",
      " theta0: -0.16360\n",
      " theta0: -0.16230\n",
      " theta0: -0.15987\n",
      " theta0: -0.15864\n",
      " theta0: -0.16305\n",
      " theta0: -0.16369\n",
      " theta0: -0.15879\n",
      " theta0: -0.16358\n",
      " theta0: -0.16395\n",
      " theta0: -0.16457\n",
      " theta0: -0.16507\n",
      " theta0: -0.16615\n",
      " theta0: -0.16171\n",
      " theta0: -0.16205\n",
      " theta0: -0.15914\n",
      " theta0: -0.16382\n",
      " theta0: -0.16391\n",
      " theta0: -0.16161\n",
      " theta0: -0.16110\n",
      " theta0: -0.16513\n",
      " theta0: -0.16290\n",
      " theta0: -0.16084\n",
      " theta0: -0.15967\n",
      " theta0: -0.15918\n",
      " theta0: -0.16343\n",
      " theta0: -0.15971\n",
      " theta0: -0.16162\n",
      " theta0: -0.16054\n",
      " theta0: -0.15934\n",
      " theta0: -0.16053\n",
      " theta0: -0.16324\n",
      " theta0: -0.16263\n",
      " theta0: -0.15947\n",
      " theta0: -0.16071\n",
      " theta0: -0.16047\n",
      " theta0: -0.15979\n",
      " theta0: -0.15905\n",
      " theta0: -0.16185\n",
      " theta0: -0.16196\n",
      " theta0: -0.16254\n",
      " theta0: -0.15756\n",
      " theta0: -0.16340\n",
      " theta0: -0.16384\n",
      " theta0: -0.15808\n",
      " theta0: -0.16282\n",
      " theta0: -0.16520\n"
     ]
    }
   ],
   "source": [
    "theta0s = np.random.randn(50)\n",
    "theta0_preds = []\n",
    "\n",
    "for theta0_ in theta0s:\n",
    "    \n",
    "    theta, p, y = get_data(N=int(N_), seed=seed+i_CV)\n",
    "    logistic_model, loss = fit_data(theta, y, verbose=False)\n",
    "        \n",
    "    theta0_pred = logistic_model.linear.bias.item()\n",
    "    theta0_s.append(theta0_pred)\n",
    "        \n",
    "    print(f\" theta0: {theta0_pred:.5f}\")\n",
    "    "
   ]
  },
  {
   "cell_type": "code",
   "execution_count": 23,
   "metadata": {},
   "outputs": [
    {
     "data": {
      "text/plain": [
       "Text(0,0.5,'theta prédit')"
      ]
     },
     "execution_count": 23,
     "metadata": {},
     "output_type": "execute_result"
    },
    {
     "data": {
      "image/png": "[encoded data removed]",
      "text/plain": [
       "<matplotlib.figure.Figure at 0x7fefb4cd0cf8>"
      ]
     },
     "metadata": {
      "needs_background": "light"
     },
     "output_type": "display_data"
    }
   ],
   "source": [
    "plt.figure(figsize = (8,8)) \n",
    "plt.scatter(theta0s, theta0_s)\n",
    "plt.xlabel('theta réel')\n",
    "plt.ylabel('theta prédit')\n"
   ]
  },
  {
   "cell_type": "markdown",
   "metadata": {},
   "source": [
    "## wt prediction/generate "
   ]
  },
  {
   "cell_type": "code",
   "execution_count": 24,
   "metadata": {},
   "outputs": [
    {
     "name": "stdout",
     "output_type": "stream",
     "text": [
      " wt:6.10746\n",
      " wt:6.22657\n",
      " wt:6.17414\n",
      " wt:6.17706\n",
      " wt:6.20780\n",
      " wt:6.13265\n",
      " wt:6.16334\n",
      " wt:6.19318\n",
      " wt:6.18290\n",
      " wt:6.20794\n",
      " wt:6.17418\n",
      " wt:6.14467\n",
      " wt:6.11609\n",
      " wt:6.16966\n",
      " wt:6.12466\n",
      " wt:6.11734\n",
      " wt:6.14467\n",
      " wt:6.17025\n",
      " wt:6.11488\n",
      " wt:6.15034\n",
      " wt:6.20706\n",
      " wt:6.16539\n",
      " wt:6.19795\n",
      " wt:6.21226\n",
      " wt:6.12615\n",
      " wt:6.20547\n",
      " wt:6.20441\n",
      " wt:6.22145\n",
      " wt:6.12022\n",
      " wt:6.18305\n",
      " wt:6.14489\n",
      " wt:6.15362\n",
      " wt:6.13807\n",
      " wt:6.17001\n",
      " wt:6.15173\n",
      " wt:6.10600\n",
      " wt:6.13939\n",
      " wt:6.22393\n",
      " wt:6.23284\n",
      " wt:6.22984\n",
      " wt:6.19039\n",
      " wt:6.14562\n",
      " wt:6.10974\n",
      " wt:6.13751\n",
      " wt:6.21262\n",
      " wt:6.17160\n",
      " wt:6.22168\n",
      " wt:6.16541\n",
      " wt:6.20311\n",
      " wt:6.21907\n"
     ]
    }
   ],
   "source": [
    "wts = np.logspace(-1, 0.1, 50, base=10)\n",
    "wt_s = []\n",
    "\n",
    "for wt_ in wts:\n",
    "    \n",
    "    theta, p, y = get_data(N=int(N_), seed=seed+i_CV)\n",
    "    logistic_model, loss = fit_data(theta, y, verbose=False)\n",
    "        \n",
    "    if N_test>0: theta, p, y = get_data(N=N_test) # nouvelles données \n",
    "        \n",
    "    wt_pred = logistic_model.linear.weight.item()\n",
    "        \n",
    "    wt_s.append(wt_pred)\n",
    "    print(f\" wt:{wt_pred:.5f}\")    "
   ]
  },
  {
   "cell_type": "code",
   "execution_count": 25,
   "metadata": {},
   "outputs": [
    {
     "data": {
      "text/plain": [
       "Text(0,0.5,'pente prédite')"
      ]
     },
     "execution_count": 25,
     "metadata": {},
     "output_type": "execute_result"
    },
    {
     "data": {
      "image/png": "[encoded data removed]",
      "text/plain": [
       "<matplotlib.figure.Figure at 0x7fefb50846a0>"
      ]
     },
     "metadata": {
      "needs_background": "light"
     },
     "output_type": "display_data"
    }
   ],
   "source": [
    "plt.figure(figsize = (8,8)) \n",
    "plt.scatter(wts, wt_s)\n",
    "plt.xlabel('pente réelle')\n",
    "plt.ylabel('pente prédite')\n"
   ]
  },
  {
   "cell_type": "markdown",
   "metadata": {},
   "source": [
    "### Tentative II"
   ]
  },
  {
   "cell_type": "code",
   "execution_count": 26,
   "metadata": {},
   "outputs": [
    {
     "name": "stdout",
     "output_type": "stream",
     "text": [
      "p0 :  0.00077\n",
      "p0 :  0.00166\n",
      "p0 :  0.00094\n",
      "p0 :  0.00137\n",
      "p0 :  0.00085\n",
      "p0 :  0.00160\n",
      "p0 :  0.00140\n",
      "p0 :  0.00098\n",
      "p0 :  0.00132\n",
      "p0 :  0.00152\n",
      "p0 :  0.00060\n",
      "p0 :  0.00122\n",
      "p0 :  0.00159\n",
      "p0 :  0.00130\n",
      "p0 :  0.00072\n",
      "p0 :  0.00208\n",
      "p0 :  0.00183\n",
      "p0 :  0.00157\n",
      "p0 :  0.00062\n",
      "p0 :  0.00168\n",
      "p0 :  0.00097\n",
      "p0 :  0.00074\n",
      "p0 :  0.00189\n",
      "p0 :  0.00144\n",
      "p0 :  0.00144\n",
      "p0 :  0.00139\n",
      "p0 :  0.00145\n",
      "p0 :  0.00133\n",
      "p0 :  0.00164\n",
      "p0 :  0.00117\n",
      "p0 :  0.00128\n",
      "p0 :  0.00152\n",
      "p0 :  0.00093\n",
      "p0 :  0.00087\n",
      "p0 :  0.00115\n",
      "p0 :  0.00166\n",
      "p0 :  0.00073\n",
      "p0 :  0.00132\n",
      "p0 :  0.00113\n",
      "p0 :  0.00092\n",
      "p0 :  0.00098\n",
      "p0 :  0.00082\n",
      "p0 :  0.00150\n",
      "p0 :  0.00171\n",
      "p0 :  0.00158\n",
      "p0 :  0.00154\n",
      "p0 :  0.00085\n",
      "p0 :  0.00135\n",
      "p0 :  0.00136\n",
      "p0 :  0.00156\n"
     ]
    },
    {
     "data": {
      "text/plain": [
       "Text(0,0.5,'p0 prédit')"
      ]
     },
     "execution_count": 26,
     "metadata": {},
     "output_type": "execute_result"
    },
    {
     "data": {
      "image/png": "[encoded data removed]",
      "text/plain": [
       "<matplotlib.figure.Figure at 0x7fefb4c7eeb8>"
      ]
     },
     "metadata": {
      "needs_background": "light"
     },
     "output_type": "display_data"
    }
   ],
   "source": [
    "# p0 prediction/generate I\n",
    "\n",
    "p0s = np.linspace(0,0.03,50)\n",
    "p0_s = []\n",
    "\n",
    "\n",
    "for p0_ in p0s:\n",
    "    \n",
    "    theta, p, y = get_data(N=int(N_), seed=seed+i_CV)\n",
    "    logistic_model, loss = fit_data(theta, y, verbose=False)\n",
    "\n",
    "    if N_test>0: theta, p, y = get_data(N=N_test) # nouvelles données \n",
    "    p0_pred =  torch.sigmoid(logistic_model.logit0).item()     \n",
    "        \n",
    "    p0_s.append( p0_pred)\n",
    "    print(f\"p0 : {p0_pred: .5f}\")\n",
    "\n",
    "plt.figure(figsize = (8,8)) \n",
    "plt.scatter(p0s, p0_s)\n",
    "plt.xlabel('p0 réel')\n",
    "plt.ylabel('p0 prédit')\n"
   ]
  },
  {
   "cell_type": "code",
   "execution_count": 27,
   "metadata": {},
   "outputs": [
    {
     "name": "stdout",
     "output_type": "stream",
     "text": [
      " theta0: -0.16139\n",
      " theta0: -0.16328\n",
      " theta0: -0.15879\n",
      " theta0: -0.15993\n",
      " theta0: -0.16218\n",
      " theta0: -0.16198\n",
      " theta0: -0.16373\n",
      " theta0: -0.16351\n",
      " theta0: -0.16292\n",
      " theta0: -0.15954\n",
      " theta0: -0.16546\n",
      " theta0: -0.16308\n",
      " theta0: -0.16639\n",
      " theta0: -0.16175\n",
      " theta0: -0.16363\n",
      " theta0: -0.16043\n",
      " theta0: -0.16192\n",
      " theta0: -0.16546\n",
      " theta0: -0.16132\n",
      " theta0: -0.16067\n",
      " theta0: -0.16282\n",
      " theta0: -0.15759\n",
      " theta0: -0.16277\n",
      " theta0: -0.16401\n",
      " theta0: -0.16564\n",
      " theta0: -0.16680\n",
      " theta0: -0.16110\n",
      " theta0: -0.16426\n",
      " theta0: -0.15773\n",
      " theta0: -0.16246\n",
      " theta0: -0.15909\n",
      " theta0: -0.16141\n",
      " theta0: -0.16324\n",
      " theta0: -0.16611\n",
      " theta0: -0.15841\n",
      " theta0: -0.16410\n",
      " theta0: -0.16701\n",
      " theta0: -0.16320\n",
      " theta0: -0.16116\n",
      " theta0: -0.16303\n",
      " theta0: -0.16420\n",
      " theta0: -0.16383\n",
      " theta0: -0.16429\n",
      " theta0: -0.16680\n",
      " theta0: -0.16299\n",
      " theta0: -0.16122\n",
      " theta0: -0.16204\n",
      " theta0: -0.16174\n",
      " theta0: -0.15831\n",
      " theta0: -0.16127\n"
     ]
    },
    {
     "data": {
      "text/plain": [
       "Text(0,0.5,'theta prédit')"
      ]
     },
     "execution_count": 27,
     "metadata": {},
     "output_type": "execute_result"
    },
    {
     "data": {
      "image/png": "[encoded data removed]",
      "text/plain": [
       "<matplotlib.figure.Figure at 0x7fefb4f71e48>"
      ]
     },
     "metadata": {
      "needs_background": "light"
     },
     "output_type": "display_data"
    }
   ],
   "source": [
    "#theta0 prediction/generate \n",
    "\n",
    "theta0s = np.random.randn(50) #hum... pas terrible\n",
    "theta0_s = []\n",
    "\n",
    "for theta0_ in theta0s:\n",
    "    \n",
    "    theta, p, y = get_data(N=int(N_), seed=seed+i_CV)\n",
    "    logistic_model, loss = fit_data(theta, y, verbose=False)\n",
    "\n",
    "    if N_test>0: theta, p, y = get_data(N=N_test) # nouvelles données \n",
    "        \n",
    "    theta0_pred = logistic_model.linear.bias.item()\n",
    "    theta0_s.append(theta0_pred)\n",
    "        \n",
    "    print(f\" theta0: {theta0_pred:.5f}\")\n",
    "    \n",
    "plt.figure(figsize = (8,8)) \n",
    "plt.scatter(theta0s, theta0_s)\n",
    "plt.xlabel('theta réel')\n",
    "plt.ylabel('theta prédit')\n"
   ]
  },
  {
   "cell_type": "code",
   "execution_count": 28,
   "metadata": {},
   "outputs": [
    {
     "name": "stdout",
     "output_type": "stream",
     "text": [
      " wt:6.22895\n",
      " wt:6.22635\n",
      " wt:6.13428\n",
      " wt:6.18530\n",
      " wt:6.17231\n",
      " wt:6.21855\n",
      " wt:6.11704\n",
      " wt:6.14881\n",
      " wt:6.12160\n",
      " wt:6.18164\n",
      " wt:6.15915\n",
      " wt:6.13742\n",
      " wt:6.18997\n",
      " wt:6.09591\n",
      " wt:6.15150\n",
      " wt:6.13965\n",
      " wt:6.12192\n",
      " wt:6.16062\n",
      " wt:6.18314\n",
      " wt:6.15887\n",
      " wt:6.12055\n",
      " wt:6.13799\n",
      " wt:6.14556\n",
      " wt:6.16284\n",
      " wt:6.11644\n",
      " wt:6.11956\n",
      " wt:6.21635\n",
      " wt:6.12667\n",
      " wt:6.14411\n",
      " wt:6.20324\n",
      " wt:6.15042\n",
      " wt:6.13827\n",
      " wt:6.21430\n",
      " wt:6.18552\n",
      " wt:6.17475\n",
      " wt:6.22419\n",
      " wt:6.16896\n",
      " wt:6.21162\n",
      " wt:6.11644\n",
      " wt:6.21463\n",
      " wt:6.21220\n",
      " wt:6.17245\n",
      " wt:6.14222\n",
      " wt:6.16798\n",
      " wt:6.17405\n",
      " wt:6.20960\n",
      " wt:6.21808\n",
      " wt:6.20777\n",
      " wt:6.22851\n",
      " wt:6.13850\n"
     ]
    },
    {
     "data": {
      "text/plain": [
       "Text(0,0.5,'pente prédite')"
      ]
     },
     "execution_count": 28,
     "metadata": {},
     "output_type": "execute_result"
    },
    {
     "data": {
      "image/png": "[encoded data removed]",
      "text/plain": [
       "<matplotlib.figure.Figure at 0x7fefb4787780>"
      ]
     },
     "metadata": {
      "needs_background": "light"
     },
     "output_type": "display_data"
    }
   ],
   "source": [
    "#wt prediction/generate \n",
    "\n",
    "wts = np.logspace(-1, 1, 50, base=10)\n",
    "wt_s = []\n",
    "\n",
    "for wt_ in wts:\n",
    "    \n",
    "    theta, p, y = get_data(N=int(N_), seed=seed+i_CV)\n",
    "    logistic_model, loss = fit_data(theta, y, verbose=False)\n",
    "        \n",
    "    if N_test>0: theta, p, y = get_data(N=N_test) # nouvelles données \n",
    "        \n",
    "    wt_pred = logistic_model.linear.weight.item()\n",
    "        \n",
    "    wt_s.append(wt_pred)\n",
    "    print(f\" wt:{wt_pred:.5f}\") \n",
    "    \n",
    "plt.figure(figsize = (8,8)) \n",
    "plt.scatter(wts, wt_s)\n",
    "plt.xlabel('pente réelle')\n",
    "plt.ylabel('pente prédite')\n"
   ]
  }
 ],
 "metadata": {
  "kernelspec": {
   "display_name": "Python 3",
   "language": "python",
   "name": "python3"
  },
  "language_info": {
   "codemirror_mode": {
    "name": "ipython",
    "version": 3
   },
   "file_extension": ".py",
   "mimetype": "text/x-python",
   "name": "python",
   "nbconvert_exporter": "python",
   "pygments_lexer": "ipython3",
   "version": "3.7.7"
  },
  "nteract": {
   "version": "0.21.0"
  }
 },
 "nbformat": 4,
 "nbformat_minor": 4
}
