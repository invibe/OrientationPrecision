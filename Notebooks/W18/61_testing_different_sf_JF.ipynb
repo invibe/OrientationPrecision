{
 "cells": [
  {
   "cell_type": "markdown",
   "metadata": {},
   "source": [
    "### differents $B_\\theta$, petits $\\theta$, differents $sf_0$"
   ]
  },
  {
   "cell_type": "markdown",
   "metadata": {},
   "source": [
    "Dear participant, before running the script, please write your initials in line 2 next to \"5 5 30\" et delete my initials JF."
   ]
  },
  {
   "cell_type": "code",
   "execution_count": 3,
   "metadata": {},
   "outputs": [
    {
     "name": "stdout",
     "output_type": "stream",
     "text": [
      "data_folder = ..\\Psychopy_data\\pilot\\sf_0\n"
     ]
    },
    {
     "name": "stderr",
     "output_type": "stream",
     "text": [
      "Un sous-r‚pertoire ou un fichier -p existe d‚j….\n",
      "Une erreur s'est produite lors du traitement deÿ: -p.\n",
      "Un sous-r‚pertoire ou un fichier tmp existe d‚j….\n",
      "Une erreur s'est produite lors du traitement deÿ: tmp.\n"
     ]
    },
    {
     "name": "stdout",
     "output_type": "stream",
     "text": [
      "Overwriting tmp/60_testing_different_sf.py\n"
     ]
    },
    {
     "name": "stderr",
     "output_type": "stream",
     "text": [
      "Un sous-r‚pertoire ou un fichier -p existe d‚j….\n",
      "Une erreur s'est produite lors du traitement deÿ: -p.\n",
      "Un sous-r‚pertoire ou un fichier ..\\Psychopy_data\\pilot\\sf_0 existe d‚j….\n",
      "Une erreur s'est produite lors du traitement deÿ: ..\\Psychopy_data\\pilot\\sf_0.\n"
     ]
    },
    {
     "name": "stdout",
     "output_type": "stream",
     "text": [
      "\n",
      " Initializing\n",
      "B_thetas =  [0.20943951 0.41887902 0.62831853 0.83775804 1.04719755]\n",
      "sfs =  [0.125      0.04419417 0.015625   0.00552427 0.00195312]\n"
     ]
    }
   ],
   "source": [
    "%run 60_testing_different_sf.ipynb\n"
   ]
  },
  {
   "cell_type": "code",
   "execution_count": null,
   "metadata": {},
   "outputs": [],
   "source": [
    "!ipython tmp/60_testing_different_sf.py {data_folder} 5 5 30 JF"
   ]
  }
 ],
 "metadata": {
  "kernelspec": {
   "display_name": "Python 3",
   "language": "python",
   "name": "python3"
  },
  "language_info": {
   "codemirror_mode": {
    "name": "ipython",
    "version": 3
   },
   "file_extension": ".py",
   "mimetype": "text/x-python",
   "name": "python",
   "nbconvert_exporter": "python",
   "pygments_lexer": "ipython3",
   "version": "3.7.3"
  }
 },
 "nbformat": 4,
 "nbformat_minor": 4
}
