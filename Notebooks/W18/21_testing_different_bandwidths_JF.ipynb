{
 "cells": [
  {
   "cell_type": "markdown",
   "metadata": {},
   "source": [
    "### differents $B_\\theta$, petits $\\theta$, differents $Bsf$"
   ]
  },
  {
   "cell_type": "markdown",
   "metadata": {},
   "source": [
    "Dear participant, before running the script, please write your initials in line 2 next to \"15 1 50\" et delete my initials JF."
   ]
  },
  {
   "cell_type": "code",
   "execution_count": 1,
   "metadata": {},
   "outputs": [
    {
     "name": "stdout",
     "output_type": "stream",
     "text": [
      "data_folder = ..\\Psychopy_data\\pilot\\B_theta\n"
     ]
    },
    {
     "name": "stderr",
     "output_type": "stream",
     "text": [
      "Un sous-r‚pertoire ou un fichier -p existe d‚j….\n",
      "Une erreur s'est produite lors du traitement deÿ: -p.\n",
      "Un sous-r‚pertoire ou un fichier tmp existe d‚j….\n",
      "Une erreur s'est produite lors du traitement deÿ: tmp.\n"
     ]
    },
    {
     "name": "stdout",
     "output_type": "stream",
     "text": [
      "Overwriting tmp/20_testing_different_bandwidths.py\n"
     ]
    },
    {
     "name": "stderr",
     "output_type": "stream",
     "text": [
      "Un sous-r‚pertoire ou un fichier -p existe d‚j….\n",
      "Une erreur s'est produite lors du traitement deÿ: -p.\n",
      "Un sous-r‚pertoire ou un fichier ..\\Psychopy_data\\pilot\\B_theta existe d‚j….\n",
      "Une erreur s'est produite lors du traitement deÿ: ..\\Psychopy_data\\pilot\\B_theta.\n"
     ]
    },
    {
     "name": "stdout",
     "output_type": "stream",
     "text": [
      "\n",
      " Initializing\n",
      "B_thetas =  [0.06981317 0.13962634 0.20943951 0.27925268 0.34906585 0.41887902\n",
      " 0.48869219 0.55850536 0.62831853 0.6981317  0.76794487 0.83775804\n",
      " 0.90757121 0.97738438 1.04719755]\n",
      "B_sfs =  [0.5]\n"
     ]
    }
   ],
   "source": [
    "%run 20_testing_different_bandwidths.ipynb"
   ]
  },
  {
   "cell_type": "code",
   "execution_count": 2,
   "metadata": {},
   "outputs": [
    {
     "name": "stdout",
     "output_type": "stream",
     "text": [
      "\n",
      " Initializing\n",
      "B_thetas =  [0.06981317 0.13962634 0.20943951 0.27925268 0.34906585 0.41887902\n",
      " 0.48869219 0.55850536 0.62831853 0.6981317  0.76794487 0.83775804\n",
      " 0.90757121 0.97738438 1.04719755]\n",
      "B_sfs =  [0.5]\n",
      "pygame 1.9.6\n",
      "Hello from the pygame community. https://www.pygame.org/contribute.html\n",
      "Test started\n",
      "At trial  0 Angle= 6.983 answer is  right (correct= True );\n",
      "At trial  1 Angle= 2.328 answer is  left (correct= False );\n",
      "At trial  2 Angle= -22.500 answer is  left (correct= True );\n",
      "At trial  3 Angle= -5.431 answer is  left (correct= True );\n",
      "At trial  4 Angle= -5.431 answer is  left (correct= True );\n",
      "At trial  5 Angle= 20.948 answer is  right (correct= True );\n",
      "At trial  6 Angle= 10.086 answer is  right (correct= True );\n",
      "At trial  7 Angle= -13.190 answer is  left (correct= True );\n",
      "At trial  8 Angle= 3.879 answer is  right (correct= True );\n",
      "At trial  9 Angle= -3.879 answer is  left (correct= True );\n",
      "At trial  10 Angle= -2.328 answer is  left (correct= True );\n",
      "At trial  11 Angle= 13.190 answer is  right (correct= True );\n",
      "At trial  12 Angle= -16.293 answer is  left (correct= True );\n",
      "At trial  13 Angle= -14.741 answer is  left (correct= True );\n",
      "At trial  14 Angle= 10.086 answer is  right (correct= True );\n",
      "At trial  15 Angle= -8.534 answer is  left (correct= True );\n",
      "At trial  16 Angle= 11.638 answer is  left (correct= False );\n",
      "At trial  17 Angle= 2.328 answer is  left (correct= False );\n",
      "At trial  18 Angle= -20.948 answer is  left (correct= True );\n",
      "At trial  19 Angle= 10.086 answer is  left (correct= False );\n",
      "At trial  20 Angle= 8.534 answer is  right (correct= True );\n",
      "At trial  21 Angle= 14.741 answer is  right (correct= True );\n",
      "At trial  22 Angle= 10.086 answer is  right (correct= True );\n",
      "At trial  23 Angle= 5.431 answer is  right (correct= True );\n",
      "At trial  24 Angle= 19.397 answer is  right (correct= True );\n",
      "At trial  25 Angle= -14.741 answer is  left (correct= True );\n",
      "At trial  26 Angle= 13.190 answer is  right (correct= True );\n",
      "At trial  27 Angle= 3.879 answer is  left (correct= False );\n",
      "At trial  28 Angle= 16.293 answer is  right (correct= True );\n",
      "At trial  29 Angle= 16.293 answer is  right (correct= True );\n",
      "At trial  30 Angle= 2.328 answer is  left (correct= False );\n",
      "At trial  31 Angle= -8.534 answer is  left (correct= True );\n",
      "At trial  32 Angle= -8.534 answer is  left (correct= True );\n",
      "At trial  33 Angle= -8.534 answer is  left (correct= True );\n",
      "At trial  34 Angle= -20.948 answer is  left (correct= True );\n",
      "At trial  35 Angle= -16.293 answer is  left (correct= True );\n",
      "At trial  36 Angle= 6.983 answer is  right (correct= True );\n",
      "At trial  37 Angle= 16.293 answer is  right (correct= True );\n",
      "At trial  38 Angle= -8.534 answer is  right (correct= False );\n",
      "At trial  39 Angle= -2.328 answer is  left (correct= True );\n",
      "At trial  40 Angle= 22.500 answer is  right (correct= True );\n",
      "At trial  41 Angle= 17.845 answer is  right (correct= True );\n",
      "At trial  42 Angle= -10.086 answer is  left (correct= True );\n",
      "At trial  43 Angle= 10.086 answer is  right (correct= True );\n",
      "At trial  44 Angle= 5.431 answer is  left (correct= False );\n",
      "At trial  45 Angle= -8.534 answer is  right (correct= False );\n",
      "---------------------------------------------------------------------------\n",
      "UnicodeEncodeError                        Traceback (most recent call last)\n",
      "~\\Documents\\github\\MSc-Internship\\Notebooks\\W18\\tmp\\20_testing_different_bandwidths.py in <module>\n",
      "    146         else: #elif x > 0:\n",
      "    147             answer = 'right'\n",
      "--> 148             if x == 0: print(\n"
     ]
    },
    {
     "name": "stderr",
     "output_type": "stream",
     "text": [
      "Traceback (most recent call last):\n",
      "  File \"C:\\Users\\Utilisateur\\Anaconda3\\lib\\site-packages\\IPython\\core\\shellapp.py\", line 408, in _run_cmd_line_code\n",
      "    self._exec_file(fname, shell_futures=True)\n",
      "  File \"C:\\Users\\Utilisateur\\Anaconda3\\lib\\site-packages\\IPython\\core\\shellapp.py\", line 340, in _exec_file\n",
      "    raise_exceptions=True)\n",
      "  File \"C:\\Users\\Utilisateur\\Anaconda3\\lib\\site-packages\\IPython\\core\\interactiveshell.py\", line 2712, in safe_execfile\n",
      "    self.compile if shell_futures else None)\n",
      "  File \"C:\\Users\\Utilisateur\\Anaconda3\\lib\\site-packages\\IPython\\utils\\py3compat.py\", line 168, in execfile\n",
      "    exec(compiler(f.read(), fname, 'exec'), glob, loc)\n",
      "  File \"C:\\Users\\Utilisateur\\Documents\\github\\MSc-Internship\\Notebooks\\W18\\tmp\\20_testing_different_bandwidths.py\", line 148, in <module>\n",
      "    if x == 0: print('this should not happen \\U0001f624')\n",
      "  File \"C:\\Users\\Utilisateur\\Anaconda3\\lib\\site-packages\\colorama\\ansitowin32.py\", line 41, in write\n",
      "    self.__convertor.write(text)\n",
      "  File \"C:\\Users\\Utilisateur\\Anaconda3\\lib\\site-packages\\colorama\\ansitowin32.py\", line 162, in write\n",
      "    self.write_and_convert(text)\n",
      "  File \"C:\\Users\\Utilisateur\\Anaconda3\\lib\\site-packages\\colorama\\ansitowin32.py\", line 190, in write_and_convert\n",
      "    self.write_plain_text(text, cursor, len(text))\n",
      "  File \"C:\\Users\\Utilisateur\\Anaconda3\\lib\\site-packages\\colorama\\ansitowin32.py\", line 195, in write_plain_text\n",
      "    self.wrapped.write(text[start:end])\n",
      "  File \"C:\\Users\\Utilisateur\\Anaconda3\\lib\\encodings\\cp1252.py\", line 19, in encode\n",
      "    return codecs.charmap_encode(input,self.errors,encoding_table)[0]\n",
      "UnicodeEncodeError: 'charmap' codec can't encode character '\\U0001f624' in position 23: character maps to <undefined>\n",
      "\n",
      "During handling of the above exception, another exception occurred:\n",
      "\n",
      "Traceback (most recent call last):\n",
      "  File \"C:\\Users\\Utilisateur\\Anaconda3\\Scripts\\ipython-script.py\", line 10, in <module>\n",
      "    sys.exit(start_ipython())\n",
      "  File \"C:\\Users\\Utilisateur\\Anaconda3\\lib\\site-packages\\IPython\\__init__.py\", line 126, in start_ipython\n",
      "    return launch_new_instance(argv=argv, **kwargs)\n",
      "  File \"C:\\Users\\Utilisateur\\Anaconda3\\lib\\site-packages\\traitlets\\config\\application.py\", line 663, in launch_instance\n",
      "    app.initialize(argv)\n",
      "  File \"<C:\\Users\\Utilisateur\\Anaconda3\\lib\\site-packages\\decorator.py:decorator-gen-114>\", line 2, in initialize\n",
      "  File \"C:\\Users\\Utilisateur\\Anaconda3\\lib\\site-packages\\traitlets\\config\\application.py\", line 87, in catch_config_error\n",
      "    return method(app, *args, **kwargs)\n",
      "  File \"C:\\Users\\Utilisateur\\Anaconda3\\lib\\site-packages\\IPython\\terminal\\ipapp.py\", line 323, in initialize\n",
      "    self.init_code()\n",
      "  File \"C:\\Users\\Utilisateur\\Anaconda3\\lib\\site-packages\\IPython\\core\\shellapp.py\", line 288, in init_code\n",
      "    self._run_cmd_line_code()\n",
      "  File \"C:\\Users\\Utilisateur\\Anaconda3\\lib\\site-packages\\IPython\\core\\shellapp.py\", line 410, in _run_cmd_line_code\n",
      "    self.shell.showtraceback(tb_offset=4)\n",
      "  File \"C:\\Users\\Utilisateur\\Anaconda3\\lib\\site-packages\\IPython\\core\\interactiveshell.py\", line 2039, in showtraceback\n",
      "    self._showtraceback(etype, value, stb)\n",
      "  File \"C:\\Users\\Utilisateur\\Anaconda3\\lib\\site-packages\\IPython\\core\\interactiveshell.py\", line 2057, in _showtraceback\n",
      "    print(self.InteractiveTB.stb2text(stb))\n",
      "  File \"C:\\Users\\Utilisateur\\Anaconda3\\lib\\site-packages\\colorama\\ansitowin32.py\", line 41, in write\n",
      "    self.__convertor.write(text)\n",
      "  File \"C:\\Users\\Utilisateur\\Anaconda3\\lib\\site-packages\\colorama\\ansitowin32.py\", line 162, in write\n",
      "    self.write_and_convert(text)\n",
      "  File \"C:\\Users\\Utilisateur\\Anaconda3\\lib\\site-packages\\colorama\\ansitowin32.py\", line 187, in write_and_convert\n",
      "    self.write_plain_text(text, cursor, start)\n",
      "  File \"C:\\Users\\Utilisateur\\Anaconda3\\lib\\site-packages\\colorama\\ansitowin32.py\", line 195, in write_plain_text\n",
      "    self.wrapped.write(text[start:end])\n",
      "  File \"C:\\Users\\Utilisateur\\Anaconda3\\lib\\encodings\\cp1252.py\", line 19, in encode\n",
      "    return codecs.charmap_encode(input,self.errors,encoding_table)[0]\n"
     ]
    }
   ],
   "source": [
    "!ipython tmp/20_testing_different_bandwidths.py {data_folder} 15 1 50 JF"
   ]
  }
 ],
 "metadata": {
  "kernelspec": {
   "display_name": "Python 3",
   "language": "python",
   "name": "python3"
  },
  "language_info": {
   "codemirror_mode": {
    "name": "ipython",
    "version": 3
   },
   "file_extension": ".py",
   "mimetype": "text/x-python",
   "name": "python",
   "nbconvert_exporter": "python",
   "pygments_lexer": "ipython3",
   "version": "3.7.3"
  }
 },
 "nbformat": 4,
 "nbformat_minor": 4
}
