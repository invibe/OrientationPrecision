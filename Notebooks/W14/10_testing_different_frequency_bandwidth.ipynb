{
 "cells": [
  {
   "cell_type": "markdown",
   "metadata": {},
   "source": [
    " #### petits $B_\\theta$ (<15°), petits $\\theta$, 4 differents B_sf"
   ]
  },
  {
   "cell_type": "code",
   "execution_count": 1,
   "metadata": {},
   "outputs": [
    {
     "name": "stdout",
     "output_type": "stream",
     "text": [
      "pygame 1.9.6\n",
      "Hello from the pygame community. https://www.pygame.org/contribute.html\n"
     ]
    }
   ],
   "source": [
    "import numpy as np\n",
    "import MotionClouds as mc\n",
    "import matplotlib.pyplot as plt\n",
    "import os\n",
    "import imageio\n",
    "import random\n",
    "from psychopy import visual, core, event, gui, data\n",
    "import MotionClouds as MC\n",
    "import pygame"
   ]
  },
  {
   "cell_type": "code",
   "execution_count": 2,
   "metadata": {},
   "outputs": [
    {
     "data": {
      "text/plain": [
       "'..\\\\Psychopy_data\\\\pilot\\\\B_sf\\\\json'"
      ]
     },
     "execution_count": 2,
     "metadata": {},
     "output_type": "execute_result"
    }
   ],
   "source": [
    "exp_name = \"Perception de l'orientation\"\n",
    "exp_info = {'participant':''}\n",
    "subj_info = gui.DlgFromDict(dictionary=exp_info, title=exp_name)\n",
    "exp_info['exp_name'] = exp_name\n",
    "data_folder = os.path.join('..', 'Psychopy_data', 'pilot', 'B_sf','json')\n",
    "data_folder"
   ]
  },
  {
   "cell_type": "code",
   "execution_count": 5,
   "metadata": {},
   "outputs": [
    {
     "name": "stderr",
     "output_type": "stream",
     "text": [
      "Un sous-r‚pertoire ou un fichier -p existe d‚j….\n",
      "Une erreur s'est produite lors du traitement deÿ: -p.\n",
      "Un sous-r‚pertoire ou un fichier ..\\Psychopy_data\\pilot\\B_sf\\json existe d‚j….\n",
      "Une erreur s'est produite lors du traitement deÿ: ..\\Psychopy_data\\pilot\\B_sf\\json.\n"
     ]
    }
   ],
   "source": [
    "%mkdir -p {data_folder}"
   ]
  },
  {
   "cell_type": "code",
   "execution_count": 3,
   "metadata": {},
   "outputs": [],
   "source": [
    "downscale = 1\n",
    "fig_width = 21\n",
    "fx, fy, ft = mc.get_grids(mc.N_X/downscale, mc.N_Y/downscale, 1)"
   ]
  },
  {
   "cell_type": "code",
   "execution_count": 4,
   "metadata": {},
   "outputs": [],
   "source": [
    "test_length = 150     # number of trials\n",
    "fixation_length = .5  # length of fixation, in second\n",
    "stim1_length = 0.25   # length of first stim, in second\n",
    "stim2_length = 0.25   # length of the second stim, in second \n",
    "\n",
    "fullscr = False\n",
    "\n",
    "fullscr = True\n"
   ]
  },
  {
   "cell_type": "code",
   "execution_count": 5,
   "metadata": {},
   "outputs": [
    {
     "name": "stdout",
     "output_type": "stream",
     "text": [
      "Help on function envelope_gabor in module MotionClouds:\n",
      "\n",
      "envelope_gabor(fx, fy, ft, V_X=1.0, V_Y=0.0, B_V=0.5, sf_0=0.125, B_sf=0.1, loggabor=True, theta=0.0, B_theta=0.19634954084936207, alpha=0.0, **kwargs)\n",
      "    Returns the Motion Cloud kernel, that is the product of:\n",
      "        * a speed envelope\n",
      "        * an orientation envelope\n",
      "        * an orientation envelope\n",
      "\n"
     ]
    }
   ],
   "source": [
    "help(mc.envelope_gabor)"
   ]
  },
  {
   "cell_type": "code",
   "execution_count": 6,
   "metadata": {},
   "outputs": [],
   "source": [
    "def generate_random_cloud(theta, B_theta, B_sf, downscale = 1):\n",
    "    fx, fy, ft = mc.get_grids(mc.N_X/downscale, mc.N_Y/downscale, 1)\n",
    "    mc_i = mc.envelope_gabor(fx, fy, ft, V_X=0., V_Y=0.,\n",
    "                             B_V=0, theta=theta, B_theta=B_theta)\n",
    "    im = mc.random_cloud(mc_i)\n",
    "    im = (mc.rectif(im) * 255).astype('uint8')\n",
    "    fname = 'tmp/%s_%s.png' % (theta, B_theta)\n",
    "    imageio.imwrite(fname, im[:, :, 0])\n",
    "    return fname"
   ]
  },
  {
   "cell_type": "code",
   "execution_count": 7,
   "metadata": {},
   "outputs": [
    {
     "name": "stderr",
     "output_type": "stream",
     "text": [
      "Un sous-r‚pertoire ou un fichier -p existe d‚j….\n",
      "Une erreur s'est produite lors du traitement deÿ: -p.\n",
      "Un sous-r‚pertoire ou un fichier tmp existe d‚j….\n",
      "Une erreur s'est produite lors du traitement deÿ: tmp.\n"
     ]
    }
   ],
   "source": [
    "%mkdir -p tmp"
   ]
  },
  {
   "cell_type": "code",
   "execution_count": 8,
   "metadata": {},
   "outputs": [
    {
     "name": "stdout",
     "output_type": "stream",
     "text": [
      "Test started\n",
      "At trial  0 Angle= 44.506 answer is  right (correct= True ); bandwidth= 1.406 B_sf= 0.5\n",
      "At trial  1 Angle= 2.546 answer is  right (correct= True ); bandwidth= 1.406 B_sf= 0.0625\n",
      "At trial  2 Angle= -8.655 answer is  left (correct= True ); bandwidth= 4.730 B_sf= 0.5\n",
      "At trial  3 Angle= 14.981 answer is  right (correct= True ); bandwidth= 1.406 B_sf= 0.125\n",
      "At trial  4 Angle= 49.961 answer is  right (correct= True ); bandwidth= 15.910 B_sf= 0.25\n",
      "At trial  5 Angle= 26.817 answer is  right (correct= True ); bandwidth= 1.406 B_sf= 1.0\n",
      "At trial  6 Angle= -35.112 answer is  left (correct= True ); bandwidth= 2.579 B_sf= 1.0\n",
      "At trial  7 Angle= 12.484 answer is  right (correct= True ); bandwidth= 2.579 B_sf= 0.5\n",
      "At trial  8 Angle= 30.198 answer is  right (correct= True ); bandwidth= 15.910 B_sf= 0.25\n",
      "At trial  9 Angle= -38.979 answer is  left (correct= True ); bandwidth= 8.675 B_sf= 1.0\n",
      "At trial  10 Angle= -40.087 answer is  left (correct= True ); bandwidth= 4.730 B_sf= 0.125\n",
      "At trial  11 Angle= 11.039 answer is  left (correct= False ); bandwidth= 15.910 B_sf= 0.125\n",
      "At trial  12 Angle= -2.259 answer is  left (correct= True ); bandwidth= 8.675 B_sf= 0.125\n",
      "At trial  13 Angle= 28.879 answer is  right (correct= True ); bandwidth= 1.406 B_sf= 0.5\n",
      "At trial  14 Angle= 8.856 answer is  right (correct= True ); bandwidth= 8.675 B_sf= 0.0625\n",
      "At trial  15 Angle= 49.163 answer is  right (correct= True ); bandwidth= 8.675 B_sf= 1.0\n",
      "At trial  16 Angle= -6.749 answer is  left (correct= True ); bandwidth= 15.910 B_sf= 0.0625\n",
      "At trial  17 Angle= 6.776 answer is  right (correct= True ); bandwidth= 1.406 B_sf= 0.5\n",
      "At trial  18 Angle= -12.442 answer is  left (correct= True ); bandwidth= 4.730 B_sf= 1.0\n",
      "At trial  19 Angle= -61.986 answer is  left (correct= True ); bandwidth= 4.730 B_sf= 0.5\n",
      "At trial  20 Angle= -12.615 answer is  left (correct= True ); bandwidth= 1.406 B_sf= 0.125\n",
      "At trial  21 Angle= -4.383 answer is  left (correct= True ); bandwidth= 1.406 B_sf= 0.0625\n",
      "At trial  22 Angle= -26.161 answer is  left (correct= True ); bandwidth= 15.910 B_sf= 0.25\n",
      "At trial  23 Angle= -28.537 answer is  left (correct= True ); bandwidth= 2.579 B_sf= 0.0625\n",
      "At trial  24 Angle= -29.182 answer is  left (correct= True ); bandwidth= 2.579 B_sf= 0.5\n",
      "At trial  25 Angle= -62.587 answer is  left (correct= True ); bandwidth= 2.579 B_sf= 0.125\n",
      "At trial  26 Angle= -19.085 answer is  left (correct= True ); bandwidth= 15.910 B_sf= 1.0\n",
      "At trial  27 Angle= 23.485 answer is  right (correct= True ); bandwidth= 15.910 B_sf= 0.5\n",
      "At trial  28 Angle= -2.315 answer is  left (correct= True ); bandwidth= 2.579 B_sf= 0.25\n",
      "At trial  29 Angle= 24.396 answer is  left (correct= False ); bandwidth= 2.579 B_sf= 0.5\n",
      "At trial  30 Angle= 0.210 answer is  right (correct= True ); bandwidth= 2.579 B_sf= 0.25\n",
      "At trial  31 Angle= -34.988 answer is  left (correct= True ); bandwidth= 8.675 B_sf= 0.125\n",
      "At trial  32 Angle= 48.041 answer is  right (correct= True ); bandwidth= 2.579 B_sf= 0.125\n",
      "At trial  33 Angle= 32.224 answer is  right (correct= True ); bandwidth= 8.675 B_sf= 0.5\n",
      "At trial  34 Angle= 36.439 answer is  right (correct= True ); bandwidth= 1.406 B_sf= 1.0\n",
      "At trial  35 Angle= -15.899 answer is  left (correct= True ); bandwidth= 8.675 B_sf= 0.0625\n",
      "At trial  36 Angle= 33.244 answer is  right (correct= True ); bandwidth= 1.406 B_sf= 0.0625\n",
      "At trial  37 Angle= -18.083 answer is  left (correct= True ); bandwidth= 4.730 B_sf= 1.0\n",
      "At trial  38 Angle= -12.203 answer is  left (correct= True ); bandwidth= 8.675 B_sf= 0.5\n",
      "At trial  39 Angle= 0.577 answer is  right (correct= True ); bandwidth= 4.730 B_sf= 0.25\n",
      "At trial  40 Angle= 0.132 answer is  right (correct= True ); bandwidth= 15.910 B_sf= 0.125\n",
      "At trial  41 Angle= 5.488 answer is  right (correct= True ); bandwidth= 4.730 B_sf= 0.125\n",
      "At trial  42 Angle= 27.017 answer is  right (correct= True ); bandwidth= 15.910 B_sf= 0.125\n",
      "At trial  43 Angle= -16.149 answer is  left (correct= True ); bandwidth= 2.579 B_sf= 0.5\n",
      "At trial  44 Angle= -19.494 answer is  left (correct= True ); bandwidth= 1.406 B_sf= 0.25\n",
      "At trial  45 Angle= -23.123 answer is  left (correct= True ); bandwidth= 4.730 B_sf= 1.0\n",
      "At trial  46 Angle= 34.009 answer is  left (correct= False ); bandwidth= 15.910 B_sf= 0.5\n",
      "At trial  47 Angle= 33.373 answer is  right (correct= True ); bandwidth= 15.910 B_sf= 0.5\n",
      "At trial  48 Angle= -26.229 answer is  left (correct= True ); bandwidth= 15.910 B_sf= 0.125\n",
      "At trial  49 Angle= 47.697 answer is  right (correct= True ); bandwidth= 8.675 B_sf= 1.0\n",
      "At trial  50 Angle= -34.288 answer is  left (correct= True ); bandwidth= 4.730 B_sf= 0.25\n",
      "At trial  51 Angle= 57.260 answer is  right (correct= True ); bandwidth= 4.730 B_sf= 0.125\n",
      "At trial  52 Angle= -33.640 answer is  left (correct= True ); bandwidth= 2.579 B_sf= 0.25\n",
      "At trial  53 Angle= -27.809 answer is  left (correct= True ); bandwidth= 4.730 B_sf= 0.125\n",
      "At trial  54 Angle= 34.046 answer is  right (correct= True ); bandwidth= 2.579 B_sf= 0.5\n",
      "At trial  55 Angle= -15.117 answer is  left (correct= True ); bandwidth= 1.406 B_sf= 0.125\n",
      "At trial  56 Angle= -37.299 answer is  left (correct= True ); bandwidth= 1.406 B_sf= 0.25\n",
      "At trial  57 Angle= 49.319 answer is  right (correct= True ); bandwidth= 4.730 B_sf= 1.0\n",
      "At trial  58 Angle= 20.353 answer is  right (correct= True ); bandwidth= 2.579 B_sf= 0.5\n",
      "At trial  59 Angle= -9.328 answer is  left (correct= True ); bandwidth= 2.579 B_sf= 0.25\n",
      "At trial  60 Angle= 8.847 answer is  left (correct= False ); bandwidth= 4.730 B_sf= 0.0625\n",
      "At trial  61 Angle= 5.300 answer is  right (correct= True ); bandwidth= 15.910 B_sf= 0.25\n",
      "At trial  62 Angle= -7.759 answer is  left (correct= True ); bandwidth= 4.730 B_sf= 0.0625\n",
      "At trial  63 Angle= 6.478 answer is  right (correct= True ); bandwidth= 15.910 B_sf= 0.5\n",
      "At trial  64 Angle= 34.676 answer is  right (correct= True ); bandwidth= 15.910 B_sf= 0.5\n",
      "At trial  65 Angle= -6.372 answer is  left (correct= True ); bandwidth= 15.910 B_sf= 0.0625\n",
      "At trial  66 Angle= 75.666 answer is  right (correct= True ); bandwidth= 1.406 B_sf= 0.0625\n",
      "At trial  67 Angle= -48.710 answer is  left (correct= True ); bandwidth= 4.730 B_sf= 0.5\n",
      "At trial  68 Angle= -32.635 answer is  left (correct= True ); bandwidth= 15.910 B_sf= 0.5\n",
      "At trial  69 Angle= 11.062 answer is  right (correct= True ); bandwidth= 4.730 B_sf= 0.25\n",
      "At trial  70 Angle= -7.029 answer is  left (correct= True ); bandwidth= 1.406 B_sf= 0.125\n",
      "At trial  71 Angle= 11.203 answer is  right (correct= True ); bandwidth= 1.406 B_sf= 0.25\n",
      "At trial  72 Angle= -18.417 answer is  left (correct= True ); bandwidth= 8.675 B_sf= 1.0\n",
      "At trial  73 Angle= 25.694 answer is  right (correct= True ); bandwidth= 8.675 B_sf= 1.0\n",
      "At trial  74 Angle= 9.126 answer is  right (correct= True ); bandwidth= 15.910 B_sf= 0.25\n",
      "At trial  75 Angle= -25.589 answer is  left (correct= True ); bandwidth= 2.579 B_sf= 1.0\n",
      "At trial  76 Angle= -39.316 answer is  left (correct= True ); bandwidth= 2.579 B_sf= 0.5\n",
      "At trial  77 Angle= 6.542 answer is  right (correct= True ); bandwidth= 2.579 B_sf= 0.125\n",
      "At trial  78 Angle= 9.234 answer is  right (correct= True ); bandwidth= 15.910 B_sf= 0.25\n",
      "At trial  79 Angle= 36.510 answer is  right (correct= True ); bandwidth= 8.675 B_sf= 0.0625\n",
      "At trial  80 Angle= -34.148 answer is  left (correct= True ); bandwidth= 2.579 B_sf= 1.0\n",
      "At trial  81 Angle= 78.233 answer is  right (correct= True ); bandwidth= 15.910 B_sf= 0.25\n",
      "At trial  82 Angle= -34.900 answer is  left (correct= True ); bandwidth= 1.406 B_sf= 0.125\n",
      "At trial  83 Angle= 47.807 answer is  right (correct= True ); bandwidth= 2.579 B_sf= 0.0625\n",
      "At trial  84 Angle= 19.989 answer is  right (correct= True ); bandwidth= 1.406 B_sf= 1.0\n",
      "At trial  85 Angle= -3.320 answer is  left (correct= True ); bandwidth= 8.675 B_sf= 0.25\n",
      "At trial  86 Angle= -13.568 answer is  left (correct= True ); bandwidth= 8.675 B_sf= 0.25\n",
      "At trial  87 Angle= 7.029 answer is  right (correct= True ); bandwidth= 15.910 B_sf= 0.25\n",
      "At trial  88 Angle= -6.993 answer is  left (correct= True ); bandwidth= 4.730 B_sf= 1.0\n",
      "At trial  89 Angle= 22.536 answer is  right (correct= True ); bandwidth= 4.730 B_sf= 0.25\n",
      "At trial  90 Angle= -33.713 answer is  left (correct= True ); bandwidth= 4.730 B_sf= 0.5\n",
      "At trial  91 Angle= -53.985 answer is  left (correct= True ); bandwidth= 2.579 B_sf= 0.0625\n",
      "At trial  92 Angle= 16.792 answer is  right (correct= True ); bandwidth= 8.675 B_sf= 0.25\n",
      "At trial  93 Angle= -10.398 answer is  left (correct= True ); bandwidth= 1.406 B_sf= 0.0625\n",
      "At trial  94 Angle= 21.712 answer is  right (correct= True ); bandwidth= 4.730 B_sf= 1.0\n",
      "At trial  95 Angle= 4.680 answer is  right (correct= True ); bandwidth= 1.406 B_sf= 0.25\n",
      "At trial  96 Angle= 39.580 answer is  right (correct= True ); bandwidth= 2.579 B_sf= 0.5\n",
      "At trial  97 Angle= 18.549 answer is  right (correct= True ); bandwidth= 2.579 B_sf= 0.125\n",
      "At trial  98 Angle= -8.144 answer is  left (correct= True ); bandwidth= 1.406 B_sf= 0.0625\n",
      "At trial  99 Angle= 27.843 answer is  right (correct= True ); bandwidth= 1.406 B_sf= 0.0625\n",
      "At trial  100 Angle= 24.724 answer is  right (correct= True ); bandwidth= 2.579 B_sf= 0.0625\n",
      "At trial  101 Angle= 10.931 answer is  right (correct= True ); bandwidth= 15.910 B_sf= 0.25\n",
      "At trial  102 Angle= -17.125 answer is  left (correct= True ); bandwidth= 1.406 B_sf= 0.125\n",
      "At trial  103 Angle= 3.256 answer is  right (correct= True ); bandwidth= 2.579 B_sf= 0.125\n",
      "At trial  104 Angle= -17.443 answer is  left (correct= True ); bandwidth= 8.675 B_sf= 0.5\n",
      "At trial  105 Angle= 7.912 answer is  right (correct= True ); bandwidth= 4.730 B_sf= 0.0625\n",
      "At trial  106 Angle= -53.927 answer is  left (correct= True ); bandwidth= 1.406 B_sf= 0.0625\n",
      "At trial  107 Angle= 4.384 answer is  right (correct= True ); bandwidth= 8.675 B_sf= 0.125\n",
      "At trial  108 Angle= -45.392 answer is  left (correct= True ); bandwidth= 15.910 B_sf= 0.0625\n",
      "At trial  109 Angle= -3.122 answer is  left (correct= True ); bandwidth= 4.730 B_sf= 0.5\n",
      "At trial  110 Angle= 27.050 answer is  right (correct= True ); bandwidth= 1.406 B_sf= 0.0625\n",
      "At trial  111 Angle= 31.853 answer is  right (correct= True ); bandwidth= 1.406 B_sf= 0.0625\n",
      "At trial  112 Angle= -17.015 answer is  left (correct= True ); bandwidth= 1.406 B_sf= 0.125\n",
      "At trial  113 Angle= 12.425 answer is  right (correct= True ); bandwidth= 15.910 B_sf= 0.125\n",
      "At trial  114 Angle= 42.517 answer is  right (correct= True ); bandwidth= 2.579 B_sf= 1.0\n",
      "At trial  115 Angle= -28.766 answer is  left (correct= True ); bandwidth= 2.579 B_sf= 0.125\n",
      "At trial  116 Angle= 31.109 answer is  right (correct= True ); bandwidth= 4.730 B_sf= 1.0\n",
      "At trial  117 Angle= 28.649 answer is  right (correct= True ); bandwidth= 15.910 B_sf= 0.125\n",
      "At trial  118 Angle= -42.096 answer is  left (correct= True ); bandwidth= 8.675 B_sf= 0.125\n",
      "At trial  119 Angle= -15.612 answer is  left (correct= True ); bandwidth= 8.675 B_sf= 0.5\n",
      "At trial  120 Angle= 5.981 answer is  right (correct= True ); bandwidth= 8.675 B_sf= 0.0625\n",
      "At trial  121 Angle= -18.529 answer is  left (correct= True ); bandwidth= 2.579 B_sf= 0.125\n",
      "At trial  122 Angle= 20.943 answer is  right (correct= True ); bandwidth= 8.675 B_sf= 1.0\n",
      "At trial  123 Angle= 54.632 answer is  right (correct= True ); bandwidth= 15.910 B_sf= 1.0\n",
      "At trial  124 Angle= -37.711 answer is  left (correct= True ); bandwidth= 4.730 B_sf= 1.0\n",
      "At trial  125 Angle= -6.504 answer is  left (correct= True ); bandwidth= 1.406 B_sf= 0.125\n",
      "At trial  126 Angle= -0.884 answer is  left (correct= True ); bandwidth= 8.675 B_sf= 1.0\n",
      "At trial  127 Angle= -7.347 answer is  left (correct= True ); bandwidth= 4.730 B_sf= 0.125\n",
      "At trial  128 Angle= -16.313 answer is  left (correct= True ); bandwidth= 15.910 B_sf= 0.125\n",
      "At trial  129 Angle= -12.828 answer is  left (correct= True ); bandwidth= 2.579 B_sf= 1.0\n",
      "At trial  130 Angle= 10.605 answer is  right (correct= True ); bandwidth= 1.406 B_sf= 0.5\n",
      "At trial  131 Angle= 23.737 answer is  right (correct= True ); bandwidth= 1.406 B_sf= 0.0625\n",
      "At trial  132 Angle= 5.937 answer is  right (correct= True ); bandwidth= 2.579 B_sf= 0.0625\n",
      "At trial  133 Angle= -45.870 answer is  left (correct= True ); bandwidth= 15.910 B_sf= 0.0625\n",
      "At trial  134 Angle= -4.944 answer is  left (correct= True ); bandwidth= 2.579 B_sf= 0.0625\n",
      "At trial  135 Angle= -64.705 answer is  left (correct= True ); bandwidth= 2.579 B_sf= 0.25\n",
      "At trial  136 Angle= 9.697 answer is  right (correct= True ); bandwidth= 15.910 B_sf= 1.0\n",
      "At trial  137 Angle= 16.223 answer is  right (correct= True ); bandwidth= 8.675 B_sf= 0.0625\n",
      "At trial  138 Angle= 21.529 answer is  right (correct= True ); bandwidth= 2.579 B_sf= 0.25\n",
      "At trial  139 Angle= 22.966 answer is  right (correct= True ); bandwidth= 2.579 B_sf= 0.5\n",
      "At trial  140 Angle= 30.256 answer is  right (correct= True ); bandwidth= 15.910 B_sf= 1.0\n",
      "At trial  141 Angle= -40.642 answer is  left (correct= True ); bandwidth= 2.579 B_sf= 0.125\n",
      "At trial  142 Angle= 37.293 answer is  right (correct= True ); bandwidth= 2.579 B_sf= 0.25\n",
      "At trial  143 Angle= -28.345 answer is  left (correct= True ); bandwidth= 2.579 B_sf= 0.25\n",
      "At trial  144 Angle= -3.928 answer is  left (correct= True ); bandwidth= 4.730 B_sf= 0.25\n",
      "At trial  145 Angle= 23.160 answer is  right (correct= True ); bandwidth= 2.579 B_sf= 0.5\n",
      "At trial  146 Angle= -4.991 answer is  left (correct= True ); bandwidth= 2.579 B_sf= 0.125\n",
      "At trial  147 Angle= -15.741 answer is  left (correct= True ); bandwidth= 1.406 B_sf= 0.5\n",
      "At trial  148 Angle= 6.502 answer is  right (correct= True ); bandwidth= 8.675 B_sf= 0.125\n",
      "At trial  149 Angle= 47.864 answer is  right (correct= True ); bandwidth= 8.675 B_sf= 0.0625\n",
      "24.6840 \tWARNING \tMonitor specification not found. Creating a temporary one...\n",
      "24.6895 \tWARNING \tUser requested fullscreen with size [1400  800], but screen is actually [1366, 768]. Using actual size\n"
     ]
    }
   ],
   "source": [
    "#win = visual.Window([1400,800],fullscr=fullscr, color=[0,0,0], winType='pygame', monitor='testMonitor', units='height')\n",
    "win = visual.Window([1400, 800], fullscr=fullscr, color=[0, 0, 0])\n",
    "\n",
    "\n",
    "mouse = event.Mouse(newPos=(0, 0), visible=False)\n",
    "x0, y0 = mouse.getPos()\n",
    "event.clearEvents()\n",
    "instructions = \"\"\"\n",
    "At each trial you see one textured image, report the \n",
    "orientation you perceive.\n",
    "\n",
    "Move the mouse to the right if it is clock-wise of the vertical,\n",
    "move the mouse to the left if it is counter clock-wise of the vertical.\n",
    "\n",
    "Move the mouse to begin the experiment.\n",
    "\"\"\"\n",
    "msg = visual.TextStim(win, text=instructions, alignHoriz='center', alignVert='center', color='black')\n",
    "msg.draw()\n",
    "win.flip()\n",
    "while not mouse.mouseMoved(distance=.05): \n",
    "    event.clearEvents()\n",
    "    \n",
    "fixation = visual.ShapeStim(vertices='cross', win=win, size=0.05, pos=[0, 0], fillColor='black', units='height')\n",
    "fixation.autolog = False\n",
    "\n",
    "MC1 = generate_random_cloud(np.pi/2, B_theta=np.pi/2, B_sf=0.1)\n",
    "bitmap1 = visual.ImageStim(win, MC1, mask='gauss', size=0.8, units='height', interpolate= True)\n",
    "bitmap1.autolog = False \n",
    "\n",
    "msg = visual.TextStim(win, text='?', color='black')\n",
    "\n",
    "import time\n",
    "start_time = time.time()\n",
    "print(\"Test started\")\n",
    "\n",
    "\n",
    "ans_list = []\n",
    "N_B_thetas = 5\n",
    "N_B_Bsf = 5\n",
    "B_thetas = np.pi*np.logspace(-7, -3.5, N_B_thetas, base=2)\n",
    "B_sfs = np.logspace(-4,0.,N_B_Bsf,base=2)\n",
    "std_theta = np.pi/6\n",
    "\n",
    "\n",
    "for trial in range(test_length):\n",
    "    clock = core.Clock()\n",
    "    fixation.draw()\n",
    "    win.flip()\n",
    "    \n",
    "    theta = (np.random.randn())*std_theta #doute\n",
    "    \n",
    "    # MC generation\n",
    "    B_theta = B_thetas[random.randint(0, N_B_thetas-1)]\n",
    "    B_sf = B_sfs[random.randint(0, N_B_Bsf-1)]\n",
    "    MC1 = generate_random_cloud(np.pi/2-theta, B_theta=B_theta, B_sf=B_sf) \n",
    "    bitmap1.setImage(MC1)\n",
    "\n",
    "    # Times the trial\n",
    "    while clock.getTime() < fixation_length + stim1_length + stim2_length:\n",
    "        if 0.0 <= clock.getTime() < fixation_length:  # fixation\n",
    "            fixation.draw()\n",
    "        if fixation_length + 0.01 <= clock.getTime() < fixation_length + stim1_length: \n",
    "            bitmap1.draw()\n",
    "            win.flip()\n",
    "        if fixation_length + stim1_length <= clock.getTime() < fixation_length + stim1_length + stim2_length:\n",
    "            msg.draw()\n",
    "            \n",
    "    win.flip()\n",
    "\n",
    "    mouse.setPos(newPos=(0, 0))\n",
    "    x0, y0 = mouse.getPos()\n",
    "    event.clearEvents()\n",
    "\n",
    "    while not mouse.mouseMoved(distance=.05): \n",
    "        # this creates a never-ending loop\n",
    "        # until we move the mouse\n",
    "        event.clearEvents()\n",
    "\n",
    "    x, y = mouse.getPos()\n",
    "    if x < 0:\n",
    "        answer = 'left'\n",
    "    else: #elif x > 0:\n",
    "        answer = 'right'\n",
    "        if x == 0: print('this should not happen 😤')\n",
    "    event.clearEvents() \n",
    "\n",
    "    ans = event.getKeys()   \n",
    "\n",
    "    if ans == ['escape', 'q']:\n",
    "        win.close()\n",
    "        core.quit()\n",
    "\n",
    "    correct = ((theta > 0) and answer == 'right') or ((theta < 0) and answer == 'left')\n",
    "    print('At trial ', trial, 'Angle=', '%3.3f' % (theta*180/np.pi), 'answer is ',  answer, '(correct=', correct, '); bandwidth=', '%.3f' % (B_theta*180/np.pi),'B_sf=', B_sf)   \n",
    "       \n",
    "    # Output shape per trial is : trial number, shift direction, answered shift and b_theta\n",
    "    ans_list.append([trial, theta, answer, B_theta, B_sf])\n",
    "\n",
    "win.close()"
   ]
  },
  {
   "cell_type": "code",
   "execution_count": 9,
   "metadata": {},
   "outputs": [],
   "source": [
    "import pickle\n",
    "pickle.dump(ans_list, open( os.path.join(data_folder, 'Psychophys_discrim_%s.p' % exp_info['participant']), 'wb'))\n"
   ]
  },
  {
   "cell_type": "code",
   "execution_count": 10,
   "metadata": {},
   "outputs": [],
   "source": [
    "import json\n",
    "json.dump(ans_list, open( os.path.join(data_folder, 'Psychophys_discrim_%s.json' % exp_info['participant']),'w',encoding=\"utf8\"))\n"
   ]
  }
 ],
 "metadata": {
  "kernelspec": {
   "display_name": "Python 3",
   "language": "python",
   "name": "python3"
  },
  "language_info": {
   "codemirror_mode": {
    "name": "ipython",
    "version": 3
   },
   "file_extension": ".py",
   "mimetype": "text/x-python",
   "name": "python",
   "nbconvert_exporter": "python",
   "pygments_lexer": "ipython3",
   "version": "3.7.3"
  },
  "nteract": {
   "version": "0.21.0"
  }
 },
 "nbformat": 4,
 "nbformat_minor": 4
}
