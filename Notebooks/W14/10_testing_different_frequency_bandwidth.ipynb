{
 "cells": [
  {
   "cell_type": "markdown",
   "metadata": {},
   "source": [
    " #### Refaire l'experience en utilisant des petits $B_\\theta$ (<15°)"
   ]
  },
  {
   "cell_type": "code",
   "execution_count": 1,
   "metadata": {},
   "outputs": [
    {
     "name": "stdout",
     "output_type": "stream",
     "text": [
      "pygame 1.9.6\n",
      "Hello from the pygame community. https://www.pygame.org/contribute.html\n"
     ]
    }
   ],
   "source": [
    "import numpy as np\n",
    "import MotionClouds as mc\n",
    "import matplotlib.pyplot as plt\n",
    "import os\n",
    "import imageio\n",
    "import random\n",
    "from psychopy import visual, core, event, gui, data\n",
    "import MotionClouds as MC\n",
    "import pygame"
   ]
  },
  {
   "cell_type": "code",
   "execution_count": 2,
   "metadata": {},
   "outputs": [
    {
     "data": {
      "text/plain": [
       "'..\\\\Psychopy_data\\\\pilot\\\\mouse_motion\\\\json'"
      ]
     },
     "execution_count": 2,
     "metadata": {},
     "output_type": "execute_result"
    }
   ],
   "source": [
    "exp_name = \"Perception de l'orientation\"\n",
    "exp_info = {'participant':''}\n",
    "subj_info = gui.DlgFromDict(dictionary=exp_info, title=exp_name)\n",
    "exp_info['exp_name'] = exp_name\n",
    "data_folder = os.path.join('..', 'Psychopy_data', 'pilot', 'mouse_motion','json')\n",
    "data_folder"
   ]
  },
  {
   "cell_type": "code",
   "execution_count": 3,
   "metadata": {},
   "outputs": [
    {
     "name": "stderr",
     "output_type": "stream",
     "text": [
      "Un sous-r‚pertoire ou un fichier -p existe d‚j….\n",
      "Une erreur s'est produite lors du traitement deÿ: -p.\n",
      "Un sous-r‚pertoire ou un fichier ..\\Psychopy_data\\pilot\\mouse_motion\\json existe d‚j….\n",
      "Une erreur s'est produite lors du traitement deÿ: ..\\Psychopy_data\\pilot\\mouse_motion\\json.\n"
     ]
    }
   ],
   "source": [
    "%mkdir -p {data_folder}"
   ]
  },
  {
   "cell_type": "code",
   "execution_count": 3,
   "metadata": {},
   "outputs": [],
   "source": [
    "downscale = 1\n",
    "fig_width = 21\n",
    "fx, fy, ft = mc.get_grids(mc.N_X/downscale, mc.N_Y/downscale, 1)"
   ]
  },
  {
   "cell_type": "code",
   "execution_count": 4,
   "metadata": {},
   "outputs": [],
   "source": [
    "test_length = 150     # number of trials\n",
    "fixation_length = .5  # length of fixation, in second\n",
    "stim1_length = 0.25   # length of first stim, in second\n",
    "stim2_length = 0.25   # length of the second stim, in second \n",
    "\n",
    "fullscr = False\n",
    "\n",
    "fullscr = True\n"
   ]
  },
  {
   "cell_type": "code",
   "execution_count": 5,
   "metadata": {},
   "outputs": [],
   "source": [
    "def generate_random_cloud(theta, B_theta, B_sf, downscale = 1):\n",
    "    fx, fy, ft = mc.get_grids(mc.N_X/downscale, mc.N_Y/downscale, 1)\n",
    "    mc_i = mc.envelope_gabor(fx, fy, ft, V_X=0., V_Y=0.,\n",
    "                             B_V=0, theta=theta, B_theta=B_theta)\n",
    "    im = mc.random_cloud(mc_i)\n",
    "    im = (mc.rectif(im) * 255).astype('uint8')\n",
    "    fname = 'tmp/%s_%s.png' % (theta, B_theta)\n",
    "    imageio.imwrite(fname, im[:, :, 0])\n",
    "    return fname"
   ]
  },
  {
   "cell_type": "code",
   "execution_count": 7,
   "metadata": {},
   "outputs": [
    {
     "name": "stderr",
     "output_type": "stream",
     "text": [
      "Un sous-r‚pertoire ou un fichier -p existe d‚j….\n",
      "Une erreur s'est produite lors du traitement deÿ: -p.\n",
      "Un sous-r‚pertoire ou un fichier tmp existe d‚j….\n",
      "Une erreur s'est produite lors du traitement deÿ: tmp.\n"
     ]
    }
   ],
   "source": [
    "%mkdir -p tmp"
   ]
  },
  {
   "cell_type": "code",
   "execution_count": 6,
   "metadata": {},
   "outputs": [
    {
     "name": "stdout",
     "output_type": "stream",
     "text": [
      "Test started\n",
      "At trial  0 Angle= 30.331 answer is  right (correct= True ); bandwidth= 2.579 B_sf= 0.125\n",
      "At trial  1 Angle= 45.295 answer is  right (correct= True ); bandwidth= 4.730 B_sf= 0.25\n",
      "At trial  2 Angle= 11.478 answer is  right (correct= True ); bandwidth= 2.579 B_sf= 1.0\n",
      "At trial  3 Angle= -21.711 answer is  left (correct= True ); bandwidth= 15.910 B_sf= 1.0\n",
      "At trial  4 Angle= 49.375 answer is  left (correct= False ); bandwidth= 2.579 B_sf= 1.0\n",
      "At trial  5 Angle= -0.630 answer is  left (correct= True ); bandwidth= 1.406 B_sf= 0.25\n",
      "At trial  6 Angle= -37.822 answer is  left (correct= True ); bandwidth= 4.730 B_sf= 0.5\n",
      "At trial  7 Angle= 24.606 answer is  right (correct= True ); bandwidth= 1.406 B_sf= 0.5\n",
      "At trial  8 Angle= 16.684 answer is  right (correct= True ); bandwidth= 1.406 B_sf= 0.125\n",
      "At trial  9 Angle= -28.359 answer is  left (correct= True ); bandwidth= 8.675 B_sf= 0.0625\n",
      "At trial  10 Angle= 13.082 answer is  right (correct= True ); bandwidth= 2.579 B_sf= 0.125\n",
      "At trial  11 Angle= -66.163 answer is  left (correct= True ); bandwidth= 4.730 B_sf= 0.5\n",
      "At trial  12 Angle= 6.461 answer is  right (correct= True ); bandwidth= 1.406 B_sf= 0.5\n",
      "At trial  13 Angle= 34.930 answer is  right (correct= True ); bandwidth= 15.910 B_sf= 0.0625\n",
      "At trial  14 Angle= -10.874 answer is  left (correct= True ); bandwidth= 4.730 B_sf= 0.125\n",
      "At trial  15 Angle= -5.704 answer is  left (correct= True ); bandwidth= 2.579 B_sf= 0.5\n",
      "At trial  16 Angle= 31.114 answer is  right (correct= True ); bandwidth= 2.579 B_sf= 0.25\n",
      "At trial  17 Angle= 69.562 answer is  right (correct= True ); bandwidth= 15.910 B_sf= 0.5\n",
      "At trial  18 Angle= -31.590 answer is  left (correct= True ); bandwidth= 4.730 B_sf= 0.125\n",
      "At trial  19 Angle= -22.909 answer is  left (correct= True ); bandwidth= 8.675 B_sf= 0.0625\n",
      "At trial  20 Angle= 8.062 answer is  right (correct= True ); bandwidth= 1.406 B_sf= 0.5\n",
      "At trial  21 Angle= 12.007 answer is  right (correct= True ); bandwidth= 1.406 B_sf= 0.25\n",
      "At trial  22 Angle= -27.539 answer is  left (correct= True ); bandwidth= 4.730 B_sf= 0.0625\n",
      "At trial  23 Angle= 40.001 answer is  right (correct= True ); bandwidth= 15.910 B_sf= 0.25\n",
      "At trial  24 Angle= -32.679 answer is  left (correct= True ); bandwidth= 1.406 B_sf= 0.5\n",
      "At trial  25 Angle= -11.426 answer is  left (correct= True ); bandwidth= 4.730 B_sf= 0.25\n",
      "At trial  26 Angle= 13.591 answer is  right (correct= True ); bandwidth= 8.675 B_sf= 0.25\n",
      "At trial  27 Angle= 0.093 answer is  left (correct= False ); bandwidth= 8.675 B_sf= 1.0\n",
      "At trial  28 Angle= 25.065 answer is  right (correct= True ); bandwidth= 2.579 B_sf= 1.0\n",
      "At trial  29 Angle= -45.834 answer is  left (correct= True ); bandwidth= 1.406 B_sf= 0.0625\n",
      "At trial  30 Angle= -43.515 answer is  left (correct= True ); bandwidth= 8.675 B_sf= 0.25\n",
      "At trial  31 Angle= 2.485 answer is  right (correct= True ); bandwidth= 15.910 B_sf= 1.0\n",
      "At trial  32 Angle= 3.626 answer is  right (correct= True ); bandwidth= 15.910 B_sf= 0.125\n",
      "At trial  33 Angle= -37.811 answer is  left (correct= True ); bandwidth= 8.675 B_sf= 0.5\n",
      "At trial  34 Angle= 6.525 answer is  left (correct= False ); bandwidth= 2.579 B_sf= 0.25\n",
      "At trial  35 Angle= 9.298 answer is  right (correct= True ); bandwidth= 15.910 B_sf= 0.25\n",
      "At trial  36 Angle= 23.741 answer is  right (correct= True ); bandwidth= 15.910 B_sf= 1.0\n",
      "At trial  37 Angle= -4.635 answer is  left (correct= True ); bandwidth= 2.579 B_sf= 0.5\n",
      "At trial  38 Angle= -24.628 answer is  left (correct= True ); bandwidth= 1.406 B_sf= 0.0625\n",
      "At trial  39 Angle= -36.218 answer is  left (correct= True ); bandwidth= 8.675 B_sf= 0.0625\n",
      "At trial  40 Angle= 20.562 answer is  right (correct= True ); bandwidth= 15.910 B_sf= 0.125\n",
      "At trial  41 Angle= -8.173 answer is  left (correct= True ); bandwidth= 2.579 B_sf= 0.25\n",
      "At trial  42 Angle= -28.951 answer is  left (correct= True ); bandwidth= 15.910 B_sf= 0.25\n",
      "At trial  43 Angle= 56.294 answer is  right (correct= True ); bandwidth= 4.730 B_sf= 0.25\n",
      "At trial  44 Angle= -47.228 answer is  left (correct= True ); bandwidth= 8.675 B_sf= 1.0\n",
      "At trial  45 Angle= 28.481 answer is  right (correct= True ); bandwidth= 15.910 B_sf= 0.5\n",
      "At trial  46 Angle= -27.444 answer is  left (correct= True ); bandwidth= 8.675 B_sf= 0.5\n",
      "At trial  47 Angle= -15.917 answer is  left (correct= True ); bandwidth= 2.579 B_sf= 0.25\n",
      "At trial  48 Angle= -14.215 answer is  left (correct= True ); bandwidth= 4.730 B_sf= 0.5\n",
      "At trial  49 Angle= 4.288 answer is  right (correct= True ); bandwidth= 4.730 B_sf= 0.125\n",
      "At trial  50 Angle= -14.621 answer is  left (correct= True ); bandwidth= 15.910 B_sf= 0.0625\n",
      "At trial  51 Angle= 5.733 answer is  right (correct= True ); bandwidth= 8.675 B_sf= 0.5\n",
      "At trial  52 Angle= -53.824 answer is  left (correct= True ); bandwidth= 1.406 B_sf= 0.25\n",
      "At trial  53 Angle= -21.308 answer is  left (correct= True ); bandwidth= 8.675 B_sf= 0.25\n",
      "At trial  54 Angle= 8.220 answer is  right (correct= True ); bandwidth= 4.730 B_sf= 0.5\n",
      "At trial  55 Angle= -39.218 answer is  left (correct= True ); bandwidth= 15.910 B_sf= 0.25\n",
      "At trial  56 Angle= 1.288 answer is  right (correct= True ); bandwidth= 2.579 B_sf= 0.125\n",
      "At trial  57 Angle= -51.342 answer is  left (correct= True ); bandwidth= 15.910 B_sf= 0.5\n",
      "At trial  58 Angle= -30.718 answer is  left (correct= True ); bandwidth= 8.675 B_sf= 0.25\n",
      "At trial  59 Angle= 4.144 answer is  right (correct= True ); bandwidth= 8.675 B_sf= 0.125\n",
      "At trial  60 Angle= 12.613 answer is  right (correct= True ); bandwidth= 2.579 B_sf= 1.0\n",
      "At trial  61 Angle= -22.841 answer is  left (correct= True ); bandwidth= 4.730 B_sf= 1.0\n",
      "At trial  62 Angle= -43.133 answer is  left (correct= True ); bandwidth= 2.579 B_sf= 1.0\n",
      "At trial  63 Angle= 17.973 answer is  right (correct= True ); bandwidth= 1.406 B_sf= 0.0625\n",
      "At trial  64 Angle= -27.494 answer is  left (correct= True ); bandwidth= 8.675 B_sf= 0.5\n",
      "At trial  65 Angle= 18.186 answer is  right (correct= True ); bandwidth= 4.730 B_sf= 0.0625\n",
      "At trial  66 Angle= 10.689 answer is  right (correct= True ); bandwidth= 2.579 B_sf= 0.25\n",
      "At trial  67 Angle= 12.501 answer is  right (correct= True ); bandwidth= 1.406 B_sf= 0.125\n",
      "At trial  68 Angle= -21.893 answer is  left (correct= True ); bandwidth= 15.910 B_sf= 0.5\n",
      "At trial  69 Angle= 39.255 answer is  right (correct= True ); bandwidth= 8.675 B_sf= 0.25\n",
      "At trial  70 Angle= 14.521 answer is  right (correct= True ); bandwidth= 1.406 B_sf= 0.125\n",
      "At trial  71 Angle= 0.939 answer is  right (correct= True ); bandwidth= 8.675 B_sf= 0.125\n",
      "At trial  72 Angle= -13.854 answer is  left (correct= True ); bandwidth= 8.675 B_sf= 0.0625\n",
      "At trial  73 Angle= 5.494 answer is  right (correct= True ); bandwidth= 4.730 B_sf= 0.0625\n",
      "At trial  74 Angle= -39.680 answer is  left (correct= True ); bandwidth= 8.675 B_sf= 0.0625\n",
      "At trial  75 Angle= -31.787 answer is  left (correct= True ); bandwidth= 2.579 B_sf= 0.0625\n",
      "At trial  76 Angle= 52.729 answer is  right (correct= True ); bandwidth= 4.730 B_sf= 0.5\n",
      "At trial  77 Angle= -5.516 answer is  left (correct= True ); bandwidth= 8.675 B_sf= 0.125\n",
      "At trial  78 Angle= -3.142 answer is  left (correct= True ); bandwidth= 1.406 B_sf= 0.125\n",
      "At trial  79 Angle= 24.428 answer is  right (correct= True ); bandwidth= 4.730 B_sf= 1.0\n",
      "At trial  80 Angle= -19.002 answer is  left (correct= True ); bandwidth= 1.406 B_sf= 0.5\n",
      "At trial  81 Angle= -31.789 answer is  left (correct= True ); bandwidth= 8.675 B_sf= 0.5\n",
      "At trial  82 Angle= 5.077 answer is  right (correct= True ); bandwidth= 4.730 B_sf= 0.125\n",
      "At trial  83 Angle= 33.546 answer is  right (correct= True ); bandwidth= 15.910 B_sf= 0.125\n",
      "At trial  84 Angle= 13.416 answer is  right (correct= True ); bandwidth= 4.730 B_sf= 0.0625\n",
      "At trial  85 Angle= 32.855 answer is  right (correct= True ); bandwidth= 8.675 B_sf= 0.5\n",
      "At trial  86 Angle= -33.734 answer is  left (correct= True ); bandwidth= 2.579 B_sf= 0.5\n",
      "At trial  87 Angle= -18.254 answer is  left (correct= True ); bandwidth= 15.910 B_sf= 0.0625\n",
      "At trial  88 Angle= 21.225 answer is  right (correct= True ); bandwidth= 2.579 B_sf= 0.5\n",
      "At trial  89 Angle= -4.702 answer is  left (correct= True ); bandwidth= 8.675 B_sf= 0.5\n",
      "At trial  90 Angle= 28.133 answer is  right (correct= True ); bandwidth= 2.579 B_sf= 1.0\n",
      "At trial  91 Angle= 7.314 answer is  right (correct= True ); bandwidth= 8.675 B_sf= 1.0\n",
      "At trial  92 Angle= 22.822 answer is  right (correct= True ); bandwidth= 1.406 B_sf= 0.125\n",
      "At trial  93 Angle= -8.691 answer is  left (correct= True ); bandwidth= 4.730 B_sf= 1.0\n",
      "At trial  94 Angle= -45.294 answer is  left (correct= True ); bandwidth= 4.730 B_sf= 0.25\n",
      "At trial  95 Angle= 16.361 answer is  right (correct= True ); bandwidth= 4.730 B_sf= 0.0625\n",
      "At trial  96 Angle= -18.177 answer is  left (correct= True ); bandwidth= 4.730 B_sf= 0.0625\n",
      "At trial  97 Angle= -1.235 answer is  left (correct= True ); bandwidth= 8.675 B_sf= 0.25\n",
      "At trial  98 Angle= -18.932 answer is  left (correct= True ); bandwidth= 2.579 B_sf= 0.5\n",
      "At trial  99 Angle= 59.047 answer is  right (correct= True ); bandwidth= 8.675 B_sf= 0.25\n",
      "At trial  100 Angle= -16.130 answer is  left (correct= True ); bandwidth= 2.579 B_sf= 0.0625\n",
      "At trial  101 Angle= -75.132 answer is  left (correct= True ); bandwidth= 15.910 B_sf= 0.25\n",
      "At trial  102 Angle= 22.500 answer is  right (correct= True ); bandwidth= 15.910 B_sf= 0.5\n",
      "At trial  103 Angle= -39.262 answer is  left (correct= True ); bandwidth= 8.675 B_sf= 0.125\n",
      "At trial  104 Angle= -17.174 answer is  left (correct= True ); bandwidth= 4.730 B_sf= 0.5\n",
      "At trial  105 Angle= -6.027 answer is  left (correct= True ); bandwidth= 1.406 B_sf= 1.0\n",
      "At trial  106 Angle= 24.055 answer is  right (correct= True ); bandwidth= 4.730 B_sf= 1.0\n",
      "At trial  107 Angle= -2.794 answer is  right (correct= False ); bandwidth= 1.406 B_sf= 0.25\n",
      "At trial  108 Angle= 16.476 answer is  right (correct= True ); bandwidth= 8.675 B_sf= 1.0\n",
      "At trial  109 Angle= 36.118 answer is  right (correct= True ); bandwidth= 15.910 B_sf= 0.25\n",
      "At trial  110 Angle= -9.388 answer is  left (correct= True ); bandwidth= 2.579 B_sf= 0.25\n",
      "At trial  111 Angle= 74.931 answer is  right (correct= True ); bandwidth= 8.675 B_sf= 0.5\n",
      "At trial  112 Angle= -8.204 answer is  left (correct= True ); bandwidth= 8.675 B_sf= 0.125\n",
      "At trial  113 Angle= 34.442 answer is  right (correct= True ); bandwidth= 1.406 B_sf= 0.5\n",
      "At trial  114 Angle= 24.133 answer is  right (correct= True ); bandwidth= 2.579 B_sf= 0.5\n",
      "At trial  115 Angle= -4.555 answer is  left (correct= True ); bandwidth= 4.730 B_sf= 1.0\n",
      "At trial  116 Angle= 18.194 answer is  right (correct= True ); bandwidth= 2.579 B_sf= 0.125\n",
      "At trial  117 Angle= 6.485 answer is  right (correct= True ); bandwidth= 2.579 B_sf= 0.125\n",
      "At trial  118 Angle= -1.858 answer is  right (correct= False ); bandwidth= 2.579 B_sf= 0.125\n",
      "At trial  119 Angle= -33.972 answer is  left (correct= True ); bandwidth= 15.910 B_sf= 0.5\n",
      "At trial  120 Angle= 19.721 answer is  right (correct= True ); bandwidth= 1.406 B_sf= 0.25\n",
      "At trial  121 Angle= -36.491 answer is  left (correct= True ); bandwidth= 2.579 B_sf= 0.0625\n",
      "At trial  122 Angle= -28.863 answer is  left (correct= True ); bandwidth= 8.675 B_sf= 1.0\n",
      "At trial  123 Angle= -21.477 answer is  left (correct= True ); bandwidth= 1.406 B_sf= 0.0625\n",
      "At trial  124 Angle= 46.570 answer is  right (correct= True ); bandwidth= 4.730 B_sf= 0.0625\n",
      "At trial  125 Angle= 10.187 answer is  right (correct= True ); bandwidth= 15.910 B_sf= 0.0625\n",
      "At trial  126 Angle= 9.319 answer is  right (correct= True ); bandwidth= 15.910 B_sf= 0.5\n",
      "At trial  127 Angle= -42.155 answer is  left (correct= True ); bandwidth= 8.675 B_sf= 0.125\n",
      "At trial  128 Angle= -19.978 answer is  left (correct= True ); bandwidth= 8.675 B_sf= 0.25\n",
      "At trial  129 Angle= 57.779 answer is  right (correct= True ); bandwidth= 2.579 B_sf= 1.0\n",
      "At trial  130 Angle= 38.602 answer is  right (correct= True ); bandwidth= 15.910 B_sf= 1.0\n",
      "At trial  131 Angle= 10.281 answer is  right (correct= True ); bandwidth= 4.730 B_sf= 0.25\n",
      "At trial  132 Angle= -47.494 answer is  left (correct= True ); bandwidth= 2.579 B_sf= 0.0625\n",
      "At trial  133 Angle= 41.216 answer is  right (correct= True ); bandwidth= 4.730 B_sf= 0.25\n",
      "At trial  134 Angle= -5.981 answer is  left (correct= True ); bandwidth= 2.579 B_sf= 0.0625\n",
      "At trial  135 Angle= 29.764 answer is  right (correct= True ); bandwidth= 15.910 B_sf= 0.0625\n",
      "At trial  136 Angle= -16.943 answer is  left (correct= True ); bandwidth= 8.675 B_sf= 0.5\n",
      "At trial  137 Angle= -22.120 answer is  left (correct= True ); bandwidth= 4.730 B_sf= 0.0625\n",
      "At trial  138 Angle= 11.309 answer is  right (correct= True ); bandwidth= 15.910 B_sf= 0.5\n",
      "At trial  139 Angle= 11.581 answer is  right (correct= True ); bandwidth= 8.675 B_sf= 0.5\n",
      "At trial  140 Angle= 9.207 answer is  right (correct= True ); bandwidth= 1.406 B_sf= 0.0625\n",
      "At trial  141 Angle= -11.363 answer is  left (correct= True ); bandwidth= 1.406 B_sf= 0.0625\n",
      "At trial  142 Angle= 44.154 answer is  right (correct= True ); bandwidth= 8.675 B_sf= 1.0\n",
      "At trial  143 Angle= -16.454 answer is  left (correct= True ); bandwidth= 1.406 B_sf= 1.0\n",
      "At trial  144 Angle= 9.580 answer is  right (correct= True ); bandwidth= 4.730 B_sf= 0.0625\n",
      "At trial  145 Angle= -48.652 answer is  left (correct= True ); bandwidth= 4.730 B_sf= 1.0\n",
      "At trial  146 Angle= 19.816 answer is  right (correct= True ); bandwidth= 8.675 B_sf= 0.125\n",
      "At trial  147 Angle= 24.555 answer is  right (correct= True ); bandwidth= 2.579 B_sf= 0.25\n",
      "At trial  148 Angle= 32.169 answer is  right (correct= True ); bandwidth= 15.910 B_sf= 1.0\n",
      "At trial  149 Angle= -12.766 answer is  left (correct= True ); bandwidth= 8.675 B_sf= 0.5\n",
      "18.8000 \tWARNING \tMonitor specification not found. Creating a temporary one...\n",
      "18.8057 \tWARNING \tUser requested fullscreen with size [1400  800], but screen is actually [1366, 768]. Using actual size\n"
     ]
    }
   ],
   "source": [
    "#win = visual.Window([1400,800],fullscr=fullscr, color=[0,0,0], winType='pygame', monitor='testMonitor', units='height')\n",
    "win = visual.Window([1400, 800], fullscr=fullscr, color=[0, 0, 0])\n",
    "\n",
    "\n",
    "mouse = event.Mouse(newPos=(0, 0), visible=False)\n",
    "x0, y0 = mouse.getPos()\n",
    "event.clearEvents()\n",
    "instructions = \"\"\"\n",
    "At each trial you see one textured image, report the \n",
    "orientation you perceive.\n",
    "\n",
    "Move the mouse to the right if it is clock-wise of the vertical,\n",
    "move the mouse to the left if it is counter clock-wise of the vertical.\n",
    "\n",
    "Move the mouse to begin the experiment.\n",
    "\"\"\"\n",
    "msg = visual.TextStim(win, text=instructions, alignHoriz='center', alignVert='center', color='black')\n",
    "msg.draw()\n",
    "win.flip()\n",
    "while not mouse.mouseMoved(distance=.05): \n",
    "    event.clearEvents()\n",
    "    \n",
    "fixation = visual.ShapeStim(vertices='cross', win=win, size=0.05, pos=[0, 0], fillColor='black', units='height')\n",
    "fixation.autolog = False\n",
    "\n",
    "MC1 = generate_random_cloud(np.pi/2, B_theta=np.pi/2, B_sf=0.1)\n",
    "bitmap1 = visual.ImageStim(win, MC1, mask='gauss', size=0.8, units='height')\n",
    "bitmap1.autolog = False \n",
    "\n",
    "msg = visual.TextStim(win, text='?', color='black')\n",
    "\n",
    "import time\n",
    "start_time = time.time()\n",
    "print(\"Test started\")\n",
    "\n",
    "\n",
    "ans_list = []\n",
    "N_B_thetas = 5 \n",
    "N_B_Bsf = 5\n",
    "B_thetas = np.pi*np.logspace(-7, -3.5, N_B_thetas, base=2)\n",
    "B_sfs = np.logspace(-4,0.,N_B_Bsf,base=2)\n",
    "    \n",
    "std_theta = np.pi/6\n",
    "for trial in range(test_length):\n",
    "    clock = core.Clock()\n",
    "    fixation.draw()\n",
    "    win.flip()\n",
    "    \n",
    "    theta = std_theta * np.random.randn()\n",
    "    \n",
    "    # MC generation\n",
    "    B_theta = B_thetas[random.randint(0, N_B_thetas-1)]\n",
    "    B_sf = B_sfs[random.randint(0, N_B_Bsf-1)]\n",
    "    MC1 = generate_random_cloud(np.pi/2-theta, B_theta=B_theta, B_sf=B_sf) \n",
    "    bitmap1.setImage(MC1)\n",
    "\n",
    "    # Times the trial\n",
    "    while clock.getTime() < fixation_length + stim1_length + stim2_length:\n",
    "        if 0.0 <= clock.getTime() < fixation_length:  # fixation\n",
    "            fixation.draw()\n",
    "        if fixation_length + 0.01 <= clock.getTime() < fixation_length + stim1_length: \n",
    "            bitmap1.draw()\n",
    "            win.flip()\n",
    "        if fixation_length + stim1_length <= clock.getTime() < fixation_length + stim1_length + stim2_length:\n",
    "            msg.draw()\n",
    "            \n",
    "    win.flip()\n",
    "\n",
    "    mouse.setPos(newPos=(0, 0))\n",
    "    x0, y0 = mouse.getPos()\n",
    "    event.clearEvents()\n",
    "\n",
    "    while not mouse.mouseMoved(distance=.05): \n",
    "        # this creates a never-ending loop\n",
    "        # until we move the mouse\n",
    "        event.clearEvents()\n",
    "\n",
    "    x, y = mouse.getPos()\n",
    "    if x < 0:\n",
    "        answer = 'left'\n",
    "    else: #elif x > 0:\n",
    "        answer = 'right'\n",
    "        if x == 0: print('this should not happen 😤')\n",
    "    event.clearEvents() \n",
    "    # print('answer', answer, ', x', x)\n",
    "\n",
    "    ans = event.getKeys()   \n",
    "\n",
    "    if ans == ['escape', 'q']:\n",
    "        win.close()\n",
    "        core.quit()\n",
    "\n",
    "    correct = ((theta > 0) and answer == 'right') or ((theta < 0) and answer == 'left')\n",
    "    print('At trial ', trial, 'Angle=', '%3.3f' % (theta*180/np.pi), 'answer is ',  answer, '(correct=', correct, '); bandwidth=', '%.3f' % (B_theta*180/np.pi),'B_sf=', B_sf)   \n",
    "       \n",
    "    # Output shape per trial is : trial number, shift direction, answered shift and b_theta\n",
    "    ans_list.append([trial, theta, answer, B_theta, B_sf])\n",
    "\n",
    "win.close()"
   ]
  },
  {
   "cell_type": "code",
   "execution_count": 7,
   "metadata": {},
   "outputs": [],
   "source": [
    "import pickle\n",
    "pickle.dump(ans_list, open( os.path.join(data_folder, 'Psychophys_discrim_%s.p' % exp_info['participant']), 'wb'))\n"
   ]
  },
  {
   "cell_type": "code",
   "execution_count": 8,
   "metadata": {},
   "outputs": [],
   "source": [
    "import json\n",
    "json.dump(ans_list, open( os.path.join(data_folder, 'Psychophys_discrim_%s.json' % exp_info['participant']), 'w', encoding=\"utf8\"))\n"
   ]
  }
 ],
 "metadata": {
  "kernelspec": {
   "display_name": "Python 3",
   "language": "python",
   "name": "python3"
  },
  "language_info": {
   "codemirror_mode": {
    "name": "ipython",
    "version": 3
   },
   "file_extension": ".py",
   "mimetype": "text/x-python",
   "name": "python",
   "nbconvert_exporter": "python",
   "pygments_lexer": "ipython3",
   "version": "3.7.3"
  },
  "nteract": {
   "version": "0.21.0"
  }
 },
 "nbformat": 4,
 "nbformat_minor": 4
}
