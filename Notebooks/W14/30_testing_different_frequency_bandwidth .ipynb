{
 "cells": [
  {
   "cell_type": "markdown",
   "metadata": {},
   "source": [
    " #### petits $B_\\theta$ (<15°), petits $\\theta$, differents B_sf"
   ]
  },
  {
   "cell_type": "code",
   "execution_count": 1,
   "metadata": {},
   "outputs": [
    {
     "name": "stdout",
     "output_type": "stream",
     "text": [
      "pygame 1.9.6\n",
      "Hello from the pygame community. https://www.pygame.org/contribute.html\n"
     ]
    }
   ],
   "source": [
    "import numpy as np\n",
    "import MotionClouds as mc\n",
    "import matplotlib.pyplot as plt\n",
    "import os\n",
    "import imageio\n",
    "import random\n",
    "from psychopy import visual, core, event, gui, data\n",
    "import MotionClouds as MC\n",
    "import pygame"
   ]
  },
  {
   "cell_type": "code",
   "execution_count": 2,
   "metadata": {},
   "outputs": [
    {
     "data": {
      "text/plain": [
       "'..\\\\Psychopy_data\\\\pilot\\\\B_sf\\\\json'"
      ]
     },
     "execution_count": 2,
     "metadata": {},
     "output_type": "execute_result"
    }
   ],
   "source": [
    "exp_name = \"Perception de l'orientation\"\n",
    "exp_info = {'participant':''}\n",
    "subj_info = gui.DlgFromDict(dictionary=exp_info, title=exp_name)\n",
    "exp_info['exp_name'] = exp_name\n",
    "data_folder = os.path.join('..', 'Psychopy_data', 'pilot', 'B_sf','json')\n",
    "data_folder"
   ]
  },
  {
   "cell_type": "code",
   "execution_count": 5,
   "metadata": {},
   "outputs": [
    {
     "name": "stderr",
     "output_type": "stream",
     "text": [
      "Un sous-r‚pertoire ou un fichier -p existe d‚j….\n",
      "Une erreur s'est produite lors du traitement deÿ: -p.\n",
      "Un sous-r‚pertoire ou un fichier ..\\Psychopy_data\\pilot\\B_sf\\json existe d‚j….\n",
      "Une erreur s'est produite lors du traitement deÿ: ..\\Psychopy_data\\pilot\\B_sf\\json.\n"
     ]
    }
   ],
   "source": [
    "%mkdir -p {data_folder}"
   ]
  },
  {
   "cell_type": "code",
   "execution_count": 57,
   "metadata": {},
   "outputs": [
    {
     "name": "stdout",
     "output_type": "stream",
     "text": [
      "-17.881255536926496\n"
     ]
    }
   ],
   "source": [
    "std_theta = np.pi/6\n",
    "theta = (2 * np.random.rand()-1) *std_theta\n",
    "print(theta*180/np.pi)"
   ]
  },
  {
   "cell_type": "code",
   "execution_count": 3,
   "metadata": {},
   "outputs": [],
   "source": [
    "downscale = 1\n",
    "fig_width = 21\n",
    "fx, fy, ft = mc.get_grids(mc.N_X/downscale, mc.N_Y/downscale, 1)"
   ]
  },
  {
   "cell_type": "code",
   "execution_count": 4,
   "metadata": {},
   "outputs": [],
   "source": [
    "test_length = 150     # number of trials\n",
    "fixation_length = .5  # length of fixation, in second\n",
    "stim1_length = 0.25   # length of first stim, in second\n",
    "stim2_length = 0.25   # length of the second stim, in second \n",
    "\n",
    "fullscr = False\n",
    "\n",
    "fullscr = True\n"
   ]
  },
  {
   "cell_type": "code",
   "execution_count": 5,
   "metadata": {},
   "outputs": [
    {
     "name": "stdout",
     "output_type": "stream",
     "text": [
      "Help on function envelope_gabor in module MotionClouds:\n",
      "\n",
      "envelope_gabor(fx, fy, ft, V_X=1.0, V_Y=0.0, B_V=0.5, sf_0=0.125, B_sf=0.1, loggabor=True, theta=0.0, B_theta=0.19634954084936207, alpha=0.0, **kwargs)\n",
      "    Returns the Motion Cloud kernel, that is the product of:\n",
      "        * a speed envelope\n",
      "        * an orientation envelope\n",
      "        * an orientation envelope\n",
      "\n"
     ]
    }
   ],
   "source": [
    "help(mc.envelope_gabor)"
   ]
  },
  {
   "cell_type": "code",
   "execution_count": 6,
   "metadata": {},
   "outputs": [],
   "source": [
    "def generate_random_cloud(theta, B_theta, B_sf, downscale = 1):\n",
    "    fx, fy, ft = mc.get_grids(mc.N_X/downscale, mc.N_Y/downscale, 1)\n",
    "    mc_i = mc.envelope_gabor(fx, fy, ft, V_X=0., V_Y=0.,\n",
    "                             B_V=0, theta=theta, B_theta=B_theta)\n",
    "    im = mc.random_cloud(mc_i)\n",
    "    im = (mc.rectif(im) * 255).astype('uint8')\n",
    "    fname = 'tmp/%s_%s.png' % (theta, B_theta)\n",
    "    imageio.imwrite(fname, im[:, :, 0])\n",
    "    return fname"
   ]
  },
  {
   "cell_type": "code",
   "execution_count": 7,
   "metadata": {},
   "outputs": [
    {
     "name": "stderr",
     "output_type": "stream",
     "text": [
      "Un sous-r‚pertoire ou un fichier -p existe d‚j….\n",
      "Une erreur s'est produite lors du traitement deÿ: -p.\n"
     ]
    }
   ],
   "source": [
    "%mkdir -p tmp"
   ]
  },
  {
   "cell_type": "code",
   "execution_count": 8,
   "metadata": {},
   "outputs": [
    {
     "name": "stdout",
     "output_type": "stream",
     "text": [
      "Test started\n",
      "At trial  0 Angle= -4.574 answer is  left (correct= True ); bandwidth= 4.730 B_sf= 1.0\n",
      "At trial  1 Angle= -44.130 answer is  left (correct= True ); bandwidth= 1.406 B_sf= 0.5\n",
      "At trial  2 Angle= -50.652 answer is  left (correct= True ); bandwidth= 15.910 B_sf= 0.0625\n",
      "At trial  3 Angle= 36.631 answer is  right (correct= True ); bandwidth= 1.406 B_sf= 0.125\n",
      "At trial  4 Angle= -68.657 answer is  left (correct= True ); bandwidth= 2.579 B_sf= 0.125\n",
      "At trial  5 Angle= -2.742 answer is  left (correct= True ); bandwidth= 4.730 B_sf= 0.0625\n",
      "At trial  6 Angle= -105.191 answer is  right (correct= False ); bandwidth= 2.579 B_sf= 0.5\n",
      "At trial  7 Angle= -48.412 answer is  left (correct= True ); bandwidth= 15.910 B_sf= 0.0625\n",
      "At trial  8 Angle= -88.301 answer is  left (correct= True ); bandwidth= 4.730 B_sf= 0.25\n",
      "At trial  9 Angle= -4.292 answer is  left (correct= True ); bandwidth= 8.675 B_sf= 1.0\n",
      "At trial  10 Angle= -53.386 answer is  left (correct= True ); bandwidth= 4.730 B_sf= 0.125\n",
      "At trial  11 Angle= 90.166 answer is  left (correct= False ); bandwidth= 4.730 B_sf= 0.25\n",
      "At trial  12 Angle= -98.641 answer is  right (correct= False ); bandwidth= 1.406 B_sf= 1.0\n",
      "At trial  13 Angle= -55.519 answer is  right (correct= False ); bandwidth= 8.675 B_sf= 1.0\n",
      "At trial  14 Angle= 52.686 answer is  right (correct= True ); bandwidth= 1.406 B_sf= 0.25\n",
      "At trial  15 Angle= -26.842 answer is  left (correct= True ); bandwidth= 1.406 B_sf= 0.0625\n",
      "At trial  16 Angle= -24.018 answer is  left (correct= True ); bandwidth= 15.910 B_sf= 0.25\n",
      "At trial  17 Angle= -75.876 answer is  left (correct= True ); bandwidth= 1.406 B_sf= 1.0\n",
      "At trial  18 Angle= -79.592 answer is  left (correct= True ); bandwidth= 8.675 B_sf= 1.0\n",
      "At trial  19 Angle= 45.777 answer is  right (correct= True ); bandwidth= 8.675 B_sf= 0.125\n",
      "At trial  20 Angle= -32.781 answer is  left (correct= True ); bandwidth= 4.730 B_sf= 0.5\n",
      "At trial  21 Angle= -31.438 answer is  left (correct= True ); bandwidth= 8.675 B_sf= 1.0\n",
      "At trial  22 Angle= 41.829 answer is  right (correct= True ); bandwidth= 2.579 B_sf= 1.0\n",
      "At trial  23 Angle= -23.353 answer is  right (correct= False ); bandwidth= 1.406 B_sf= 0.125\n",
      "At trial  24 Angle= 9.794 answer is  right (correct= True ); bandwidth= 15.910 B_sf= 0.5\n",
      "At trial  25 Angle= -22.453 answer is  left (correct= True ); bandwidth= 4.730 B_sf= 0.0625\n",
      "At trial  26 Angle= -4.019 answer is  left (correct= True ); bandwidth= 4.730 B_sf= 0.0625\n",
      "At trial  27 Angle= -155.268 answer is  left (correct= True ); bandwidth= 1.406 B_sf= 0.0625\n",
      "At trial  28 Angle= -61.415 answer is  right (correct= False ); bandwidth= 15.910 B_sf= 0.25\n",
      "At trial  29 Angle= -110.081 answer is  right (correct= False ); bandwidth= 4.730 B_sf= 1.0\n",
      "At trial  30 Angle= -6.025 answer is  left (correct= True ); bandwidth= 1.406 B_sf= 0.125\n",
      "At trial  31 Angle= -5.266 answer is  left (correct= True ); bandwidth= 1.406 B_sf= 0.25\n",
      "At trial  32 Angle= 33.309 answer is  right (correct= True ); bandwidth= 4.730 B_sf= 0.0625\n",
      "At trial  33 Angle= 47.807 answer is  right (correct= True ); bandwidth= 8.675 B_sf= 0.25\n",
      "At trial  34 Angle= 13.093 answer is  right (correct= True ); bandwidth= 4.730 B_sf= 0.5\n",
      "At trial  35 Angle= -28.609 answer is  left (correct= True ); bandwidth= 1.406 B_sf= 0.5\n",
      "At trial  36 Angle= -53.693 answer is  left (correct= True ); bandwidth= 4.730 B_sf= 1.0\n",
      "At trial  37 Angle= 105.407 answer is  left (correct= False ); bandwidth= 2.579 B_sf= 1.0\n",
      "At trial  38 Angle= 36.408 answer is  right (correct= True ); bandwidth= 2.579 B_sf= 1.0\n",
      "At trial  39 Angle= -74.370 answer is  left (correct= True ); bandwidth= 8.675 B_sf= 1.0\n",
      "At trial  40 Angle= -164.895 answer is  right (correct= False ); bandwidth= 4.730 B_sf= 1.0\n",
      "At trial  41 Angle= 4.024 answer is  right (correct= True ); bandwidth= 15.910 B_sf= 0.25\n",
      "At trial  42 Angle= 33.580 answer is  right (correct= True ); bandwidth= 2.579 B_sf= 0.25\n",
      "At trial  43 Angle= -39.082 answer is  left (correct= True ); bandwidth= 1.406 B_sf= 0.125\n",
      "At trial  44 Angle= -40.276 answer is  left (correct= True ); bandwidth= 2.579 B_sf= 0.5\n",
      "At trial  45 Angle= -98.608 answer is  right (correct= False ); bandwidth= 2.579 B_sf= 0.5\n",
      "At trial  46 Angle= 32.231 answer is  right (correct= True ); bandwidth= 15.910 B_sf= 0.25\n",
      "At trial  47 Angle= 48.785 answer is  right (correct= True ); bandwidth= 15.910 B_sf= 0.25\n",
      "At trial  48 Angle= -56.471 answer is  left (correct= True ); bandwidth= 1.406 B_sf= 0.5\n",
      "At trial  49 Angle= -16.079 answer is  left (correct= True ); bandwidth= 2.579 B_sf= 0.25\n",
      "At trial  50 Angle= 108.003 answer is  left (correct= False ); bandwidth= 8.675 B_sf= 0.125\n",
      "At trial  51 Angle= -15.924 answer is  left (correct= True ); bandwidth= 4.730 B_sf= 0.125\n",
      "At trial  52 Angle= -40.097 answer is  left (correct= True ); bandwidth= 15.910 B_sf= 0.125\n",
      "At trial  53 Angle= -111.751 answer is  right (correct= False ); bandwidth= 4.730 B_sf= 0.5\n",
      "At trial  54 Angle= -84.167 answer is  left (correct= True ); bandwidth= 15.910 B_sf= 0.25\n",
      "At trial  55 Angle= 57.993 answer is  right (correct= True ); bandwidth= 8.675 B_sf= 0.25\n",
      "At trial  56 Angle= -67.443 answer is  left (correct= True ); bandwidth= 15.910 B_sf= 0.0625\n",
      "At trial  57 Angle= -1.855 answer is  right (correct= False ); bandwidth= 15.910 B_sf= 0.0625\n",
      "At trial  58 Angle= -75.246 answer is  left (correct= True ); bandwidth= 8.675 B_sf= 0.125\n",
      "At trial  59 Angle= 12.986 answer is  right (correct= True ); bandwidth= 2.579 B_sf= 0.125\n",
      "At trial  60 Angle= -27.217 answer is  left (correct= True ); bandwidth= 15.910 B_sf= 0.125\n",
      "At trial  61 Angle= -78.264 answer is  left (correct= True ); bandwidth= 1.406 B_sf= 0.5\n",
      "At trial  62 Angle= -25.267 answer is  left (correct= True ); bandwidth= 15.910 B_sf= 0.5\n",
      "At trial  63 Angle= -50.867 answer is  left (correct= True ); bandwidth= 4.730 B_sf= 0.5\n",
      "At trial  64 Angle= -45.122 answer is  left (correct= True ); bandwidth= 15.910 B_sf= 1.0\n",
      "At trial  65 Angle= 12.937 answer is  right (correct= True ); bandwidth= 1.406 B_sf= 0.25\n",
      "At trial  66 Angle= -29.904 answer is  left (correct= True ); bandwidth= 1.406 B_sf= 0.5\n",
      "At trial  67 Angle= -39.215 answer is  left (correct= True ); bandwidth= 2.579 B_sf= 0.5\n",
      "At trial  68 Angle= -100.646 answer is  right (correct= False ); bandwidth= 4.730 B_sf= 1.0\n",
      "At trial  69 Angle= -72.347 answer is  left (correct= True ); bandwidth= 15.910 B_sf= 0.125\n",
      "At trial  70 Angle= -20.825 answer is  left (correct= True ); bandwidth= 2.579 B_sf= 0.125\n",
      "At trial  71 Angle= -147.629 answer is  right (correct= False ); bandwidth= 15.910 B_sf= 0.5\n",
      "At trial  72 Angle= -49.709 answer is  left (correct= True ); bandwidth= 15.910 B_sf= 0.125\n",
      "At trial  73 Angle= 24.456 answer is  right (correct= True ); bandwidth= 8.675 B_sf= 1.0\n",
      "At trial  74 Angle= 83.455 answer is  right (correct= True ); bandwidth= 1.406 B_sf= 0.125\n",
      "At trial  75 Angle= 13.854 answer is  right (correct= True ); bandwidth= 8.675 B_sf= 0.5\n",
      "At trial  76 Angle= -57.962 answer is  left (correct= True ); bandwidth= 8.675 B_sf= 0.25\n",
      "At trial  77 Angle= 0.856 answer is  right (correct= True ); bandwidth= 2.579 B_sf= 0.0625\n",
      "At trial  78 Angle= -4.907 answer is  left (correct= True ); bandwidth= 8.675 B_sf= 0.5\n",
      "At trial  79 Angle= -12.344 answer is  left (correct= True ); bandwidth= 2.579 B_sf= 1.0\n",
      "At trial  80 Angle= -52.568 answer is  left (correct= True ); bandwidth= 15.910 B_sf= 0.125\n",
      "At trial  81 Angle= -51.393 answer is  left (correct= True ); bandwidth= 2.579 B_sf= 0.5\n",
      "At trial  82 Angle= 22.707 answer is  left (correct= False ); bandwidth= 15.910 B_sf= 1.0\n",
      "At trial  83 Angle= -70.922 answer is  left (correct= True ); bandwidth= 2.579 B_sf= 0.5\n",
      "At trial  84 Angle= -46.634 answer is  left (correct= True ); bandwidth= 1.406 B_sf= 0.0625\n",
      "At trial  85 Angle= -2.980 answer is  left (correct= True ); bandwidth= 15.910 B_sf= 0.5\n",
      "At trial  86 Angle= -17.448 answer is  left (correct= True ); bandwidth= 15.910 B_sf= 0.0625\n",
      "At trial  87 Angle= 23.877 answer is  right (correct= True ); bandwidth= 2.579 B_sf= 1.0\n",
      "At trial  88 Angle= 141.927 answer is  left (correct= False ); bandwidth= 8.675 B_sf= 0.0625\n",
      "At trial  89 Angle= -18.558 answer is  left (correct= True ); bandwidth= 4.730 B_sf= 1.0\n",
      "At trial  90 Angle= -86.995 answer is  left (correct= True ); bandwidth= 2.579 B_sf= 0.5\n",
      "At trial  91 Angle= -100.318 answer is  right (correct= False ); bandwidth= 4.730 B_sf= 0.125\n",
      "At trial  92 Angle= -44.449 answer is  left (correct= True ); bandwidth= 15.910 B_sf= 0.25\n",
      "At trial  93 Angle= -97.190 answer is  right (correct= False ); bandwidth= 4.730 B_sf= 1.0\n",
      "At trial  94 Angle= 29.142 answer is  right (correct= True ); bandwidth= 2.579 B_sf= 0.5\n",
      "At trial  95 Angle= 38.550 answer is  right (correct= True ); bandwidth= 1.406 B_sf= 0.5\n",
      "At trial  96 Angle= 1.227 answer is  right (correct= True ); bandwidth= 15.910 B_sf= 0.25\n",
      "At trial  97 Angle= -35.434 answer is  left (correct= True ); bandwidth= 1.406 B_sf= 0.5\n",
      "At trial  98 Angle= 20.024 answer is  right (correct= True ); bandwidth= 2.579 B_sf= 0.125\n",
      "At trial  99 Angle= -113.451 answer is  right (correct= False ); bandwidth= 2.579 B_sf= 0.125\n",
      "At trial  100 Angle= 14.200 answer is  right (correct= True ); bandwidth= 4.730 B_sf= 0.5\n",
      "At trial  101 Angle= -56.032 answer is  left (correct= True ); bandwidth= 8.675 B_sf= 0.125\n",
      "At trial  102 Angle= -22.675 answer is  left (correct= True ); bandwidth= 4.730 B_sf= 0.125\n",
      "At trial  103 Angle= -84.936 answer is  right (correct= False ); bandwidth= 15.910 B_sf= 0.25\n",
      "At trial  104 Angle= -50.117 answer is  left (correct= True ); bandwidth= 4.730 B_sf= 0.25\n",
      "At trial  105 Angle= 39.010 answer is  right (correct= True ); bandwidth= 15.910 B_sf= 0.0625\n",
      "At trial  106 Angle= -74.127 answer is  left (correct= True ); bandwidth= 4.730 B_sf= 0.25\n",
      "At trial  107 Angle= 80.674 answer is  right (correct= True ); bandwidth= 1.406 B_sf= 1.0\n",
      "At trial  108 Angle= -1.518 answer is  right (correct= False ); bandwidth= 8.675 B_sf= 0.25\n",
      "At trial  109 Angle= -68.771 answer is  left (correct= True ); bandwidth= 1.406 B_sf= 1.0\n",
      "At trial  110 Angle= -75.683 answer is  left (correct= True ); bandwidth= 8.675 B_sf= 1.0\n",
      "At trial  111 Angle= 33.216 answer is  right (correct= True ); bandwidth= 2.579 B_sf= 0.125\n",
      "At trial  112 Angle= -15.896 answer is  left (correct= True ); bandwidth= 15.910 B_sf= 0.0625\n",
      "At trial  113 Angle= 41.104 answer is  right (correct= True ); bandwidth= 2.579 B_sf= 1.0\n",
      "At trial  114 Angle= -27.207 answer is  left (correct= True ); bandwidth= 8.675 B_sf= 1.0\n",
      "At trial  115 Angle= 6.340 answer is  right (correct= True ); bandwidth= 1.406 B_sf= 1.0\n",
      "At trial  116 Angle= -71.574 answer is  left (correct= True ); bandwidth= 2.579 B_sf= 0.25\n",
      "At trial  117 Angle= -83.756 answer is  left (correct= True ); bandwidth= 4.730 B_sf= 0.125\n",
      "At trial  118 Angle= -158.610 answer is  right (correct= False ); bandwidth= 1.406 B_sf= 0.0625\n",
      "At trial  119 Angle= 45.843 answer is  right (correct= True ); bandwidth= 1.406 B_sf= 0.5\n",
      "At trial  120 Angle= 2.959 answer is  right (correct= True ); bandwidth= 15.910 B_sf= 1.0\n",
      "At trial  121 Angle= -3.086 answer is  right (correct= False ); bandwidth= 8.675 B_sf= 1.0\n",
      "At trial  122 Angle= -66.743 answer is  left (correct= True ); bandwidth= 15.910 B_sf= 0.5\n",
      "At trial  123 Angle= -32.051 answer is  left (correct= True ); bandwidth= 8.675 B_sf= 0.25\n",
      "At trial  124 Angle= -24.522 answer is  left (correct= True ); bandwidth= 4.730 B_sf= 0.25\n",
      "At trial  125 Angle= -60.293 answer is  left (correct= True ); bandwidth= 4.730 B_sf= 0.125\n",
      "At trial  126 Angle= -71.310 answer is  left (correct= True ); bandwidth= 2.579 B_sf= 0.5\n",
      "At trial  127 Angle= 17.727 answer is  right (correct= True ); bandwidth= 15.910 B_sf= 0.25\n",
      "At trial  128 Angle= -75.979 answer is  left (correct= True ); bandwidth= 2.579 B_sf= 0.25\n",
      "At trial  129 Angle= -72.217 answer is  left (correct= True ); bandwidth= 1.406 B_sf= 0.5\n",
      "At trial  130 Angle= 9.983 answer is  right (correct= True ); bandwidth= 4.730 B_sf= 0.0625\n",
      "At trial  131 Angle= -67.483 answer is  left (correct= True ); bandwidth= 15.910 B_sf= 1.0\n",
      "At trial  132 Angle= -105.563 answer is  right (correct= False ); bandwidth= 8.675 B_sf= 0.125\n",
      "At trial  133 Angle= -35.692 answer is  left (correct= True ); bandwidth= 15.910 B_sf= 0.5\n",
      "At trial  134 Angle= -79.915 answer is  left (correct= True ); bandwidth= 4.730 B_sf= 0.5\n",
      "At trial  135 Angle= -31.465 answer is  left (correct= True ); bandwidth= 2.579 B_sf= 1.0\n",
      "At trial  136 Angle= -63.259 answer is  left (correct= True ); bandwidth= 15.910 B_sf= 0.25\n",
      "At trial  137 Angle= -50.873 answer is  left (correct= True ); bandwidth= 2.579 B_sf= 1.0\n",
      "At trial  138 Angle= -7.186 answer is  left (correct= True ); bandwidth= 8.675 B_sf= 0.25\n",
      "At trial  139 Angle= -22.782 answer is  left (correct= True ); bandwidth= 4.730 B_sf= 1.0\n",
      "At trial  140 Angle= 64.642 answer is  right (correct= True ); bandwidth= 1.406 B_sf= 0.25\n",
      "At trial  141 Angle= -14.912 answer is  left (correct= True ); bandwidth= 8.675 B_sf= 0.25\n",
      "At trial  142 Angle= 32.980 answer is  right (correct= True ); bandwidth= 15.910 B_sf= 0.0625\n",
      "At trial  143 Angle= 27.051 answer is  right (correct= True ); bandwidth= 4.730 B_sf= 0.5\n",
      "At trial  144 Angle= -54.558 answer is  left (correct= True ); bandwidth= 4.730 B_sf= 0.25\n",
      "At trial  145 Angle= 78.669 answer is  right (correct= True ); bandwidth= 4.730 B_sf= 0.5\n",
      "At trial  146 Angle= -7.127 answer is  left (correct= True ); bandwidth= 8.675 B_sf= 1.0\n",
      "At trial  147 Angle= -37.851 answer is  left (correct= True ); bandwidth= 4.730 B_sf= 0.0625\n",
      "At trial  148 Angle= -89.816 answer is  right (correct= False ); bandwidth= 1.406 B_sf= 0.25\n",
      "At trial  149 Angle= -55.466 answer is  left (correct= True ); bandwidth= 8.675 B_sf= 0.0625\n",
      "31.7810 \tWARNING \tMonitor specification not found. Creating a temporary one...\n",
      "31.7842 \tWARNING \tUser requested fullscreen with size [1400  800], but screen is actually [1366, 768]. Using actual size\n"
     ]
    }
   ],
   "source": [
    "#win = visual.Window([1400,800],fullscr=fullscr, color=[0,0,0], winType='pygame', monitor='testMonitor', units='height')\n",
    "win = visual.Window([1400, 800], fullscr=fullscr, color=[0, 0, 0])\n",
    "\n",
    "\n",
    "mouse = event.Mouse(newPos=(0, 0), visible=False)\n",
    "x0, y0 = mouse.getPos()\n",
    "event.clearEvents()\n",
    "instructions = \"\"\"\n",
    "At each trial you see one textured image, report the \n",
    "orientation you perceive.\n",
    "\n",
    "Move the mouse to the right if it is clock-wise of the vertical,\n",
    "move the mouse to the left if it is counter clock-wise of the vertical.\n",
    "\n",
    "Move the mouse to begin the experiment.\n",
    "\"\"\"\n",
    "msg = visual.TextStim(win, text=instructions, alignHoriz='center', alignVert='center', color='black')\n",
    "msg.draw()\n",
    "win.flip()\n",
    "while not mouse.mouseMoved(distance=.05): \n",
    "    event.clearEvents()\n",
    "    \n",
    "fixation = visual.ShapeStim(vertices='cross', win=win, size=0.05, pos=[0, 0], fillColor='black', units='height')\n",
    "fixation.autolog = False\n",
    "\n",
    "MC1 = generate_random_cloud(np.pi/2, B_theta=np.pi/2, B_sf=0.1)\n",
    "bitmap1 = visual.ImageStim(win, MC1, mask='gauss', size=0.8, units='height', interpolate= True)\n",
    "bitmap1.autolog = False \n",
    "\n",
    "msg = visual.TextStim(win, text='?', color='black')\n",
    "\n",
    "import time\n",
    "start_time = time.time()\n",
    "print(\"Test started\")\n",
    "\n",
    "\n",
    "ans_list = []\n",
    "N_B_thetas = 5\n",
    "N_B_Bsf = 5\n",
    "B_thetas = np.pi*np.logspace(-7, -3.5, N_B_thetas, base=2)\n",
    "B_sfs = np.logspace(-4,0.,N_B_Bsf,base=2)\n",
    "std_theta = np.pi/6\n",
    "\n",
    "\n",
    "for trial in range(test_length):\n",
    "    clock = core.Clock()\n",
    "    fixation.draw()\n",
    "    win.flip()\n",
    "    \n",
    "    theta = (2*np.random.randn()-1)*std_theta #doute\n",
    "    \n",
    "    # MC generation\n",
    "    B_theta = B_thetas[random.randint(0, N_B_thetas-1)]\n",
    "    B_sf = B_sfs[random.randint(0, N_B_Bsf-1)]\n",
    "    MC1 = generate_random_cloud(np.pi/2-theta, B_theta=B_theta, B_sf=B_sf) \n",
    "    bitmap1.setImage(MC1)\n",
    "\n",
    "    # Times the trial\n",
    "    while clock.getTime() < fixation_length + stim1_length + stim2_length:\n",
    "        if 0.0 <= clock.getTime() < fixation_length:  # fixation\n",
    "            fixation.draw()\n",
    "        if fixation_length + 0.01 <= clock.getTime() < fixation_length + stim1_length: \n",
    "            bitmap1.draw()\n",
    "            win.flip()\n",
    "        if fixation_length + stim1_length <= clock.getTime() < fixation_length + stim1_length + stim2_length:\n",
    "            msg.draw()\n",
    "            \n",
    "    win.flip()\n",
    "\n",
    "    mouse.setPos(newPos=(0, 0))\n",
    "    x0, y0 = mouse.getPos()\n",
    "    event.clearEvents()\n",
    "\n",
    "    while not mouse.mouseMoved(distance=.05): \n",
    "        # this creates a never-ending loop\n",
    "        # until we move the mouse\n",
    "        event.clearEvents()\n",
    "\n",
    "    x, y = mouse.getPos()\n",
    "    if x < 0:\n",
    "        answer = 'left'\n",
    "    else: #elif x > 0:\n",
    "        answer = 'right'\n",
    "        if x == 0: print('this should not happen 😤')\n",
    "    event.clearEvents() \n",
    "\n",
    "    ans = event.getKeys()   \n",
    "\n",
    "    if ans == ['escape', 'q']:\n",
    "        win.close()\n",
    "        core.quit()\n",
    "\n",
    "    correct = ((theta > 0) and answer == 'right') or ((theta < 0) and answer == 'left')\n",
    "    print('At trial ', trial, 'Angle=', '%3.3f' % (theta*180/np.pi), 'answer is ',  answer, '(correct=', correct, '); bandwidth=', '%.3f' % (B_theta*180/np.pi),'B_sf=', B_sf)   \n",
    "       \n",
    "    # Output shape per trial is : trial number, shift direction, answered shift and b_theta\n",
    "    ans_list.append([trial, theta, answer, B_theta, B_sf])\n",
    "\n",
    "win.close()"
   ]
  },
  {
   "cell_type": "code",
   "execution_count": 9,
   "metadata": {},
   "outputs": [],
   "source": [
    "import pickle\n",
    "pickle.dump(ans_list, open( os.path.join(data_folder, 'Psychophys_discrim_%s.p' % exp_info['participant']), 'wb'))\n"
   ]
  },
  {
   "cell_type": "code",
   "execution_count": 10,
   "metadata": {},
   "outputs": [],
   "source": [
    "import json\n",
    "json.dump(ans_list, open( os.path.join(data_folder, 'Psychophys_discrim_%s.json' % exp_info['participant']),'w',encoding=\"utf8\"))\n"
   ]
  }
 ],
 "metadata": {
  "kernelspec": {
   "display_name": "Python 3",
   "language": "python",
   "name": "python3"
  },
  "language_info": {
   "codemirror_mode": {
    "name": "ipython",
    "version": 3
   },
   "file_extension": ".py",
   "mimetype": "text/x-python",
   "name": "python",
   "nbconvert_exporter": "python",
   "pygments_lexer": "ipython3",
   "version": "3.7.3"
  },
  "nteract": {
   "version": "0.21.0"
  }
 },
 "nbformat": 4,
 "nbformat_minor": 4
}
