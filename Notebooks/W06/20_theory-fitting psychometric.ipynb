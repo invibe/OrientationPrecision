{
 "cells": [
  {
   "cell_type": "markdown",
   "metadata": {},
   "source": [
    "# \"Cross-validation\" des modèles"
   ]
  },
  {
   "cell_type": "code",
   "execution_count": 1,
   "metadata": {},
   "outputs": [],
   "source": [
    "import numpy as np\n",
    "import matplotlib.pyplot as plt"
   ]
  },
  {
   "cell_type": "code",
   "execution_count": 2,
   "metadata": {},
   "outputs": [],
   "source": [
    "#Hyper-parametres\n",
    "learning_rate = 0.04\n",
    "num_epochs = 400\n",
    "N = 100\n",
    "N_cv = 40\n",
    "seed = 42\n",
    "batch_size = N//4\n",
    "#batch_size = N//2\n",
    "N_test = 0\n",
    "N_test = 1000\n",
    "N_scan = 9\n",
    "bias = True\n",
    "\n",
    "\n",
    "p0 = 0.05 #lapse rate\n",
    "theta0 = 0\n",
    "wt = np.pi/20\n",
    "theta_std = np.pi/6\n",
    "\n"
   ]
  },
  {
   "cell_type": "markdown",
   "metadata": {},
   "source": [
    "## Creer des données synthetiques "
   ]
  },
  {
   "cell_type": "code",
   "execution_count": 3,
   "metadata": {},
   "outputs": [],
   "source": [
    "def get_data(\n",
    "            N = N,\n",
    "            p0 = p0,\n",
    "            theta0 = theta0,\n",
    "            wt = wt,\n",
    "            theta_std = theta_std,\n",
    "            seed=seed):\n",
    "    np.random.seed(42)\n",
    "    theta = np.random.randn(N)*theta_std\n",
    "    a = (theta-theta0)/wt\n",
    "    p = 1/(1+np.exp(-a))\n",
    "    \n",
    "    p = p0/2 + (1-p0) * p #add lapse rate\n",
    "    y = np.random.rand(N) < p #generate data\n",
    "    return theta, p, y"
   ]
  },
  {
   "cell_type": "code",
   "execution_count": 4,
   "metadata": {},
   "outputs": [],
   "source": [
    "import torch\n",
    "from torch.utils.data import TensorDataset, DataLoader\n",
    "torch.set_default_tensor_type('torch.DoubleTensor')\n",
    "criterion = torch.nn.BCELoss()\n",
    "\n",
    "class LogisticRegressionModel(torch.nn.Module):\n",
    "    def __init__(self, bias=True, logit0=-2): #-2 ?\n",
    "        super(LogisticRegressionModel, self).__init__()\n",
    "        self.linear = torch.nn.Linear(1, 1, bias=bias)    \n",
    "        self.logit0 = torch.nn.Parameter(logit0*torch.ones(1))\n",
    "\n",
    "    def forward(self, theta):\n",
    "        out = self.logit0.sigmoid()/2 + (1-self.logit0.sigmoid())*self.linear(theta).sigmoid()\n",
    "        return out\n",
    "        \n",
    "\n",
    "def fit_data(theta, y, \n",
    "                learning_rate =learning_rate,\n",
    "                num_epochs = num_epochs,\n",
    "                batch_size = batch_size,\n",
    "                verbose=False):\n",
    "\n",
    "    logistic_model = LogisticRegressionModel()\n",
    "\n",
    "    labels = torch.Tensor(y[:, None])\n",
    "    Theta = torch.Tensor(theta[:, None])\n",
    "\n",
    "    loader = DataLoader(TensorDataset(Theta, labels), batch_size=batch_size, shuffle=True)\n",
    "    optimizer = torch.optim.Adam(logistic_model.parameters(), lr=learning_rate/len(loader))\n",
    "    \n",
    "    for epoch in range(int(num_epochs)):\n",
    "        losses = []\n",
    "        for Theta_, labels_ in loader:\n",
    "            optimizer.zero_grad()\n",
    "            outputs = logistic_model(Theta_)\n",
    "            loss = criterion(outputs, labels_)\n",
    "            loss.backward()\n",
    "            optimizer.step()\n",
    "            losses.append(loss.item())\n",
    "        \n",
    "        if verbose and (epoch % (num_epochs//32) == 0) : \n",
    "            print(f\"Iteration: {epoch} - Loss: {np.mean(losses):.5f}\")\n",
    "\n",
    "    logistic_model.eval()\n",
    "    return logistic_model, np.mean(losses)"
   ]
  },
  {
   "cell_type": "code",
   "execution_count": 5,
   "metadata": {},
   "outputs": [
    {
     "data": {
      "text/plain": [
       "tensor([0.0474])"
      ]
     },
     "execution_count": 5,
     "metadata": {},
     "output_type": "execute_result"
    }
   ],
   "source": [
    "torch.sigmoid(torch.tensor([-3.]))"
   ]
  },
  {
   "cell_type": "code",
   "execution_count": 6,
   "metadata": {},
   "outputs": [
    {
     "name": "stdout",
     "output_type": "stream",
     "text": [
      "41.6 µs ± 1.4 µs per loop (mean ± std. dev. of 7 runs, 10000 loops each)\n"
     ]
    }
   ],
   "source": [
    "%%timeit\n",
    "theta, p, y = get_data()"
   ]
  },
  {
   "cell_type": "code",
   "execution_count": 7,
   "metadata": {},
   "outputs": [
    {
     "name": "stdout",
     "output_type": "stream",
     "text": [
      "Iteration: 0 - Loss: 0.66405\n",
      "Iteration: 12 - Loss: 0.57675\n",
      "Iteration: 24 - Loss: 0.52456\n",
      "Iteration: 36 - Loss: 0.49483\n",
      "Iteration: 48 - Loss: 0.47570\n",
      "Iteration: 60 - Loss: 0.46252\n",
      "Iteration: 72 - Loss: 0.45294\n",
      "Iteration: 84 - Loss: 0.44590\n",
      "Iteration: 96 - Loss: 0.44064\n",
      "Iteration: 108 - Loss: 0.43672\n",
      "Iteration: 120 - Loss: 0.43382\n",
      "Iteration: 132 - Loss: 0.43161\n",
      "Iteration: 144 - Loss: 0.42985\n",
      "Iteration: 156 - Loss: 0.42874\n",
      "Iteration: 168 - Loss: 0.42770\n",
      "Iteration: 180 - Loss: 0.42687\n",
      "Iteration: 192 - Loss: 0.42631\n",
      "Iteration: 204 - Loss: 0.42584\n",
      "Iteration: 216 - Loss: 0.42555\n",
      "Iteration: 228 - Loss: 0.42529\n",
      "Iteration: 240 - Loss: 0.42512\n",
      "Iteration: 252 - Loss: 0.42495\n",
      "Iteration: 264 - Loss: 0.42486\n",
      "Iteration: 276 - Loss: 0.42497\n",
      "Iteration: 288 - Loss: 0.42480\n",
      "Iteration: 300 - Loss: 0.42476\n",
      "Iteration: 312 - Loss: 0.42472\n",
      "Iteration: 324 - Loss: 0.42464\n",
      "Iteration: 336 - Loss: 0.42463\n",
      "Iteration: 348 - Loss: 0.42459\n",
      "Iteration: 360 - Loss: 0.42456\n",
      "Iteration: 372 - Loss: 0.42456\n",
      "Iteration: 384 - Loss: 0.42451\n",
      "Iteration: 396 - Loss: 0.42450\n"
     ]
    }
   ],
   "source": [
    "theta, p, y = get_data()\n",
    "logistic_model, loss = fit_data(theta, y,verbose=True) "
   ]
  },
  {
   "cell_type": "code",
   "execution_count": 8,
   "metadata": {},
   "outputs": [
    {
     "name": "stdout",
     "output_type": "stream",
     "text": [
      "bias 0.0188949599752344\n",
      "slope 4.9888273553720675\n",
      "p0 0.0023851509797954205\n"
     ]
    }
   ],
   "source": [
    "with torch.no_grad():\n",
    "    if bias: print('bias', logistic_model.linear.bias.item())\n",
    "    print('slope', logistic_model.linear.weight.item())    \n",
    "    print('p0', torch.sigmoid(logistic_model.logit0).item())\n"
   ]
  },
  {
   "cell_type": "code",
   "execution_count": 9,
   "metadata": {},
   "outputs": [
    {
     "name": "stdout",
     "output_type": "stream",
     "text": [
      "loss= 0.424514373793\n"
     ]
    },
    {
     "data": {
      "image/png": "[encoded data removed]",
      "text/plain": [
       "<matplotlib.figure.Figure at 0x7f10aadb08d0>"
      ]
     },
     "metadata": {
      "needs_background": "light"
     },
     "output_type": "display_data"
    }
   ],
   "source": [
    "print('loss=', loss)\n",
    "plt.figure(figsize = (9,6)) \n",
    "plt.scatter(theta, p, s=4, color = 'r', label='proba cachées')\n",
    "plt.scatter(theta, y, s=1, alpha=.1, color = 'b', label='données')\n",
    "x_values = np.linspace(-1.5, 1.50, 100)[:, None]\n",
    "y_values = logistic_model(torch.Tensor(x_values)).detach().numpy()\n",
    "plt.plot(x_values, y_values, 'g', alpha=.7, lw=3, label='proba prédites')\n",
    "plt.xlabel(r'$\\theta$')\n",
    "plt.yticks([0.,1.],['Left', 'Right']);\n",
    "plt.legend();\n"
   ]
  },
  {
   "cell_type": "code",
   "execution_count": 10,
   "metadata": {},
   "outputs": [
    {
     "name": "stdout",
     "output_type": "stream",
     "text": [
      "2.33 s ± 154 ms per loop (mean ± std. dev. of 7 runs, 1 loop each)\n"
     ]
    }
   ],
   "source": [
    "%%timeit\n",
    "logistic_model, loss = fit_data(theta, y, verbose=False)"
   ]
  },
  {
   "cell_type": "markdown",
   "metadata": {},
   "source": [
    "## validation"
   ]
  },
  {
   "cell_type": "code",
   "execution_count": 11,
   "metadata": {},
   "outputs": [
    {
     "name": "stdout",
     "output_type": "stream",
     "text": [
      "loss= tensor(0.4245, grad_fn=<BinaryCrossEntropyBackward>)\n"
     ]
    },
    {
     "data": {
      "image/png": "[encoded data removed]",
      "text/plain": [
       "<matplotlib.figure.Figure at 0x7f105e138978>"
      ]
     },
     "metadata": {
      "needs_background": "light"
     },
     "output_type": "display_data"
    }
   ],
   "source": [
    "theta, p, y = get_data() # nouvelles données \n",
    "\n",
    "labels = torch.Tensor(y[:, None])\n",
    "Theta = torch.Tensor(theta[:, None])\n",
    "outputs = logistic_model(Theta)\n",
    "loss = criterion(outputs, labels)\n",
    "print('loss=', loss)\n",
    "plt.figure(figsize = (8,6)) \n",
    "plt.scatter(theta, p, s=4, color = 'r', label='proba cachées')\n",
    "plt.scatter(theta, y, s=1, alpha=.1, color = 'b', label='données')\n",
    "x_values = np.linspace(-1.5, 1.50, 100)[:, None]\n",
    "y_values = logistic_model(torch.Tensor(x_values)).detach().numpy()\n",
    "plt.plot(x_values, y_values, 'g', alpha=.7, lw=3, label='proba prédites')\n",
    "plt.xlabel(r'$\\theta$')\n",
    "plt.yticks([0.,1.],['Left', 'Right']);\n",
    "plt.legend();"
   ]
  },
  {
   "cell_type": "markdown",
   "metadata": {},
   "source": [
    "## influence du nombre de trials"
   ]
  },
  {
   "cell_type": "code",
   "execution_count": 12,
   "metadata": {},
   "outputs": [
    {
     "name": "stdout",
     "output_type": "stream",
     "text": [
      "N: 10, Loss: 0.49620, loss_P: 0.48876, loss_P0: 0.38791\n",
      "N: 17, Loss: 0.44237, loss_P: 0.43806, loss_P0: 0.38791\n",
      "N: 31, Loss: 0.39033, loss_P: 0.39599, loss_P0: 0.38791\n",
      "N: 56, Loss: 0.38404, loss_P: 0.39262, loss_P0: 0.38791\n",
      "N: 100, Loss: 0.38543, loss_P: 0.39183, loss_P0: 0.38791\n",
      "N: 177, Loss: 0.38907, loss_P: 0.39309, loss_P0: 0.38791\n",
      "N: 316, Loss: 0.38568, loss_P: 0.38901, loss_P0: 0.38791\n",
      "N: 562, Loss: 0.38226, loss_P: 0.38875, loss_P0: 0.38791\n",
      "N: 1000, Loss: 0.38230, loss_P: 0.39024, loss_P0: 0.38791\n"
     ]
    }
   ],
   "source": [
    "Ns = np.logspace(1, 3, N_scan, base=10)\n",
    "\n",
    "Ns_, losses, loss_Ps, loss_P0s = [], [], [], []\n",
    "\n",
    "for N_ in Ns:\n",
    "    for i_CV in range(N_cv):\n",
    "        theta, p, y = get_data(N=int(N_), seed=seed+i_CV)\n",
    "        logistic_model, loss = fit_data(theta, y, verbose=False)\n",
    "        \n",
    "        if N_test>0: theta, p, y = get_data(N=N_test) # nouvelles données \n",
    "        labels = torch.Tensor(y[:, None])\n",
    "        Theta = torch.Tensor(theta[:, None])\n",
    "        P = torch.Tensor(p[:, None])\n",
    "        \n",
    "        outputs = logistic_model(Theta)\n",
    "        loss = criterion(outputs, labels).item()\n",
    "    \n",
    "        loss_P = criterion(outputs, P).item() \n",
    "        loss_P0 = criterion(P, P).item()\n",
    "        \n",
    "        if i_CV==0: print(f\"N: {int(N_)}, Loss: {loss:.5f}, loss_P: {loss_P:.5f}, loss_P0: {loss_P0:.5f}\")\n",
    "        loss_P0s.append(loss_P0)\n",
    "        Ns_.append(N_)\n",
    "        loss_Ps.append(loss_P)\n",
    "        losses.append(loss)\n",
    "    "
   ]
  },
  {
   "cell_type": "code",
   "execution_count": 13,
   "metadata": {},
   "outputs": [
    {
     "data": {
      "image/png": "[encoded data removed]",
      "text/plain": [
       "<matplotlib.figure.Figure at 0x7f105c1b4630>"
      ]
     },
     "metadata": {
      "needs_background": "light"
     },
     "output_type": "display_data"
    }
   ],
   "source": [
    "#plot\n",
    "\n",
    "fig, ax = plt.subplots(figsize = (15, 8)) \n",
    "ax.scatter(Ns_, losses, alpha=3/N_cv, label='loss')\n",
    "ax.scatter(Ns_, loss_Ps, alpha=3/N_cv, label='loss_P')\n",
    "ax.plot(Ns_, loss_P0s, label='loss_P0')\n",
    "\n",
    "ax.set_xlabel(' # trials')\n",
    "ax.set_ylabel(' Loss ')\n",
    "ax.set_xscale('log')"
   ]
  },
  {
   "cell_type": "markdown",
   "metadata": {},
   "source": [
    "## influence du nombre du learning rate\n"
   ]
  },
  {
   "cell_type": "code",
   "execution_count": 15,
   "metadata": {},
   "outputs": [
    {
     "name": "stdout",
     "output_type": "stream",
     "text": [
      "learning_rate: 0.00400, Loss: 0.54141, loss_P: 0.54406, loss_P0: 0.38791\n",
      "learning_rate: 0.00711, Loss: 0.52361, loss_P: 0.52632, loss_P0: 0.38791\n",
      "learning_rate: 0.01265, Loss: 0.43144, loss_P: 0.43552, loss_P0: 0.38791\n",
      "learning_rate: 0.02249, Loss: 0.39536, loss_P: 0.40072, loss_P0: 0.38791\n",
      "learning_rate: 0.04000, Loss: 0.38607, loss_P: 0.39215, loss_P0: 0.38791\n",
      "learning_rate: 0.07113, Loss: 0.38544, loss_P: 0.39207, loss_P0: 0.38791\n",
      "learning_rate: 0.12649, Loss: 0.38559, loss_P: 0.39219, loss_P0: 0.38791\n",
      "learning_rate: 0.22494, Loss: 0.38511, loss_P: 0.39218, loss_P0: 0.38791\n",
      "learning_rate: 0.40000, Loss: 0.38564, loss_P: 0.39239, loss_P0: 0.38791\n"
     ]
    }
   ],
   "source": [
    "learning_rates = learning_rate * np.logspace(-1, 1, N_scan, base=10)\n",
    "learning_rates_, losses, loss_Ps, loss_P0s = [], [], [], []\n",
    "for learning_rate_ in learning_rates:\n",
    "    for i_CV in range(N_cv):\n",
    "        theta, p, y = get_data(seed=seed+i_CV)\n",
    "        logistic_model, loss = fit_data(theta, y, learning_rate=learning_rate_, verbose=False)\n",
    "\n",
    "        if N_test>0: theta, p, y = get_data(N=N_test) # nouvelles données \n",
    "        labels = torch.Tensor(y[:, None])\n",
    "        Theta = torch.Tensor(theta[:, None])\n",
    "        outputs = logistic_model(Theta)\n",
    "\n",
    "        loss = criterion(outputs, labels).item()\n",
    "        loss_P = criterion(outputs, torch.Tensor(p[:, None])).item()\n",
    "        loss_P0 = criterion(torch.Tensor(p[:, None]), torch.Tensor(p[:, None])).item()\n",
    "        if i_CV==0: \n",
    "            print(f\"learning_rate: {learning_rate_:.5f}, Loss: {loss:.5f}, loss_P: {loss_P:.5f}, loss_P0: {loss_P0:.5f}\")\n",
    "        learning_rates_.append(learning_rate_)\n",
    "        loss_P0s.append(loss_P0)\n",
    "        loss_Ps.append(loss_P)\n",
    "        losses.append(loss)"
   ]
  },
  {
   "cell_type": "code",
   "execution_count": 16,
   "metadata": {},
   "outputs": [
    {
     "data": {
      "image/png": "[encoded data removed]",
      "text/plain": [
       "<matplotlib.figure.Figure at 0x7f105c0609b0>"
      ]
     },
     "metadata": {
      "needs_background": "light"
     },
     "output_type": "display_data"
    }
   ],
   "source": [
    "#influence du learning rate sur loss\n",
    "\n",
    "fig, ax = plt.subplots(figsize = (15, 8)) \n",
    "ax.scatter(learning_rates_, losses, alpha=3/N_cv, label='loss')\n",
    "ax.scatter(learning_rates_, loss_Ps, alpha=3/N_cv, label='loss_P')\n",
    "ax.plot(learning_rates_, loss_P0s, label='loss_P0')\n",
    "ax.set_xlim(np.min(learning_rates_), np.max(learning_rates_))\n",
    "\n",
    "ax.set_xlabel('learning_rate')\n",
    "ax.set_ylabel(' Loss ')\n",
    "ax.set_xscale('log')\n",
    "ax.legend(loc='best');"
   ]
  },
  {
   "cell_type": "markdown",
   "metadata": {},
   "source": [
    "## influence du nombre d'epochs"
   ]
  },
  {
   "cell_type": "code",
   "execution_count": 17,
   "metadata": {},
   "outputs": [
    {
     "name": "stdout",
     "output_type": "stream",
     "text": [
      "num_epochs: 40, Loss: 0.46085, loss_P: 0.46407, loss_P0: 0.38791\n",
      "num_epochs: 71, Loss: 0.44130, loss_P: 0.44507, loss_P0: 0.38791\n",
      "num_epochs: 126, Loss: 0.40881, loss_P: 0.41352, loss_P0: 0.38791\n",
      "num_epochs: 224, Loss: 0.38988, loss_P: 0.39569, loss_P0: 0.38791\n",
      "num_epochs: 400, Loss: 0.38640, loss_P: 0.39259, loss_P0: 0.38791\n",
      "num_epochs: 711, Loss: 0.38540, loss_P: 0.39206, loss_P0: 0.38791\n",
      "num_epochs: 1264, Loss: 0.38557, loss_P: 0.39229, loss_P0: 0.38791\n",
      "num_epochs: 2249, Loss: 0.38559, loss_P: 0.39237, loss_P0: 0.38791\n",
      "num_epochs: 4000, Loss: 0.38558, loss_P: 0.39238, loss_P0: 0.38791\n"
     ]
    }
   ],
   "source": [
    "num_epochss = num_epochs * np.logspace(-1, 1, N_scan, base=10)\n",
    "num_epochss_, losses, loss_Ps, loss_P0s = [], [], [], []\n",
    "for num_epochs_ in num_epochss:\n",
    "    for i_CV in range(N_cv):\n",
    "        theta, p, y = get_data(seed=seed+i_CV)\n",
    "        logistic_model, loss = fit_data(theta, y, num_epochs=int(num_epochs_), verbose=False)\n",
    "        \n",
    "        if N_test>0: theta, p, y = get_data(N=N_test) # nouvelles données \n",
    "        labels = torch.Tensor(y[:, None])\n",
    "        Theta = torch.Tensor(theta[:, None])\n",
    "        outputs = logistic_model(Theta)\n",
    "\n",
    "        loss = criterion(outputs, labels).item()\n",
    "        loss_P = criterion(outputs, torch.Tensor(p[:, None])).item()\n",
    "        loss_P0 = criterion(torch.Tensor(p[:, None]), torch.Tensor(p[:, None])).item()\n",
    "        if i_CV==0: \n",
    "            print(f\"num_epochs: {int(num_epochs_)}, Loss: {loss:.5f}, loss_P: {loss_P:.5f}, loss_P0: {loss_P0:.5f}\")\n",
    "        num_epochss_.append(num_epochs_)\n",
    "        loss_P0s.append(loss_P0)\n",
    "        loss_Ps.append(loss_P)\n",
    "        losses.append(loss)"
   ]
  },
  {
   "cell_type": "code",
   "execution_count": 18,
   "metadata": {},
   "outputs": [
    {
     "data": {
      "image/png": "[encoded data removed]",
      "text/plain": [
       "<matplotlib.figure.Figure at 0x7f105c1f9b00>"
      ]
     },
     "metadata": {
      "needs_background": "light"
     },
     "output_type": "display_data"
    }
   ],
   "source": [
    "# influence du nbr d'epochs sur loss \n",
    "fig, ax = plt.subplots(figsize = (15, 8)) \n",
    "ax.scatter(num_epochss_, losses, alpha=3/N_cv, label='loss')\n",
    "ax.scatter(num_epochss_, loss_Ps, alpha=3/N_cv, label='loss_P')\n",
    "ax.plot(num_epochss_, loss_P0s, label='loss_P0')\n",
    "\n",
    "ax.set_xlabel(' # epochs')\n",
    "ax.set_ylabel(' Loss ')\n",
    "ax.set_xscale('log')\n",
    "ax.legend(loc='best');"
   ]
  },
  {
   "cell_type": "markdown",
   "metadata": {},
   "source": [
    "## influence de la taille du minibatch"
   ]
  },
  {
   "cell_type": "code",
   "execution_count": 19,
   "metadata": {},
   "outputs": [
    {
     "name": "stdout",
     "output_type": "stream",
     "text": [
      "batch_size: 12, Loss: 0.38644, loss_P: 0.39235, loss_P0: 0.38791\n",
      "batch_size: 16, Loss: 0.38554, loss_P: 0.39187, loss_P0: 0.38791\n",
      "batch_size: 21, Loss: 0.38549, loss_P: 0.39204, loss_P0: 0.38791\n",
      "batch_size: 27, Loss: 0.38586, loss_P: 0.39210, loss_P0: 0.38791\n",
      "batch_size: 35, Loss: 0.38568, loss_P: 0.39218, loss_P0: 0.38791\n",
      "batch_size: 45, Loss: 0.38638, loss_P: 0.39242, loss_P0: 0.38791\n",
      "batch_size: 59, Loss: 0.38542, loss_P: 0.39201, loss_P0: 0.38791\n",
      "batch_size: 77, Loss: 0.38477, loss_P: 0.39222, loss_P0: 0.38791\n",
      "batch_size: 100, Loss: 0.38577, loss_P: 0.39223, loss_P0: 0.38791\n"
     ]
    }
   ],
   "source": [
    "batch_sizes = N * np.logspace(-3, 0, N_scan, base=2)\n",
    "batch_sizes_, losses, loss_Ps, loss_P0s = [], [], [], []\n",
    "for batch_size_ in batch_sizes:\n",
    "    for i_CV in range(N_cv):\n",
    "        theta, p, y = get_data(seed=seed+i_CV)\n",
    "        logistic_model, loss = fit_data(theta, y, batch_size=int(batch_size_), verbose=False)\n",
    "        \n",
    "        if N_test>0: theta, p, y = get_data(N=N_test) # nouvelles données \n",
    "        labels = torch.Tensor(y[:, None])\n",
    "        Theta = torch.Tensor(theta[:, None])\n",
    "        outputs = logistic_model(Theta)\n",
    "\n",
    "        loss = criterion(outputs, labels).item()\n",
    "        loss_P = criterion(outputs, torch.Tensor(p[:, None])).item()\n",
    "        loss_P0 = criterion(torch.Tensor(p[:, None]), torch.Tensor(p[:, None])).item()\n",
    "        if i_CV==0: \n",
    "            print(f\"batch_size: {int(batch_size_)}, Loss: {loss:.5f}, loss_P: {loss_P:.5f}, loss_P0: {loss_P0:.5f}\")\n",
    "        batch_sizes_.append(batch_size_)\n",
    "        loss_P0s.append(loss_P0)\n",
    "        loss_Ps.append(loss_P)\n",
    "        losses.append(loss)"
   ]
  },
  {
   "cell_type": "code",
   "execution_count": 20,
   "metadata": {},
   "outputs": [
    {
     "data": {
      "image/png": "[encoded data removed]",
      "text/plain": [
       "<matplotlib.figure.Figure at 0x7f1054049e10>"
      ]
     },
     "metadata": {
      "needs_background": "light"
     },
     "output_type": "display_data"
    }
   ],
   "source": [
    "# influence de la taille du minibatch sur loss \n",
    "\n",
    "fig, ax = plt.subplots(figsize = (15, 8)) \n",
    "ax.scatter(batch_sizes_, losses, alpha=3/N_cv, label='loss')\n",
    "ax.scatter(batch_sizes_, loss_Ps, alpha=3/N_cv, label='loss_P')\n",
    "ax.plot(batch_sizes_, loss_P0s, label='loss_P0')\n",
    "\n",
    "ax.set_xlabel(' batch_size')\n",
    "ax.set_ylabel(' Loss ')\n",
    "ax.set_xscale('log')\n",
    "ax.legend(loc='best');"
   ]
  },
  {
   "cell_type": "markdown",
   "metadata": {},
   "source": [
    "## Comparaison données générées/données prédites"
   ]
  },
  {
   "cell_type": "markdown",
   "metadata": {},
   "source": [
    "### Tentative I"
   ]
  },
  {
   "cell_type": "code",
   "execution_count": 39,
   "metadata": {},
   "outputs": [
    {
     "name": "stdout",
     "output_type": "stream",
     "text": [
      "p0 :  0.01880\n",
      "p0 :  0.01034\n",
      "p0 :  0.00663\n",
      "p0 :  0.01712\n",
      "p0 :  0.01574\n",
      "p0 :  0.01664\n",
      "p0 :  0.00889\n",
      "p0 :  0.01801\n",
      "p0 :  0.01611\n",
      "p0 :  0.01056\n",
      "p0 :  0.01296\n",
      "p0 :  0.01761\n",
      "p0 :  0.01528\n",
      "p0 :  0.01197\n",
      "p0 :  0.01879\n",
      "p0 :  0.01258\n",
      "p0 :  0.00718\n",
      "p0 :  0.00812\n",
      "p0 :  0.00962\n",
      "p0 :  0.01325\n",
      "p0 :  0.01542\n",
      "p0 :  0.01341\n",
      "p0 :  0.01189\n",
      "p0 :  0.00949\n",
      "p0 :  0.01354\n",
      "p0 :  0.01744\n",
      "p0 :  0.01792\n",
      "p0 :  0.01656\n",
      "p0 :  0.01299\n",
      "p0 :  0.01266\n",
      "p0 :  0.01368\n",
      "p0 :  0.00824\n",
      "p0 :  0.00990\n",
      "p0 :  0.01716\n",
      "p0 :  0.01279\n",
      "p0 :  0.00903\n",
      "p0 :  0.01124\n",
      "p0 :  0.01884\n",
      "p0 :  0.00746\n",
      "p0 :  0.01085\n",
      "p0 :  0.00923\n",
      "p0 :  0.01720\n",
      "p0 :  0.00740\n",
      "p0 :  0.01435\n",
      "p0 :  0.01000\n",
      "p0 :  0.00851\n",
      "p0 :  0.01353\n",
      "p0 :  0.01532\n",
      "p0 :  0.01357\n",
      "p0 :  0.01647\n"
     ]
    }
   ],
   "source": [
    "# p0 prediction/generate I\n",
    "\n",
    "p0s = np.linspace(0,1,50)\n",
    "p0_s = []\n",
    "\n",
    "\n",
    "for p0_ in p0s:\n",
    "    \n",
    "    theta, p, y = get_data(N=int(N_), seed=seed+i_CV)\n",
    "    logistic_model, loss = fit_data(theta, y, verbose=False)\n",
    "\n",
    "    if N_test>0: theta, p, y = get_data(N=N_test) # nouvelles données \n",
    "    p0_pred =  torch.sigmoid(logistic_model.logit0).item()     \n",
    "        \n",
    "    p0_s.append( p0_pred)\n",
    "    print(f\"p0 : {p0_pred: .5f}\")\n",
    "\n"
   ]
  },
  {
   "cell_type": "code",
   "execution_count": 43,
   "metadata": {},
   "outputs": [
    {
     "data": {
      "text/plain": [
       "Text(0,0.5,'p0 prédit')"
      ]
     },
     "execution_count": 43,
     "metadata": {},
     "output_type": "execute_result"
    },
    {
     "data": {
      "image/png": "[encoded data removed]",
      "text/plain": [
       "<matplotlib.figure.Figure at 0x7f105444bb70>"
      ]
     },
     "metadata": {
      "needs_background": "light"
     },
     "output_type": "display_data"
    }
   ],
   "source": [
    "plt.figure(figsize = (8,8)) \n",
    "plt.scatter(p0s, p0_s)\n",
    "plt.xlabel('p0 réel')\n",
    "plt.ylabel('p0 prédit')\n"
   ]
  },
  {
   "cell_type": "code",
   "execution_count": 47,
   "metadata": {},
   "outputs": [
    {
     "name": "stdout",
     "output_type": "stream",
     "text": [
      " theta0: -0.12868\n",
      " theta0: -0.12328\n",
      " theta0: -0.11847\n",
      " theta0: -0.11808\n",
      " theta0: -0.11400\n",
      " theta0: -0.11612\n",
      " theta0: -0.11655\n",
      " theta0: -0.12516\n",
      " theta0: -0.12017\n",
      " theta0: -0.13014\n",
      " theta0: -0.11267\n",
      " theta0: -0.11481\n",
      " theta0: -0.11659\n",
      " theta0: -0.11510\n",
      " theta0: -0.11946\n",
      " theta0: -0.11848\n",
      " theta0: -0.12104\n",
      " theta0: -0.12339\n",
      " theta0: -0.12976\n",
      " theta0: -0.11382\n",
      " theta0: -0.11244\n",
      " theta0: -0.12124\n",
      " theta0: -0.11293\n",
      " theta0: -0.12198\n",
      " theta0: -0.11570\n",
      " theta0: -0.12658\n",
      " theta0: -0.11594\n",
      " theta0: -0.11348\n",
      " theta0: -0.11769\n",
      " theta0: -0.11618\n",
      " theta0: -0.11354\n",
      " theta0: -0.11605\n",
      " theta0: -0.11678\n",
      " theta0: -0.12970\n",
      " theta0: -0.11922\n",
      " theta0: -0.11890\n",
      " theta0: -0.11926\n",
      " theta0: -0.11059\n",
      " theta0: -0.11787\n",
      " theta0: -0.11943\n",
      " theta0: -0.12134\n",
      " theta0: -0.11935\n",
      " theta0: -0.12427\n",
      " theta0: -0.11646\n",
      " theta0: -0.12509\n",
      " theta0: -0.12402\n",
      " theta0: -0.11766\n",
      " theta0: -0.11453\n",
      " theta0: -0.11802\n",
      " theta0: -0.12005\n"
     ]
    }
   ],
   "source": [
    "#theta0 prediction/generate \n",
    "\n",
    "theta0s = np.random.randn(50)\n",
    "theta0_s = []\n",
    "\n",
    "for theta0_ in theta0s:\n",
    "    \n",
    "    theta, p, y = get_data(N=int(N_), seed=seed+i_CV)\n",
    "    logistic_model, loss = fit_data(theta, y, verbose=False)\n",
    "\n",
    "    if N_test>0: theta, p, y = get_data(N=N_test) # nouvelles données \n",
    "        \n",
    "    theta0_pred = logistic_model.linear.bias.item()\n",
    "    theta0_s.append(theta0_pred)\n",
    "        \n",
    "    print(f\" theta0: {theta0_pred:.5f}\")\n",
    "    "
   ]
  },
  {
   "cell_type": "code",
   "execution_count": 48,
   "metadata": {},
   "outputs": [
    {
     "data": {
      "text/plain": [
       "Text(0,0.5,'theta prédit')"
      ]
     },
     "execution_count": 48,
     "metadata": {},
     "output_type": "execute_result"
    },
    {
     "data": {
      "image/png": "[encoded data removed]",
      "text/plain": [
       "<matplotlib.figure.Figure at 0x7f105c1a79e8>"
      ]
     },
     "metadata": {
      "needs_background": "light"
     },
     "output_type": "display_data"
    }
   ],
   "source": [
    "plt.figure(figsize = (8,8)) \n",
    "plt.scatter(theta0s, theta0_s)\n",
    "plt.xlabel('theta réel')\n",
    "plt.ylabel('theta prédit')\n"
   ]
  },
  {
   "cell_type": "code",
   "execution_count": 53,
   "metadata": {},
   "outputs": [
    {
     "name": "stdout",
     "output_type": "stream",
     "text": [
      " wt:5.55953\n",
      " wt:5.57331\n",
      " wt:5.64128\n",
      " wt:5.60573\n",
      " wt:5.58638\n",
      " wt:5.66405\n",
      " wt:5.58126\n",
      " wt:5.66627\n",
      " wt:5.57465\n",
      " wt:5.61897\n",
      " wt:5.58363\n",
      " wt:5.74294\n",
      " wt:5.57972\n",
      " wt:5.57455\n",
      " wt:5.62584\n",
      " wt:5.54258\n",
      " wt:5.48932\n",
      " wt:5.58752\n",
      " wt:5.61296\n",
      " wt:5.68046\n",
      " wt:5.68727\n",
      " wt:5.52984\n",
      " wt:5.73977\n",
      " wt:5.51244\n",
      " wt:5.69384\n",
      " wt:5.49692\n",
      " wt:5.62801\n",
      " wt:5.57190\n",
      " wt:5.51937\n",
      " wt:5.61063\n",
      " wt:5.58271\n",
      " wt:5.65616\n",
      " wt:5.62318\n",
      " wt:5.64959\n",
      " wt:5.56383\n",
      " wt:5.65339\n",
      " wt:5.70816\n",
      " wt:5.48842\n",
      " wt:5.63687\n",
      " wt:5.62317\n",
      " wt:5.73448\n",
      " wt:5.54839\n",
      " wt:5.52783\n",
      " wt:5.57809\n",
      " wt:5.62866\n",
      " wt:5.52070\n",
      " wt:5.50384\n",
      " wt:5.47684\n",
      " wt:5.70217\n",
      " wt:5.50164\n"
     ]
    }
   ],
   "source": [
    "#wt prediction/generate \n",
    "\n",
    "wts = np.logspace(-1, 0.1, 50, base=10)\n",
    "wt_s = []\n",
    "\n",
    "for wt_ in wts:\n",
    "    \n",
    "    theta, p, y = get_data(N=int(N_), seed=seed+i_CV)\n",
    "    logistic_model, loss = fit_data(theta, y, verbose=False)\n",
    "        \n",
    "    if N_test>0: theta, p, y = get_data(N=N_test) # nouvelles données \n",
    "        \n",
    "    wt_pred = logistic_model.linear.weight.item()\n",
    "        \n",
    "    wt_s.append(wt_pred)\n",
    "    print(f\" wt:{wt_pred:.5f}\")    "
   ]
  },
  {
   "cell_type": "code",
   "execution_count": 54,
   "metadata": {},
   "outputs": [
    {
     "data": {
      "text/plain": [
       "Text(0,0.5,'pente prédite')"
      ]
     },
     "execution_count": 54,
     "metadata": {},
     "output_type": "execute_result"
    },
    {
     "data": {
      "image/png": "[encoded data removed]",
      "text/plain": [
       "<matplotlib.figure.Figure at 0x7f105c1f9780>"
      ]
     },
     "metadata": {
      "needs_background": "light"
     },
     "output_type": "display_data"
    }
   ],
   "source": [
    "plt.figure(figsize = (8,8)) \n",
    "plt.scatter(wts, wt_s)\n",
    "plt.xlabel('pente réelle')\n",
    "plt.ylabel('pente prédite')\n"
   ]
  },
  {
   "cell_type": "markdown",
   "metadata": {},
   "source": [
    "### Tentative II"
   ]
  },
  {
   "cell_type": "code",
   "execution_count": 78,
   "metadata": {},
   "outputs": [
    {
     "name": "stdout",
     "output_type": "stream",
     "text": [
      "p0 :  0.01642\n",
      "p0 :  0.01217\n",
      "p0 :  0.01091\n",
      "p0 :  0.01197\n",
      "p0 :  0.01132\n",
      "p0 :  0.00837\n",
      "p0 :  0.00949\n",
      "p0 :  0.01299\n",
      "p0 :  0.01026\n",
      "p0 :  0.01328\n",
      "p0 :  0.00842\n",
      "p0 :  0.00814\n",
      "p0 :  0.01052\n",
      "p0 :  0.01173\n",
      "p0 :  0.01303\n",
      "p0 :  0.00781\n",
      "p0 :  0.01114\n",
      "p0 :  0.01803\n",
      "p0 :  0.01922\n",
      "p0 :  0.00677\n",
      "p0 :  0.00725\n",
      "p0 :  0.01648\n",
      "p0 :  0.01128\n",
      "p0 :  0.01128\n",
      "p0 :  0.00827\n",
      "p0 :  0.00999\n",
      "p0 :  0.01546\n",
      "p0 :  0.00890\n",
      "p0 :  0.01585\n",
      "p0 :  0.01435\n",
      "p0 :  0.01204\n",
      "p0 :  0.01154\n",
      "p0 :  0.01035\n",
      "p0 :  0.01572\n",
      "p0 :  0.01934\n",
      "p0 :  0.01187\n",
      "p0 :  0.01617\n",
      "p0 :  0.01479\n",
      "p0 :  0.01013\n",
      "p0 :  0.01537\n",
      "p0 :  0.01553\n",
      "p0 :  0.00814\n",
      "p0 :  0.01101\n",
      "p0 :  0.01092\n",
      "p0 :  0.00940\n",
      "p0 :  0.01012\n",
      "p0 :  0.01281\n",
      "p0 :  0.01673\n",
      "p0 :  0.01320\n",
      "p0 :  0.01030\n"
     ]
    },
    {
     "data": {
      "text/plain": [
       "Text(0,0.5,'p0 prédit')"
      ]
     },
     "execution_count": 78,
     "metadata": {},
     "output_type": "execute_result"
    },
    {
     "data": {
      "image/png": "[encoded data removed]",
      "text/plain": [
       "<matplotlib.figure.Figure at 0x7f10540ebe48>"
      ]
     },
     "metadata": {
      "needs_background": "light"
     },
     "output_type": "display_data"
    }
   ],
   "source": [
    "# p0 prediction/generate I\n",
    "\n",
    "p0s = np.linspace(0,0.03,50)\n",
    "p0_s = []\n",
    "\n",
    "\n",
    "for p0_ in p0s:\n",
    "    \n",
    "    theta, p, y = get_data(N=int(N_), seed=seed+i_CV)\n",
    "    logistic_model, loss = fit_data(theta, y, verbose=False)\n",
    "\n",
    "    if N_test>0: theta, p, y = get_data(N=N_test) # nouvelles données \n",
    "    p0_pred =  torch.sigmoid(logistic_model.logit0).item()     \n",
    "        \n",
    "    p0_s.append( p0_pred)\n",
    "    print(f\"p0 : {p0_pred: .5f}\")\n",
    "\n",
    "plt.figure(figsize = (8,8)) \n",
    "plt.scatter(p0s, p0_s)\n",
    "plt.xlabel('p0 réel')\n",
    "plt.ylabel('p0 prédit')\n"
   ]
  },
  {
   "cell_type": "code",
   "execution_count": 80,
   "metadata": {},
   "outputs": [
    {
     "name": "stdout",
     "output_type": "stream",
     "text": [
      " theta0: -0.12468\n",
      " theta0: -0.11943\n",
      " theta0: -0.12253\n",
      " theta0: -0.11682\n",
      " theta0: -0.11326\n",
      " theta0: -0.11437\n",
      " theta0: -0.12827\n",
      " theta0: -0.12186\n",
      " theta0: -0.11555\n",
      " theta0: -0.11766\n",
      " theta0: -0.12259\n",
      " theta0: -0.11419\n",
      " theta0: -0.12320\n",
      " theta0: -0.12702\n",
      " theta0: -0.12923\n",
      " theta0: -0.11710\n",
      " theta0: -0.11680\n",
      " theta0: -0.11721\n",
      " theta0: -0.11510\n",
      " theta0: -0.11292\n",
      " theta0: -0.11772\n",
      " theta0: -0.12714\n",
      " theta0: -0.12031\n",
      " theta0: -0.12056\n",
      " theta0: -0.11236\n",
      " theta0: -0.12855\n",
      " theta0: -0.11871\n",
      " theta0: -0.11427\n",
      " theta0: -0.11253\n",
      " theta0: -0.11646\n",
      " theta0: -0.12981\n",
      " theta0: -0.13262\n",
      " theta0: -0.11575\n",
      " theta0: -0.11325\n",
      " theta0: -0.12349\n",
      " theta0: -0.11734\n",
      " theta0: -0.11932\n",
      " theta0: -0.11074\n",
      " theta0: -0.11225\n",
      " theta0: -0.11805\n",
      " theta0: -0.11967\n",
      " theta0: -0.12082\n",
      " theta0: -0.11810\n",
      " theta0: -0.12856\n",
      " theta0: -0.11922\n",
      " theta0: -0.12688\n",
      " theta0: -0.11440\n",
      " theta0: -0.12063\n",
      " theta0: -0.12422\n",
      " theta0: -0.11929\n"
     ]
    },
    {
     "data": {
      "text/plain": [
       "Text(0,0.5,'theta prédit')"
      ]
     },
     "execution_count": 80,
     "metadata": {},
     "output_type": "execute_result"
    },
    {
     "data": {
      "image/png": "[encoded data removed]",
      "text/plain": [
       "<matplotlib.figure.Figure at 0x7f105c0b46d8>"
      ]
     },
     "metadata": {
      "needs_background": "light"
     },
     "output_type": "display_data"
    }
   ],
   "source": [
    "#theta0 prediction/generate \n",
    "\n",
    "theta0s = np.random.randn(50) #hum... pas terrible\n",
    "theta0_s = []\n",
    "\n",
    "for theta0_ in theta0s:\n",
    "    \n",
    "    theta, p, y = get_data(N=int(N_), seed=seed+i_CV)\n",
    "    logistic_model, loss = fit_data(theta, y, verbose=False)\n",
    "\n",
    "    if N_test>0: theta, p, y = get_data(N=N_test) # nouvelles données \n",
    "        \n",
    "    theta0_pred = logistic_model.linear.bias.item()\n",
    "    theta0_s.append(theta0_pred)\n",
    "        \n",
    "    print(f\" theta0: {theta0_pred:.5f}\")\n",
    "    \n",
    "plt.figure(figsize = (8,8)) \n",
    "plt.scatter(theta0s, theta0_s)\n",
    "plt.xlabel('theta réel')\n",
    "plt.ylabel('theta prédit')\n"
   ]
  },
  {
   "cell_type": "code",
   "execution_count": 81,
   "metadata": {},
   "outputs": [
    {
     "name": "stdout",
     "output_type": "stream",
     "text": [
      " wt:5.65623\n",
      " wt:5.70153\n",
      " wt:5.66475\n",
      " wt:5.57101\n",
      " wt:5.59122\n",
      " wt:5.65957\n",
      " wt:5.60938\n",
      " wt:5.60013\n",
      " wt:5.72791\n",
      " wt:5.57995\n",
      " wt:5.51757\n",
      " wt:5.76679\n",
      " wt:5.77661\n",
      " wt:5.66380\n",
      " wt:5.63466\n",
      " wt:5.53622\n",
      " wt:5.60213\n",
      " wt:5.55864\n",
      " wt:5.60116\n",
      " wt:5.56554\n",
      " wt:5.51391\n",
      " wt:5.73585\n",
      " wt:5.68148\n",
      " wt:5.60241\n",
      " wt:5.69435\n",
      " wt:5.58313\n",
      " wt:5.73068\n",
      " wt:5.72288\n",
      " wt:5.50410\n",
      " wt:5.72431\n",
      " wt:5.56019\n",
      " wt:5.55899\n",
      " wt:5.58552\n",
      " wt:5.54789\n",
      " wt:5.66769\n",
      " wt:5.59346\n",
      " wt:5.53358\n",
      " wt:5.66726\n",
      " wt:5.51785\n",
      " wt:5.66308\n",
      " wt:5.62320\n",
      " wt:5.63246\n",
      " wt:5.65817\n",
      " wt:5.49698\n",
      " wt:5.73549\n",
      " wt:5.56711\n",
      " wt:5.66733\n",
      " wt:5.56000\n",
      " wt:5.76886\n",
      " wt:5.52356\n"
     ]
    },
    {
     "data": {
      "text/plain": [
       "Text(0,0.5,'pente prédite')"
      ]
     },
     "execution_count": 81,
     "metadata": {},
     "output_type": "execute_result"
    },
    {
     "data": {
      "image/png": "[encoded data removed]",
      "text/plain": [
       "<matplotlib.figure.Figure at 0x7f105c091390>"
      ]
     },
     "metadata": {
      "needs_background": "light"
     },
     "output_type": "display_data"
    }
   ],
   "source": [
    "#wt prediction/generate \n",
    "\n",
    "wts = np.logspace(-1, 1, 50, base=10)\n",
    "wt_s = []\n",
    "\n",
    "for wt_ in wts:\n",
    "    \n",
    "    theta, p, y = get_data(N=int(N_), seed=seed+i_CV)\n",
    "    logistic_model, loss = fit_data(theta, y, verbose=False)\n",
    "        \n",
    "    if N_test>0: theta, p, y = get_data(N=N_test) # nouvelles données \n",
    "        \n",
    "    wt_pred = logistic_model.linear.weight.item()\n",
    "        \n",
    "    wt_s.append(wt_pred)\n",
    "    print(f\" wt:{wt_pred:.5f}\") \n",
    "    \n",
    "plt.figure(figsize = (8,8)) \n",
    "plt.scatter(wts, wt_s)\n",
    "plt.xlabel('pente réelle')\n",
    "plt.ylabel('pente prédite')\n"
   ]
  }
 ],
 "metadata": {
  "kernelspec": {
   "display_name": "Python 3",
   "language": "python",
   "name": "python3"
  },
  "language_info": {
   "codemirror_mode": {
    "name": "ipython",
    "version": 3
   },
   "file_extension": ".py",
   "mimetype": "text/x-python",
   "name": "python",
   "nbconvert_exporter": "python",
   "pygments_lexer": "ipython3",
   "version": "3.7.7"
  },
  "nteract": {
   "version": "0.21.0"
  }
 },
 "nbformat": 4,
 "nbformat_minor": 4
}
