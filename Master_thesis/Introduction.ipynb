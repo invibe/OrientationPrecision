{
 "cells": [
  {
   "cell_type": "markdown",
   "metadata": {},
   "source": [
    "## Introduction"
   ]
  },
  {
   "cell_type": "markdown",
   "metadata": {},
   "source": [
    "<p> One of the main objectives of Neurosciences is to understand how the sensory inputs we receive are integrated with our expectations about the world around us to generate behavior.  As visual sensory information travels through our nervous system, it undergoes transformation in its representation. First, the visual sensory information reach the photo-receptors, which are neurons specialized on the reception and conduction of visual stimuli found in the retina. Than, this information is converted into an electrical stimulus that travels to other retinal layers through neurotransmitters. From photo receptors, this impulse is transmitted to the bipolar cells and then reaches the retinal ganglion cells. The retinal ganglion cells relay the electrical message to the lateral geniculate nucleus (LGN). Each layer of the LGN receives information from the retinal hemi-field of one eye.  (De Moraes, 2013). The LGN, which receives the majority of the output of the retina in primates, relay this visual information to the first neocortical visual area, the primary visual cortex (V1). V1 is the site where the neural representation of the visual world undergoes drastic transformations. V1 neurons are sensitive to multiple visual stimulus attributes including size, binocular depth, direction of motion or orientation and this selectivity is in many cases exquisitely sensitive (Priebe, 2016).</p>\n"
   ]
  },
  {
   "cell_type": "markdown",
   "metadata": {},
   "source": [
    "Orientation selectivity was first described by D. Hubel and T. Wiesel by recording electrical activity in the cat visual cortex. They measured the spike rate of single visual neurons in response to drifting oriented luminance bars. They demonstrated that neurons in adult visual cortex of cats respond with the highest firing rates to preferred oriented stimuli. They also showed that preferred orientations of neurons are organized in a specific pattern, where cells with similar selectivity are clustered in iso-orientation domains as know as orientation columns (Hubel & Wiesel, 1962). This orientation columns are arranged circularly, with the preferred orientations shifting in a graded manner. Neurons with close orientation selectivity are located next to each other (Zhang et al., 2018). This profound change along the visual pathway has positioned V1 as a model system for studying the circuitry that underlies neural computations across the neocortex. A critical advantage of studying transformations in v1 is that it is possible to build models that can make predictions of the responses of V1 neurons (Priebe, 2016)."
   ]
  },
  {
   "cell_type": "markdown",
   "metadata": {},
   "source": [
    "Orientation selectivity is one of the most investigated receptive field properties in the neocortex. However, its underlying neural mechanisms are still not completely understood. To have a better understanding of this mechanisms, we have in the first part, conducted a psychophysic experiment in the form of a discrimination task using particular oriented textures.  "
   ]
  },
  {
   "cell_type": "markdown",
   "metadata": {},
   "source": [
    "Il manque:\n",
    "- lien avec 'fitting psychometric curve\"\n",
    "- originalite\n",
    "- lien avec electrophy sur le chat, modele de Hugo"
   ]
  }
 ],
 "metadata": {
  "kernelspec": {
   "display_name": "Python 3",
   "language": "python",
   "name": "python3"
  },
  "language_info": {
   "codemirror_mode": {
    "name": "ipython",
    "version": 3
   },
   "file_extension": ".py",
   "mimetype": "text/x-python",
   "name": "python",
   "nbconvert_exporter": "python",
   "pygments_lexer": "ipython3",
   "version": "3.7.3"
  }
 },
 "nbformat": 4,
 "nbformat_minor": 4
}
