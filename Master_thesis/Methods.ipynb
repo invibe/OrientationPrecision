{
 "cells": [
  {
   "cell_type": "markdown",
   "metadata": {},
   "source": [
    "## Experiment 1 : 2AFC Task"
   ]
  },
  {
   "cell_type": "markdown",
   "metadata": {},
   "source": [
    "### 1. Method"
   ]
  },
  {
   "cell_type": "markdown",
   "metadata": {},
   "source": [
    "#### a. Participants"
   ]
  },
  {
   "cell_type": "markdown",
   "metadata": {},
   "source": [
    " 12  volunteers (2 authors and 10 participants naive as to the purpose of the experiment, mean age ± s.e.m, number female) with normal or corrected-to-normal vision take part of the experiment. The experiment was carried out according to the ethical standards specified in the Declaration of Helsinki"
   ]
  },
  {
   "cell_type": "markdown",
   "metadata": {},
   "source": [
    "#### b. Apparatus and stimuli"
   ]
  },
  {
   "cell_type": "markdown",
   "metadata": {},
   "source": [
    "Parcipants were seated in front of a computer screen.\n",
    "Visual stimuli were generated using PsychoPy 3.2.4, the experimental routines were also written using PsychoPy and controlled the stimulus display.\n"
   ]
  },
  {
   "cell_type": "markdown",
   "metadata": {},
   "source": [
    "Some missing informations:\n",
    "- distance from the screen\n",
    "- type of screen/resolution\n",
    "- should I precise “with their own computers” ?\n"
   ]
  },
  {
   "cell_type": "markdown",
   "metadata": {},
   "source": [
    "#### c. Procedure "
   ]
  },
  {
   "cell_type": "markdown",
   "metadata": {},
   "source": [
    "For this two-alternative foce choice task, the target used was a static MotionCloud (? ° diameter) that was presented at the centre of the screen, on a grey background. Each trial started with a central fixation cross displayed for 250 ms. Than a fixed-duration 250 ms gap occurred between the offset of the fixation cross and the onset of the static target. The target was then presented in the centre of the screen for 250 ms. Then participant had 500ms to report the pattern’s orientation they perceived using the mouse. If the orientation was clockwise of the vertical, they had to move the mouse to the right; otherwise they had to move it to the left (Figure 1A and figure 1B). For each trial, $B_\\theta$ and $B_sf$ were randomly chosen out of 5 possibilities\n"
   ]
  },
  {
   "cell_type": "markdown",
   "metadata": {},
   "source": [
    "Each participant had to perform 1 session of 150 trials."
   ]
  },
  {
   "cell_type": "markdown",
   "metadata": {},
   "source": [
    "Some missing informations: \n",
    "MC parameters that we changed at each trial ? (or should I put that in the results)\n",
    "- small angle θ drawn from a uniform distribution ranging between -45 and 45 degree\n",
    "- bandwidth Bθ draw from a gaussian distribution (<15 degree)\n",
    "- bandwidth spatial frequency draw from a gaussian distribution \n",
    "     "
   ]
  },
  {
   "cell_type": "markdown",
   "metadata": {},
   "source": [
    "![Figure 1A](img/m.png)  "
   ]
  },
  {
   "cell_type": "markdown",
   "metadata": {},
   "source": [
    "![Figure 1B](img/mc_mouse.PNG)"
   ]
  },
  {
   "cell_type": "markdown",
   "metadata": {},
   "source": [
    "## Experiment 2: online 2AFC Task"
   ]
  }
 ],
 "metadata": {
  "kernelspec": {
   "display_name": "Python 3",
   "language": "python",
   "name": "python3"
  },
  "language_info": {
   "codemirror_mode": {
    "name": "ipython",
    "version": 3
   },
   "file_extension": ".py",
   "mimetype": "text/x-python",
   "name": "python",
   "nbconvert_exporter": "python",
   "pygments_lexer": "ipython3",
   "version": "3.7.3"
  }
 },
 "nbformat": 4,
 "nbformat_minor": 4
}
